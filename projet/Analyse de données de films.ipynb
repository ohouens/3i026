{
 "cells": [
  {
   "cell_type": "markdown",
   "metadata": {},
   "source": [
    "# Analyse de données de films"
   ]
  },
  {
   "cell_type": "markdown",
   "metadata": {},
   "source": [
    "Nous proposons de travailler sur des données décrivant des films. Les possibilités sont larges et vous êtes évalués sur vos propositions et votre méthodologie plus que sur vos résultats.\n",
    "\n",
    "Les données de départ sont disponibles sur:\n",
    "https://grouplens.org/datasets/movielens/\n",
    "au format CSV. \n",
    "\n",
    "Nous nous intéresserons en particulier au jeu de données: **MovieLens 20M Dataset**. Dans ce jeu de données, vous disposez entre autre de:\n",
    "* Idendifiant du film dans IMdb et TMdb (ça sera important ensuite)\n",
    "* Catégorie(s) du film\n",
    "* Titre du film\n",
    "* Notes données par les internautes aux films\n",
    "\n",
    "Afin de rendre le projet plus intéressant, nous ajoutons des données sur les acteurs et producteurs associés aux films (récupéré sur TMdb). Ces données sont disponibles sur les liens suivants:\n",
    "\n",
    "http://webia.lip6.fr/~guigue/film_v2.pkl <br>\n",
    "http://webia.lip6.fr/~guigue/act_v2.pkl <br>\n",
    "http://webia.lip6.fr/~guigue/crew_v2.pkl\n",
    "\n",
    "Ces fichiers contiennent respectivement : une nouvelle description des films (dont l'identifiant TMdb et la note moyenne donnée par les internautes, la date de sortie,...), une description des acteurs de chaque film et une description des équipes (scénariste, producteur, metteur en scène) pour chaque film.\n",
    "\n",
    "Ces données sont des listes de taille 26908, chaque élément de la liste correspondant à un dictionnaire dont vous étudierez les clés pour récupérer les informations utiles.\n",
    "\n",
    "**ATTENTION** Les contraintes de récupération d'informations en ligne font que la base MovieLens compte 27278 films mais les fichiers ci-dessus n'en comptent que 26908. Le plus simple est probablement d'éliminer les films de MovieLens qui ne sont pas dans cette seconde base."
   ]
  },
  {
   "cell_type": "markdown",
   "metadata": {},
   "source": [
    "## Consignes générales pour l'analyse des données\n",
    "\n",
    "Vous devez proposer plusieurs analyses des données, qui devront à minima utiliser les\n",
    " techniques suivantes:\n",
    " \n",
    "1. Mettre en forme les données pour identifier les acteurs et les catégories, les indexer\n",
    "1. Traiter au moins un problème de régression supervisé (par exemple la prédiction de la note moyenne donnée à un film par les internautes).\n",
    "1. Traiter au moins un problème de classification supervisé (par exemple la prédiction de la catégorie d'un film)\n",
    "1. Utiliser les données catégorielles (catégories, acteurs,...) de manière discrète ET de manière coninue (*dummy coding*) dans des approches différentes\n",
    "1. Proposer au moins une approche de catégorisation non supervisée (pour regrouper les acteurs par exemple)\n",
    "1. Mener une campagne d'expérience permettant de comparer les performances sur un problème en fonction des valeurs d'un paramètre (et donc, in fine, trouver la meilleure valeur du paramètre)\n",
    "1. Proposer quelques illustrations"
   ]
  },
  {
   "cell_type": "code",
   "execution_count": 1,
   "metadata": {},
   "outputs": [],
   "source": [
    "import numpy as np\n",
    "import pandas as pd\n",
    "import matplotlib.pyplot as plt\n",
    "%matplotlib inline\n",
    "import pickle as pkl\n",
    "import sys\n",
    "import math\n",
    "sys.path.append('../')\n",
    "import iads as iads\n",
    "from iads import LabeledSet as ls\n",
    "from iads import Classifiers as cl\n",
    "from iads import util_iads as ui\n",
    "from iads import engineering as en"
   ]
  },
  {
   "cell_type": "markdown",
   "metadata": {},
   "source": [
    "## Chargement des données (base MovieLens + enrichissements)"
   ]
  },
  {
   "cell_type": "code",
   "execution_count": 2,
   "metadata": {},
   "outputs": [],
   "source": [
    "# Chargement des données MovieLens\n",
    "links = pd.read_csv(\"data/ml-20m/links.csv\", encoding='utf8')\n",
    "movies = pd.read_csv(\"data/ml-20m/movies.csv\", encoding='utf8')\n",
    "ratings = pd.read_csv(\"data/ml-20m/ratings.csv\", encoding='utf8')\n",
    "tags = pd.read_csv(\"data/ml-20m/tags.csv\", encoding='utf8')\n",
    "genomeS = pd.read_csv(\"data/ml-20m/genome-scores.csv\", encoding='utf8')\n",
    "genomeT = pd.read_csv(\"data/ml-20m/genome-tags.csv\", encoding='utf8')"
   ]
  },
  {
   "cell_type": "code",
   "execution_count": 3,
   "metadata": {},
   "outputs": [],
   "source": [
    "# Chargement des données complémentaires\n",
    "acteurs = pkl.load(open(\"data/act_v2.pkl\", \"rb\"))\n",
    "equipes = pkl.load(open(\"data/crew_v2.pkl\", \"rb\"))\n",
    "films = pkl.load(open(\"data/film_v2.pkl\", \"rb\"))"
   ]
  },
  {
   "cell_type": "markdown",
   "metadata": {},
   "source": [
    "<h2>Filtrage des données</h2>"
   ]
  },
  {
   "cell_type": "code",
   "execution_count": 4,
   "metadata": {},
   "outputs": [
    {
     "data": {
      "text/plain": [
       "'\\nprint(\"BEFORE\")\\nprint(len(movies))\\n#print(len(films))\\nmoviesFilter = []\\nfilmId = []\\ncpt = 0\\nfor i in range(len(films)):\\n    filmId.append(films[i][\"id\"])\\n    \\nfor i in range(len(movies)):\\n    line = links.loc[links[\\'movieId\\'] == movies.iloc[i][\"movieId\"]]\\n    value = float(line.iloc[0][\"tmdbId\"])\\n    if(math.isnan(value)):\\n        cpt += 1\\n        continue\\n    if(value in filmId):\\n        moviesFilter.append(movies.iloc[i][\"movieId\"])\\n    else:\\n        cpt += 1\\nmovies = movies[movies.movieId.isin(moviesFilter)]\\nlinks = links[links.movieId.isin(moviesFilter)]\\nratings = ratings[ratings.movieId.isin(moviesFilter)]\\nprint(\"\\nAFTER\")\\nprint(len(movies))\\nmovies.to_csv(\"data/ml-20m/movies.csv\", encoding=\\'utf8\\')\\n'"
      ]
     },
     "execution_count": 4,
     "metadata": {},
     "output_type": "execute_result"
    }
   ],
   "source": [
    "\"\"\"\n",
    "print(\"BEFORE\")\n",
    "print(len(movies))\n",
    "#print(len(films))\n",
    "moviesFilter = []\n",
    "filmId = []\n",
    "cpt = 0\n",
    "for i in range(len(films)):\n",
    "    filmId.append(films[i][\"id\"])\n",
    "    \n",
    "for i in range(len(movies)):\n",
    "    line = links.loc[links['movieId'] == movies.iloc[i][\"movieId\"]]\n",
    "    value = float(line.iloc[0][\"tmdbId\"])\n",
    "    if(math.isnan(value)):\n",
    "        cpt += 1\n",
    "        continue\n",
    "    if(value in filmId):\n",
    "        moviesFilter.append(movies.iloc[i][\"movieId\"])\n",
    "    else:\n",
    "        cpt += 1\n",
    "movies = movies[movies.movieId.isin(moviesFilter)]\n",
    "links = links[links.movieId.isin(moviesFilter)]\n",
    "ratings = ratings[ratings.movieId.isin(moviesFilter)]\n",
    "print(\"\\nAFTER\")\n",
    "print(len(movies))\n",
    "movies.to_csv(\"data/ml-20m/movies.csv\", encoding='utf8')\n",
    "\"\"\""
   ]
  },
  {
   "cell_type": "markdown",
   "metadata": {},
   "source": [
    "<h2>Visionnage des données</h2>"
   ]
  },
  {
   "cell_type": "code",
   "execution_count": 10,
   "metadata": {},
   "outputs": [],
   "source": [
    "##links\n",
    "#ratings\n",
    "#tags\n",
    "#genomeS\n",
    "#genomeT\n",
    "#movies\n",
    "#films[9]\n",
    "#acteurs[0]\n",
    "#equipes[0][194]"
   ]
  },
  {
   "cell_type": "markdown",
   "metadata": {},
   "source": [
    "## Feature engineering\n",
    "A vous de créer les caractéristiques de description des données qui permettront d'améliorer les performances dans les tâches que vous aurez choisi d'aborder dans le projet."
   ]
  },
  {
   "cell_type": "code",
   "execution_count": 6,
   "metadata": {},
   "outputs": [
    {
     "name": "stdout",
     "output_type": "stream",
     "text": [
      "ActorsEngineering init in process\n",
      "ActorsEngineering init successful\n",
      "Tom Hanks à joué dans 57 films\n"
     ]
    }
   ],
   "source": [
    "# Faire un dictionnaire avec tous les acteurs (acteur => indice)\n",
    "# + un dictionnaire inversé (indice => acteur)\n",
    "ae = en.ActorsEngineering(acteurs)\n",
    "ae.reverse()\n",
    "print(\"Tom Hanks à joué dans\", ae.playedMovies[\"Tom Hanks\"], \"films\")"
   ]
  },
  {
   "cell_type": "code",
   "execution_count": 7,
   "metadata": {},
   "outputs": [
    {
     "name": "stdout",
     "output_type": "stream",
     "text": [
      "GenresEngineering init in process\n",
      "GenresEngineering init successful\n",
      "nbFilms: {'Adventure': 2264, 'Animation': 986, 'Children': 1125, 'Comedy': 8253, 'Fantasy': 1372, 'Romance': 4057, 'Drama': 13079, 'Action': 3463, 'Crime': 2892, 'Thriller': 4126, 'Horror': 2578, 'Mystery': 1476, 'Sci-Fi': 1692, 'IMAX': 195, 'Documentary': 2331, 'War': 1162, 'Musical': 1012, 'Western': 664, 'Film-Noir': 329, '(no genres listed)': 233} \n",
      "\n",
      "moyenne note: {'Adventure': 6.89248789221955, 'Animation': 7.072643748377346, 'Children': 6.823645059838005, 'Comedy': 6.634316435901211, 'Fantasy': 6.86253529590938, 'Romance': 6.884282613263715, 'Drama': 7.133865521572034, 'Action': 6.755422691063391, 'Crime': 7.078060614533, 'Thriller': 6.762631128193778, 'Horror': 6.362509240078424, 'Mystery': 7.096901917123273, 'Sci-Fi': 6.835237747138164, 'IMAX': 6.957103073718686, 'Documentary': 7.184183999432101, 'War': 7.285639627511125, 'Musical': 7.089185958316838, 'Western': 7.062982669358924, 'Film-Noir': 7.411919388842293, '(no genres listed)': 6.320034642032335} \n",
      "\n",
      "engagements: {'Adventure': 1826305, 'Animation': 654790, 'Children': 726545, 'Comedy': 2190175, 'Fantasy': 971784, 'Romance': 1051727, 'Drama': 2792433, 'Action': 2350097, 'Crime': 1101617, 'Thriller': 1933604, 'Horror': 684518, 'Mystery': 548791, 'Sci-Fi': 1302308, 'IMAX': 779219, 'Documentary': 56348, 'War': 295633, 'Musical': 242592, 'Western': 104497, 'Film-Noir': 44113, '(no genres listed)': 1732} \n",
      "\n"
     ]
    }
   ],
   "source": [
    "#Faire un dataframe sur les categories, leur note moyenne et leur engagement\n",
    "ge = en.GenresEngineering(movies,(links, films))\n",
    "print(\"nbFilms:\", ge.nbFilms, \"\\n\")\n",
    "print(\"moyenne note:\", ge.averageRating, \"\\n\")\n",
    "print(\"engagements:\", ge.ratingCount, \"\\n\")"
   ]
  },
  {
   "cell_type": "code",
   "execution_count": 8,
   "metadata": {},
   "outputs": [
    {
     "data": {
      "text/html": [
       "<div>\n",
       "<style scoped>\n",
       "    .dataframe tbody tr th:only-of-type {\n",
       "        vertical-align: middle;\n",
       "    }\n",
       "\n",
       "    .dataframe tbody tr th {\n",
       "        vertical-align: top;\n",
       "    }\n",
       "\n",
       "    .dataframe thead th {\n",
       "        text-align: right;\n",
       "    }\n",
       "</style>\n",
       "<table border=\"1\" class=\"dataframe\">\n",
       "  <thead>\n",
       "    <tr style=\"text-align: right;\">\n",
       "      <th></th>\n",
       "      <th>name</th>\n",
       "      <th>quantite</th>\n",
       "      <th>note</th>\n",
       "      <th>engagement</th>\n",
       "    </tr>\n",
       "  </thead>\n",
       "  <tbody>\n",
       "    <tr>\n",
       "      <th>0</th>\n",
       "      <td>Adventure</td>\n",
       "      <td>2264</td>\n",
       "      <td>6.892488</td>\n",
       "      <td>1826305</td>\n",
       "    </tr>\n",
       "    <tr>\n",
       "      <th>1</th>\n",
       "      <td>Animation</td>\n",
       "      <td>986</td>\n",
       "      <td>7.072644</td>\n",
       "      <td>654790</td>\n",
       "    </tr>\n",
       "    <tr>\n",
       "      <th>2</th>\n",
       "      <td>Children</td>\n",
       "      <td>1125</td>\n",
       "      <td>6.823645</td>\n",
       "      <td>726545</td>\n",
       "    </tr>\n",
       "    <tr>\n",
       "      <th>3</th>\n",
       "      <td>Comedy</td>\n",
       "      <td>8253</td>\n",
       "      <td>6.634316</td>\n",
       "      <td>2190175</td>\n",
       "    </tr>\n",
       "    <tr>\n",
       "      <th>4</th>\n",
       "      <td>Fantasy</td>\n",
       "      <td>1372</td>\n",
       "      <td>6.862535</td>\n",
       "      <td>971784</td>\n",
       "    </tr>\n",
       "    <tr>\n",
       "      <th>5</th>\n",
       "      <td>Romance</td>\n",
       "      <td>4057</td>\n",
       "      <td>6.884283</td>\n",
       "      <td>1051727</td>\n",
       "    </tr>\n",
       "    <tr>\n",
       "      <th>6</th>\n",
       "      <td>Drama</td>\n",
       "      <td>13079</td>\n",
       "      <td>7.133866</td>\n",
       "      <td>2792433</td>\n",
       "    </tr>\n",
       "    <tr>\n",
       "      <th>7</th>\n",
       "      <td>Action</td>\n",
       "      <td>3463</td>\n",
       "      <td>6.755423</td>\n",
       "      <td>2350097</td>\n",
       "    </tr>\n",
       "    <tr>\n",
       "      <th>8</th>\n",
       "      <td>Crime</td>\n",
       "      <td>2892</td>\n",
       "      <td>7.078061</td>\n",
       "      <td>1101617</td>\n",
       "    </tr>\n",
       "    <tr>\n",
       "      <th>9</th>\n",
       "      <td>Thriller</td>\n",
       "      <td>4126</td>\n",
       "      <td>6.762631</td>\n",
       "      <td>1933604</td>\n",
       "    </tr>\n",
       "    <tr>\n",
       "      <th>10</th>\n",
       "      <td>Horror</td>\n",
       "      <td>2578</td>\n",
       "      <td>6.362509</td>\n",
       "      <td>684518</td>\n",
       "    </tr>\n",
       "    <tr>\n",
       "      <th>11</th>\n",
       "      <td>Mystery</td>\n",
       "      <td>1476</td>\n",
       "      <td>7.096902</td>\n",
       "      <td>548791</td>\n",
       "    </tr>\n",
       "    <tr>\n",
       "      <th>12</th>\n",
       "      <td>Sci-Fi</td>\n",
       "      <td>1692</td>\n",
       "      <td>6.835238</td>\n",
       "      <td>1302308</td>\n",
       "    </tr>\n",
       "    <tr>\n",
       "      <th>13</th>\n",
       "      <td>IMAX</td>\n",
       "      <td>195</td>\n",
       "      <td>6.957103</td>\n",
       "      <td>779219</td>\n",
       "    </tr>\n",
       "    <tr>\n",
       "      <th>14</th>\n",
       "      <td>Documentary</td>\n",
       "      <td>2331</td>\n",
       "      <td>7.184184</td>\n",
       "      <td>56348</td>\n",
       "    </tr>\n",
       "    <tr>\n",
       "      <th>15</th>\n",
       "      <td>War</td>\n",
       "      <td>1162</td>\n",
       "      <td>7.285640</td>\n",
       "      <td>295633</td>\n",
       "    </tr>\n",
       "    <tr>\n",
       "      <th>16</th>\n",
       "      <td>Musical</td>\n",
       "      <td>1012</td>\n",
       "      <td>7.089186</td>\n",
       "      <td>242592</td>\n",
       "    </tr>\n",
       "    <tr>\n",
       "      <th>17</th>\n",
       "      <td>Western</td>\n",
       "      <td>664</td>\n",
       "      <td>7.062983</td>\n",
       "      <td>104497</td>\n",
       "    </tr>\n",
       "    <tr>\n",
       "      <th>18</th>\n",
       "      <td>Film-Noir</td>\n",
       "      <td>329</td>\n",
       "      <td>7.411919</td>\n",
       "      <td>44113</td>\n",
       "    </tr>\n",
       "    <tr>\n",
       "      <th>19</th>\n",
       "      <td>(no genres listed)</td>\n",
       "      <td>233</td>\n",
       "      <td>6.320035</td>\n",
       "      <td>1732</td>\n",
       "    </tr>\n",
       "  </tbody>\n",
       "</table>\n",
       "</div>"
      ],
      "text/plain": [
       "                  name  quantite      note  engagement\n",
       "0            Adventure      2264  6.892488     1826305\n",
       "1            Animation       986  7.072644      654790\n",
       "2             Children      1125  6.823645      726545\n",
       "3               Comedy      8253  6.634316     2190175\n",
       "4              Fantasy      1372  6.862535      971784\n",
       "5              Romance      4057  6.884283     1051727\n",
       "6                Drama     13079  7.133866     2792433\n",
       "7               Action      3463  6.755423     2350097\n",
       "8                Crime      2892  7.078061     1101617\n",
       "9             Thriller      4126  6.762631     1933604\n",
       "10              Horror      2578  6.362509      684518\n",
       "11             Mystery      1476  7.096902      548791\n",
       "12              Sci-Fi      1692  6.835238     1302308\n",
       "13                IMAX       195  6.957103      779219\n",
       "14         Documentary      2331  7.184184       56348\n",
       "15                 War      1162  7.285640      295633\n",
       "16             Musical      1012  7.089186      242592\n",
       "17             Western       664  7.062983      104497\n",
       "18           Film-Noir       329  7.411919       44113\n",
       "19  (no genres listed)       233  6.320035        1732"
      ]
     },
     "execution_count": 8,
     "metadata": {},
     "output_type": "execute_result"
    }
   ],
   "source": [
    "df = ge.toDataFrame()\n",
    "df"
   ]
  },
  {
   "cell_type": "code",
   "execution_count": null,
   "metadata": {},
   "outputs": [],
   "source": []
  }
 ],
 "metadata": {
  "kernelspec": {
   "display_name": "Python 3",
   "language": "python",
   "name": "python3"
  },
  "language_info": {
   "codemirror_mode": {
    "name": "ipython",
    "version": 3
   },
   "file_extension": ".py",
   "mimetype": "text/x-python",
   "name": "python",
   "nbconvert_exporter": "python",
   "pygments_lexer": "ipython3",
   "version": "3.7.2"
  }
 },
 "nbformat": 4,
 "nbformat_minor": 2
}
