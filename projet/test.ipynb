{
 "cells": [
  {
   "cell_type": "markdown",
   "metadata": {},
   "source": [
    "# Analyse de données de films"
   ]
  },
  {
   "cell_type": "markdown",
   "metadata": {},
   "source": [
    "Nous proposons de travailler sur des données décrivant des films. Les possibilités sont larges et vous êtes évalués sur vos propositions et votre méthodologie plus que sur vos résultats.\n",
    "\n",
    "Les données de départ sont disponibles sur:\n",
    "https://grouplens.org/datasets/movielens/\n",
    "au format CSV. \n",
    "\n",
    "Nous nous intéresserons en particulier au jeu de données: **MovieLens 20M Dataset**. Dans ce jeu de données, vous disposez entre autre de:\n",
    "* Idendifiant du film dans IMdb et TMdb (ça sera important ensuite)\n",
    "* Catégorie(s) du film\n",
    "* Titre du film\n",
    "* Notes données par les internautes aux films\n",
    "\n",
    "Afin de rendre le projet plus intéressant, nous ajoutons des données sur les acteurs et producteurs associés aux films (récupéré sur TMdb). Ces données sont disponibles sur les liens suivants:\n",
    "\n",
    "http://webia.lip6.fr/~guigue/film_v2.pkl <br>\n",
    "http://webia.lip6.fr/~guigue/act_v2.pkl <br>\n",
    "http://webia.lip6.fr/~guigue/crew_v2.pkl\n",
    "\n",
    "Ces fichiers contiennent respectivement : une nouvelle description des films (dont l'identifiant TMdb et la note moyenne donnée par les internautes, la date de sortie,...), une description des acteurs de chaque film et une description des équipes (scénariste, producteur, metteur en scène) pour chaque film.\n",
    "\n",
    "Ces données sont des listes de taille 26908, chaque élément de la liste correspondant à un dictionnaire dont vous étudierez les clés pour récupérer les informations utiles.\n",
    "\n",
    "**ATTENTION** Les contraintes de récupération d'informations en ligne font que la base MovieLens compte 27278 films mais les fichiers ci-dessus n'en comptent que 26908. Le plus simple est probablement d'éliminer les films de MovieLens qui ne sont pas dans cette seconde base."
   ]
  },
  {
   "cell_type": "markdown",
   "metadata": {},
   "source": [
    "## Consignes générales pour l'analyse des données\n",
    "\n",
    "Vous devez proposer plusieurs analyses des données, qui devront à minima utiliser les\n",
    " techniques suivantes:\n",
    " \n",
    "1. Mettre en forme les données pour identifier les acteurs et les catégories, les indexer\n",
    "1. Traiter au moins un problème de régression supervisé (par exemple la prédiction de la note moyenne donnée à un film par les internautes).\n",
    "1. Traiter au moins un problème de classification supervisé (par exemple la prédiction de la catégorie d'un film)\n",
    "1. Utiliser les données catégorielles (catégories, acteurs,...) de manière discrète ET de manière coninue (*dummy coding*) dans des approches différentes\n",
    "1. Proposer au moins une approche de catégorisation non supervisée (pour regrouper les acteurs par exemple)\n",
    "1. Mener une campagne d'expérience permettant de comparer les performances sur un problème en fonction des valeurs d'un paramètre (et donc, in fine, trouver la meilleure valeur du paramètre)\n",
    "1. Proposer quelques illustrations"
   ]
  },
  {
   "cell_type": "code",
   "execution_count": 1,
   "metadata": {},
   "outputs": [],
   "source": [
    "import numpy as np\n",
    "import pandas as pd\n",
    "import matplotlib.pyplot as plt\n",
    "%matplotlib inline\n",
    "import pickle as pkl\n",
    "import sys\n",
    "import math\n",
    "sys.path.append('../')\n",
    "import iads as iads\n",
    "from iads import LabeledSet as ls\n",
    "from iads import Classifiers as cl\n",
    "from iads import util_iads as ui\n",
    "from iads import utils as ut\n",
    "from iads import engineering as en"
   ]
  },
  {
   "cell_type": "markdown",
   "metadata": {},
   "source": [
    "## Chargement des données (base MovieLens + enrichissements)"
   ]
  },
  {
   "cell_type": "code",
   "execution_count": 2,
   "metadata": {},
   "outputs": [],
   "source": [
    "# Chargement des données MovieLens\n",
    "#movies = pd.read_csv(\"data/ml-20m/movies.csv\", encoding='utf8')\n",
    "movies = pd.read_csv(\"data/ml-20m/moviesFiltree.csv\", encoding='utf8', index_col=0)\n",
    "links = pd.read_csv(\"data/ml-20m/links.csv\", encoding='utf8')\n",
    "ratings = pd.read_csv(\"data/ml-20m/ratings.csv\", encoding='utf8')\n",
    "tags = pd.read_csv(\"data/ml-20m/tags.csv\", encoding='utf8')\n",
    "genomeS = pd.read_csv(\"data/ml-20m/genome-scores.csv\", encoding='utf8')\n",
    "genomeT = pd.read_csv(\"data/ml-20m/genome-tags.csv\", encoding='utf8')"
   ]
  },
  {
   "cell_type": "code",
   "execution_count": 3,
   "metadata": {},
   "outputs": [],
   "source": [
    "# Chargement des données complémentaires\n",
    "acteurs = pkl.load(open(\"data/act_v2.pkl\", \"rb\"))\n",
    "equipes = pkl.load(open(\"data/crew_v2.pkl\", \"rb\"))\n",
    "films = pkl.load(open(\"data/film_v2.pkl\", \"rb\"))"
   ]
  },
  {
   "cell_type": "markdown",
   "metadata": {},
   "source": [
    "<h2>Filtrage des données</h2>"
   ]
  },
  {
   "cell_type": "code",
   "execution_count": 4,
   "metadata": {},
   "outputs": [
    {
     "data": {
      "text/plain": [
       "'\\nprint(\"BEFORE\")\\nprint(len(movies))\\n#print(len(films))\\nmoviesFilter = []\\nfilmId = []\\ncpt = 0\\nfor i in range(len(films)):\\n    filmId.append(films[i][\"id\"])\\n    \\nfor i in range(len(movies)):\\n    line = links.loc[links[\\'movieId\\'] == movies.iloc[i][\"movieId\"]]\\n    value = float(line.iloc[0][\"tmdbId\"])\\n    if(math.isnan(value)):\\n        cpt += 1\\n        continue\\n    if(value in filmId):\\n        moviesFilter.append(movies.iloc[i][\"movieId\"])\\n    else:\\n        cpt += 1\\nmovies = movies[movies.movieId.isin(moviesFilter)]\\nlinks = links[links.movieId.isin(moviesFilter)]\\nratings = ratings[ratings.movieId.isin(moviesFilter)]\\nprint(\"\\nAFTER\")\\nprint(len(movies))\\nmovies.to_csv(\"data/ml-20m/moviesFiltree.csv\", encoding=\\'utf8\\')\\n'"
      ]
     },
     "execution_count": 4,
     "metadata": {},
     "output_type": "execute_result"
    }
   ],
   "source": [
    "\"\"\"\n",
    "print(\"BEFORE\")\n",
    "print(len(movies))\n",
    "#print(len(films))\n",
    "moviesFilter = []\n",
    "filmId = []\n",
    "cpt = 0\n",
    "for i in range(len(films)):\n",
    "    filmId.append(films[i][\"id\"])\n",
    "    \n",
    "for i in range(len(movies)):\n",
    "    line = links.loc[links['movieId'] == movies.iloc[i][\"movieId\"]]\n",
    "    value = float(line.iloc[0][\"tmdbId\"])\n",
    "    if(math.isnan(value)):\n",
    "        cpt += 1\n",
    "        continue\n",
    "    if(value in filmId):\n",
    "        moviesFilter.append(movies.iloc[i][\"movieId\"])\n",
    "    else:\n",
    "        cpt += 1\n",
    "movies = movies[movies.movieId.isin(moviesFilter)]\n",
    "links = links[links.movieId.isin(moviesFilter)]\n",
    "ratings = ratings[ratings.movieId.isin(moviesFilter)]\n",
    "print(\"\\nAFTER\")\n",
    "print(len(movies))\n",
    "movies.to_csv(\"data/ml-20m/moviesFiltree.csv\", encoding='utf8')\n",
    "\"\"\""
   ]
  },
  {
   "cell_type": "markdown",
   "metadata": {},
   "source": [
    "<h2>Visionnage des données</h2>"
   ]
  },
  {
   "cell_type": "code",
   "execution_count": 5,
   "metadata": {},
   "outputs": [],
   "source": [
    "#links\n",
    "#ratings\n",
    "#tags\n",
    "#genomeS\n",
    "#genomeT\n",
    "#movies\n",
    "#films[9]\n",
    "#acteurs[0]\n",
    "#equipes[0][194]"
   ]
  },
  {
   "cell_type": "markdown",
   "metadata": {},
   "source": [
    "## Feature engineering\n",
    "A vous de créer les caractéristiques de description des données qui permettront d'améliorer les performances dans les tâches que vous aurez choisi d'aborder dans le projet."
   ]
  },
  {
   "cell_type": "code",
   "execution_count": 6,
   "metadata": {},
   "outputs": [
    {
     "name": "stdout",
     "output_type": "stream",
     "text": [
      "UtilsEngineering init in process\n",
      "UtilsEngineering init successful\n",
      "Tom Hanks à joué dans 57 films\n",
      "Tom Hanks à joué dans 33 comédies\n"
     ]
    }
   ],
   "source": [
    "# Faire un dictionnaire avec tous les acteurs (acteur => indice)\n",
    "# + un dictionnaire inversé (indice => acteur)\n",
    "ue = en.UtilsEngineering(films, acteurs)\n",
    "print(\"Tom Hanks à joué dans\", ue.actorsPlayedMovies[\"Tom Hanks\"][\"Total\"], \"films\")\n",
    "print(\"Tom Hanks à joué dans\", ue.actorsPlayedMovies[\"Tom Hanks\"][\"Comedy\"], \"comédies\")"
   ]
  },
  {
   "cell_type": "markdown",
   "metadata": {},
   "source": [
    "## Genres predictions\n",
    "Faire un dataframe sur les categories, leur quantites de films et leur engagements puis le tester sur des classifiers afin de prédire la note moyenne des films de la categorie"
   ]
  },
  {
   "cell_type": "code",
   "execution_count": 7,
   "metadata": {},
   "outputs": [
    {
     "data": {
      "text/html": [
       "<div>\n",
       "<style scoped>\n",
       "    .dataframe tbody tr th:only-of-type {\n",
       "        vertical-align: middle;\n",
       "    }\n",
       "\n",
       "    .dataframe tbody tr th {\n",
       "        vertical-align: top;\n",
       "    }\n",
       "\n",
       "    .dataframe thead th {\n",
       "        text-align: right;\n",
       "    }\n",
       "</style>\n",
       "<table border=\"1\" class=\"dataframe\">\n",
       "  <thead>\n",
       "    <tr style=\"text-align: right;\">\n",
       "      <th></th>\n",
       "      <th>quantite</th>\n",
       "      <th>engagement</th>\n",
       "      <th>target</th>\n",
       "    </tr>\n",
       "  </thead>\n",
       "  <tbody>\n",
       "    <tr>\n",
       "      <th>Adventure</th>\n",
       "      <td>0.160587</td>\n",
       "      <td>0.653805</td>\n",
       "      <td>-1</td>\n",
       "    </tr>\n",
       "    <tr>\n",
       "      <th>Animation</th>\n",
       "      <td>0.061394</td>\n",
       "      <td>0.234012</td>\n",
       "      <td>1</td>\n",
       "    </tr>\n",
       "    <tr>\n",
       "      <th>Children</th>\n",
       "      <td>0.072183</td>\n",
       "      <td>0.259724</td>\n",
       "      <td>-1</td>\n",
       "    </tr>\n",
       "    <tr>\n",
       "      <th>Comedy</th>\n",
       "      <td>0.625427</td>\n",
       "      <td>0.784191</td>\n",
       "      <td>-1</td>\n",
       "    </tr>\n",
       "    <tr>\n",
       "      <th>Fantasy</th>\n",
       "      <td>0.091354</td>\n",
       "      <td>0.347602</td>\n",
       "      <td>-1</td>\n",
       "    </tr>\n",
       "    <tr>\n",
       "      <th>Romance</th>\n",
       "      <td>0.299752</td>\n",
       "      <td>0.376248</td>\n",
       "      <td>-1</td>\n",
       "    </tr>\n",
       "    <tr>\n",
       "      <th>Drama</th>\n",
       "      <td>1.000000</td>\n",
       "      <td>1.000000</td>\n",
       "      <td>1</td>\n",
       "    </tr>\n",
       "    <tr>\n",
       "      <th>Action</th>\n",
       "      <td>0.253648</td>\n",
       "      <td>0.841496</td>\n",
       "      <td>-1</td>\n",
       "    </tr>\n",
       "    <tr>\n",
       "      <th>Crime</th>\n",
       "      <td>0.209329</td>\n",
       "      <td>0.394125</td>\n",
       "      <td>1</td>\n",
       "    </tr>\n",
       "    <tr>\n",
       "      <th>Thriller</th>\n",
       "      <td>0.305107</td>\n",
       "      <td>0.692253</td>\n",
       "      <td>-1</td>\n",
       "    </tr>\n",
       "    <tr>\n",
       "      <th>Horror</th>\n",
       "      <td>0.184958</td>\n",
       "      <td>0.244665</td>\n",
       "      <td>-1</td>\n",
       "    </tr>\n",
       "    <tr>\n",
       "      <th>Mystery</th>\n",
       "      <td>0.099426</td>\n",
       "      <td>0.196029</td>\n",
       "      <td>1</td>\n",
       "    </tr>\n",
       "    <tr>\n",
       "      <th>Sci-Fi</th>\n",
       "      <td>0.116191</td>\n",
       "      <td>0.466039</td>\n",
       "      <td>-1</td>\n",
       "    </tr>\n",
       "    <tr>\n",
       "      <th>IMAX</th>\n",
       "      <td>0.000000</td>\n",
       "      <td>0.278599</td>\n",
       "      <td>1</td>\n",
       "    </tr>\n",
       "    <tr>\n",
       "      <th>Documentary</th>\n",
       "      <td>0.165787</td>\n",
       "      <td>0.019571</td>\n",
       "      <td>1</td>\n",
       "    </tr>\n",
       "    <tr>\n",
       "      <th>War</th>\n",
       "      <td>0.075054</td>\n",
       "      <td>0.105314</td>\n",
       "      <td>1</td>\n",
       "    </tr>\n",
       "    <tr>\n",
       "      <th>Musical</th>\n",
       "      <td>0.063412</td>\n",
       "      <td>0.086308</td>\n",
       "      <td>1</td>\n",
       "    </tr>\n",
       "    <tr>\n",
       "      <th>Western</th>\n",
       "      <td>0.036402</td>\n",
       "      <td>0.036824</td>\n",
       "      <td>1</td>\n",
       "    </tr>\n",
       "    <tr>\n",
       "      <th>Film-Noir</th>\n",
       "      <td>0.010400</td>\n",
       "      <td>0.015187</td>\n",
       "      <td>1</td>\n",
       "    </tr>\n",
       "    <tr>\n",
       "      <th>(no genres listed)</th>\n",
       "      <td>0.002949</td>\n",
       "      <td>0.000000</td>\n",
       "      <td>-1</td>\n",
       "    </tr>\n",
       "  </tbody>\n",
       "</table>\n",
       "</div>"
      ],
      "text/plain": [
       "                    quantite  engagement  target\n",
       "Adventure           0.160587    0.653805      -1\n",
       "Animation           0.061394    0.234012       1\n",
       "Children            0.072183    0.259724      -1\n",
       "Comedy              0.625427    0.784191      -1\n",
       "Fantasy             0.091354    0.347602      -1\n",
       "Romance             0.299752    0.376248      -1\n",
       "Drama               1.000000    1.000000       1\n",
       "Action              0.253648    0.841496      -1\n",
       "Crime               0.209329    0.394125       1\n",
       "Thriller            0.305107    0.692253      -1\n",
       "Horror              0.184958    0.244665      -1\n",
       "Mystery             0.099426    0.196029       1\n",
       "Sci-Fi              0.116191    0.466039      -1\n",
       "IMAX                0.000000    0.278599       1\n",
       "Documentary         0.165787    0.019571       1\n",
       "War                 0.075054    0.105314       1\n",
       "Musical             0.063412    0.086308       1\n",
       "Western             0.036402    0.036824       1\n",
       "Film-Noir           0.010400    0.015187       1\n",
       "(no genres listed)  0.002949    0.000000      -1"
      ]
     },
     "execution_count": 7,
     "metadata": {},
     "output_type": "execute_result"
    }
   ],
   "source": [
    "#ge = en.GenresEngineering(movies,(links, films))\n",
    "#df = ge.toDataFrame()\n",
    "#df.to_csv(\"data/engineering/genres.csv\", encoding='utf8')\n",
    "df = pd.read_csv(\"data/engineering/genres.csv\", encoding='utf8', index_col=0)\n",
    "df"
   ]
  },
  {
   "cell_type": "code",
   "execution_count": 8,
   "metadata": {},
   "outputs": [
    {
     "data": {
      "image/png": "[encoded data removed]",
      "text/plain": [
       "<Figure size 432x288 with 1 Axes>"
      ]
     },
     "metadata": {
      "needs_background": "light"
     },
     "output_type": "display_data"
    }
   ],
   "source": [
    "une_base = ls.LabeledSet(2)\n",
    "for i in range(len(df)):\n",
    "    une_base.addExample([df.iloc[i]['quantite'], df.iloc[i]['engagement']], df.iloc[i]['target'])\n",
    "ut.plot2DSet(une_base)"
   ]
  },
  {
   "cell_type": "code",
   "execution_count": 9,
   "metadata": {},
   "outputs": [
    {
     "name": "stderr",
     "output_type": "stream",
     "text": [
      "No handles with labels found to put in legend.\n"
     ]
    },
    {
     "name": "stdout",
     "output_type": "stream",
     "text": [
      "Mean accuracy 61.83333333333334\n",
      "Variance accuracy 182.19444444444446\n"
     ]
    },
    {
     "data": {
      "image/png": "[encoded data removed]",
      "text/plain": [
       "<Figure size 432x288 with 1 Axes>"
      ]
     },
     "metadata": {
      "needs_background": "light"
     },
     "output_type": "display_data"
    },
    {
     "data": {
      "text/plain": [
       "(61.83333333333334, 182.19444444444446)"
      ]
     },
     "execution_count": 9,
     "metadata": {},
     "output_type": "execute_result"
    },
    {
     "data": {
      "image/png": "[encoded data removed]",
      "text/plain": [
       "<Figure size 432x288 with 1 Axes>"
      ]
     },
     "metadata": {
      "needs_background": "light"
     },
     "output_type": "display_data"
    }
   ],
   "source": [
    "#ut.affiche_base(une_base)\n",
    "knn = cl.ClassifierKNN(une_base.getInputDimension(), 3)\n",
    "ut.super_entrainement(100, une_base, knn, 40)"
   ]
  },
  {
   "cell_type": "markdown",
   "metadata": {},
   "source": [
    "## Movies prediction\n",
    "Faire un dataFrame sur les films, le nombre de votes qu'ils on recuent, leur langue original, la note moyenne des films dans lesquels les acteurs principaux ont joués et leur popularité afin de prédire leur note"
   ]
  },
  {
   "cell_type": "code",
   "execution_count": 10,
   "metadata": {},
   "outputs": [
    {
     "name": "stdout",
     "output_type": "stream",
     "text": [
      "MoviesEngineering init in process\n",
      "MoviesEngineering init successful\n",
      "stack original_language\n",
      "median 26.0\n"
     ]
    },
    {
     "data": {
      "text/html": [
       "<div>\n",
       "<style scoped>\n",
       "    .dataframe tbody tr th:only-of-type {\n",
       "        vertical-align: middle;\n",
       "    }\n",
       "\n",
       "    .dataframe tbody tr th {\n",
       "        vertical-align: top;\n",
       "    }\n",
       "\n",
       "    .dataframe thead th {\n",
       "        text-align: right;\n",
       "    }\n",
       "</style>\n",
       "<table border=\"1\" class=\"dataframe\">\n",
       "  <thead>\n",
       "    <tr style=\"text-align: right;\">\n",
       "      <th></th>\n",
       "      <th>mean_main_actors</th>\n",
       "      <th>popularity</th>\n",
       "      <th>note</th>\n",
       "      <th>original_language</th>\n",
       "      <th>target</th>\n",
       "    </tr>\n",
       "  </thead>\n",
       "  <tbody>\n",
       "    <tr>\n",
       "      <th>Toy Story</th>\n",
       "      <td>0.653343</td>\n",
       "      <td>0.428418</td>\n",
       "      <td>0.79</td>\n",
       "      <td>en</td>\n",
       "      <td>1</td>\n",
       "    </tr>\n",
       "    <tr>\n",
       "      <th>Jumanji</th>\n",
       "      <td>0.652299</td>\n",
       "      <td>0.055441</td>\n",
       "      <td>0.71</td>\n",
       "      <td>en</td>\n",
       "      <td>1</td>\n",
       "    </tr>\n",
       "    <tr>\n",
       "      <th>Grumpier Old Men</th>\n",
       "      <td>0.633164</td>\n",
       "      <td>0.114305</td>\n",
       "      <td>0.65</td>\n",
       "      <td>en</td>\n",
       "      <td>1</td>\n",
       "    </tr>\n",
       "    <tr>\n",
       "      <th>Waiting to Exhale</th>\n",
       "      <td>0.604392</td>\n",
       "      <td>0.054876</td>\n",
       "      <td>0.61</td>\n",
       "      <td>en</td>\n",
       "      <td>1</td>\n",
       "    </tr>\n",
       "    <tr>\n",
       "      <th>Father of the Bride Part II</th>\n",
       "      <td>0.605705</td>\n",
       "      <td>0.128245</td>\n",
       "      <td>0.61</td>\n",
       "      <td>en</td>\n",
       "      <td>1</td>\n",
       "    </tr>\n",
       "    <tr>\n",
       "      <th>Heat</th>\n",
       "      <td>0.333967</td>\n",
       "      <td>0.257092</td>\n",
       "      <td>0.78</td>\n",
       "      <td>en</td>\n",
       "      <td>1</td>\n",
       "    </tr>\n",
       "    <tr>\n",
       "      <th>Sabrina</th>\n",
       "      <td>0.688355</td>\n",
       "      <td>0.116205</td>\n",
       "      <td>0.61</td>\n",
       "      <td>en</td>\n",
       "      <td>1</td>\n",
       "    </tr>\n",
       "    <tr>\n",
       "      <th>Tom and Huck</th>\n",
       "      <td>0.582065</td>\n",
       "      <td>0.067104</td>\n",
       "      <td>0.53</td>\n",
       "      <td>en</td>\n",
       "      <td>1</td>\n",
       "    </tr>\n",
       "    <tr>\n",
       "      <th>Sudden Death</th>\n",
       "      <td>0.598221</td>\n",
       "      <td>0.110806</td>\n",
       "      <td>0.57</td>\n",
       "      <td>en</td>\n",
       "      <td>1</td>\n",
       "    </tr>\n",
       "    <tr>\n",
       "      <th>GoldenEye</th>\n",
       "      <td>0.620224</td>\n",
       "      <td>0.312834</td>\n",
       "      <td>0.68</td>\n",
       "      <td>en</td>\n",
       "      <td>1</td>\n",
       "    </tr>\n",
       "    <tr>\n",
       "      <th>The American President</th>\n",
       "      <td>0.635603</td>\n",
       "      <td>0.115979</td>\n",
       "      <td>0.66</td>\n",
       "      <td>en</td>\n",
       "      <td>1</td>\n",
       "    </tr>\n",
       "    <tr>\n",
       "      <th>Dracula: Dead and Loving It</th>\n",
       "      <td>0.584637</td>\n",
       "      <td>0.158684</td>\n",
       "      <td>0.58</td>\n",
       "      <td>en</td>\n",
       "      <td>1</td>\n",
       "    </tr>\n",
       "    <tr>\n",
       "      <th>Balto</th>\n",
       "      <td>0.638273</td>\n",
       "      <td>0.164328</td>\n",
       "      <td>0.72</td>\n",
       "      <td>en</td>\n",
       "      <td>1</td>\n",
       "    </tr>\n",
       "    <tr>\n",
       "      <th>Nixon</th>\n",
       "      <td>0.667459</td>\n",
       "      <td>0.109771</td>\n",
       "      <td>0.70</td>\n",
       "      <td>en</td>\n",
       "      <td>1</td>\n",
       "    </tr>\n",
       "    <tr>\n",
       "      <th>Cutthroat Island</th>\n",
       "      <td>0.599722</td>\n",
       "      <td>0.132064</td>\n",
       "      <td>0.58</td>\n",
       "      <td>en</td>\n",
       "      <td>1</td>\n",
       "    </tr>\n",
       "    <tr>\n",
       "      <th>Casino</th>\n",
       "      <td>0.657562</td>\n",
       "      <td>0.239992</td>\n",
       "      <td>0.79</td>\n",
       "      <td>en</td>\n",
       "      <td>1</td>\n",
       "    </tr>\n",
       "    <tr>\n",
       "      <th>Sense and Sensibility</th>\n",
       "      <td>0.667903</td>\n",
       "      <td>0.166698</td>\n",
       "      <td>0.74</td>\n",
       "      <td>en</td>\n",
       "      <td>1</td>\n",
       "    </tr>\n",
       "    <tr>\n",
       "      <th>Four Rooms</th>\n",
       "      <td>0.627253</td>\n",
       "      <td>0.169219</td>\n",
       "      <td>0.63</td>\n",
       "      <td>en</td>\n",
       "      <td>1</td>\n",
       "    </tr>\n",
       "    <tr>\n",
       "      <th>Ace Ventura: When Nature Calls</th>\n",
       "      <td>0.611973</td>\n",
       "      <td>0.166867</td>\n",
       "      <td>0.62</td>\n",
       "      <td>en</td>\n",
       "      <td>1</td>\n",
       "    </tr>\n",
       "    <tr>\n",
       "      <th>Money Train</th>\n",
       "      <td>0.615025</td>\n",
       "      <td>0.147227</td>\n",
       "      <td>0.56</td>\n",
       "      <td>en</td>\n",
       "      <td>1</td>\n",
       "    </tr>\n",
       "    <tr>\n",
       "      <th>Get Shorty</th>\n",
       "      <td>0.623192</td>\n",
       "      <td>0.189988</td>\n",
       "      <td>0.65</td>\n",
       "      <td>en</td>\n",
       "      <td>1</td>\n",
       "    </tr>\n",
       "    <tr>\n",
       "      <th>Copycat</th>\n",
       "      <td>0.611267</td>\n",
       "      <td>0.100083</td>\n",
       "      <td>0.65</td>\n",
       "      <td>en</td>\n",
       "      <td>1</td>\n",
       "    </tr>\n",
       "    <tr>\n",
       "      <th>Assassins</th>\n",
       "      <td>0.616660</td>\n",
       "      <td>0.155730</td>\n",
       "      <td>0.62</td>\n",
       "      <td>en</td>\n",
       "      <td>1</td>\n",
       "    </tr>\n",
       "    <tr>\n",
       "      <th>Powder</th>\n",
       "      <td>0.629294</td>\n",
       "      <td>0.144687</td>\n",
       "      <td>0.64</td>\n",
       "      <td>en</td>\n",
       "      <td>1</td>\n",
       "    </tr>\n",
       "    <tr>\n",
       "      <th>Leaving Las Vegas</th>\n",
       "      <td>0.576737</td>\n",
       "      <td>0.217153</td>\n",
       "      <td>0.72</td>\n",
       "      <td>en</td>\n",
       "      <td>1</td>\n",
       "    </tr>\n",
       "    <tr>\n",
       "      <th>Othello</th>\n",
       "      <td>0.652326</td>\n",
       "      <td>0.070208</td>\n",
       "      <td>0.66</td>\n",
       "      <td>en</td>\n",
       "      <td>1</td>\n",
       "    </tr>\n",
       "    <tr>\n",
       "      <th>Now and Then</th>\n",
       "      <td>0.617876</td>\n",
       "      <td>0.141828</td>\n",
       "      <td>0.68</td>\n",
       "      <td>en</td>\n",
       "      <td>1</td>\n",
       "    </tr>\n",
       "    <tr>\n",
       "      <th>Persuasion</th>\n",
       "      <td>0.655998</td>\n",
       "      <td>0.074140</td>\n",
       "      <td>0.76</td>\n",
       "      <td>en</td>\n",
       "      <td>1</td>\n",
       "    </tr>\n",
       "    <tr>\n",
       "      <th>The City of Lost Children</th>\n",
       "      <td>0.702989</td>\n",
       "      <td>0.171966</td>\n",
       "      <td>0.75</td>\n",
       "      <td>fr</td>\n",
       "      <td>1</td>\n",
       "    </tr>\n",
       "    <tr>\n",
       "      <th>Shanghai Triad</th>\n",
       "      <td>0.693500</td>\n",
       "      <td>0.064245</td>\n",
       "      <td>0.70</td>\n",
       "      <td>zh</td>\n",
       "      <td>1</td>\n",
       "    </tr>\n",
       "    <tr>\n",
       "      <th>...</th>\n",
       "      <td>...</td>\n",
       "      <td>...</td>\n",
       "      <td>...</td>\n",
       "      <td>...</td>\n",
       "      <td>...</td>\n",
       "    </tr>\n",
       "    <tr>\n",
       "      <th>Werner - Das muss kesseln!!!</th>\n",
       "      <td>0.557833</td>\n",
       "      <td>0.049571</td>\n",
       "      <td>0.55</td>\n",
       "      <td>de</td>\n",
       "      <td>1</td>\n",
       "    </tr>\n",
       "    <tr>\n",
       "      <th>Werner - Volles Rooäää!!!</th>\n",
       "      <td>0.555333</td>\n",
       "      <td>0.040654</td>\n",
       "      <td>0.49</td>\n",
       "      <td>de</td>\n",
       "      <td>1</td>\n",
       "    </tr>\n",
       "    <tr>\n",
       "      <th>What a Man</th>\n",
       "      <td>0.606608</td>\n",
       "      <td>0.066502</td>\n",
       "      <td>0.57</td>\n",
       "      <td>de</td>\n",
       "      <td>1</td>\n",
       "    </tr>\n",
       "    <tr>\n",
       "      <th>7 Dwarves: The Forest Is Not Enough</th>\n",
       "      <td>0.555400</td>\n",
       "      <td>0.097374</td>\n",
       "      <td>0.53</td>\n",
       "      <td>de</td>\n",
       "      <td>1</td>\n",
       "    </tr>\n",
       "    <tr>\n",
       "      <th>The Fat Spy</th>\n",
       "      <td>0.555686</td>\n",
       "      <td>0.033844</td>\n",
       "      <td>0.25</td>\n",
       "      <td>en</td>\n",
       "      <td>-1</td>\n",
       "    </tr>\n",
       "    <tr>\n",
       "      <th>Die Bademeister – Weiber, saufen, Leben retten</th>\n",
       "      <td>0.345400</td>\n",
       "      <td>0.019208</td>\n",
       "      <td>0.21</td>\n",
       "      <td>de</td>\n",
       "      <td>-1</td>\n",
       "    </tr>\n",
       "    <tr>\n",
       "      <th>Ants in the Pants 2</th>\n",
       "      <td>0.518889</td>\n",
       "      <td>0.085258</td>\n",
       "      <td>0.43</td>\n",
       "      <td>de</td>\n",
       "      <td>1</td>\n",
       "    </tr>\n",
       "    <tr>\n",
       "      <th>Manta, Manta</th>\n",
       "      <td>0.574096</td>\n",
       "      <td>0.067575</td>\n",
       "      <td>0.54</td>\n",
       "      <td>de</td>\n",
       "      <td>1</td>\n",
       "    </tr>\n",
       "    <tr>\n",
       "      <th>Oscar and the Lady in Pink</th>\n",
       "      <td>0.654173</td>\n",
       "      <td>0.086801</td>\n",
       "      <td>0.67</td>\n",
       "      <td>en</td>\n",
       "      <td>1</td>\n",
       "    </tr>\n",
       "    <tr>\n",
       "      <th>For a Handful of Kisses</th>\n",
       "      <td>0.600500</td>\n",
       "      <td>0.061291</td>\n",
       "      <td>0.59</td>\n",
       "      <td>es</td>\n",
       "      <td>-1</td>\n",
       "    </tr>\n",
       "    <tr>\n",
       "      <th>Vietnam in HD</th>\n",
       "      <td>0.000000</td>\n",
       "      <td>0.020656</td>\n",
       "      <td>0.82</td>\n",
       "      <td>en</td>\n",
       "      <td>-1</td>\n",
       "    </tr>\n",
       "    <tr>\n",
       "      <th>Phoenix</th>\n",
       "      <td>0.633958</td>\n",
       "      <td>0.117183</td>\n",
       "      <td>0.67</td>\n",
       "      <td>de</td>\n",
       "      <td>1</td>\n",
       "    </tr>\n",
       "    <tr>\n",
       "      <th>Parallels</th>\n",
       "      <td>0.610000</td>\n",
       "      <td>0.137595</td>\n",
       "      <td>0.61</td>\n",
       "      <td>en</td>\n",
       "      <td>1</td>\n",
       "    </tr>\n",
       "    <tr>\n",
       "      <th>Closed Curtain</th>\n",
       "      <td>0.750000</td>\n",
       "      <td>0.017797</td>\n",
       "      <td>0.75</td>\n",
       "      <td>fa</td>\n",
       "      <td>-1</td>\n",
       "    </tr>\n",
       "    <tr>\n",
       "      <th>Gentlemen</th>\n",
       "      <td>0.634261</td>\n",
       "      <td>0.011288</td>\n",
       "      <td>0.62</td>\n",
       "      <td>sv</td>\n",
       "      <td>-1</td>\n",
       "    </tr>\n",
       "    <tr>\n",
       "      <th>A Second Chance</th>\n",
       "      <td>0.650174</td>\n",
       "      <td>0.091692</td>\n",
       "      <td>0.66</td>\n",
       "      <td>da</td>\n",
       "      <td>1</td>\n",
       "    </tr>\n",
       "    <tr>\n",
       "      <th>Dead Rising: Watchtower</th>\n",
       "      <td>0.532351</td>\n",
       "      <td>0.116356</td>\n",
       "      <td>0.50</td>\n",
       "      <td>en</td>\n",
       "      <td>1</td>\n",
       "    </tr>\n",
       "    <tr>\n",
       "      <th>Standby</th>\n",
       "      <td>0.614600</td>\n",
       "      <td>0.029460</td>\n",
       "      <td>0.63</td>\n",
       "      <td>en</td>\n",
       "      <td>-1</td>\n",
       "    </tr>\n",
       "    <tr>\n",
       "      <th>What Men Talk About</th>\n",
       "      <td>0.770000</td>\n",
       "      <td>0.098597</td>\n",
       "      <td>0.77</td>\n",
       "      <td>ru</td>\n",
       "      <td>1</td>\n",
       "    </tr>\n",
       "    <tr>\n",
       "      <th>Three Quarter Moon</th>\n",
       "      <td>0.586000</td>\n",
       "      <td>0.026338</td>\n",
       "      <td>0.56</td>\n",
       "      <td>de</td>\n",
       "      <td>-1</td>\n",
       "    </tr>\n",
       "    <tr>\n",
       "      <th>Ants in the Pants</th>\n",
       "      <td>0.511244</td>\n",
       "      <td>0.088457</td>\n",
       "      <td>0.44</td>\n",
       "      <td>de</td>\n",
       "      <td>1</td>\n",
       "    </tr>\n",
       "    <tr>\n",
       "      <th>Werner - Gekotzt wird später!</th>\n",
       "      <td>0.556500</td>\n",
       "      <td>0.042629</td>\n",
       "      <td>0.55</td>\n",
       "      <td>de</td>\n",
       "      <td>-1</td>\n",
       "    </tr>\n",
       "    <tr>\n",
       "      <th>Brother Bear 2</th>\n",
       "      <td>0.637556</td>\n",
       "      <td>0.177760</td>\n",
       "      <td>0.65</td>\n",
       "      <td>en</td>\n",
       "      <td>1</td>\n",
       "    </tr>\n",
       "    <tr>\n",
       "      <th>No More School</th>\n",
       "      <td>0.583267</td>\n",
       "      <td>0.045376</td>\n",
       "      <td>0.56</td>\n",
       "      <td>de</td>\n",
       "      <td>1</td>\n",
       "    </tr>\n",
       "    <tr>\n",
       "      <th>Forklift Driver Klaus: The First Day on the Job</th>\n",
       "      <td>0.775000</td>\n",
       "      <td>0.074855</td>\n",
       "      <td>0.79</td>\n",
       "      <td>de</td>\n",
       "      <td>1</td>\n",
       "    </tr>\n",
       "    <tr>\n",
       "      <th>Military Academy</th>\n",
       "      <td>0.593556</td>\n",
       "      <td>0.035951</td>\n",
       "      <td>0.57</td>\n",
       "      <td>de</td>\n",
       "      <td>-1</td>\n",
       "    </tr>\n",
       "    <tr>\n",
       "      <th>Fire, Ice &amp; Canned Beer</th>\n",
       "      <td>0.485089</td>\n",
       "      <td>0.029498</td>\n",
       "      <td>0.44</td>\n",
       "      <td>de</td>\n",
       "      <td>-1</td>\n",
       "    </tr>\n",
       "    <tr>\n",
       "      <th>The Pirates</th>\n",
       "      <td>0.671156</td>\n",
       "      <td>0.070096</td>\n",
       "      <td>0.66</td>\n",
       "      <td>ko</td>\n",
       "      <td>1</td>\n",
       "    </tr>\n",
       "    <tr>\n",
       "      <th>The Rose of the Rascal</th>\n",
       "      <td>0.619468</td>\n",
       "      <td>0.015050</td>\n",
       "      <td>0.67</td>\n",
       "      <td>fi</td>\n",
       "      <td>-1</td>\n",
       "    </tr>\n",
       "    <tr>\n",
       "      <th>Innocence</th>\n",
       "      <td>0.491528</td>\n",
       "      <td>0.033392</td>\n",
       "      <td>0.43</td>\n",
       "      <td>en</td>\n",
       "      <td>-1</td>\n",
       "    </tr>\n",
       "  </tbody>\n",
       "</table>\n",
       "<p>26908 rows × 5 columns</p>\n",
       "</div>"
      ],
      "text/plain": [
       "                                                 mean_main_actors  popularity  \\\n",
       "Toy Story                                                0.653343    0.428418   \n",
       "Jumanji                                                  0.652299    0.055441   \n",
       "Grumpier Old Men                                         0.633164    0.114305   \n",
       "Waiting to Exhale                                        0.604392    0.054876   \n",
       "Father of the Bride Part II                              0.605705    0.128245   \n",
       "Heat                                                     0.333967    0.257092   \n",
       "Sabrina                                                  0.688355    0.116205   \n",
       "Tom and Huck                                             0.582065    0.067104   \n",
       "Sudden Death                                             0.598221    0.110806   \n",
       "GoldenEye                                                0.620224    0.312834   \n",
       "The American President                                   0.635603    0.115979   \n",
       "Dracula: Dead and Loving It                              0.584637    0.158684   \n",
       "Balto                                                    0.638273    0.164328   \n",
       "Nixon                                                    0.667459    0.109771   \n",
       "Cutthroat Island                                         0.599722    0.132064   \n",
       "Casino                                                   0.657562    0.239992   \n",
       "Sense and Sensibility                                    0.667903    0.166698   \n",
       "Four Rooms                                               0.627253    0.169219   \n",
       "Ace Ventura: When Nature Calls                           0.611973    0.166867   \n",
       "Money Train                                              0.615025    0.147227   \n",
       "Get Shorty                                               0.623192    0.189988   \n",
       "Copycat                                                  0.611267    0.100083   \n",
       "Assassins                                                0.616660    0.155730   \n",
       "Powder                                                   0.629294    0.144687   \n",
       "Leaving Las Vegas                                        0.576737    0.217153   \n",
       "Othello                                                  0.652326    0.070208   \n",
       "Now and Then                                             0.617876    0.141828   \n",
       "Persuasion                                               0.655998    0.074140   \n",
       "The City of Lost Children                                0.702989    0.171966   \n",
       "Shanghai Triad                                           0.693500    0.064245   \n",
       "...                                                           ...         ...   \n",
       "Werner - Das muss kesseln!!!                             0.557833    0.049571   \n",
       "Werner - Volles Rooäää!!!                                0.555333    0.040654   \n",
       "What a Man                                               0.606608    0.066502   \n",
       "7 Dwarves: The Forest Is Not Enough                      0.555400    0.097374   \n",
       "The Fat Spy                                              0.555686    0.033844   \n",
       "Die Bademeister – Weiber, saufen, Leben retten           0.345400    0.019208   \n",
       "Ants in the Pants 2                                      0.518889    0.085258   \n",
       "Manta, Manta                                             0.574096    0.067575   \n",
       "Oscar and the Lady in Pink                               0.654173    0.086801   \n",
       "For a Handful of Kisses                                  0.600500    0.061291   \n",
       "Vietnam in HD                                            0.000000    0.020656   \n",
       "Phoenix                                                  0.633958    0.117183   \n",
       "Parallels                                                0.610000    0.137595   \n",
       "Closed Curtain                                           0.750000    0.017797   \n",
       "Gentlemen                                                0.634261    0.011288   \n",
       "A Second Chance                                          0.650174    0.091692   \n",
       "Dead Rising: Watchtower                                  0.532351    0.116356   \n",
       "Standby                                                  0.614600    0.029460   \n",
       "What Men Talk About                                      0.770000    0.098597   \n",
       "Three Quarter Moon                                       0.586000    0.026338   \n",
       "Ants in the Pants                                        0.511244    0.088457   \n",
       "Werner - Gekotzt wird später!                            0.556500    0.042629   \n",
       "Brother Bear 2                                           0.637556    0.177760   \n",
       "No More School                                           0.583267    0.045376   \n",
       "Forklift Driver Klaus: The First Day on the Job          0.775000    0.074855   \n",
       "Military Academy                                         0.593556    0.035951   \n",
       "Fire, Ice & Canned Beer                                  0.485089    0.029498   \n",
       "The Pirates                                              0.671156    0.070096   \n",
       "The Rose of the Rascal                                   0.619468    0.015050   \n",
       "Innocence                                                0.491528    0.033392   \n",
       "\n",
       "                                                 note original_language  \\\n",
       "Toy Story                                        0.79                en   \n",
       "Jumanji                                          0.71                en   \n",
       "Grumpier Old Men                                 0.65                en   \n",
       "Waiting to Exhale                                0.61                en   \n",
       "Father of the Bride Part II                      0.61                en   \n",
       "Heat                                             0.78                en   \n",
       "Sabrina                                          0.61                en   \n",
       "Tom and Huck                                     0.53                en   \n",
       "Sudden Death                                     0.57                en   \n",
       "GoldenEye                                        0.68                en   \n",
       "The American President                           0.66                en   \n",
       "Dracula: Dead and Loving It                      0.58                en   \n",
       "Balto                                            0.72                en   \n",
       "Nixon                                            0.70                en   \n",
       "Cutthroat Island                                 0.58                en   \n",
       "Casino                                           0.79                en   \n",
       "Sense and Sensibility                            0.74                en   \n",
       "Four Rooms                                       0.63                en   \n",
       "Ace Ventura: When Nature Calls                   0.62                en   \n",
       "Money Train                                      0.56                en   \n",
       "Get Shorty                                       0.65                en   \n",
       "Copycat                                          0.65                en   \n",
       "Assassins                                        0.62                en   \n",
       "Powder                                           0.64                en   \n",
       "Leaving Las Vegas                                0.72                en   \n",
       "Othello                                          0.66                en   \n",
       "Now and Then                                     0.68                en   \n",
       "Persuasion                                       0.76                en   \n",
       "The City of Lost Children                        0.75                fr   \n",
       "Shanghai Triad                                   0.70                zh   \n",
       "...                                               ...               ...   \n",
       "Werner - Das muss kesseln!!!                     0.55                de   \n",
       "Werner - Volles Rooäää!!!                        0.49                de   \n",
       "What a Man                                       0.57                de   \n",
       "7 Dwarves: The Forest Is Not Enough              0.53                de   \n",
       "The Fat Spy                                      0.25                en   \n",
       "Die Bademeister – Weiber, saufen, Leben retten   0.21                de   \n",
       "Ants in the Pants 2                              0.43                de   \n",
       "Manta, Manta                                     0.54                de   \n",
       "Oscar and the Lady in Pink                       0.67                en   \n",
       "For a Handful of Kisses                          0.59                es   \n",
       "Vietnam in HD                                    0.82                en   \n",
       "Phoenix                                          0.67                de   \n",
       "Parallels                                        0.61                en   \n",
       "Closed Curtain                                   0.75                fa   \n",
       "Gentlemen                                        0.62                sv   \n",
       "A Second Chance                                  0.66                da   \n",
       "Dead Rising: Watchtower                          0.50                en   \n",
       "Standby                                          0.63                en   \n",
       "What Men Talk About                              0.77                ru   \n",
       "Three Quarter Moon                               0.56                de   \n",
       "Ants in the Pants                                0.44                de   \n",
       "Werner - Gekotzt wird später!                    0.55                de   \n",
       "Brother Bear 2                                   0.65                en   \n",
       "No More School                                   0.56                de   \n",
       "Forklift Driver Klaus: The First Day on the Job  0.79                de   \n",
       "Military Academy                                 0.57                de   \n",
       "Fire, Ice & Canned Beer                          0.44                de   \n",
       "The Pirates                                      0.66                ko   \n",
       "The Rose of the Rascal                           0.67                fi   \n",
       "Innocence                                        0.43                en   \n",
       "\n",
       "                                                 target  \n",
       "Toy Story                                             1  \n",
       "Jumanji                                               1  \n",
       "Grumpier Old Men                                      1  \n",
       "Waiting to Exhale                                     1  \n",
       "Father of the Bride Part II                           1  \n",
       "Heat                                                  1  \n",
       "Sabrina                                               1  \n",
       "Tom and Huck                                          1  \n",
       "Sudden Death                                          1  \n",
       "GoldenEye                                             1  \n",
       "The American President                                1  \n",
       "Dracula: Dead and Loving It                           1  \n",
       "Balto                                                 1  \n",
       "Nixon                                                 1  \n",
       "Cutthroat Island                                      1  \n",
       "Casino                                                1  \n",
       "Sense and Sensibility                                 1  \n",
       "Four Rooms                                            1  \n",
       "Ace Ventura: When Nature Calls                        1  \n",
       "Money Train                                           1  \n",
       "Get Shorty                                            1  \n",
       "Copycat                                               1  \n",
       "Assassins                                             1  \n",
       "Powder                                                1  \n",
       "Leaving Las Vegas                                     1  \n",
       "Othello                                               1  \n",
       "Now and Then                                          1  \n",
       "Persuasion                                            1  \n",
       "The City of Lost Children                             1  \n",
       "Shanghai Triad                                        1  \n",
       "...                                                 ...  \n",
       "Werner - Das muss kesseln!!!                          1  \n",
       "Werner - Volles Rooäää!!!                             1  \n",
       "What a Man                                            1  \n",
       "7 Dwarves: The Forest Is Not Enough                   1  \n",
       "The Fat Spy                                          -1  \n",
       "Die Bademeister – Weiber, saufen, Leben retten       -1  \n",
       "Ants in the Pants 2                                   1  \n",
       "Manta, Manta                                          1  \n",
       "Oscar and the Lady in Pink                            1  \n",
       "For a Handful of Kisses                              -1  \n",
       "Vietnam in HD                                        -1  \n",
       "Phoenix                                               1  \n",
       "Parallels                                             1  \n",
       "Closed Curtain                                       -1  \n",
       "Gentlemen                                            -1  \n",
       "A Second Chance                                       1  \n",
       "Dead Rising: Watchtower                               1  \n",
       "Standby                                              -1  \n",
       "What Men Talk About                                   1  \n",
       "Three Quarter Moon                                   -1  \n",
       "Ants in the Pants                                     1  \n",
       "Werner - Gekotzt wird später!                        -1  \n",
       "Brother Bear 2                                        1  \n",
       "No More School                                        1  \n",
       "Forklift Driver Klaus: The First Day on the Job       1  \n",
       "Military Academy                                     -1  \n",
       "Fire, Ice & Canned Beer                              -1  \n",
       "The Pirates                                           1  \n",
       "The Rose of the Rascal                               -1  \n",
       "Innocence                                            -1  \n",
       "\n",
       "[26908 rows x 5 columns]"
      ]
     },
     "execution_count": 10,
     "metadata": {},
     "output_type": "execute_result"
    }
   ],
   "source": [
    "me = en.MoviesEngineering(films, (ue.plays, ue.actorsMeanMovies, ue.languages))\n",
    "df = me.toDataFrame('median',\"vote_count\")\n",
    "df"
   ]
  },
  {
   "cell_type": "markdown",
   "metadata": {},
   "source": [
    "## Classifiers multi classes \n",
    "Faire 19 dataframes chacun correspondant à un dataframe 1 contre tous par rapport à la catégorie. Prenons par exemple la catégorie comédie, tous les films appartenant à la catégorie auront une classe +1 tandis que les autres auront une classe -1, de même pour toutes les autres catégories."
   ]
  },
  {
   "cell_type": "markdown",
   "metadata": {},
   "source": [
    "<p> Exemple sur le genre 16 correspondant au genre aventure"
   ]
  },
  {
   "cell_type": "code",
   "execution_count": 70,
   "metadata": {},
   "outputs": [
    {
     "name": "stdout",
     "output_type": "stream",
     "text": [
      "MoviesEngineering init in process\n",
      "MoviesEngineering init successful\n",
      "vs 16\n"
     ]
    },
    {
     "data": {
      "text/html": [
       "<div>\n",
       "<style scoped>\n",
       "    .dataframe tbody tr th:only-of-type {\n",
       "        vertical-align: middle;\n",
       "    }\n",
       "\n",
       "    .dataframe tbody tr th {\n",
       "        vertical-align: top;\n",
       "    }\n",
       "\n",
       "    .dataframe thead th {\n",
       "        text-align: right;\n",
       "    }\n",
       "</style>\n",
       "<table border=\"1\" class=\"dataframe\">\n",
       "  <thead>\n",
       "    <tr style=\"text-align: right;\">\n",
       "      <th></th>\n",
       "      <th>vote_count</th>\n",
       "      <th>mean_main_actors</th>\n",
       "      <th>original_language</th>\n",
       "      <th>popularity</th>\n",
       "      <th>note</th>\n",
       "      <th>target</th>\n",
       "    </tr>\n",
       "  </thead>\n",
       "  <tbody>\n",
       "    <tr>\n",
       "      <th>Toy Story</th>\n",
       "      <td>0.453466</td>\n",
       "      <td>0.653343</td>\n",
       "      <td>0.000000</td>\n",
       "      <td>0.428418</td>\n",
       "      <td>0.79</td>\n",
       "      <td>1</td>\n",
       "    </tr>\n",
       "    <tr>\n",
       "      <th>Toy Story</th>\n",
       "      <td>0.453466</td>\n",
       "      <td>0.653343</td>\n",
       "      <td>0.000000</td>\n",
       "      <td>0.428418</td>\n",
       "      <td>0.79</td>\n",
       "      <td>-1</td>\n",
       "    </tr>\n",
       "    <tr>\n",
       "      <th>Toy Story</th>\n",
       "      <td>0.453466</td>\n",
       "      <td>0.653343</td>\n",
       "      <td>0.000000</td>\n",
       "      <td>0.428418</td>\n",
       "      <td>0.79</td>\n",
       "      <td>-1</td>\n",
       "    </tr>\n",
       "    <tr>\n",
       "      <th>Jumanji</th>\n",
       "      <td>0.265622</td>\n",
       "      <td>0.652299</td>\n",
       "      <td>0.000000</td>\n",
       "      <td>0.055441</td>\n",
       "      <td>0.71</td>\n",
       "      <td>-1</td>\n",
       "    </tr>\n",
       "    <tr>\n",
       "      <th>Jumanji</th>\n",
       "      <td>0.265622</td>\n",
       "      <td>0.652299</td>\n",
       "      <td>0.000000</td>\n",
       "      <td>0.055441</td>\n",
       "      <td>0.71</td>\n",
       "      <td>-1</td>\n",
       "    </tr>\n",
       "    <tr>\n",
       "      <th>Jumanji</th>\n",
       "      <td>0.265622</td>\n",
       "      <td>0.652299</td>\n",
       "      <td>0.000000</td>\n",
       "      <td>0.055441</td>\n",
       "      <td>0.71</td>\n",
       "      <td>-1</td>\n",
       "    </tr>\n",
       "    <tr>\n",
       "      <th>Grumpier Old Men</th>\n",
       "      <td>0.006648</td>\n",
       "      <td>0.633164</td>\n",
       "      <td>0.000000</td>\n",
       "      <td>0.114305</td>\n",
       "      <td>0.65</td>\n",
       "      <td>-1</td>\n",
       "    </tr>\n",
       "    <tr>\n",
       "      <th>Grumpier Old Men</th>\n",
       "      <td>0.006648</td>\n",
       "      <td>0.633164</td>\n",
       "      <td>0.000000</td>\n",
       "      <td>0.114305</td>\n",
       "      <td>0.65</td>\n",
       "      <td>-1</td>\n",
       "    </tr>\n",
       "    <tr>\n",
       "      <th>Waiting to Exhale</th>\n",
       "      <td>0.002612</td>\n",
       "      <td>0.604392</td>\n",
       "      <td>0.000000</td>\n",
       "      <td>0.054876</td>\n",
       "      <td>0.61</td>\n",
       "      <td>-1</td>\n",
       "    </tr>\n",
       "    <tr>\n",
       "      <th>Waiting to Exhale</th>\n",
       "      <td>0.002612</td>\n",
       "      <td>0.604392</td>\n",
       "      <td>0.000000</td>\n",
       "      <td>0.054876</td>\n",
       "      <td>0.61</td>\n",
       "      <td>-1</td>\n",
       "    </tr>\n",
       "    <tr>\n",
       "      <th>Waiting to Exhale</th>\n",
       "      <td>0.002612</td>\n",
       "      <td>0.604392</td>\n",
       "      <td>0.000000</td>\n",
       "      <td>0.054876</td>\n",
       "      <td>0.61</td>\n",
       "      <td>-1</td>\n",
       "    </tr>\n",
       "    <tr>\n",
       "      <th>Father of the Bride Part II</th>\n",
       "      <td>0.013675</td>\n",
       "      <td>0.605705</td>\n",
       "      <td>0.000000</td>\n",
       "      <td>0.128245</td>\n",
       "      <td>0.61</td>\n",
       "      <td>-1</td>\n",
       "    </tr>\n",
       "    <tr>\n",
       "      <th>Heat</th>\n",
       "      <td>0.142545</td>\n",
       "      <td>0.333967</td>\n",
       "      <td>0.000000</td>\n",
       "      <td>0.257092</td>\n",
       "      <td>0.78</td>\n",
       "      <td>-1</td>\n",
       "    </tr>\n",
       "    <tr>\n",
       "      <th>Heat</th>\n",
       "      <td>0.142545</td>\n",
       "      <td>0.333967</td>\n",
       "      <td>0.000000</td>\n",
       "      <td>0.257092</td>\n",
       "      <td>0.78</td>\n",
       "      <td>-1</td>\n",
       "    </tr>\n",
       "    <tr>\n",
       "      <th>Heat</th>\n",
       "      <td>0.142545</td>\n",
       "      <td>0.333967</td>\n",
       "      <td>0.000000</td>\n",
       "      <td>0.257092</td>\n",
       "      <td>0.78</td>\n",
       "      <td>-1</td>\n",
       "    </tr>\n",
       "    <tr>\n",
       "      <th>Heat</th>\n",
       "      <td>0.142545</td>\n",
       "      <td>0.333967</td>\n",
       "      <td>0.000000</td>\n",
       "      <td>0.257092</td>\n",
       "      <td>0.78</td>\n",
       "      <td>-1</td>\n",
       "    </tr>\n",
       "    <tr>\n",
       "      <th>Sabrina</th>\n",
       "      <td>0.012346</td>\n",
       "      <td>0.688355</td>\n",
       "      <td>0.000000</td>\n",
       "      <td>0.116205</td>\n",
       "      <td>0.61</td>\n",
       "      <td>-1</td>\n",
       "    </tr>\n",
       "    <tr>\n",
       "      <th>Sabrina</th>\n",
       "      <td>0.012346</td>\n",
       "      <td>0.688355</td>\n",
       "      <td>0.000000</td>\n",
       "      <td>0.116205</td>\n",
       "      <td>0.61</td>\n",
       "      <td>-1</td>\n",
       "    </tr>\n",
       "    <tr>\n",
       "      <th>Tom and Huck</th>\n",
       "      <td>0.003466</td>\n",
       "      <td>0.582065</td>\n",
       "      <td>0.000000</td>\n",
       "      <td>0.067104</td>\n",
       "      <td>0.53</td>\n",
       "      <td>-1</td>\n",
       "    </tr>\n",
       "    <tr>\n",
       "      <th>Tom and Huck</th>\n",
       "      <td>0.003466</td>\n",
       "      <td>0.582065</td>\n",
       "      <td>0.000000</td>\n",
       "      <td>0.067104</td>\n",
       "      <td>0.53</td>\n",
       "      <td>-1</td>\n",
       "    </tr>\n",
       "    <tr>\n",
       "      <th>Tom and Huck</th>\n",
       "      <td>0.003466</td>\n",
       "      <td>0.582065</td>\n",
       "      <td>0.000000</td>\n",
       "      <td>0.067104</td>\n",
       "      <td>0.53</td>\n",
       "      <td>-1</td>\n",
       "    </tr>\n",
       "    <tr>\n",
       "      <th>Tom and Huck</th>\n",
       "      <td>0.003466</td>\n",
       "      <td>0.582065</td>\n",
       "      <td>0.000000</td>\n",
       "      <td>0.067104</td>\n",
       "      <td>0.53</td>\n",
       "      <td>-1</td>\n",
       "    </tr>\n",
       "    <tr>\n",
       "      <th>Sudden Death</th>\n",
       "      <td>0.013248</td>\n",
       "      <td>0.598221</td>\n",
       "      <td>0.000000</td>\n",
       "      <td>0.110806</td>\n",
       "      <td>0.57</td>\n",
       "      <td>-1</td>\n",
       "    </tr>\n",
       "    <tr>\n",
       "      <th>Sudden Death</th>\n",
       "      <td>0.013248</td>\n",
       "      <td>0.598221</td>\n",
       "      <td>0.000000</td>\n",
       "      <td>0.110806</td>\n",
       "      <td>0.57</td>\n",
       "      <td>-1</td>\n",
       "    </tr>\n",
       "    <tr>\n",
       "      <th>Sudden Death</th>\n",
       "      <td>0.013248</td>\n",
       "      <td>0.598221</td>\n",
       "      <td>0.000000</td>\n",
       "      <td>0.110806</td>\n",
       "      <td>0.57</td>\n",
       "      <td>-1</td>\n",
       "    </tr>\n",
       "    <tr>\n",
       "      <th>Sudden Death</th>\n",
       "      <td>0.013248</td>\n",
       "      <td>0.598221</td>\n",
       "      <td>0.000000</td>\n",
       "      <td>0.110806</td>\n",
       "      <td>0.57</td>\n",
       "      <td>-1</td>\n",
       "    </tr>\n",
       "    <tr>\n",
       "      <th>GoldenEye</th>\n",
       "      <td>0.087987</td>\n",
       "      <td>0.620224</td>\n",
       "      <td>0.000000</td>\n",
       "      <td>0.312834</td>\n",
       "      <td>0.68</td>\n",
       "      <td>-1</td>\n",
       "    </tr>\n",
       "    <tr>\n",
       "      <th>GoldenEye</th>\n",
       "      <td>0.087987</td>\n",
       "      <td>0.620224</td>\n",
       "      <td>0.000000</td>\n",
       "      <td>0.312834</td>\n",
       "      <td>0.68</td>\n",
       "      <td>-1</td>\n",
       "    </tr>\n",
       "    <tr>\n",
       "      <th>GoldenEye</th>\n",
       "      <td>0.087987</td>\n",
       "      <td>0.620224</td>\n",
       "      <td>0.000000</td>\n",
       "      <td>0.312834</td>\n",
       "      <td>0.68</td>\n",
       "      <td>-1</td>\n",
       "    </tr>\n",
       "    <tr>\n",
       "      <th>The American President</th>\n",
       "      <td>0.014198</td>\n",
       "      <td>0.635603</td>\n",
       "      <td>0.000000</td>\n",
       "      <td>0.115979</td>\n",
       "      <td>0.66</td>\n",
       "      <td>-1</td>\n",
       "    </tr>\n",
       "    <tr>\n",
       "      <th>...</th>\n",
       "      <td>...</td>\n",
       "      <td>...</td>\n",
       "      <td>...</td>\n",
       "      <td>...</td>\n",
       "      <td>...</td>\n",
       "      <td>...</td>\n",
       "    </tr>\n",
       "    <tr>\n",
       "      <th>Dead Rising: Watchtower</th>\n",
       "      <td>0.009117</td>\n",
       "      <td>0.532351</td>\n",
       "      <td>0.000000</td>\n",
       "      <td>0.116356</td>\n",
       "      <td>0.50</td>\n",
       "      <td>-1</td>\n",
       "    </tr>\n",
       "    <tr>\n",
       "      <th>Dead Rising: Watchtower</th>\n",
       "      <td>0.009117</td>\n",
       "      <td>0.532351</td>\n",
       "      <td>0.000000</td>\n",
       "      <td>0.116356</td>\n",
       "      <td>0.50</td>\n",
       "      <td>-1</td>\n",
       "    </tr>\n",
       "    <tr>\n",
       "      <th>Standby</th>\n",
       "      <td>0.000950</td>\n",
       "      <td>0.614600</td>\n",
       "      <td>0.000000</td>\n",
       "      <td>0.029460</td>\n",
       "      <td>0.63</td>\n",
       "      <td>-1</td>\n",
       "    </tr>\n",
       "    <tr>\n",
       "      <th>Standby</th>\n",
       "      <td>0.000950</td>\n",
       "      <td>0.614600</td>\n",
       "      <td>0.000000</td>\n",
       "      <td>0.029460</td>\n",
       "      <td>0.63</td>\n",
       "      <td>-1</td>\n",
       "    </tr>\n",
       "    <tr>\n",
       "      <th>What Men Talk About</th>\n",
       "      <td>0.003181</td>\n",
       "      <td>0.770000</td>\n",
       "      <td>0.130952</td>\n",
       "      <td>0.098597</td>\n",
       "      <td>0.77</td>\n",
       "      <td>-1</td>\n",
       "    </tr>\n",
       "    <tr>\n",
       "      <th>Three Quarter Moon</th>\n",
       "      <td>0.000475</td>\n",
       "      <td>0.586000</td>\n",
       "      <td>0.071429</td>\n",
       "      <td>0.026338</td>\n",
       "      <td>0.56</td>\n",
       "      <td>-1</td>\n",
       "    </tr>\n",
       "    <tr>\n",
       "      <th>Three Quarter Moon</th>\n",
       "      <td>0.000475</td>\n",
       "      <td>0.586000</td>\n",
       "      <td>0.071429</td>\n",
       "      <td>0.026338</td>\n",
       "      <td>0.56</td>\n",
       "      <td>-1</td>\n",
       "    </tr>\n",
       "    <tr>\n",
       "      <th>Ants in the Pants</th>\n",
       "      <td>0.002327</td>\n",
       "      <td>0.511244</td>\n",
       "      <td>0.071429</td>\n",
       "      <td>0.088457</td>\n",
       "      <td>0.44</td>\n",
       "      <td>-1</td>\n",
       "    </tr>\n",
       "    <tr>\n",
       "      <th>Ants in the Pants</th>\n",
       "      <td>0.002327</td>\n",
       "      <td>0.511244</td>\n",
       "      <td>0.071429</td>\n",
       "      <td>0.088457</td>\n",
       "      <td>0.44</td>\n",
       "      <td>-1</td>\n",
       "    </tr>\n",
       "    <tr>\n",
       "      <th>Werner - Gekotzt wird später!</th>\n",
       "      <td>0.001187</td>\n",
       "      <td>0.556500</td>\n",
       "      <td>0.071429</td>\n",
       "      <td>0.042629</td>\n",
       "      <td>0.55</td>\n",
       "      <td>1</td>\n",
       "    </tr>\n",
       "    <tr>\n",
       "      <th>Werner - Gekotzt wird später!</th>\n",
       "      <td>0.001187</td>\n",
       "      <td>0.556500</td>\n",
       "      <td>0.071429</td>\n",
       "      <td>0.042629</td>\n",
       "      <td>0.55</td>\n",
       "      <td>-1</td>\n",
       "    </tr>\n",
       "    <tr>\n",
       "      <th>Brother Bear 2</th>\n",
       "      <td>0.030959</td>\n",
       "      <td>0.637556</td>\n",
       "      <td>0.000000</td>\n",
       "      <td>0.177760</td>\n",
       "      <td>0.65</td>\n",
       "      <td>-1</td>\n",
       "    </tr>\n",
       "    <tr>\n",
       "      <th>Brother Bear 2</th>\n",
       "      <td>0.030959</td>\n",
       "      <td>0.637556</td>\n",
       "      <td>0.000000</td>\n",
       "      <td>0.177760</td>\n",
       "      <td>0.65</td>\n",
       "      <td>1</td>\n",
       "    </tr>\n",
       "    <tr>\n",
       "      <th>Brother Bear 2</th>\n",
       "      <td>0.030959</td>\n",
       "      <td>0.637556</td>\n",
       "      <td>0.000000</td>\n",
       "      <td>0.177760</td>\n",
       "      <td>0.65</td>\n",
       "      <td>-1</td>\n",
       "    </tr>\n",
       "    <tr>\n",
       "      <th>No More School</th>\n",
       "      <td>0.001282</td>\n",
       "      <td>0.583267</td>\n",
       "      <td>0.071429</td>\n",
       "      <td>0.045376</td>\n",
       "      <td>0.56</td>\n",
       "      <td>-1</td>\n",
       "    </tr>\n",
       "    <tr>\n",
       "      <th>Forklift Driver Klaus: The First Day on the Job</th>\n",
       "      <td>0.002754</td>\n",
       "      <td>0.775000</td>\n",
       "      <td>0.071429</td>\n",
       "      <td>0.074855</td>\n",
       "      <td>0.79</td>\n",
       "      <td>-1</td>\n",
       "    </tr>\n",
       "    <tr>\n",
       "      <th>Forklift Driver Klaus: The First Day on the Job</th>\n",
       "      <td>0.002754</td>\n",
       "      <td>0.775000</td>\n",
       "      <td>0.071429</td>\n",
       "      <td>0.074855</td>\n",
       "      <td>0.79</td>\n",
       "      <td>-1</td>\n",
       "    </tr>\n",
       "    <tr>\n",
       "      <th>Military Academy</th>\n",
       "      <td>0.000665</td>\n",
       "      <td>0.593556</td>\n",
       "      <td>0.071429</td>\n",
       "      <td>0.035951</td>\n",
       "      <td>0.57</td>\n",
       "      <td>-1</td>\n",
       "    </tr>\n",
       "    <tr>\n",
       "      <th>Fire, Ice &amp; Canned Beer</th>\n",
       "      <td>0.000522</td>\n",
       "      <td>0.485089</td>\n",
       "      <td>0.071429</td>\n",
       "      <td>0.029498</td>\n",
       "      <td>0.44</td>\n",
       "      <td>-1</td>\n",
       "    </tr>\n",
       "    <tr>\n",
       "      <th>The Pirates</th>\n",
       "      <td>0.002707</td>\n",
       "      <td>0.671156</td>\n",
       "      <td>0.178571</td>\n",
       "      <td>0.070096</td>\n",
       "      <td>0.66</td>\n",
       "      <td>-1</td>\n",
       "    </tr>\n",
       "    <tr>\n",
       "      <th>The Pirates</th>\n",
       "      <td>0.002707</td>\n",
       "      <td>0.671156</td>\n",
       "      <td>0.178571</td>\n",
       "      <td>0.070096</td>\n",
       "      <td>0.66</td>\n",
       "      <td>-1</td>\n",
       "    </tr>\n",
       "    <tr>\n",
       "      <th>The Pirates</th>\n",
       "      <td>0.002707</td>\n",
       "      <td>0.671156</td>\n",
       "      <td>0.178571</td>\n",
       "      <td>0.070096</td>\n",
       "      <td>0.66</td>\n",
       "      <td>-1</td>\n",
       "    </tr>\n",
       "    <tr>\n",
       "      <th>The Rose of the Rascal</th>\n",
       "      <td>0.000285</td>\n",
       "      <td>0.619468</td>\n",
       "      <td>0.428571</td>\n",
       "      <td>0.015050</td>\n",
       "      <td>0.67</td>\n",
       "      <td>-1</td>\n",
       "    </tr>\n",
       "    <tr>\n",
       "      <th>The Rose of the Rascal</th>\n",
       "      <td>0.000285</td>\n",
       "      <td>0.619468</td>\n",
       "      <td>0.428571</td>\n",
       "      <td>0.015050</td>\n",
       "      <td>0.67</td>\n",
       "      <td>-1</td>\n",
       "    </tr>\n",
       "    <tr>\n",
       "      <th>Innocence</th>\n",
       "      <td>0.000902</td>\n",
       "      <td>0.491528</td>\n",
       "      <td>0.000000</td>\n",
       "      <td>0.033392</td>\n",
       "      <td>0.43</td>\n",
       "      <td>-1</td>\n",
       "    </tr>\n",
       "    <tr>\n",
       "      <th>Innocence</th>\n",
       "      <td>0.000902</td>\n",
       "      <td>0.491528</td>\n",
       "      <td>0.000000</td>\n",
       "      <td>0.033392</td>\n",
       "      <td>0.43</td>\n",
       "      <td>-1</td>\n",
       "    </tr>\n",
       "    <tr>\n",
       "      <th>Innocence</th>\n",
       "      <td>0.000902</td>\n",
       "      <td>0.491528</td>\n",
       "      <td>0.000000</td>\n",
       "      <td>0.033392</td>\n",
       "      <td>0.43</td>\n",
       "      <td>-1</td>\n",
       "    </tr>\n",
       "    <tr>\n",
       "      <th>Innocence</th>\n",
       "      <td>0.000902</td>\n",
       "      <td>0.491528</td>\n",
       "      <td>0.000000</td>\n",
       "      <td>0.033392</td>\n",
       "      <td>0.43</td>\n",
       "      <td>-1</td>\n",
       "    </tr>\n",
       "    <tr>\n",
       "      <th>Innocence</th>\n",
       "      <td>0.000902</td>\n",
       "      <td>0.491528</td>\n",
       "      <td>0.000000</td>\n",
       "      <td>0.033392</td>\n",
       "      <td>0.43</td>\n",
       "      <td>-1</td>\n",
       "    </tr>\n",
       "    <tr>\n",
       "      <th>Innocence</th>\n",
       "      <td>0.000902</td>\n",
       "      <td>0.491528</td>\n",
       "      <td>0.000000</td>\n",
       "      <td>0.033392</td>\n",
       "      <td>0.43</td>\n",
       "      <td>-1</td>\n",
       "    </tr>\n",
       "  </tbody>\n",
       "</table>\n",
       "<p>58075 rows × 6 columns</p>\n",
       "</div>"
      ],
      "text/plain": [
       "                                                 vote_count  mean_main_actors  \\\n",
       "Toy Story                                          0.453466          0.653343   \n",
       "Toy Story                                          0.453466          0.653343   \n",
       "Toy Story                                          0.453466          0.653343   \n",
       "Jumanji                                            0.265622          0.652299   \n",
       "Jumanji                                            0.265622          0.652299   \n",
       "Jumanji                                            0.265622          0.652299   \n",
       "Grumpier Old Men                                   0.006648          0.633164   \n",
       "Grumpier Old Men                                   0.006648          0.633164   \n",
       "Waiting to Exhale                                  0.002612          0.604392   \n",
       "Waiting to Exhale                                  0.002612          0.604392   \n",
       "Waiting to Exhale                                  0.002612          0.604392   \n",
       "Father of the Bride Part II                        0.013675          0.605705   \n",
       "Heat                                               0.142545          0.333967   \n",
       "Heat                                               0.142545          0.333967   \n",
       "Heat                                               0.142545          0.333967   \n",
       "Heat                                               0.142545          0.333967   \n",
       "Sabrina                                            0.012346          0.688355   \n",
       "Sabrina                                            0.012346          0.688355   \n",
       "Tom and Huck                                       0.003466          0.582065   \n",
       "Tom and Huck                                       0.003466          0.582065   \n",
       "Tom and Huck                                       0.003466          0.582065   \n",
       "Tom and Huck                                       0.003466          0.582065   \n",
       "Sudden Death                                       0.013248          0.598221   \n",
       "Sudden Death                                       0.013248          0.598221   \n",
       "Sudden Death                                       0.013248          0.598221   \n",
       "Sudden Death                                       0.013248          0.598221   \n",
       "GoldenEye                                          0.087987          0.620224   \n",
       "GoldenEye                                          0.087987          0.620224   \n",
       "GoldenEye                                          0.087987          0.620224   \n",
       "The American President                             0.014198          0.635603   \n",
       "...                                                     ...               ...   \n",
       "Dead Rising: Watchtower                            0.009117          0.532351   \n",
       "Dead Rising: Watchtower                            0.009117          0.532351   \n",
       "Standby                                            0.000950          0.614600   \n",
       "Standby                                            0.000950          0.614600   \n",
       "What Men Talk About                                0.003181          0.770000   \n",
       "Three Quarter Moon                                 0.000475          0.586000   \n",
       "Three Quarter Moon                                 0.000475          0.586000   \n",
       "Ants in the Pants                                  0.002327          0.511244   \n",
       "Ants in the Pants                                  0.002327          0.511244   \n",
       "Werner - Gekotzt wird später!                      0.001187          0.556500   \n",
       "Werner - Gekotzt wird später!                      0.001187          0.556500   \n",
       "Brother Bear 2                                     0.030959          0.637556   \n",
       "Brother Bear 2                                     0.030959          0.637556   \n",
       "Brother Bear 2                                     0.030959          0.637556   \n",
       "No More School                                     0.001282          0.583267   \n",
       "Forklift Driver Klaus: The First Day on the Job    0.002754          0.775000   \n",
       "Forklift Driver Klaus: The First Day on the Job    0.002754          0.775000   \n",
       "Military Academy                                   0.000665          0.593556   \n",
       "Fire, Ice & Canned Beer                            0.000522          0.485089   \n",
       "The Pirates                                        0.002707          0.671156   \n",
       "The Pirates                                        0.002707          0.671156   \n",
       "The Pirates                                        0.002707          0.671156   \n",
       "The Rose of the Rascal                             0.000285          0.619468   \n",
       "The Rose of the Rascal                             0.000285          0.619468   \n",
       "Innocence                                          0.000902          0.491528   \n",
       "Innocence                                          0.000902          0.491528   \n",
       "Innocence                                          0.000902          0.491528   \n",
       "Innocence                                          0.000902          0.491528   \n",
       "Innocence                                          0.000902          0.491528   \n",
       "Innocence                                          0.000902          0.491528   \n",
       "\n",
       "                                                 original_language  \\\n",
       "Toy Story                                                 0.000000   \n",
       "Toy Story                                                 0.000000   \n",
       "Toy Story                                                 0.000000   \n",
       "Jumanji                                                   0.000000   \n",
       "Jumanji                                                   0.000000   \n",
       "Jumanji                                                   0.000000   \n",
       "Grumpier Old Men                                          0.000000   \n",
       "Grumpier Old Men                                          0.000000   \n",
       "Waiting to Exhale                                         0.000000   \n",
       "Waiting to Exhale                                         0.000000   \n",
       "Waiting to Exhale                                         0.000000   \n",
       "Father of the Bride Part II                               0.000000   \n",
       "Heat                                                      0.000000   \n",
       "Heat                                                      0.000000   \n",
       "Heat                                                      0.000000   \n",
       "Heat                                                      0.000000   \n",
       "Sabrina                                                   0.000000   \n",
       "Sabrina                                                   0.000000   \n",
       "Tom and Huck                                              0.000000   \n",
       "Tom and Huck                                              0.000000   \n",
       "Tom and Huck                                              0.000000   \n",
       "Tom and Huck                                              0.000000   \n",
       "Sudden Death                                              0.000000   \n",
       "Sudden Death                                              0.000000   \n",
       "Sudden Death                                              0.000000   \n",
       "Sudden Death                                              0.000000   \n",
       "GoldenEye                                                 0.000000   \n",
       "GoldenEye                                                 0.000000   \n",
       "GoldenEye                                                 0.000000   \n",
       "The American President                                    0.000000   \n",
       "...                                                            ...   \n",
       "Dead Rising: Watchtower                                   0.000000   \n",
       "Dead Rising: Watchtower                                   0.000000   \n",
       "Standby                                                   0.000000   \n",
       "Standby                                                   0.000000   \n",
       "What Men Talk About                                       0.130952   \n",
       "Three Quarter Moon                                        0.071429   \n",
       "Three Quarter Moon                                        0.071429   \n",
       "Ants in the Pants                                         0.071429   \n",
       "Ants in the Pants                                         0.071429   \n",
       "Werner - Gekotzt wird später!                             0.071429   \n",
       "Werner - Gekotzt wird später!                             0.071429   \n",
       "Brother Bear 2                                            0.000000   \n",
       "Brother Bear 2                                            0.000000   \n",
       "Brother Bear 2                                            0.000000   \n",
       "No More School                                            0.071429   \n",
       "Forklift Driver Klaus: The First Day on the Job           0.071429   \n",
       "Forklift Driver Klaus: The First Day on the Job           0.071429   \n",
       "Military Academy                                          0.071429   \n",
       "Fire, Ice & Canned Beer                                   0.071429   \n",
       "The Pirates                                               0.178571   \n",
       "The Pirates                                               0.178571   \n",
       "The Pirates                                               0.178571   \n",
       "The Rose of the Rascal                                    0.428571   \n",
       "The Rose of the Rascal                                    0.428571   \n",
       "Innocence                                                 0.000000   \n",
       "Innocence                                                 0.000000   \n",
       "Innocence                                                 0.000000   \n",
       "Innocence                                                 0.000000   \n",
       "Innocence                                                 0.000000   \n",
       "Innocence                                                 0.000000   \n",
       "\n",
       "                                                 popularity  note  target  \n",
       "Toy Story                                          0.428418  0.79       1  \n",
       "Toy Story                                          0.428418  0.79      -1  \n",
       "Toy Story                                          0.428418  0.79      -1  \n",
       "Jumanji                                            0.055441  0.71      -1  \n",
       "Jumanji                                            0.055441  0.71      -1  \n",
       "Jumanji                                            0.055441  0.71      -1  \n",
       "Grumpier Old Men                                   0.114305  0.65      -1  \n",
       "Grumpier Old Men                                   0.114305  0.65      -1  \n",
       "Waiting to Exhale                                  0.054876  0.61      -1  \n",
       "Waiting to Exhale                                  0.054876  0.61      -1  \n",
       "Waiting to Exhale                                  0.054876  0.61      -1  \n",
       "Father of the Bride Part II                        0.128245  0.61      -1  \n",
       "Heat                                               0.257092  0.78      -1  \n",
       "Heat                                               0.257092  0.78      -1  \n",
       "Heat                                               0.257092  0.78      -1  \n",
       "Heat                                               0.257092  0.78      -1  \n",
       "Sabrina                                            0.116205  0.61      -1  \n",
       "Sabrina                                            0.116205  0.61      -1  \n",
       "Tom and Huck                                       0.067104  0.53      -1  \n",
       "Tom and Huck                                       0.067104  0.53      -1  \n",
       "Tom and Huck                                       0.067104  0.53      -1  \n",
       "Tom and Huck                                       0.067104  0.53      -1  \n",
       "Sudden Death                                       0.110806  0.57      -1  \n",
       "Sudden Death                                       0.110806  0.57      -1  \n",
       "Sudden Death                                       0.110806  0.57      -1  \n",
       "Sudden Death                                       0.110806  0.57      -1  \n",
       "GoldenEye                                          0.312834  0.68      -1  \n",
       "GoldenEye                                          0.312834  0.68      -1  \n",
       "GoldenEye                                          0.312834  0.68      -1  \n",
       "The American President                             0.115979  0.66      -1  \n",
       "...                                                     ...   ...     ...  \n",
       "Dead Rising: Watchtower                            0.116356  0.50      -1  \n",
       "Dead Rising: Watchtower                            0.116356  0.50      -1  \n",
       "Standby                                            0.029460  0.63      -1  \n",
       "Standby                                            0.029460  0.63      -1  \n",
       "What Men Talk About                                0.098597  0.77      -1  \n",
       "Three Quarter Moon                                 0.026338  0.56      -1  \n",
       "Three Quarter Moon                                 0.026338  0.56      -1  \n",
       "Ants in the Pants                                  0.088457  0.44      -1  \n",
       "Ants in the Pants                                  0.088457  0.44      -1  \n",
       "Werner - Gekotzt wird später!                      0.042629  0.55       1  \n",
       "Werner - Gekotzt wird später!                      0.042629  0.55      -1  \n",
       "Brother Bear 2                                     0.177760  0.65      -1  \n",
       "Brother Bear 2                                     0.177760  0.65       1  \n",
       "Brother Bear 2                                     0.177760  0.65      -1  \n",
       "No More School                                     0.045376  0.56      -1  \n",
       "Forklift Driver Klaus: The First Day on the Job    0.074855  0.79      -1  \n",
       "Forklift Driver Klaus: The First Day on the Job    0.074855  0.79      -1  \n",
       "Military Academy                                   0.035951  0.57      -1  \n",
       "Fire, Ice & Canned Beer                            0.029498  0.44      -1  \n",
       "The Pirates                                        0.070096  0.66      -1  \n",
       "The Pirates                                        0.070096  0.66      -1  \n",
       "The Pirates                                        0.070096  0.66      -1  \n",
       "The Rose of the Rascal                             0.015050  0.67      -1  \n",
       "The Rose of the Rascal                             0.015050  0.67      -1  \n",
       "Innocence                                          0.033392  0.43      -1  \n",
       "Innocence                                          0.033392  0.43      -1  \n",
       "Innocence                                          0.033392  0.43      -1  \n",
       "Innocence                                          0.033392  0.43      -1  \n",
       "Innocence                                          0.033392  0.43      -1  \n",
       "Innocence                                          0.033392  0.43      -1  \n",
       "\n",
       "[58075 rows x 6 columns]"
      ]
     },
     "execution_count": 70,
     "metadata": {},
     "output_type": "execute_result"
    }
   ],
   "source": [
    "me = en.MoviesGenresEngineering(films, (ue.plays, ue.actorsMeanMovies, ue.languages))\n",
    "df = me.toDataFrame(\"vs\", \"genre_id\", 16)\n",
    "df"
   ]
  },
  {
   "cell_type": "markdown",
   "metadata": {},
   "source": [
    "<p> Prenons pour commencer les 3 premiers genres :\n",
    "    <ul>\n",
    "    <li>  Action (28) </li>\n",
    "    <li> Adventure  (12) </li>\n",
    "    <li> Animation (16) </li>\n",
    "    </ul>"
   ]
  },
  {
   "cell_type": "code",
   "execution_count": 232,
   "metadata": {},
   "outputs": [
    {
     "name": "stdout",
     "output_type": "stream",
     "text": [
      "vs 28\n",
      "vs 12\n",
      "vs 16\n"
     ]
    }
   ],
   "source": [
    "dfs = []\n",
    "ke_genres = list(ue.genres.keys())\n",
    "for k in range(3) :\n",
    "    dfs.append(me.toDataFrame(\"vs\", \"genre_id\", ke_genres[k]))\n",
    "    #for i in range(len(dfs[k])):\n",
    "     #   #On récupère les indices des membres qui ont le meme nom :\n",
    "      #  lId = []\n",
    "       # ltarget = []\n",
    "        #lId.append(i)\n",
    "        #ltarget.append(dfs[k].iloc[i]['target'])\n",
    "        #for j in range(i+1, len(dfs[k])):\n",
    "            #if dfs[k].index.values[i] == dfs[k].index.values[j]:\n",
    "       #         lId.append(j)\n",
    "         #       ltarget.append(dfs[k].iloc[j]['target'])\n",
    "      #  print(ltarget)\n",
    "      #  print(lId)\n",
    "      #  print(lId[1:])\n",
    "      #  if(1 in ltarget):\n",
    "      #      for t in range(len(ltarget)) :\n",
    "      #          if ltarget[t] == -1 :\n",
    "      #              dfs[k].drop(lId[1:])\n",
    "      #  else :\n",
    "      #      dfs[k].drop(lId[d])\n",
    "        \n",
    "            "
   ]
  },
  {
   "cell_type": "code",
   "execution_count": 233,
   "metadata": {},
   "outputs": [
    {
     "data": {
      "text/plain": [
       "'d = (me.toDataFrame(\"vs\", \"genre_id\", 16))\\n# Delete row at index position 0 & 1\\nmodDfObj = d#.drop([d.index[1]])\\nmodDfObj\\n\\n\\n3\\n# delete all rows with column \\'Age\\' has value 30 to 40 \\nindexNames = d[ (d[\\'target\\'] == -1) & (d.index.values[1] == \"Toy Story\") ].index\\nd.drop(indexNames , inplace=False)\\nprint(d.index.values[4] == \"Toy Story\")'"
      ]
     },
     "execution_count": 233,
     "metadata": {},
     "output_type": "execute_result"
    }
   ],
   "source": [
    "\"\"\"d = (me.toDataFrame(\"vs\", \"genre_id\", 16))\n",
    "# Delete row at index position 0 & 1\n",
    "modDfObj = d#.drop([d.index[1]])\n",
    "modDfObj\n",
    "\n",
    "\n",
    "3\n",
    "# delete all rows with column 'Age' has value 30 to 40 \n",
    "indexNames = d[ (d['target'] == -1) & (d.index.values[1] == \"Toy Story\") ].index\n",
    "d.drop(indexNames , inplace=False)\n",
    "print(d.index.values[4] == \"Toy Story\")\"\"\""
   ]
  },
  {
   "cell_type": "markdown",
   "metadata": {},
   "source": [
    "<p> Créons maintenant les bases associées"
   ]
  },
  {
   "cell_type": "markdown",
   "metadata": {},
   "source": [
    "<p> Trouvons en premier lieu les meilleures paramètres en 2D."
   ]
  },
  {
   "cell_type": "code",
   "execution_count": 234,
   "metadata": {},
   "outputs": [
    {
     "name": "stdout",
     "output_type": "stream",
     "text": [
      "Adventure Action Animation\n"
     ]
    }
   ],
   "source": [
    "print(ue.genres[12], ue.genres[28], ue.genres[16])\n",
    "\n"
   ]
  },
  {
   "cell_type": "code",
   "execution_count": 238,
   "metadata": {},
   "outputs": [
    {
     "name": "stdout",
     "output_type": "stream",
     "text": [
      "dataframe\n",
      "init for original_language\n",
      "done for original_language \n",
      "\n",
      "init for mean_main_actors\n",
      "done for mean_main_actors \n",
      "\n",
      "init for popularity\n",
      "done for popularity \n",
      "\n",
      "init for note\n",
      "done for note \n",
      "\n",
      "dataframe\n",
      "init for original_language\n",
      "done for original_language \n",
      "\n",
      "init for mean_main_actors\n",
      "done for mean_main_actors \n",
      "\n",
      "init for popularity\n",
      "done for popularity \n",
      "\n",
      "init for note\n",
      "done for note \n",
      "\n",
      "dataframe\n",
      "init for original_language\n",
      "done for original_language \n",
      "\n",
      "init for mean_main_actors\n",
      "done for mean_main_actors \n",
      "\n",
      "init for popularity\n",
      "done for popularity \n",
      "\n",
      "init for note\n",
      "done for note \n",
      "\n"
     ]
    }
   ],
   "source": [
    "bases = []\n",
    "caracteristics = ['original_language', 'mean_main_actors', 'popularity', 'note']\n",
    "for d in dfs :\n",
    "    print(\"dataframe\")\n",
    "    li = []\n",
    "    for c1 in range(len(caracteristics)):\n",
    "        ca1 = caracteristics[c1]\n",
    "\n",
    "        print(\"init for\", ca1)\n",
    "        for c2 in range(c1+1, len(caracteristics)):\n",
    "            ca2 = caracteristics[c2]\n",
    "            \n",
    "            taille = len(d)\n",
    "            indice = np.arange(taille)\n",
    "            indice = np.random.permutation(taille)\n",
    "            indice = indice[:1000]\n",
    "            une_base = ls.LabeledSet(2)\n",
    "            for i in indice:\n",
    "                une_base.addExample([d.iloc[i][ca1], d.iloc[i][c2]]\n",
    "                        , d.iloc[i]['target'])\n",
    "            li.append(une_base)\n",
    "        print(\"done for\", ca1, \"\\n\")\n",
    "    bases.append(li)\n",
    "        "
   ]
  },
  {
   "cell_type": "code",
   "execution_count": 236,
   "metadata": {},
   "outputs": [
    {
     "name": "stdout",
     "output_type": "stream",
     "text": [
      "3\n"
     ]
    }
   ],
   "source": [
    "print(len(bases))"
   ]
  },
  {
   "cell_type": "markdown",
   "metadata": {},
   "source": [
    "<p> Faisons les s'entrainer"
   ]
  },
  {
   "cell_type": "code",
   "execution_count": 245,
   "metadata": {},
   "outputs": [
    {
     "name": "stdout",
     "output_type": "stream",
     "text": [
      "\n",
      "\n",
      " init\n"
     ]
    },
    {
     "name": "stderr",
     "output_type": "stream",
     "text": [
      "No handles with labels found to put in legend.\n"
     ]
    },
    {
     "name": "stdout",
     "output_type": "stream",
     "text": [
      "Mean accuracy 84.98571428571428\n",
      "Variance accuracy 437.74033163265307\n"
     ]
    },
    {
     "data": {
      "image/png": "[encoded data removed]",
      "text/plain": [
       "<Figure size 432x288 with 1 Axes>"
      ]
     },
     "metadata": {
      "needs_background": "light"
     },
     "output_type": "display_data"
    },
    {
     "name": "stderr",
     "output_type": "stream",
     "text": [
      "No handles with labels found to put in legend.\n"
     ]
    },
    {
     "name": "stdout",
     "output_type": "stream",
     "text": [
      "Mean accuracy 91.36964285714286\n",
      "Variance accuracy 321.25702487244894\n"
     ]
    },
    {
     "data": {
      "image/png": "[encoded data removed]",
      "text/plain": [
       "<Figure size 432x288 with 1 Axes>"
      ]
     },
     "metadata": {
      "needs_background": "light"
     },
     "output_type": "display_data"
    },
    {
     "name": "stderr",
     "output_type": "stream",
     "text": [
      "No handles with labels found to put in legend.\n"
     ]
    },
    {
     "name": "stdout",
     "output_type": "stream",
     "text": [
      "Mean accuracy 96.65267857142857\n",
      "Variance accuracy 96.00253746811225\n"
     ]
    },
    {
     "data": {
      "image/png": "[encoded data removed]",
      "text/plain": [
       "<Figure size 432x288 with 1 Axes>"
      ]
     },
     "metadata": {
      "needs_background": "light"
     },
     "output_type": "display_data"
    },
    {
     "name": "stdout",
     "output_type": "stream",
     "text": [
      "\n",
      "\n",
      " done\n",
      "Chosen criteria : ['original_language', 'mean_main_actors']\n",
      "\n",
      "\n",
      " init\n"
     ]
    },
    {
     "name": "stderr",
     "output_type": "stream",
     "text": [
      "No handles with labels found to put in legend.\n"
     ]
    },
    {
     "name": "stdout",
     "output_type": "stream",
     "text": [
      "Mean accuracy 86.18071428571429\n",
      "Variance accuracy 448.2690387755103\n"
     ]
    },
    {
     "data": {
      "image/png": "[encoded data removed]",
      "text/plain": [
       "<Figure size 432x288 with 1 Axes>"
      ]
     },
     "metadata": {
      "needs_background": "light"
     },
     "output_type": "display_data"
    },
    {
     "name": "stderr",
     "output_type": "stream",
     "text": [
      "No handles with labels found to put in legend.\n"
     ]
    },
    {
     "name": "stdout",
     "output_type": "stream",
     "text": [
      "Mean accuracy 91.78946428571429\n",
      "Variance accuracy 334.08063007015306\n"
     ]
    },
    {
     "data": {
      "image/png": "[encoded data removed]",
      "text/plain": [
       "<Figure size 432x288 with 1 Axes>"
      ]
     },
     "metadata": {
      "needs_background": "light"
     },
     "output_type": "display_data"
    },
    {
     "name": "stderr",
     "output_type": "stream",
     "text": [
      "No handles with labels found to put in legend.\n"
     ]
    },
    {
     "name": "stdout",
     "output_type": "stream",
     "text": [
      "Mean accuracy 96.57375\n",
      "Variance accuracy 139.67183772321434\n"
     ]
    },
    {
     "data": {
      "image/png": "[encoded data removed]",
      "text/plain": [
       "<Figure size 432x288 with 1 Axes>"
      ]
     },
     "metadata": {
      "needs_background": "light"
     },
     "output_type": "display_data"
    },
    {
     "name": "stdout",
     "output_type": "stream",
     "text": [
      "\n",
      "\n",
      " done\n",
      "Chosen criteria : ['original_language', 'mean_main_actors']\n",
      "\n",
      "\n",
      " init\n"
     ]
    },
    {
     "name": "stderr",
     "output_type": "stream",
     "text": [
      "No handles with labels found to put in legend.\n"
     ]
    },
    {
     "name": "stdout",
     "output_type": "stream",
     "text": [
      "Mean accuracy 85.75125\n",
      "Variance accuracy 460.3467395089286\n"
     ]
    },
    {
     "data": {
      "image/png": "[encoded data removed]",
      "text/plain": [
       "<Figure size 432x288 with 1 Axes>"
      ]
     },
     "metadata": {
      "needs_background": "light"
     },
     "output_type": "display_data"
    },
    {
     "name": "stderr",
     "output_type": "stream",
     "text": [
      "No handles with labels found to put in legend.\n"
     ]
    },
    {
     "name": "stdout",
     "output_type": "stream",
     "text": [
      "Mean accuracy 90.31678571428571\n",
      "Variance accuracy 344.3547360969387\n"
     ]
    },
    {
     "data": {
      "image/png": "[encoded data removed]",
      "text/plain": [
       "<Figure size 432x288 with 1 Axes>"
      ]
     },
     "metadata": {
      "needs_background": "light"
     },
     "output_type": "display_data"
    },
    {
     "name": "stderr",
     "output_type": "stream",
     "text": [
      "No handles with labels found to put in legend.\n"
     ]
    },
    {
     "name": "stdout",
     "output_type": "stream",
     "text": [
      "Mean accuracy 95.33910714285715\n",
      "Variance accuracy 134.07915813137757\n"
     ]
    },
    {
     "data": {
      "image/png": "[encoded data removed]",
      "text/plain": [
       "<Figure size 432x288 with 1 Axes>"
      ]
     },
     "metadata": {
      "needs_background": "light"
     },
     "output_type": "display_data"
    },
    {
     "name": "stdout",
     "output_type": "stream",
     "text": [
      "\n",
      "\n",
      " done\n",
      "Chosen criteria : ['original_language', 'note']\n",
      "\n",
      "\n",
      " init\n"
     ]
    },
    {
     "name": "stderr",
     "output_type": "stream",
     "text": [
      "No handles with labels found to put in legend.\n"
     ]
    },
    {
     "name": "stdout",
     "output_type": "stream",
     "text": [
      "Mean accuracy 86.24660714285714\n",
      "Variance accuracy 408.06869384566323\n"
     ]
    },
    {
     "data": {
      "image/png": "[encoded data removed]",
      "text/plain": [
       "<Figure size 432x288 with 1 Axes>"
      ]
     },
     "metadata": {
      "needs_background": "light"
     },
     "output_type": "display_data"
    },
    {
     "name": "stderr",
     "output_type": "stream",
     "text": [
      "No handles with labels found to put in legend.\n"
     ]
    },
    {
     "name": "stdout",
     "output_type": "stream",
     "text": [
      "Mean accuracy 92.79732142857142\n",
      "Variance accuracy 281.12057318239795\n"
     ]
    },
    {
     "data": {
      "image/png": "[encoded data removed]",
      "text/plain": [
       "<Figure size 432x288 with 1 Axes>"
      ]
     },
     "metadata": {
      "needs_background": "light"
     },
     "output_type": "display_data"
    },
    {
     "name": "stderr",
     "output_type": "stream",
     "text": [
      "No handles with labels found to put in legend.\n"
     ]
    },
    {
     "name": "stdout",
     "output_type": "stream",
     "text": [
      "Mean accuracy 96.72892857142857\n",
      "Variance accuracy 131.5280381377551\n"
     ]
    },
    {
     "data": {
      "image/png": "[encoded data removed]",
      "text/plain": [
       "<Figure size 432x288 with 1 Axes>"
      ]
     },
     "metadata": {
      "needs_background": "light"
     },
     "output_type": "display_data"
    },
    {
     "name": "stdout",
     "output_type": "stream",
     "text": [
      "\n",
      "\n",
      " done\n",
      "Chosen criteria : ['original_language', 'note']\n",
      "\n",
      "\n",
      " init\n"
     ]
    },
    {
     "name": "stderr",
     "output_type": "stream",
     "text": [
      "No handles with labels found to put in legend.\n"
     ]
    },
    {
     "name": "stdout",
     "output_type": "stream",
     "text": [
      "Mean accuracy 86.62821428571428\n",
      "Variance accuracy 295.62498966836733\n"
     ]
    },
    {
     "data": {
      "image/png": "[encoded data removed]",
      "text/plain": [
       "<Figure size 432x288 with 1 Axes>"
      ]
     },
     "metadata": {
      "needs_background": "light"
     },
     "output_type": "display_data"
    },
    {
     "name": "stderr",
     "output_type": "stream",
     "text": [
      "No handles with labels found to put in legend.\n"
     ]
    },
    {
     "name": "stdout",
     "output_type": "stream",
     "text": [
      "Mean accuracy 90.63410714285715\n",
      "Variance accuracy 273.88964920280614\n"
     ]
    },
    {
     "data": {
      "image/png": "[encoded data removed]",
      "text/plain": [
       "<Figure size 432x288 with 1 Axes>"
      ]
     },
     "metadata": {
      "needs_background": "light"
     },
     "output_type": "display_data"
    },
    {
     "name": "stderr",
     "output_type": "stream",
     "text": [
      "No handles with labels found to put in legend.\n"
     ]
    },
    {
     "name": "stdout",
     "output_type": "stream",
     "text": [
      "Mean accuracy 97.43535714285714\n",
      "Variance accuracy 96.62207130102041\n"
     ]
    },
    {
     "data": {
      "image/png": "[encoded data removed]",
      "text/plain": [
       "<Figure size 432x288 with 1 Axes>"
      ]
     },
     "metadata": {
      "needs_background": "light"
     },
     "output_type": "display_data"
    },
    {
     "name": "stdout",
     "output_type": "stream",
     "text": [
      "\n",
      "\n",
      " done\n",
      "Chosen criteria : ['original_language', 'note']\n",
      "\n",
      "\n",
      " init\n"
     ]
    },
    {
     "name": "stderr",
     "output_type": "stream",
     "text": [
      "No handles with labels found to put in legend.\n"
     ]
    },
    {
     "name": "stdout",
     "output_type": "stream",
     "text": [
      "Mean accuracy 85.49553571428571\n",
      "Variance accuracy 468.8627032844388\n"
     ]
    },
    {
     "data": {
      "image/png": "[encoded data removed]",
      "text/plain": [
       "<Figure size 432x288 with 1 Axes>"
      ]
     },
     "metadata": {
      "needs_background": "light"
     },
     "output_type": "display_data"
    },
    {
     "name": "stderr",
     "output_type": "stream",
     "text": [
      "No handles with labels found to put in legend.\n"
     ]
    },
    {
     "name": "stdout",
     "output_type": "stream",
     "text": [
      "Mean accuracy 93.21625\n",
      "Variance accuracy 241.83078058035713\n"
     ]
    },
    {
     "data": {
      "image/png": "[encoded data removed]",
      "text/plain": [
       "<Figure size 432x288 with 1 Axes>"
      ]
     },
     "metadata": {
      "needs_background": "light"
     },
     "output_type": "display_data"
    },
    {
     "name": "stderr",
     "output_type": "stream",
     "text": [
      "No handles with labels found to put in legend.\n"
     ]
    },
    {
     "name": "stdout",
     "output_type": "stream",
     "text": [
      "Mean accuracy 96.24714285714286\n",
      "Variance accuracy 145.98543826530613\n"
     ]
    },
    {
     "data": {
      "image/png": "[encoded data removed]",
      "text/plain": [
       "<Figure size 432x288 with 1 Axes>"
      ]
     },
     "metadata": {
      "needs_background": "light"
     },
     "output_type": "display_data"
    },
    {
     "name": "stdout",
     "output_type": "stream",
     "text": [
      "\n",
      "\n",
      " done\n",
      "Chosen criteria : ['original_language', 'note']\n"
     ]
    },
    {
     "data": {
      "image/png": "[encoded data removed]",
      "text/plain": [
       "<Figure size 432x288 with 1 Axes>"
      ]
     },
     "metadata": {
      "needs_background": "light"
     },
     "output_type": "display_data"
    }
   ],
   "source": [
    "combinaisons = []\n",
    "for c1 in range(len(caracteristics)):\n",
    "    for c2 in range(c1+1, len(caracteristics)):\n",
    "        c = [caracteristics[c1], caracteristics[c2]]\n",
    "        combinaisons.append(c)\n",
    "        \n",
    "        \n",
    "clas = []\n",
    "for i in range(len(bases[0])):\n",
    "    print(\"\\n\\n init\")\n",
    "    k= cl.KernelPoly()\n",
    "    cla1= cl.ClassifierPerceptronKernel(6,0.05,k)\n",
    "    mean1, vari1 = ut.super_entrainement(1400, bases[0][i],cla1, 60)\n",
    "    k= cl.KernelPoly()\n",
    "    cla2= cl.ClassifierPerceptronKernel(6,0.05,k)\n",
    "    mean2, vari2 = ut.super_entrainement(1400, bases[1][i],cla2, 60)    \n",
    "    clas.append(cla)\n",
    "    k= cl.KernelPoly()\n",
    "    cla3= cl.ClassifierPerceptronKernel(6,0.05,k)\n",
    "    mean3, vari3 = ut.super_entrainement(1400, bases[2][i],cla3, 60)\n",
    "    if i == 0 : \n",
    "        mini_mean = mean1 + mean2 + mean3\n",
    "        minicombi = 0\n",
    "    else :\n",
    "        if mean1 + mean2 + mean3 < mini_mean :\n",
    "            mini_mean = mean1 + mean2 + mean3\n",
    "            minicombi = i\n",
    "            minicla1 = cla1\n",
    "            minicla2 = cla2\n",
    "            minicla3 = cla3\n",
    "        \n",
    "    print(\"\\n\\n done\")\n",
    "    print(\"Chosen criteria :\", combinaisons[minicombi] )"
   ]
  },
  {
   "cell_type": "markdown",
   "metadata": {},
   "source": [
    "<p> Cette fois-ci, les paramètres retenus sont :\n",
    "    <ul>\n",
    "        <li> Original_language </li>\n",
    "        <li> Note </li>\n",
    "    </ul>"
   ]
  },
  {
   "cell_type": "markdown",
   "metadata": {},
   "source": [
    "<p> Fonction predScores qui permet de prédire la catégorie d'un film."
   ]
  },
  {
   "cell_type": "code",
   "execution_count": 262,
   "metadata": {},
   "outputs": [
    {
     "name": "stdout",
     "output_type": "stream",
     "text": [
      "ok\n",
      "9 1\n",
      "Le genre trouvé est  Adventure ( 12 )\n",
      "Les genres du films sont\n",
      "Adventure\n",
      "Action\n",
      "Thriller\n"
     ]
    }
   ],
   "source": [
    "def predScore(cla, x):\n",
    "    k = cl.KernelPoly()\n",
    "    y = k.transform(x)\n",
    "    if(np.dot(cla.w, y) > 0):\n",
    "        return 1\n",
    "    return -1\n",
    "\n",
    "def predScores(df, listClassifiers ,movieId, criterion1, criterion2):\n",
    "    coord = [df[0].iloc[movieId][criterion1],df[0].iloc[movieId][criterion2]]\n",
    "    best = 0\n",
    "    bestId = 0\n",
    "    for i in range(3):\n",
    "        p = predScore(listClassifiers[i], coord)\n",
    "        if p > best :\n",
    "            best = p\n",
    "            bestId = 1\n",
    "    return bestId, best, movieId\n",
    "\n",
    "n=0\n",
    "best =-1\n",
    "while(best<= 0 and n < len(dfs[0])):\n",
    "    print(\"ok\")\n",
    "    (number, best, movieId) = predScores(dfs, [cla1, cla2, cla3], 9, 'note', 'original_language')\n",
    "    if best > 0:\n",
    "        print(movieId, best)\n",
    "        print(\"Le genre trouvé est \", ue.genres[ke_genres[number]],\"(\", ke_genres[number],\")\")\n",
    "        g = films[movieId]['genre_ids']\n",
    "        print(\"Les genres du films sont\")\n",
    "        for ge in g :\n",
    "            print(ue.genres[ge])\n",
    "    n+=1\n",
    "    \n",
    "    "
   ]
  },
  {
   "cell_type": "code",
   "execution_count": 263,
   "metadata": {},
   "outputs": [
    {
     "name": "stdout",
     "output_type": "stream",
     "text": [
      "1\n"
     ]
    }
   ],
   "source": [
    "print(n)"
   ]
  },
  {
   "cell_type": "code",
   "execution_count": null,
   "metadata": {},
   "outputs": [],
   "source": []
  }
 ],
 "metadata": {
  "kernelspec": {
   "display_name": "Python 3",
   "language": "python",
   "name": "python3"
  },
  "language_info": {
   "codemirror_mode": {
    "name": "ipython",
    "version": 3
   },
   "file_extension": ".py",
   "mimetype": "text/x-python",
   "name": "python",
   "nbconvert_exporter": "python",
   "pygments_lexer": "ipython3",
   "version": "3.7.1"
  }
 },
 "nbformat": 4,
 "nbformat_minor": 2
}
