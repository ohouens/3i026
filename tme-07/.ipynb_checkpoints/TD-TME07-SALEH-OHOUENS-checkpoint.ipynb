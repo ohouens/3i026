{
 "cells": [
  {
   "cell_type": "markdown",
   "metadata": {},
   "source": [
    "IA & Data science (3i026) -- 2018-2019\n",
    "--------\n",
    "*&copy; Equipe pédagogique: Manon Ansart, Vincent Guigue, Marie-Jeanne Lesot, Christophe Marsala, Olivier Schwander.*"
   ]
  },
  {
   "cell_type": "markdown",
   "metadata": {},
   "source": [
    "# TD-TME07: algorithmes d'apprentissage non-supervisé"
   ]
  },
  {
   "cell_type": "markdown",
   "metadata": {},
   "source": [
    "L'objectif de cette séance est d'implémenter des algorithmes d'apprentissage non-supervisé (cf. cours 8), en particulier, l'algorithme de classification hiérarchique."
   ]
  },
  {
   "cell_type": "markdown",
   "metadata": {},
   "source": [
    "<font size=\"+1\" color=\"RED\">**[Q]**</font> **Indiquer dans la boîte ci-dessous vos noms et prénoms :**"
   ]
  },
  {
   "cell_type": "markdown",
   "metadata": {},
   "source": [
    "Sarah SALEH, Ryan OHOUENS"
   ]
  },
  {
   "cell_type": "markdown",
   "metadata": {},
   "source": [
    "<font color=\"RED\" size=\"+1\">**[Q]**</font> **Renommer ce fichier ipython**\n",
    "\n",
    "Tout en haut de cette page, cliquer sur <tt>TD-TME07</tt> et rajouter à la suite de <tt>TD-TME07</tt> les noms des membres du binômes séparés par un tiret."
   ]
  },
  {
   "cell_type": "markdown",
   "metadata": {},
   "source": [
    "\n",
    "## Préparation"
   ]
  },
  {
   "cell_type": "markdown",
   "metadata": {},
   "source": [
    "L'archive récupérée avec ce fichier contient aussi le répertoire <code>data</code> qui contient les bases pour expérimenter vos fonctions."
   ]
  },
  {
   "cell_type": "markdown",
   "metadata": {},
   "source": [
    "Avant de commencer, exécuter le bloc suivant afin de pouvoir initialiser des variables utiles :"
   ]
  },
  {
   "cell_type": "code",
   "execution_count": 1,
   "metadata": {},
   "outputs": [],
   "source": [
    "import numpy as np\n",
    "import pandas as pd\n",
    "from datetime import datetime as dt\n",
    "import matplotlib.pyplot as plt\n",
    "%matplotlib inline  "
   ]
  },
  {
   "cell_type": "markdown",
   "metadata": {},
   "source": [
    "## Travail à réaliser"
   ]
  },
  {
   "cell_type": "markdown",
   "metadata": {},
   "source": [
    "Le travail à faire se décompose en 2 phases :\n",
    "- dans un premier temps, le travail porte sur la base d'apprentissage <code>base-2D.csv</code> qui contient des exemples décrits dans $R^2$. Ainsi, il est plus aisé de visualiser les résultats des fonctions à écrire ;\n",
    "- dans un second temps, les fonctions écrites dans la phase précédente sont à utiliser avec la base d'apprentissage \"base-Paris.csv\".\n",
    "\n",
    "**Attention**: vos fonctions doivent **dès leur création** pouvoir s'appliquer **quelle que soit la dimension** des exemples traités."
   ]
  },
  {
   "cell_type": "markdown",
   "metadata": {},
   "source": [
    "## Phase 1: implémentation des fonctions de base"
   ]
  },
  {
   "cell_type": "markdown",
   "metadata": {},
   "source": [
    "### Chargement du fichier \"base_2D.csv\""
   ]
  },
  {
   "cell_type": "markdown",
   "metadata": {},
   "source": [
    "La lecture d'un fichier CSV par <code>pd.read()</code> fournit un <code>DataFrame</code> que vous avez appris à manipuler dans les séances précédentes."
   ]
  },
  {
   "cell_type": "code",
   "execution_count": 2,
   "metadata": {},
   "outputs": [
    {
     "name": "stdout",
     "output_type": "stream",
     "text": [
      "Il y a 14 exemples dans la base.\n"
     ]
    }
   ],
   "source": [
    "# Par exemple:\n",
    "data_2D = pd.read_csv(\"data/base-2D.csv\")\n",
    "print(\"Il y a\", len(data_2D), \"exemples dans la base.\")"
   ]
  },
  {
   "cell_type": "code",
   "execution_count": 3,
   "metadata": {},
   "outputs": [],
   "source": [
    "def plot2DSet(set):\n",
    "    \"\"\" LabeledSet -> NoneType\n",
    "        Hypothèse: set est de dimension 2\n",
    "        affiche une représentation graphique du LabeledSet\n",
    "        remarque: l'ordre des labels dans set peut être quelconque\n",
    "    \"\"\"\n",
    "    S_pos = set.x[np.where(set.y == 1),:][0]      # tous les exemples de label +1\n",
    "    S_neg = set.x[np.where(set.y == -1),:][0]     # tous les exemples de label -1\n",
    "    plt.scatter(S_pos[:,0],S_pos[:,1],marker='o') # 'o' pour la classe +1\n",
    "    plt.scatter(S_neg[:,0],S_neg[:,1],marker='x') # 'x' pour la classe -1"
   ]
  },
  {
   "cell_type": "markdown",
   "metadata": {},
   "source": [
    "<font size=\"+1\" color=\"RED\">**[Q]**</font> Exécuter le code suivant qui permet de réaliser une représentation graphique de cette base d'apprentissage.\n"
   ]
  },
  {
   "cell_type": "code",
   "execution_count": 4,
   "metadata": {},
   "outputs": [
    {
     "name": "stderr",
     "output_type": "stream",
     "text": [
      "/anaconda3/lib/python3.7/site-packages/ipykernel_launcher.py:1: FutureWarning: Method .as_matrix will be removed in a future version. Use .values instead.\n",
      "  \"\"\"Entry point for launching an IPython kernel.\n"
     ]
    },
    {
     "data": {
      "text/plain": [
       "<matplotlib.collections.PathCollection at 0x11b500dd8>"
      ]
     },
     "execution_count": 4,
     "metadata": {},
     "output_type": "execute_result"
    },
    {
     "data": {
      "image/png": "[encoded data removed]",
      "text/plain": [
       "<Figure size 432x288 with 1 Axes>"
      ]
     },
     "metadata": {
      "needs_background": "light"
     },
     "output_type": "display_data"
    }
   ],
   "source": [
    "M_data2D= data_2D.as_matrix()      # conversion du DataFrame en matrice pour la commande suivante\n",
    "colonne_X= M_data2D[0: , 0]        # récupération des valeurs de la première colonne\n",
    "colonne_Y= M_data2D[0: , 1]        # récupération des valeurs de la deuxième colonne\n",
    "plt.scatter(colonne_X, colonne_Y)  # affichage des points"
   ]
  },
  {
   "cell_type": "markdown",
   "metadata": {},
   "source": [
    "## Fonctions préliminaires"
   ]
  },
  {
   "cell_type": "markdown",
   "metadata": {},
   "source": [
    "### Normalisation des données"
   ]
  },
  {
   "cell_type": "markdown",
   "metadata": {},
   "source": [
    "<font size=\"+1\" color=\"RED\">**[Q]**</font> Ecrire la fonction <code>normalisation</code> qui prend en argument un <code>DataFrame</code> et rend la matrice obtenue en normalisant chaque colonne de ce <code>DataFrame</code> en appliquant la normalisation vue en cours.\n"
   ]
  },
  {
   "cell_type": "code",
   "execution_count": 175,
   "metadata": {},
   "outputs": [],
   "source": [
    "def normalisation(data):\n",
    "    matrice = data.as_matrix()\n",
    "    if (len(matrice.shape) == 1) :\n",
    "        col = len(matrice)\n",
    "        m = [0 for i in range(col)]\n",
    "        maxi = max(matrice)\n",
    "        mini = min(matrice)\n",
    "        print(\"colonne  : \" + str(mini) + \" \" + str(maxi) )\n",
    "        for i in range(col):\n",
    "            m[i] = (float(matrice[i]) - mini) / (maxi - mini)\n",
    "        return m\n",
    "    else :\n",
    "        ligne, col = matrice.shape\n",
    "        m = np.zeros((ligne,col))\n",
    "        for i in range(col):\n",
    "            maxi = max(matrice[0:,i])\n",
    "            mini = min(matrice[0:,i])\n",
    "            colonne = matrice[0:,i]\n",
    "            print(\"colonne \" + str(i) + \" : \" + str(mini) + \" \" + str(maxi) )\n",
    "            for j in range(ligne):\n",
    "                m[j,i] = (colonne[j] - mini) / (maxi - mini)\n",
    "        return m\n",
    "\n",
    "\n",
    "        "
   ]
  },
  {
   "cell_type": "markdown",
   "metadata": {},
   "source": [
    "**[Q]** Normaliser les données de la base-2D et afficher leur représentation graphique: vérifier que le tracé est le même que celui obtenu avant la normalisation (aux valeurs des axes près)."
   ]
  },
  {
   "cell_type": "code",
   "execution_count": 100,
   "metadata": {},
   "outputs": [
    {
     "name": "stdout",
     "output_type": "stream",
     "text": [
      "colonne 0 : 0.0 7.0\n",
      "colonne 1 : 1.0 6.0\n"
     ]
    },
    {
     "name": "stderr",
     "output_type": "stream",
     "text": [
      "/anaconda3/lib/python3.7/site-packages/ipykernel_launcher.py:2: FutureWarning: Method .as_matrix will be removed in a future version. Use .values instead.\n",
      "  \n"
     ]
    },
    {
     "data": {
      "text/plain": [
       "<matplotlib.collections.PathCollection at 0x62021a898>"
      ]
     },
     "execution_count": 100,
     "metadata": {},
     "output_type": "execute_result"
    },
    {
     "data": {
      "image/png": "[encoded data removed]",
      "text/plain": [
       "<Figure size 432x288 with 1 Axes>"
      ]
     },
     "metadata": {
      "needs_background": "light"
     },
     "output_type": "display_data"
    }
   ],
   "source": [
    "d = normalisation(data_2D)\n",
    "d2D= d   # conversion du DataFrame en matrice pour la commande suivante\n",
    "colonne_X= d2D[0: , 0]        # récupération des valeurs de la première colonne\n",
    "colonne_Y= d2D[0: , 1]        # récupération des valeurs de la deuxième colonne\n",
    "plt.scatter(colonne_X, colonne_Y)"
   ]
  },
  {
   "cell_type": "markdown",
   "metadata": {},
   "source": [
    "### Distances entre exemples"
   ]
  },
  {
   "cell_type": "markdown",
   "metadata": {},
   "source": [
    "<font size=\"+1\" color=\"RED\">**[Q]**</font> Ecrire la fonction <code>dist_euclidienne_vect</code> qui prend en argument deux exemples sous la forme de vecteurs et rend leur distance euclidienne. "
   ]
  },
  {
   "cell_type": "code",
   "execution_count": 101,
   "metadata": {},
   "outputs": [],
   "source": [
    "import math\n",
    "\n",
    "def dist_euclidienne_vect(v1,v2):\n",
    "    s = 0\n",
    "    for i in range(len(v1)) :\n",
    "        s +=(v1[i] - v2[i])**2\n",
    "    return  math.sqrt(s)"
   ]
  },
  {
   "cell_type": "code",
   "execution_count": 102,
   "metadata": {},
   "outputs": [
    {
     "name": "stdout",
     "output_type": "stream",
     "text": [
      "v1 :  [0.  0.6] \n",
      "v2 :  [0.14285714 0.5       ]\n",
      "distance euclidienne entre v1 et v2 :  0.17437936593905287\n"
     ]
    }
   ],
   "source": [
    "# Exemple d'utilisation sur les 2 premiers exemples de la base:\n",
    "v1= d2D[0,:]\n",
    "v2= d2D[1,:]\n",
    "print(\"v1 : \",v1, \"\\nv2 : \",v2)\n",
    "\n",
    "print(\"distance euclidienne entre v1 et v2 : \", dist_euclidienne_vect(v1,v2))"
   ]
  },
  {
   "cell_type": "markdown",
   "metadata": {},
   "source": [
    "<font size=\"+1\" color=\"RED\">**[Q]**</font> Ecrire la fonction <code>dist_manhattan_vect</code> qui prend en argument deux exemples et rend leur distance de Manhattan. "
   ]
  },
  {
   "cell_type": "code",
   "execution_count": 103,
   "metadata": {},
   "outputs": [],
   "source": [
    "def dist_manhattan_vect(v1,v2):\n",
    "    s = 0 \n",
    "    for i in range(len(v1)):\n",
    "        s += abs(v1[i] - v2[i])\n",
    "    return s"
   ]
  },
  {
   "cell_type": "code",
   "execution_count": 104,
   "metadata": {
    "scrolled": true
   },
   "outputs": [
    {
     "name": "stdout",
     "output_type": "stream",
     "text": [
      "v1 :  [0.  0.6] \n",
      "v2 :  [0.14285714 0.5       ]\n",
      "distance de Manhattan entre v1 et v2 :  0.24285714285714283\n"
     ]
    }
   ],
   "source": [
    "# Exemple d'utilisation sur les 2 premiers exemples de la base:\n",
    "v1= d2D[0,:]\n",
    "v2= d2D[1,:]\n",
    "print(\"v1 : \",v1, \"\\nv2 : \",v2)\n",
    "\n",
    "print(\"distance de Manhattan entre v1 et v2 : \", dist_manhattan_vect(v1,v2))"
   ]
  },
  {
   "cell_type": "markdown",
   "metadata": {},
   "source": [
    "<font size=\"+1\" color=\"RED\">**[Q]**</font> Ecrire la fonction <code>dist_vect</code> qui prend en argument une chaîne de caractères (soit la chaîne \"euclidienne\", soit \"manhattan\") ainsi que deux vecteurs et qui rend leur distance soit euclidienne, soit de Manhattan selon le cas."
   ]
  },
  {
   "cell_type": "code",
   "execution_count": 105,
   "metadata": {},
   "outputs": [],
   "source": [
    "def dist_vect(chaine, v1, v2) :\n",
    "    if chaine == \"euclidienne\":\n",
    "        return dist_euclidienne_vect(v1,v2)\n",
    "    return dist_manhattan_vect(v1,v2)"
   ]
  },
  {
   "cell_type": "code",
   "execution_count": 106,
   "metadata": {
    "scrolled": true
   },
   "outputs": [
    {
     "name": "stdout",
     "output_type": "stream",
     "text": [
      "v1 :  [0.  0.6] \n",
      "v2 :  [0.14285714 0.5       ]\n",
      "distance  euclidienne  entre v1 et v2 :\t 0.17437936593905287\n",
      "distance  manhattan  entre v1 et v2 :\t 0.24285714285714283\n"
     ]
    }
   ],
   "source": [
    "v1= d2D[0,:]\n",
    "v2= d2D[1,:]\n",
    "print(\"v1 : \",v1, \"\\nv2 : \",v2)\n",
    "\n",
    "for nom in [\"euclidienne\", \"manhattan\"] :\n",
    "    print(\"distance \", nom, \" entre v1 et v2 :\\t\", dist_vect(nom,v1,v2))\n"
   ]
  },
  {
   "cell_type": "markdown",
   "metadata": {},
   "source": [
    "### Calcul de centroides"
   ]
  },
  {
   "cell_type": "markdown",
   "metadata": {},
   "source": [
    "<font size=\"+1\" color=\"RED\">**[Q]**</font> Ecrire la fonction <code>centroide</code> qui, étant donné une matrice représentant plusieurs exemples rend le centroide (calculé en faisant la moyenne de chaque composante des vecteurs de la matrice).\n",
    "On fait l'hypothèse que la matrice contient toujours au moins un exemple."
   ]
  },
  {
   "cell_type": "code",
   "execution_count": 107,
   "metadata": {},
   "outputs": [],
   "source": [
    "def centroide(matrice) :\n",
    "    if (len(matrice.shape) == 1) :\n",
    "        return matrice\n",
    "    return np.mean(matrice,axis=0)"
   ]
  },
  {
   "cell_type": "code",
   "execution_count": 108,
   "metadata": {},
   "outputs": [
    {
     "data": {
      "text/plain": [
       "array([[0.        , 0.6       ],\n",
       "       [0.14285714, 0.5       ],\n",
       "       [0.14285714, 0.        ],\n",
       "       [0.28571429, 0.        ],\n",
       "       [0.28571429, 0.2       ],\n",
       "       [0.57142857, 0.6       ],\n",
       "       [0.57142857, 0.8       ],\n",
       "       [0.57142857, 1.        ],\n",
       "       [0.64285714, 0.        ],\n",
       "       [0.64285714, 1.        ],\n",
       "       [0.71428571, 0.        ],\n",
       "       [0.71428571, 0.8       ],\n",
       "       [0.85714286, 0.2       ],\n",
       "       [1.        , 0.6       ]])"
      ]
     },
     "execution_count": 108,
     "metadata": {},
     "output_type": "execute_result"
    }
   ],
   "source": [
    "d2D"
   ]
  },
  {
   "cell_type": "code",
   "execution_count": 109,
   "metadata": {},
   "outputs": [
    {
     "data": {
      "text/plain": [
       "array([0.51020408, 0.45      ])"
      ]
     },
     "execution_count": 109,
     "metadata": {},
     "output_type": "execute_result"
    }
   ],
   "source": [
    "centroide(d2D)"
   ]
  },
  {
   "cell_type": "markdown",
   "metadata": {},
   "source": [
    "### Distances entre groupes d'exemples\n"
   ]
  },
  {
   "cell_type": "markdown",
   "metadata": {},
   "source": [
    "La distance entre deux groupes d'exemples correspond à la distance entre leurs centroïdes (approche \"centroid linkage\").\n",
    "\n",
    "<font size=\"+1\" color=\"RED\">**[Q]**</font> Ecrire la fonction <code>dist_groupes</code> qui prend en argument une chaîne de caractères (soit \"euclidienne\", soit \"manhattan\") ainsi que deux groupes de vecteurs et qui rend leur distance soit euclidienne, soit de Manhattan selon le cas.\n"
   ]
  },
  {
   "cell_type": "code",
   "execution_count": 110,
   "metadata": {},
   "outputs": [],
   "source": [
    "def dist_groupes(chaine, g1, g2):\n",
    "    c1 = centroide(g1)\n",
    "    c2= centroide(g2)\n",
    "    if chaine == \"euclidienne\" :\n",
    "        return dist_euclidienne_vect(c1,c2)\n",
    "    return dist_manhattan_vect(c1,c2)"
   ]
  },
  {
   "cell_type": "code",
   "execution_count": 111,
   "metadata": {},
   "outputs": [
    {
     "data": {
      "text/plain": [
       "0.5863454787138408"
      ]
     },
     "execution_count": 111,
     "metadata": {},
     "output_type": "execute_result"
    }
   ],
   "source": [
    "# par exemple :\n",
    "dist_groupes(\"euclidienne\", d2D[0:4], d2D[5:13])"
   ]
  },
  {
   "cell_type": "markdown",
   "metadata": {},
   "source": [
    "## L'algorithme de classification hiérarchique"
   ]
  },
  {
   "cell_type": "markdown",
   "metadata": {},
   "source": [
    "Dans la suite de cet exercice, une partition (qui est un groupe de clusters) est représentée par une structure de données de type dictionnaire (<code>dict()</code> en python) :\n",
    "- la clé est un numéro de cluster (sous la forme d'un entier naturel) ;\n",
    "- la valeur associée est une matrice contenant les exemples qui sont dans le cluster correspondant.\n",
    "\n",
    "On appelle \"partition\" un tel dictionnaire.\n"
   ]
  },
  {
   "cell_type": "markdown",
   "metadata": {},
   "source": [
    "<font size=\"+1\" color=\"RED\">**[Q]**</font> Ecrire la fonction <code>initialise</code> qui, étant donné une matrice M d'exemples, rend un dictionnaire contenant autant d'entrées que d'exemples dans M. Dans ce dictionnaire, une clé est numéro d'exemple (un entier compris entre 0 et n-1, le nombre d'exemples) et la valeur associée est une matrice d'exemples contenant un exemple de M."
   ]
  },
  {
   "cell_type": "code",
   "execution_count": 112,
   "metadata": {},
   "outputs": [],
   "source": [
    "def initialise(matrice):\n",
    "    d = {}\n",
    "    for i in range(len(matrice)) :\n",
    "        d[i] = matrice[i]\n",
    "    return d"
   ]
  },
  {
   "cell_type": "code",
   "execution_count": 113,
   "metadata": {},
   "outputs": [
    {
     "data": {
      "text/plain": [
       "{0: array([0. , 0.6]),\n",
       " 1: array([0.14285714, 0.5       ]),\n",
       " 2: array([0.14285714, 0.        ]),\n",
       " 3: array([0.28571429, 0.        ]),\n",
       " 4: array([0.28571429, 0.2       ]),\n",
       " 5: array([0.57142857, 0.6       ]),\n",
       " 6: array([0.57142857, 0.8       ]),\n",
       " 7: array([0.57142857, 1.        ]),\n",
       " 8: array([0.64285714, 0.        ]),\n",
       " 9: array([0.64285714, 1.        ]),\n",
       " 10: array([0.71428571, 0.        ]),\n",
       " 11: array([0.71428571, 0.8       ]),\n",
       " 12: array([0.85714286, 0.2       ]),\n",
       " 13: array([1. , 0.6])}"
      ]
     },
     "execution_count": 113,
     "metadata": {},
     "output_type": "execute_result"
    }
   ],
   "source": [
    "# Par exemple:\n",
    "depart = initialise(d2D)\n",
    "# cette partition contient autant de clusters que d'exemples: on a un cluster par exemple.\n",
    "depart "
   ]
  },
  {
   "cell_type": "markdown",
   "metadata": {},
   "source": [
    "### Variante 1: chaînage par centroides"
   ]
  },
  {
   "cell_type": "markdown",
   "metadata": {},
   "source": [
    "On souhaite implémenter ici l'algorithme de classification hiérarchique basé sur l'utilisation d'un chaînage par centroides (approche \"centroid linkage\").\n",
    "\n",
    "On commence par implémenter une fonction qui, étant donné une partition, permet de regrouper les 2 clusters les plus proches. Ces 2 clusters sont alors fusionnés pour n'en former qu'un seul qui est ajouté à la partition, alors que les 2 clusters initiaux sont retirés de la partition.\n",
    "On fait l'hypothèse que la partition initiale contient au moins 2 groupes.\n",
    "\n",
    "<font size=\"+1\" color=\"RED\">**[Q]**</font> Ecrire la fonction <code>fusionne</code> qui prend en argument un nom de distance (\"euclidienne\" ou \"manhattan\") et une partition C0 et qui rend 4 valeurs :\n",
    "- la partition C1 obtenue après fusion des 2 clusters les plus proches ;\n",
    "- les clés des 2 clusters de C0 qui ont été fusionnés et qui ont donc aussi été retirés de C1 ;\n",
    "- la distance qui séparait ces 2 clusters, calculée selon le nom de distance donné."
   ]
  },
  {
   "cell_type": "code",
   "execution_count": 114,
   "metadata": {},
   "outputs": [],
   "source": [
    "def fusionne(chaine, partition) :\n",
    "    ke = list(partition.keys())\n",
    "    mini = dist_groupes(chaine, partition[ke[0]], partition[ke[1]])\n",
    "    cle1 = ke[0]\n",
    "    cle2 = ke[1]\n",
    "    for i in ke :\n",
    "        for j in ke :\n",
    "            if i != j :\n",
    "                d = dist_groupes(chaine,partition[i], partition[j])\n",
    "                if mini > d :\n",
    "                    mini = d\n",
    "                    cle1 = i\n",
    "                    cle2 = j\n",
    "    partition[i+1] = np.vstack([partition[cle1],partition[cle2]])\n",
    "    del partition[cle1]\n",
    "    del partition[cle2]\n",
    "    \n",
    "    \n",
    "    print(\"Fusion de \" + str(cle1) + \" et \" + str(cle2) + \" pour une distance de \" + str(mini))\n",
    "    return (partition, cle1, cle2, mini)"
   ]
  },
  {
   "cell_type": "code",
   "execution_count": 115,
   "metadata": {},
   "outputs": [
    {
     "data": {
      "text/plain": [
       "array([[1, 2],\n",
       "       [1, 2]])"
      ]
     },
     "execution_count": 115,
     "metadata": {},
     "output_type": "execute_result"
    }
   ],
   "source": [
    "np.array([[1,2] , [1,2]])"
   ]
  },
  {
   "cell_type": "code",
   "execution_count": 116,
   "metadata": {},
   "outputs": [
    {
     "name": "stdout",
     "output_type": "stream",
     "text": [
      "Fusion de 8 et 10 pour une distance de 0.0714285714285714\n"
     ]
    },
    {
     "data": {
      "text/plain": [
       "({0: array([0. , 0.6]),\n",
       "  1: array([0.14285714, 0.5       ]),\n",
       "  2: array([0.14285714, 0.        ]),\n",
       "  3: array([0.28571429, 0.        ]),\n",
       "  4: array([0.28571429, 0.2       ]),\n",
       "  5: array([0.57142857, 0.6       ]),\n",
       "  6: array([0.57142857, 0.8       ]),\n",
       "  7: array([0.57142857, 1.        ]),\n",
       "  9: array([0.64285714, 1.        ]),\n",
       "  11: array([0.71428571, 0.8       ]),\n",
       "  12: array([0.85714286, 0.2       ]),\n",
       "  13: array([1. , 0.6]),\n",
       "  14: array([[0.64285714, 0.        ],\n",
       "         [0.71428571, 0.        ]])},\n",
       " 8,\n",
       " 10,\n",
       " 0.0714285714285714)"
      ]
     },
     "execution_count": 116,
     "metadata": {},
     "output_type": "execute_result"
    }
   ],
   "source": [
    "# Par exemple:\n",
    "depart = initialise(d2D)\n",
    "fusionne(\"euclidienne\",depart)  "
   ]
  },
  {
   "cell_type": "markdown",
   "metadata": {},
   "source": [
    "### Construction de dendrogramme"
   ]
  },
  {
   "cell_type": "markdown",
   "metadata": {},
   "source": [
    "Le dendrogramme permet de visualiser les fusions de clusters réalisés tout au long du déroulement de l'algorithme de clustering hiérarchique.\n",
    "\n",
    "Pour construire un dendrogramme, il est nécessaire de construire la matrice suivante (que l'on appelle <code>M_Fusion</code> dans ce qui suit): pour chaque ligne, cette matrice contient 4 colonnes :\n",
    "- les 2 premières colonnes contiennent les clés des groupes fusionnés ;\n",
    "- la 3e colonne contient la distance qui séparait ces 2 groupes ;\n",
    "- la 4e colonne contient la valeur 2 (c'est une valeur sans importance pour nous).\n",
    " "
   ]
  },
  {
   "cell_type": "code",
   "execution_count": 117,
   "metadata": {},
   "outputs": [
    {
     "name": "stdout",
     "output_type": "stream",
     "text": [
      "Fusion de 8 et 10 pour une distance de 0.0714285714285714\n",
      "Fusion de 7 et 9 pour une distance de 0.07142857142857151\n",
      "Fusion de 2 et 3 pour une distance de 0.14285714285714285\n",
      "Fusion de 6 et 11 pour une distance de 0.1428571428571429\n",
      "Fusion de 0 et 1 pour une distance de 0.17437936593905287\n",
      "Fusion de 15 et 17 pour une distance de 0.20316375219039837\n",
      "Fusion de 4 et 16 pour une distance de 0.21237241067597867\n",
      "Fusion de 12 et 14 pour une distance de 0.26811891970176366\n",
      "Fusion de 5 et 19 pour une distance de 0.3047456282855976\n",
      "Fusion de 13 et 22 pour une distance de 0.4542857142857144\n",
      "Fusion de 20 et 21 pour une distance de 0.5000000000000001\n",
      "Fusion de 18 et 24 pour une distance de 0.638139657302555\n",
      "Fusion de 23 et 25 pour une distance de 0.6796842379114776\n",
      "\n",
      "La matrice M_Fusion obtenue :\n",
      " [[ 8.         10.          0.07142857  2.        ]\n",
      " [ 7.          9.          0.07142857  2.        ]\n",
      " [ 2.          3.          0.14285714  2.        ]\n",
      " [ 6.         11.          0.14285714  2.        ]\n",
      " [ 0.          1.          0.17437937  2.        ]\n",
      " [15.         17.          0.20316375  2.        ]\n",
      " [ 4.         16.          0.21237241  2.        ]\n",
      " [12.         14.          0.26811892  2.        ]\n",
      " [ 5.         19.          0.30474563  2.        ]\n",
      " [13.         22.          0.45428571  2.        ]\n",
      " [20.         21.          0.5         2.        ]\n",
      " [18.         24.          0.63813966  2.        ]\n",
      " [23.         25.          0.67968424  2.        ]]\n"
     ]
    }
   ],
   "source": [
    "# Exemple de construction de la matrice M_Fusion en utilisant les fonctions écrites\n",
    "# dans les questions précédentes\n",
    "\n",
    "# initialisation \n",
    "courant = initialise(d2D)       # clustering courant, au départ:s données data_2D normalisées\n",
    "M_Fusion = []                        # initialisation\n",
    "while len(courant) >=2:              # tant qu'il y a 2 groupes à fusionner\n",
    "    new,k1,k2,dist_min = fusionne('euclidienne',courant)\n",
    "    if(len(M_Fusion)==0):\n",
    "        M_Fusion = [k1,k2,dist_min,2]\n",
    "    else:\n",
    "        M_Fusion = np.vstack( [M_Fusion,[k1,k2,dist_min,2] ])\n",
    "    courant = new\n",
    "    \n",
    "print('\\nLa matrice M_Fusion obtenue :\\n',M_Fusion)"
   ]
  },
  {
   "cell_type": "markdown",
   "metadata": {},
   "source": [
    "Une fois la matrice <code>M_Fusion</code> construite, le tracé d'un histogramme s'effectue avec le code suivant :"
   ]
  },
  {
   "cell_type": "code",
   "execution_count": 118,
   "metadata": {},
   "outputs": [
    {
     "data": {
      "image/png": "[encoded data removed]",
      "text/plain": [
       "<Figure size 2160x1080 with 1 Axes>"
      ]
     },
     "metadata": {
      "needs_background": "light"
     },
     "output_type": "display_data"
    }
   ],
   "source": [
    "import scipy.cluster.hierarchy\n",
    "\n",
    "# Paramètre de la fenêtre d'affichage: \n",
    "plt.figure(figsize=(30, 15)) # taille : largeur x hauteur\n",
    "plt.title('Dendrogramme', fontsize=25)    \n",
    "plt.xlabel('Exemple', fontsize=25)\n",
    "plt.ylabel('Distance', fontsize=25)\n",
    "\n",
    "# Construction du dendrogramme à partir de la matrice M_Fusion:\n",
    "scipy.cluster.hierarchy.dendrogram(\n",
    "    M_Fusion,\n",
    "    leaf_font_size=18.,  # taille des caractères de l'axe des X\n",
    ")\n",
    "\n",
    "# Affichage du résultat obtenu:\n",
    "plt.show()"
   ]
  },
  {
   "cell_type": "markdown",
   "metadata": {},
   "source": [
    "<font size=\"+1\" color=\"RED\">**[Q]**</font> Ecrire la fonction <code>clustering_hierarchique</code> qui, pour une base d'apprentissage et un nom de distance donné, permet de réaliser un clustering hiérarchique et de tracer le dendrogramme obtenu.\n",
    "\n",
    "La fonction rend la matrice <code>M_Fusion</code> construite."
   ]
  },
  {
   "cell_type": "code",
   "execution_count": 119,
   "metadata": {},
   "outputs": [
    {
     "name": "stderr",
     "output_type": "stream",
     "text": [
      "/anaconda3/lib/python3.7/site-packages/ipykernel_launcher.py:2: FutureWarning: Method .as_matrix will be removed in a future version. Use .values instead.\n",
      "  \n"
     ]
    },
    {
     "name": "stdout",
     "output_type": "stream",
     "text": [
      "colonne 0 : 0.0 7.0\n",
      "colonne 1 : 1.0 6.0\n",
      "Fusion de 8 et 10 pour une distance de 0.0714285714285714\n",
      "Fusion de 7 et 9 pour une distance de 0.07142857142857151\n",
      "Fusion de 2 et 3 pour une distance de 0.14285714285714285\n",
      "Fusion de 6 et 11 pour une distance de 0.1428571428571429\n",
      "Fusion de 0 et 1 pour une distance de 0.17437936593905287\n",
      "Fusion de 15 et 17 pour une distance de 0.20316375219039837\n",
      "Fusion de 4 et 16 pour une distance de 0.21237241067597867\n",
      "Fusion de 12 et 14 pour une distance de 0.26811891970176366\n",
      "Fusion de 5 et 19 pour une distance de 0.3047456282855976\n",
      "Fusion de 13 et 22 pour une distance de 0.4542857142857144\n",
      "Fusion de 20 et 21 pour une distance de 0.5000000000000001\n",
      "Fusion de 18 et 24 pour une distance de 0.638139657302555\n",
      "Fusion de 23 et 25 pour une distance de 0.6796842379114776\n",
      "\n",
      "La matrice M_Fusion obtenue :\n",
      " [[ 8.         10.          0.07142857  2.        ]\n",
      " [ 7.          9.          0.07142857  2.        ]\n",
      " [ 2.          3.          0.14285714  2.        ]\n",
      " [ 6.         11.          0.14285714  2.        ]\n",
      " [ 0.          1.          0.17437937  2.        ]\n",
      " [15.         17.          0.20316375  2.        ]\n",
      " [ 4.         16.          0.21237241  2.        ]\n",
      " [12.         14.          0.26811892  2.        ]\n",
      " [ 5.         19.          0.30474563  2.        ]\n",
      " [13.         22.          0.45428571  2.        ]\n",
      " [20.         21.          0.5         2.        ]\n",
      " [18.         24.          0.63813966  2.        ]\n",
      " [23.         25.          0.67968424  2.        ]]\n"
     ]
    },
    {
     "data": {
      "image/png": "[encoded data removed]",
      "text/plain": [
       "<Figure size 2160x1080 with 1 Axes>"
      ]
     },
     "metadata": {
      "needs_background": "light"
     },
     "output_type": "display_data"
    }
   ],
   "source": [
    "def clustering_hierarchique(data, chaine) :\n",
    "    matrice = normalisation(data)\n",
    "    # initialisation \n",
    "    courant = initialise(matrice)       # clustering courant, au départ:s données data_2D normalisées\n",
    "    M_Fusion = []                        # initialisation\n",
    "    while len(courant) >=2:              # tant qu'il y a 2 groupes à fusionner\n",
    "        new,k1,k2,dist_min = fusionne(chaine,courant)\n",
    "        if(len(M_Fusion)==0):\n",
    "            M_Fusion = [k1,k2,dist_min,2]\n",
    "        else:\n",
    "            M_Fusion = np.vstack( [M_Fusion,[k1,k2,dist_min,2] ])\n",
    "        courant = new\n",
    "        \n",
    "    return M_Fusion\n",
    "\n",
    "\n",
    "M_Fusion = clustering_hierarchique(data_2D, \"euclidienne\")\n",
    "print('\\nLa matrice M_Fusion obtenue :\\n',M_Fusion)\n",
    "\n",
    "# Paramètre de la fenêtre d'affichage: \n",
    "plt.figure(figsize=(30, 15)) # taille : largeur x hauteur\n",
    "plt.title('Dendrogramme', fontsize=25)    \n",
    "plt.xlabel('Exemple', fontsize=25)\n",
    "plt.ylabel('Distance', fontsize=25)\n",
    "\n",
    "# Construction du dendrogramme à partir de la matrice M_Fusion:\n",
    "scipy.cluster.hierarchy.dendrogram(\n",
    "    M_Fusion,\n",
    "    leaf_font_size=18.,  # taille des caractères de l'axe des X\n",
    ")\n",
    "\n",
    "# Affichage du résultat obtenu:\n",
    "plt.show()\n",
    "    "
   ]
  },
  {
   "cell_type": "markdown",
   "metadata": {},
   "source": [
    "### Comparaison de distances"
   ]
  },
  {
   "cell_type": "markdown",
   "metadata": {},
   "source": [
    "<font size=\"+1\" color=\"RED\">**[Q]**</font> Réaliser un clustering en utilisant la distance de Manhattan. Comparer les résultats obtenus avec cette distance avec ceux obtenus avec la distance euclidienne. Est-ce que l'utilisation de cette distance vous semble pertinent?"
   ]
  },
  {
   "cell_type": "code",
   "execution_count": 120,
   "metadata": {},
   "outputs": [
    {
     "name": "stderr",
     "output_type": "stream",
     "text": [
      "/anaconda3/lib/python3.7/site-packages/ipykernel_launcher.py:2: FutureWarning: Method .as_matrix will be removed in a future version. Use .values instead.\n",
      "  \n"
     ]
    },
    {
     "name": "stdout",
     "output_type": "stream",
     "text": [
      "colonne 0 : 0.0 7.0\n",
      "colonne 1 : 1.0 6.0\n",
      "Fusion de 8 et 10 pour une distance de 0.0714285714285714\n",
      "Fusion de 7 et 9 pour une distance de 0.07142857142857151\n",
      "Fusion de 2 et 3 pour une distance de 0.14285714285714285\n",
      "Fusion de 6 et 11 pour une distance de 0.1428571428571429\n",
      "Fusion de 15 et 17 pour une distance de 0.23571428571428554\n",
      "Fusion de 0 et 1 pour une distance de 0.24285714285714283\n",
      "Fusion de 4 et 16 pour une distance de 0.27142857142857146\n",
      "Fusion de 5 et 18 pour une distance de 0.35357142857142854\n",
      "Fusion de 12 et 14 pour une distance de 0.3785714285714285\n",
      "Fusion de 20 et 22 pour une distance de 0.5000000000000001\n",
      "Fusion de 13 et 21 pour une distance de 0.6257142857142859\n",
      "Fusion de 19 et 24 pour une distance de 0.857142857142857\n",
      "Fusion de 23 et 25 pour une distance de 0.7095238095238097\n",
      "\n",
      "La matrice M_Fusion obtenue :\n",
      " [[ 8.         10.          0.07142857  2.        ]\n",
      " [ 7.          9.          0.07142857  2.        ]\n",
      " [ 2.          3.          0.14285714  2.        ]\n",
      " [ 6.         11.          0.14285714  2.        ]\n",
      " [15.         17.          0.23571429  2.        ]\n",
      " [ 0.          1.          0.24285714  2.        ]\n",
      " [ 4.         16.          0.27142857  2.        ]\n",
      " [ 5.         18.          0.35357143  2.        ]\n",
      " [12.         14.          0.37857143  2.        ]\n",
      " [20.         22.          0.5         2.        ]\n",
      " [13.         21.          0.62571429  2.        ]\n",
      " [19.         24.          0.85714286  2.        ]\n",
      " [23.         25.          0.70952381  2.        ]]\n"
     ]
    },
    {
     "data": {
      "image/png": "[encoded data removed]",
      "text/plain": [
       "<Figure size 2160x1080 with 1 Axes>"
      ]
     },
     "metadata": {
      "needs_background": "light"
     },
     "output_type": "display_data"
    }
   ],
   "source": [
    "M_Fusion = clustering_hierarchique(data_2D, \"manhattan\")\n",
    "print('\\nLa matrice M_Fusion obtenue :\\n',M_Fusion)\n",
    "\n",
    "# Paramètre de la fenêtre d'affichage: \n",
    "plt.figure(figsize=(30, 15)) # taille : largeur x hauteur\n",
    "plt.title('Dendrogramme', fontsize=25)    \n",
    "plt.xlabel('Exemple', fontsize=25)\n",
    "plt.ylabel('Distance', fontsize=25)\n",
    "\n",
    "# Construction du dendrogramme à partir de la matrice M_Fusion:\n",
    "scipy.cluster.hierarchy.dendrogram(\n",
    "    M_Fusion,\n",
    "    leaf_font_size=18.,  # taille des caractères de l'axe des X\n",
    ")\n",
    "\n",
    "# Affichage du résultat obtenu:\n",
    "plt.show()"
   ]
  },
  {
   "cell_type": "raw",
   "metadata": {},
   "source": [
    "L'utilisation de cette distance ne semble pas coinvainte, puisque le dendogramme obtenu avec la distance euclidienne utilise des distances minimales au bout de la 7ème itération par rapport à celui obtenu ici.\n",
    "De plus, quand on utilise la distance de manhattan le dendogramme n'utilise pas la distance minimale qu'il devrait utiliser normalement, cela est sûrement dû à un défaut de notre part dans l'implémentation de l'algorithme."
   ]
  },
  {
   "cell_type": "markdown",
   "metadata": {},
   "source": [
    "### Variante 2: chaînage complet (maximum des distances)"
   ]
  },
  {
   "cell_type": "markdown",
   "metadata": {},
   "source": [
    "On considère maintenant l'approche \"complete linkage\". \n",
    "\n",
    "<font size=\"+1\" color=\"RED\">**[Q]**</font> Ecrire la fonction <code>dist_max_groupes</code> qui, étant donné deux clusters, calcule leur distance ainsi définie. Cette fonction prend 3 arguments: un nom de distance à utiliser (\"euclidienne\" ou \"manhattan\") et deux clusters.\n",
    "On fait l'hypothèse que les 2 clusters contiennent au moins un exemple.\n"
   ]
  },
  {
   "cell_type": "code",
   "execution_count": 121,
   "metadata": {},
   "outputs": [],
   "source": [
    "def dist_max_groupes(chaine, c1, c2):\n",
    "    if(len(c1.shape) == 1):\n",
    "            if(len(c2.shape) == 1):\n",
    "                return dist_vect(chaine,c1,c2)\n",
    "            else :\n",
    "                maxi = dist_vect(chaine, c1, c2[0])\n",
    "                for j in range(len(c2)):\n",
    "                    m = dist_vect(chaine, c1, c2[j])\n",
    "                    if (m > maxi) :\n",
    "                        maxi = m\n",
    "                return maxi\n",
    "    else :\n",
    "        if(len(c2.shape) == 1) :\n",
    "                maxi = dist_vect(chaine, c1[0], c2)\n",
    "                for j in range(len(c1)):\n",
    "                    m = dist_vect(chaine, c1[j], c2)\n",
    "                    if (m > maxi) :\n",
    "                        maxi = m\n",
    "                return maxi\n",
    "        else :\n",
    "            maxi = dist_vect(chaine, c1[0], c2[0])\n",
    "            for i in range(len(c1)):\n",
    "                for j in range(len(c2)) :\n",
    "                    m = dist_vect(chaine, c1[i], c2[j])\n",
    "                    if (m > maxi) :\n",
    "                        maxi = m\n",
    "            return maxi "
   ]
  },
  {
   "cell_type": "code",
   "execution_count": 122,
   "metadata": {},
   "outputs": [
    {
     "data": {
      "text/plain": [
       "1.118033988749895"
      ]
     },
     "execution_count": 122,
     "metadata": {},
     "output_type": "execute_result"
    }
   ],
   "source": [
    "dist_max_groupes(\"euclidienne\", d2D[0:5], d2D[6:13])\n",
    "\n",
    "\n"
   ]
  },
  {
   "cell_type": "markdown",
   "metadata": {},
   "source": [
    "La distance <code>dist_max_groupes</code> est utilisée lors d'un clustering hiérarchique basé sur un chaînage complet.\n",
    "\n",
    "<font size=\"+1\" color=\"RED\">**[Q]**</font> Implémenter une variante du clustering hiérarchique qui utilise cette distance."
   ]
  },
  {
   "cell_type": "code",
   "execution_count": 123,
   "metadata": {},
   "outputs": [
    {
     "name": "stderr",
     "output_type": "stream",
     "text": [
      "/anaconda3/lib/python3.7/site-packages/ipykernel_launcher.py:2: FutureWarning: Method .as_matrix will be removed in a future version. Use .values instead.\n",
      "  \n"
     ]
    },
    {
     "name": "stdout",
     "output_type": "stream",
     "text": [
      "colonne 0 : 0.0 7.0\n",
      "colonne 1 : 1.0 6.0\n",
      "Fusion de 2 et 9 pour une distance de 1.118033988749895\n",
      "Fusion de 7 et 14 pour une distance de 1.0879675865519869\n",
      "Fusion de 3 et 15 pour une distance de 1.0618620533798933\n",
      "Fusion de 13 et 16 pour une distance de 1.0462761956343176\n",
      "Fusion de 10 et 17 pour une distance de 1.0101525445522108\n",
      "Fusion de 8 et 18 pour une distance de 1.0025477748298715\n",
      "Fusion de 0 et 19 pour une distance de 1.0\n",
      "Fusion de 11 et 20 pour une distance de 0.9831228876620145\n",
      "Fusion de 12 et 21 pour une distance de 0.945882591842677\n",
      "Fusion de 6 et 22 pour une distance de 0.9075645813867766\n",
      "Fusion de 4 et 23 pour une distance de 0.8760998917978265\n",
      "Fusion de 1 et 24 pour une distance de 0.8629564748879405\n",
      "Fusion de 5 et 25 pour une distance de 0.7373421657465108\n",
      "\n",
      "La matrice M_Fusion obtenue :\n",
      " [[ 2.          9.          1.11803399  2.        ]\n",
      " [ 7.         14.          1.08796759  2.        ]\n",
      " [ 3.         15.          1.06186205  2.        ]\n",
      " [13.         16.          1.0462762   2.        ]\n",
      " [10.         17.          1.01015254  2.        ]\n",
      " [ 8.         18.          1.00254777  2.        ]\n",
      " [ 0.         19.          1.          2.        ]\n",
      " [11.         20.          0.98312289  2.        ]\n",
      " [12.         21.          0.94588259  2.        ]\n",
      " [ 6.         22.          0.90756458  2.        ]\n",
      " [ 4.         23.          0.87609989  2.        ]\n",
      " [ 1.         24.          0.86295647  2.        ]\n",
      " [ 5.         25.          0.73734217  2.        ]]\n"
     ]
    },
    {
     "data": {
      "image/png": "[encoded data removed]",
      "text/plain": [
       "<Figure size 2160x1080 with 1 Axes>"
      ]
     },
     "metadata": {
      "needs_background": "light"
     },
     "output_type": "display_data"
    }
   ],
   "source": [
    "def fusionne_max(chaine, partition) :\n",
    "    ke = list(partition.keys())\n",
    "    maxi = dist_max_groupes(chaine, partition[ke[0]], partition[ke[1]])\n",
    "    cle1 = ke[0]\n",
    "    cle2 = ke[1]\n",
    "    for i in ke :\n",
    "        for j in ke :\n",
    "            if i != j :\n",
    "                d = dist_max_groupes(chaine,partition[i], partition[j])\n",
    "                if maxi < d :\n",
    "                    maxi = d\n",
    "                    cle1 = i\n",
    "                    cle2 = j\n",
    "    partition[i+1] = np.vstack([partition[cle1],partition[cle2]])\n",
    "    del partition[cle1]\n",
    "    del partition[cle2]\n",
    "    \n",
    "    \n",
    "    print(\"Fusion de \" + str(cle1) + \" et \" + str(cle2) + \" pour une distance de \" + str(maxi))\n",
    "    return (partition, cle1, cle2, maxi)\n",
    "\n",
    "\n",
    "\n",
    "\n",
    "def clustering_hierarchique_chainage_complet(data,chaine):\n",
    "    matrice = normalisation(data)\n",
    "    # initialisation \n",
    "    courant = initialise(matrice)       # clustering courant, au départ:s données data_2D normalisées\n",
    "    M_Fusion = []                        # initialisation\n",
    "    while len(courant) >=2:              # tant qu'il y a 2 groupes à fusionner\n",
    "        new,k1,k2,dist_max = fusionne_max(chaine,courant)\n",
    "        if(len(M_Fusion)==0):\n",
    "            M_Fusion = [k1,k2,dist_max,2]\n",
    "        else:\n",
    "            M_Fusion = np.vstack( [M_Fusion,[k1,k2,dist_max,2] ])\n",
    "        courant = new\n",
    "        \n",
    "    return M_Fusion\n",
    "\n",
    "\n",
    "M_Fusion = clustering_hierarchique_chainage_complet(data_2D, \"euclidienne\")\n",
    "print('\\nLa matrice M_Fusion obtenue :\\n',M_Fusion)\n",
    "\n",
    "# Paramètre de la fenêtre d'affichage: \n",
    "plt.figure(figsize=(30, 15)) # taille : largeur x hauteur\n",
    "plt.title('Dendrogramme', fontsize=25)    \n",
    "plt.xlabel('Exemple', fontsize=25)\n",
    "plt.ylabel('Distance', fontsize=25)\n",
    "\n",
    "# Construction du dendrogramme à partir de la matrice M_Fusion:\n",
    "scipy.cluster.hierarchy.dendrogram(\n",
    "    M_Fusion,\n",
    "    leaf_font_size=18.,  # taille des caractères de l'axe des X\n",
    ")\n",
    "\n",
    "# Affichage du résultat obtenu:\n",
    "plt.show()\n",
    "    "
   ]
  },
  {
   "cell_type": "raw",
   "metadata": {},
   "source": [
    "On voit bien qu'avec un clustering hiérarchique basé sur un chaînage complet, la distance maximale entre les deux groupes diminuent au fur et à mesure des itérations alors qu'avec clustering hiérarchique qui utilise le chainage par centroide elle augmente.\n"
   ]
  },
  {
   "cell_type": "markdown",
   "metadata": {},
   "source": [
    "## Phase 2 : application à des données réelles"
   ]
  },
  {
   "cell_type": "markdown",
   "metadata": {},
   "source": [
    "### Données: traitement des déchets de la ville de Paris"
   ]
  },
  {
   "cell_type": "markdown",
   "metadata": {},
   "source": [
    "Récupérer les données concernant le traitement des déchets de la ville de Paris :\n",
    "http://opendata.paris.fr/explore/dataset/tonnages_des_dechets_bacs_jaunes/table/\n",
    "\n",
    "**Attention**: il faut certainement préparer cette base afin de pouvoir appliquer l'algorithme de clustering: en particulier, certaines colonnes (Granularité, Total...) ne sont pas à utilisables dans le calcul des distances, il faut donc les éliminer. Il faut aussi prévoir de conserver le nom de l'arrondissement afin de pouvoir à la fin analyser le résultat du clustering.\n",
    "\n",
    "Sauvegarder ces données, prêtes à être traitées par l'algorithme de clustering, au format CSV dans le répertoire <pre>data/</pre> sous le nom <pre>base-Paris.csv</pre>\n",
    "\n",
    "<font size=\"+1\" color=\"RED\">**[Q]**</font> Etudier cette base et les clusters qui peuvent être mis en évidence.\n"
   ]
  },
  {
   "cell_type": "code",
   "execution_count": 124,
   "metadata": {},
   "outputs": [],
   "source": [
    "data_Paris_csv = \"data/base-Paris.csv\"\n",
    "data_Paris = pd.read_csv(data_Paris_csv, sep=';' , encoding='latin-1')"
   ]
  },
  {
   "cell_type": "code",
   "execution_count": 125,
   "metadata": {},
   "outputs": [
    {
     "data": {
      "text/html": [
       "<div>\n",
       "<style scoped>\n",
       "    .dataframe tbody tr th:only-of-type {\n",
       "        vertical-align: middle;\n",
       "    }\n",
       "\n",
       "    .dataframe tbody tr th {\n",
       "        vertical-align: top;\n",
       "    }\n",
       "\n",
       "    .dataframe thead th {\n",
       "        text-align: right;\n",
       "    }\n",
       "</style>\n",
       "<table border=\"1\" class=\"dataframe\">\n",
       "  <thead>\n",
       "    <tr style=\"text-align: right;\">\n",
       "      <th></th>\n",
       "      <th>Granularité</th>\n",
       "      <th>janv-11</th>\n",
       "      <th>févr-11</th>\n",
       "      <th>mars-11</th>\n",
       "      <th>avr-11</th>\n",
       "      <th>mai-11</th>\n",
       "      <th>juin-11</th>\n",
       "      <th>juil-11</th>\n",
       "      <th>août-11</th>\n",
       "      <th>sept-11</th>\n",
       "      <th>oct-11</th>\n",
       "      <th>nov-11</th>\n",
       "      <th>déc-11</th>\n",
       "      <th>Total arrondissement 2011</th>\n",
       "    </tr>\n",
       "  </thead>\n",
       "  <tbody>\n",
       "    <tr>\n",
       "      <th>0</th>\n",
       "      <td>75001</td>\n",
       "      <td>75,3</td>\n",
       "      <td>60,4</td>\n",
       "      <td>71,2</td>\n",
       "      <td>59,5</td>\n",
       "      <td>73,9</td>\n",
       "      <td>72</td>\n",
       "      <td>57,9</td>\n",
       "      <td>56,4</td>\n",
       "      <td>75,5</td>\n",
       "      <td>75,7</td>\n",
       "      <td>65,8</td>\n",
       "      <td>79,1</td>\n",
       "      <td>822,7</td>\n",
       "    </tr>\n",
       "    <tr>\n",
       "      <th>1</th>\n",
       "      <td>75002</td>\n",
       "      <td>153</td>\n",
       "      <td>125,8</td>\n",
       "      <td>136,6</td>\n",
       "      <td>126,6</td>\n",
       "      <td>133,2</td>\n",
       "      <td>127,6</td>\n",
       "      <td>126,7</td>\n",
       "      <td>114,3</td>\n",
       "      <td>144,3</td>\n",
       "      <td>145,1</td>\n",
       "      <td>129,5</td>\n",
       "      <td>129,8</td>\n",
       "      <td>1592,5</td>\n",
       "    </tr>\n",
       "    <tr>\n",
       "      <th>2</th>\n",
       "      <td>75003</td>\n",
       "      <td>183,9</td>\n",
       "      <td>173,1</td>\n",
       "      <td>204,2</td>\n",
       "      <td>183</td>\n",
       "      <td>203,2</td>\n",
       "      <td>181,9</td>\n",
       "      <td>191,2</td>\n",
       "      <td>153,6</td>\n",
       "      <td>208,6</td>\n",
       "      <td>186,5</td>\n",
       "      <td>192,9</td>\n",
       "      <td>189,9</td>\n",
       "      <td>2252</td>\n",
       "    </tr>\n",
       "    <tr>\n",
       "      <th>3</th>\n",
       "      <td>75004</td>\n",
       "      <td>116,3</td>\n",
       "      <td>115,7</td>\n",
       "      <td>133,4</td>\n",
       "      <td>115</td>\n",
       "      <td>123,2</td>\n",
       "      <td>120,5</td>\n",
       "      <td>114,5</td>\n",
       "      <td>97,6</td>\n",
       "      <td>130,5</td>\n",
       "      <td>123</td>\n",
       "      <td>124,3</td>\n",
       "      <td>133,7</td>\n",
       "      <td>1447,7</td>\n",
       "    </tr>\n",
       "    <tr>\n",
       "      <th>4</th>\n",
       "      <td>75005</td>\n",
       "      <td>247</td>\n",
       "      <td>211</td>\n",
       "      <td>251</td>\n",
       "      <td>218</td>\n",
       "      <td>185</td>\n",
       "      <td>224</td>\n",
       "      <td>213,3</td>\n",
       "      <td>162,9</td>\n",
       "      <td>203,4</td>\n",
       "      <td>232,1</td>\n",
       "      <td>227,6</td>\n",
       "      <td>251,6</td>\n",
       "      <td>2626,9</td>\n",
       "    </tr>\n",
       "    <tr>\n",
       "      <th>5</th>\n",
       "      <td>75006</td>\n",
       "      <td>222</td>\n",
       "      <td>189</td>\n",
       "      <td>218</td>\n",
       "      <td>192</td>\n",
       "      <td>180</td>\n",
       "      <td>199</td>\n",
       "      <td>171,8</td>\n",
       "      <td>134,8</td>\n",
       "      <td>183,1</td>\n",
       "      <td>195,5</td>\n",
       "      <td>213,8</td>\n",
       "      <td>204,1</td>\n",
       "      <td>2303,1</td>\n",
       "    </tr>\n",
       "    <tr>\n",
       "      <th>6</th>\n",
       "      <td>75007</td>\n",
       "      <td>288,1</td>\n",
       "      <td>249,1</td>\n",
       "      <td>303,7</td>\n",
       "      <td>255,8</td>\n",
       "      <td>287,8</td>\n",
       "      <td>288,4</td>\n",
       "      <td>249,6</td>\n",
       "      <td>185,6</td>\n",
       "      <td>281,3</td>\n",
       "      <td>284,3</td>\n",
       "      <td>296,4</td>\n",
       "      <td>301,1</td>\n",
       "      <td>3271,2</td>\n",
       "    </tr>\n",
       "    <tr>\n",
       "      <th>7</th>\n",
       "      <td>75008</td>\n",
       "      <td>252,6</td>\n",
       "      <td>246,7</td>\n",
       "      <td>252,9</td>\n",
       "      <td>232,5</td>\n",
       "      <td>199,4</td>\n",
       "      <td>236,4</td>\n",
       "      <td>175,4</td>\n",
       "      <td>189,4</td>\n",
       "      <td>266,6</td>\n",
       "      <td>230,3</td>\n",
       "      <td>257,7</td>\n",
       "      <td>224,4</td>\n",
       "      <td>2764,3</td>\n",
       "    </tr>\n",
       "    <tr>\n",
       "      <th>8</th>\n",
       "      <td>75009</td>\n",
       "      <td>208,3</td>\n",
       "      <td>197,1</td>\n",
       "      <td>220,4</td>\n",
       "      <td>197,9</td>\n",
       "      <td>151,7</td>\n",
       "      <td>206,9</td>\n",
       "      <td>199,9</td>\n",
       "      <td>163,3</td>\n",
       "      <td>223,8</td>\n",
       "      <td>203,6</td>\n",
       "      <td>213,8</td>\n",
       "      <td>235,7</td>\n",
       "      <td>2422,4</td>\n",
       "    </tr>\n",
       "    <tr>\n",
       "      <th>9</th>\n",
       "      <td>75010</td>\n",
       "      <td>273</td>\n",
       "      <td>248,6</td>\n",
       "      <td>292,2</td>\n",
       "      <td>255,2</td>\n",
       "      <td>284,3</td>\n",
       "      <td>267,3</td>\n",
       "      <td>246,6</td>\n",
       "      <td>210,3</td>\n",
       "      <td>280,6</td>\n",
       "      <td>275,6</td>\n",
       "      <td>284,6</td>\n",
       "      <td>283,2</td>\n",
       "      <td>3201,5</td>\n",
       "    </tr>\n",
       "    <tr>\n",
       "      <th>10</th>\n",
       "      <td>75011</td>\n",
       "      <td>487,2</td>\n",
       "      <td>422,2</td>\n",
       "      <td>491</td>\n",
       "      <td>437</td>\n",
       "      <td>466</td>\n",
       "      <td>443</td>\n",
       "      <td>373,5</td>\n",
       "      <td>367,5</td>\n",
       "      <td>511,9</td>\n",
       "      <td>490,6</td>\n",
       "      <td>469,2</td>\n",
       "      <td>487,9</td>\n",
       "      <td>5447</td>\n",
       "    </tr>\n",
       "    <tr>\n",
       "      <th>11</th>\n",
       "      <td>75012</td>\n",
       "      <td>484,2</td>\n",
       "      <td>445,9</td>\n",
       "      <td>517</td>\n",
       "      <td>452</td>\n",
       "      <td>402</td>\n",
       "      <td>488</td>\n",
       "      <td>456</td>\n",
       "      <td>409</td>\n",
       "      <td>506</td>\n",
       "      <td>495</td>\n",
       "      <td>493</td>\n",
       "      <td>502</td>\n",
       "      <td>5650,1</td>\n",
       "    </tr>\n",
       "    <tr>\n",
       "      <th>12</th>\n",
       "      <td>75013</td>\n",
       "      <td>596,5</td>\n",
       "      <td>540,2</td>\n",
       "      <td>618,5</td>\n",
       "      <td>558,6</td>\n",
       "      <td>595,9</td>\n",
       "      <td>581,7</td>\n",
       "      <td>539,2</td>\n",
       "      <td>490,5</td>\n",
       "      <td>597,8</td>\n",
       "      <td>575,7</td>\n",
       "      <td>580,5</td>\n",
       "      <td>601,4</td>\n",
       "      <td>6876,5</td>\n",
       "    </tr>\n",
       "    <tr>\n",
       "      <th>13</th>\n",
       "      <td>75014</td>\n",
       "      <td>464</td>\n",
       "      <td>404,9</td>\n",
       "      <td>465,3</td>\n",
       "      <td>420,2</td>\n",
       "      <td>405,3</td>\n",
       "      <td>446</td>\n",
       "      <td>412,9</td>\n",
       "      <td>348,7</td>\n",
       "      <td>449,3</td>\n",
       "      <td>446,3</td>\n",
       "      <td>453,1</td>\n",
       "      <td>484,3</td>\n",
       "      <td>5200,3</td>\n",
       "    </tr>\n",
       "    <tr>\n",
       "      <th>14</th>\n",
       "      <td>75015</td>\n",
       "      <td>903,1</td>\n",
       "      <td>801,4</td>\n",
       "      <td>937,5</td>\n",
       "      <td>835,5</td>\n",
       "      <td>876,8</td>\n",
       "      <td>888,6</td>\n",
       "      <td>628,8</td>\n",
       "      <td>674,8</td>\n",
       "      <td>913,3</td>\n",
       "      <td>878,7</td>\n",
       "      <td>895,7</td>\n",
       "      <td>935,8</td>\n",
       "      <td>10170</td>\n",
       "    </tr>\n",
       "    <tr>\n",
       "      <th>15</th>\n",
       "      <td>75016</td>\n",
       "      <td>584,1</td>\n",
       "      <td>571,2</td>\n",
       "      <td>684,7</td>\n",
       "      <td>590,3</td>\n",
       "      <td>563,4</td>\n",
       "      <td>666,3</td>\n",
       "      <td>570,4</td>\n",
       "      <td>433,2</td>\n",
       "      <td>679,7</td>\n",
       "      <td>656,1</td>\n",
       "      <td>662,6</td>\n",
       "      <td>699,9</td>\n",
       "      <td>7361,9</td>\n",
       "    </tr>\n",
       "    <tr>\n",
       "      <th>16</th>\n",
       "      <td>75017</td>\n",
       "      <td>451,1</td>\n",
       "      <td>412,4</td>\n",
       "      <td>491,6</td>\n",
       "      <td>422,7</td>\n",
       "      <td>363,6</td>\n",
       "      <td>446,4</td>\n",
       "      <td>409,5</td>\n",
       "      <td>332,3</td>\n",
       "      <td>416,4</td>\n",
       "      <td>451,5</td>\n",
       "      <td>475,1</td>\n",
       "      <td>513,5</td>\n",
       "      <td>5186,1</td>\n",
       "    </tr>\n",
       "    <tr>\n",
       "      <th>17</th>\n",
       "      <td>75018</td>\n",
       "      <td>427</td>\n",
       "      <td>394,3</td>\n",
       "      <td>455,2</td>\n",
       "      <td>419,9</td>\n",
       "      <td>458,3</td>\n",
       "      <td>456,6</td>\n",
       "      <td>418</td>\n",
       "      <td>361,8</td>\n",
       "      <td>464,6</td>\n",
       "      <td>453,4</td>\n",
       "      <td>478,5</td>\n",
       "      <td>470,9</td>\n",
       "      <td>5258,5</td>\n",
       "    </tr>\n",
       "    <tr>\n",
       "      <th>18</th>\n",
       "      <td>75019</td>\n",
       "      <td>323,4</td>\n",
       "      <td>287,3</td>\n",
       "      <td>350,3</td>\n",
       "      <td>317,8</td>\n",
       "      <td>336,9</td>\n",
       "      <td>340,7</td>\n",
       "      <td>311,6</td>\n",
       "      <td>281</td>\n",
       "      <td>345,6</td>\n",
       "      <td>335,6</td>\n",
       "      <td>367</td>\n",
       "      <td>354,5</td>\n",
       "      <td>3951,7</td>\n",
       "    </tr>\n",
       "    <tr>\n",
       "      <th>19</th>\n",
       "      <td>75020</td>\n",
       "      <td>394,1</td>\n",
       "      <td>366,3</td>\n",
       "      <td>422,7</td>\n",
       "      <td>367,1</td>\n",
       "      <td>273,5</td>\n",
       "      <td>381,7</td>\n",
       "      <td>353,4</td>\n",
       "      <td>297</td>\n",
       "      <td>414</td>\n",
       "      <td>350</td>\n",
       "      <td>410,6</td>\n",
       "      <td>410</td>\n",
       "      <td>4440,4</td>\n",
       "    </tr>\n",
       "  </tbody>\n",
       "</table>\n",
       "</div>"
      ],
      "text/plain": [
       "   Granularité janv-11 févr-11 mars-11 avr-11 mai-11 juin-11 juil-11 août-11  \\\n",
       "0        75001    75,3    60,4    71,2   59,5   73,9      72    57,9    56,4   \n",
       "1        75002     153   125,8   136,6  126,6  133,2   127,6   126,7   114,3   \n",
       "2        75003   183,9   173,1   204,2    183  203,2   181,9   191,2   153,6   \n",
       "3        75004   116,3   115,7   133,4    115  123,2   120,5   114,5    97,6   \n",
       "4        75005     247     211     251    218    185     224   213,3   162,9   \n",
       "5        75006     222     189     218    192    180     199   171,8   134,8   \n",
       "6        75007   288,1   249,1   303,7  255,8  287,8   288,4   249,6   185,6   \n",
       "7        75008   252,6   246,7   252,9  232,5  199,4   236,4   175,4   189,4   \n",
       "8        75009   208,3   197,1   220,4  197,9  151,7   206,9   199,9   163,3   \n",
       "9        75010     273   248,6   292,2  255,2  284,3   267,3   246,6   210,3   \n",
       "10       75011   487,2   422,2     491    437    466     443   373,5   367,5   \n",
       "11       75012   484,2   445,9     517    452    402     488     456     409   \n",
       "12       75013   596,5   540,2   618,5  558,6  595,9   581,7   539,2   490,5   \n",
       "13       75014     464   404,9   465,3  420,2  405,3     446   412,9   348,7   \n",
       "14       75015   903,1   801,4   937,5  835,5  876,8   888,6   628,8   674,8   \n",
       "15       75016   584,1   571,2   684,7  590,3  563,4   666,3   570,4   433,2   \n",
       "16       75017   451,1   412,4   491,6  422,7  363,6   446,4   409,5   332,3   \n",
       "17       75018     427   394,3   455,2  419,9  458,3   456,6     418   361,8   \n",
       "18       75019   323,4   287,3   350,3  317,8  336,9   340,7   311,6     281   \n",
       "19       75020   394,1   366,3   422,7  367,1  273,5   381,7   353,4     297   \n",
       "\n",
       "   sept-11 oct-11 nov-11 déc-11 Total arrondissement 2011  \n",
       "0     75,5   75,7   65,8   79,1                     822,7  \n",
       "1    144,3  145,1  129,5  129,8                    1592,5  \n",
       "2    208,6  186,5  192,9  189,9                      2252  \n",
       "3    130,5    123  124,3  133,7                    1447,7  \n",
       "4    203,4  232,1  227,6  251,6                    2626,9  \n",
       "5    183,1  195,5  213,8  204,1                    2303,1  \n",
       "6    281,3  284,3  296,4  301,1                    3271,2  \n",
       "7    266,6  230,3  257,7  224,4                    2764,3  \n",
       "8    223,8  203,6  213,8  235,7                    2422,4  \n",
       "9    280,6  275,6  284,6  283,2                    3201,5  \n",
       "10   511,9  490,6  469,2  487,9                      5447  \n",
       "11     506    495    493    502                    5650,1  \n",
       "12   597,8  575,7  580,5  601,4                    6876,5  \n",
       "13   449,3  446,3  453,1  484,3                    5200,3  \n",
       "14   913,3  878,7  895,7  935,8                     10170  \n",
       "15   679,7  656,1  662,6  699,9                    7361,9  \n",
       "16   416,4  451,5  475,1  513,5                    5186,1  \n",
       "17   464,6  453,4  478,5  470,9                    5258,5  \n",
       "18   345,6  335,6    367  354,5                    3951,7  \n",
       "19     414    350  410,6    410                    4440,4  "
      ]
     },
     "execution_count": 125,
     "metadata": {},
     "output_type": "execute_result"
    }
   ],
   "source": [
    "data_Paris.head(-1)"
   ]
  },
  {
   "cell_type": "markdown",
   "metadata": {
    "collapsed": true
   },
   "source": [
    "<font size=\"+1\" color=\"RED\">**[Q]**</font> Préparer un rapport d'analyse (c'est-à-dire, compléter votre notebook en rajoutant à la suite tout un ensemble d'expérimentations et de résultats obtenus sur la base) réalisé sur cette base qui mette en évidence les clusters existants à différents niveaux de distance, et en utilisant différentes distances.\n"
   ]
  },
  {
   "cell_type": "code",
   "execution_count": 177,
   "metadata": {},
   "outputs": [
    {
     "name": "stderr",
     "output_type": "stream",
     "text": [
      "/anaconda3/lib/python3.7/site-packages/ipykernel_launcher.py:2: FutureWarning: Method .as_matrix will be removed in a future version. Use .values instead.\n",
      "  \n"
     ]
    },
    {
     "name": "stdout",
     "output_type": "stream",
     "text": [
      "colonne  : 75.3 903.1\n",
      "colonne  : 60.4 801.4\n",
      "Fusion de 6 et 9 pour une distance de 0.018253596992425587\n",
      "Fusion de 13 et 16 pour une distance de 0.018581942094856158\n",
      "Fusion de 5 et 8 pour une distance de 0.019834048207111227\n",
      "Fusion de 10 et 11 pour une distance de 0.03218847096891158\n",
      "Fusion de 7 et 20 pour une distance de 0.03388863268899591\n",
      "Fusion de 17 et 21 pour une distance de 0.04167749835589001\n",
      "Fusion de 12 et 15 pour une distance de 0.04443626310229607\n",
      "Fusion de 4 et 22 pour une distance de 0.045466092480518444\n",
      "Fusion de 1 et 3 pour une distance de 0.04638232884727743\n",
      "Fusion de 2 et 27 pour une distance de 0.061504117582592825\n",
      "Fusion de 23 et 25 pour une distance de 0.06167317062068412\n",
      "Fusion de 18 et 24 pour une distance de 0.08225043286116701\n",
      "Fusion de 19 et 30 pour une distance de 0.10656084636905695\n",
      "Fusion de 0 et 28 pour une distance de 0.10850552770071366\n",
      "Fusion de 29 et 31 pour une distance de 0.12135272080905056\n",
      "Fusion de 33 et 34 pour une distance de 0.23418270259039148\n",
      "Fusion de 26 et 32 pour une distance de 0.2609962430832546\n",
      "Fusion de 35 et 36 pour une distance de 0.4751326691705313\n",
      "Fusion de 14 et 37 pour une distance de 0.9717665081624133\n",
      "\n",
      "La matrice M_Fusion obtenue :\n",
      " [[6.00000000e+00 9.00000000e+00 1.82535970e-02 2.00000000e+00]\n",
      " [1.30000000e+01 1.60000000e+01 1.85819421e-02 2.00000000e+00]\n",
      " [5.00000000e+00 8.00000000e+00 1.98340482e-02 2.00000000e+00]\n",
      " [1.00000000e+01 1.10000000e+01 3.21884710e-02 2.00000000e+00]\n",
      " [7.00000000e+00 2.00000000e+01 3.38886327e-02 2.00000000e+00]\n",
      " [1.70000000e+01 2.10000000e+01 4.16774984e-02 2.00000000e+00]\n",
      " [1.20000000e+01 1.50000000e+01 4.44362631e-02 2.00000000e+00]\n",
      " [4.00000000e+00 2.20000000e+01 4.54660925e-02 2.00000000e+00]\n",
      " [1.00000000e+00 3.00000000e+00 4.63823288e-02 2.00000000e+00]\n",
      " [2.00000000e+00 2.70000000e+01 6.15041176e-02 2.00000000e+00]\n",
      " [2.30000000e+01 2.50000000e+01 6.16731706e-02 2.00000000e+00]\n",
      " [1.80000000e+01 2.40000000e+01 8.22504329e-02 2.00000000e+00]\n",
      " [1.90000000e+01 3.00000000e+01 1.06560846e-01 2.00000000e+00]\n",
      " [0.00000000e+00 2.80000000e+01 1.08505528e-01 2.00000000e+00]\n",
      " [2.90000000e+01 3.10000000e+01 1.21352721e-01 2.00000000e+00]\n",
      " [3.30000000e+01 3.40000000e+01 2.34182703e-01 2.00000000e+00]\n",
      " [2.60000000e+01 3.20000000e+01 2.60996243e-01 2.00000000e+00]\n",
      " [3.50000000e+01 3.60000000e+01 4.75132669e-01 2.00000000e+00]\n",
      " [1.40000000e+01 3.70000000e+01 9.71766508e-01 2.00000000e+00]]\n"
     ]
    },
    {
     "data": {
      "image/png": "[encoded data removed]",
      "text/plain": [
       "<Figure size 2160x1080 with 1 Axes>"
      ]
     },
     "metadata": {
      "needs_background": "light"
     },
     "output_type": "display_data"
    }
   ],
   "source": [
    "n_janv = normalisation(data_Paris['janv-11'][0:20].str.replace(',', \".\").astype(float))\n",
    "n_fev = normalisation(data_Paris['févr-11'][0:20].str.replace(',', \".\").astype(float))\n",
    "\n",
    "n = np.stack((n_janv,n_fev),axis=-1)\n",
    "\n",
    "\n",
    "def clustering_hierarchique_data(data, chaine) :\n",
    "    # initialisation \n",
    "    courant = initialise(n)       # clustering courant, au départ:s données data_2D normalisées\n",
    "    M_Fusion = []                        # initialisation\n",
    "    while len(courant) >=2:              # tant qu'il y a 2 groupes à fusionner\n",
    "        new,k1,k2,dist_min = fusionne(chaine,courant)\n",
    "        if(len(M_Fusion)==0):\n",
    "            M_Fusion = [k1,k2,dist_min,2]\n",
    "        else:\n",
    "            M_Fusion = np.vstack( [M_Fusion,[k1,k2,dist_min,2] ])\n",
    "        courant = new\n",
    "        \n",
    "    return M_Fusion\n",
    "\n",
    "#Cluster utilisant les differents traitements de dechets dans tous les arrondissements entre le mois de janvier\n",
    "#et celui de février avec la distance euclidienne.\n",
    "\n",
    "M_Fusion = clustering_hierarchique_data(n, \"euclidienne\")\n",
    "print('\\nLa matrice M_Fusion obtenue :\\n',M_Fusion)\n",
    "\n",
    "# Paramètre de la fenêtre d'affichage: \n",
    "plt.figure(figsize=(30, 15)) # taille : largeur x hauteur\n",
    "plt.title('Dendrogramme', fontsize=25)    \n",
    "plt.xlabel('Exemple', fontsize=25)\n",
    "plt.ylabel('Distance', fontsize=25)\n",
    "\n",
    "# Construction du dendrogramme à partir de la matrice M_Fusion:\n",
    "scipy.cluster.hierarchy.dendrogram(\n",
    "    M_Fusion,\n",
    "    leaf_font_size=18.,  # taille des caractères de l'axe des X\n",
    ")\n",
    "\n",
    "# Affichage du résultat obtenu:\n",
    "plt.show()\n",
    "    "
   ]
  },
  {
   "cell_type": "code",
   "execution_count": 178,
   "metadata": {},
   "outputs": [
    {
     "name": "stdout",
     "output_type": "stream",
     "text": [
      "Fusion de 6 et 9 pour une distance de 0.018915884876388983\n",
      "Fusion de 13 et 16 pour une distance de 0.025704931759025607\n",
      "Fusion de 5 et 8 pour une distance de 0.027481065367155277\n",
      "Fusion de 10 et 11 pour une distance de 0.035607869451538765\n",
      "Fusion de 7 et 20 pour une distance de 0.036665678730250645\n",
      "Fusion de 17 et 21 pour une distance de 0.05627077152617255\n",
      "Fusion de 12 et 15 pour une distance de 0.056814821263391435\n",
      "Fusion de 1 et 3 pour une distance de 0.057964609704796125\n",
      "Fusion de 4 et 22 pour une distance de 0.0626994987608408\n",
      "Fusion de 2 et 28 pour une distance de 0.0855735742550508\n",
      "Fusion de 23 et 25 pour une distance de 0.0870407250431664\n",
      "Fusion de 18 et 24 pour une distance de 0.11587494268284179\n",
      "Fusion de 19 et 30 pour une distance de 0.14986081182289263\n",
      "Fusion de 0 et 27 pour une distance de 0.1531400564525779\n",
      "Fusion de 29 et 31 pour une distance de 0.17154863760959813\n",
      "Fusion de 33 et 34 pour une distance de 0.33114400537246125\n",
      "Fusion de 26 et 32 pour une distance de 0.367730301401033\n",
      "Fusion de 35 et 36 pour une distance de 0.6718289012098857\n",
      "Fusion de 14 et 37 pour une distance de 1.374199298299155\n",
      "\n",
      "La matrice M_Fusion obtenue :\n",
      " [[6.00000000e+00 9.00000000e+00 1.89158849e-02 2.00000000e+00]\n",
      " [1.30000000e+01 1.60000000e+01 2.57049318e-02 2.00000000e+00]\n",
      " [5.00000000e+00 8.00000000e+00 2.74810654e-02 2.00000000e+00]\n",
      " [1.00000000e+01 1.10000000e+01 3.56078695e-02 2.00000000e+00]\n",
      " [7.00000000e+00 2.00000000e+01 3.66656787e-02 2.00000000e+00]\n",
      " [1.70000000e+01 2.10000000e+01 5.62707715e-02 2.00000000e+00]\n",
      " [1.20000000e+01 1.50000000e+01 5.68148213e-02 2.00000000e+00]\n",
      " [1.00000000e+00 3.00000000e+00 5.79646097e-02 2.00000000e+00]\n",
      " [4.00000000e+00 2.20000000e+01 6.26994988e-02 2.00000000e+00]\n",
      " [2.00000000e+00 2.80000000e+01 8.55735743e-02 2.00000000e+00]\n",
      " [2.30000000e+01 2.50000000e+01 8.70407250e-02 2.00000000e+00]\n",
      " [1.80000000e+01 2.40000000e+01 1.15874943e-01 2.00000000e+00]\n",
      " [1.90000000e+01 3.00000000e+01 1.49860812e-01 2.00000000e+00]\n",
      " [0.00000000e+00 2.70000000e+01 1.53140056e-01 2.00000000e+00]\n",
      " [2.90000000e+01 3.10000000e+01 1.71548638e-01 2.00000000e+00]\n",
      " [3.30000000e+01 3.40000000e+01 3.31144005e-01 2.00000000e+00]\n",
      " [2.60000000e+01 3.20000000e+01 3.67730301e-01 2.00000000e+00]\n",
      " [3.50000000e+01 3.60000000e+01 6.71828901e-01 2.00000000e+00]\n",
      " [1.40000000e+01 3.70000000e+01 1.37419930e+00 2.00000000e+00]]\n"
     ]
    },
    {
     "data": {
      "image/png": "[encoded data removed]",
      "text/plain": [
       "<Figure size 2160x1080 with 1 Axes>"
      ]
     },
     "metadata": {
      "needs_background": "light"
     },
     "output_type": "display_data"
    }
   ],
   "source": [
    "M_Fusion = clustering_hierarchique_data(n, \"manhattan\")\n",
    "print('\\nLa matrice M_Fusion obtenue :\\n',M_Fusion)\n",
    "\n",
    "# Paramètre de la fenêtre d'affichage: \n",
    "plt.figure(figsize=(30, 15)) # taille : largeur x hauteur\n",
    "plt.title('Dendrogramme', fontsize=25)    \n",
    "plt.xlabel('Exemple', fontsize=25)\n",
    "plt.ylabel('Distance', fontsize=25)\n",
    "\n",
    "# Construction du dendrogramme à partir de la matrice M_Fusion:\n",
    "scipy.cluster.hierarchy.dendrogram(\n",
    "    M_Fusion,\n",
    "    leaf_font_size=18.,  # taille des caractères de l'axe des X\n",
    ")\n",
    "\n",
    "# Affichage du résultat obtenu:\n",
    "plt.show()\n",
    "    "
   ]
  },
  {
   "cell_type": "markdown",
   "metadata": {},
   "source": [
    "## Questions de cours (à faire chez vous, sur papier)\n",
    "\n",
    "Pour vous entraîner sans machine...\n",
    "\n",
    "<font color=\"RED\" size=\"+1\">**[Q]**</font> Montrer que la distance de Manhattan est bien une mesure de distance.\n",
    "\n",
    "<font color=\"RED\" size=\"+1\">**[Q]**</font> Dans le cours, 4 approches possibles ont été données afin de calculer la distance entre 2 groupes :\n",
    "- l'approche du chaînage minimum est appelée \"simple linkage\"\n",
    "- l'approche du chaînage maximum, est appelée \"complete linkage\"\n",
    "- l'approche du chaînage moyenne est appelée \"average linkage\"\n",
    "- l'approche du par centre de gravité est appelée \"centroid linkage\"\n",
    "\n",
    "On considère une mesure de distance $d$. Soit $A =\\{a_1,a_2,...,a_{|A|}\\}$ et $B =\\{b_1,b_2,...,b_{|B|}\\}$ deux groupes d'exemples. Donner l'expression de la distance entre $A$ et $B$ pour chacune des approches.\n",
    "\n",
    "\n",
    "<font color=\"RED\" size=\"+1\">**[Q]**</font> En utilisant la distance euclidienne et l'approche \"centroid linkage\", appliquer, \"à la main\", l'algorithme de clustering hiérarchique, méthode par agglomération, sur les données fournies sur le transparent 10 du cours 2 (coin haut gauche). Dans cette page, les données correspondent à 9 points dans un espace 2D: $X_1 \\times X_2$. Le point 1 est le point de coordonnées $(-0.5, -1.0)$, etc. \n",
    "Construire le dendrogramme correspondant.\n",
    "\n",
    "rem : dans la page du cours, les 3 premiers clusters construits sont donnés.\n",
    "\n",
    "\n",
    "<font color=\"RED\" size=\"+1\">**[Q]**</font> *(examen 2018)*\n",
    "On considère la base d'apprentissage de $[0,10]\\times [0,10]$ contenant les 7 exemples suivants: $\\mathcal{X}=\\{(1,2)$, $(1,4)$, $(3,4)$, $(3,5)$, $(6,2)$, $(6,5)$, $(8,3)\\}$ (remarque: cette base est déjà normalisée).\n",
    "En détaillant les étapes et en expliquant les calculs réalisés et les regroupements effectués, appliquer sur $\\mathcal{X}$ l'algorithme de classification hiérarchique, version ascendante, en utilisant l'approche ``centroid linkage'' et la distance euclidienne.  Donner le dendrogramme obtenu.\n",
    "<font color=\"RED\" size=\"+1\">**[Q]**</font> Si on rajoute l'exemple $(5,5)$ dans $\\mathcal{X}$ de la question précédente, sans ré-appliquer l'algorithme donner, en les justifiant, les modifications apportées au dendrogramme précédent par l'ajout de cet exemple."
   ]
  },
  {
   "cell_type": "code",
   "execution_count": 184,
   "metadata": {},
   "outputs": [
    {
     "ename": "KeyError",
     "evalue": "'0'",
     "output_type": "error",
     "traceback": [
      "\u001b[0;31m---------------------------------------------------------------------------\u001b[0m",
      "\u001b[0;31mKeyError\u001b[0m                                  Traceback (most recent call last)",
      "\u001b[0;32m/anaconda3/lib/python3.7/site-packages/pandas/core/indexes/base.py\u001b[0m in \u001b[0;36mget_loc\u001b[0;34m(self, key, method, tolerance)\u001b[0m\n\u001b[1;32m   3077\u001b[0m             \u001b[0;32mtry\u001b[0m\u001b[0;34m:\u001b[0m\u001b[0;34m\u001b[0m\u001b[0;34m\u001b[0m\u001b[0m\n\u001b[0;32m-> 3078\u001b[0;31m                 \u001b[0;32mreturn\u001b[0m \u001b[0mself\u001b[0m\u001b[0;34m.\u001b[0m\u001b[0m_engine\u001b[0m\u001b[0;34m.\u001b[0m\u001b[0mget_loc\u001b[0m\u001b[0;34m(\u001b[0m\u001b[0mkey\u001b[0m\u001b[0;34m)\u001b[0m\u001b[0;34m\u001b[0m\u001b[0;34m\u001b[0m\u001b[0m\n\u001b[0m\u001b[1;32m   3079\u001b[0m             \u001b[0;32mexcept\u001b[0m \u001b[0mKeyError\u001b[0m\u001b[0;34m:\u001b[0m\u001b[0;34m\u001b[0m\u001b[0;34m\u001b[0m\u001b[0m\n",
      "\u001b[0;32mpandas/_libs/index.pyx\u001b[0m in \u001b[0;36mpandas._libs.index.IndexEngine.get_loc\u001b[0;34m()\u001b[0m\n",
      "\u001b[0;32mpandas/_libs/index.pyx\u001b[0m in \u001b[0;36mpandas._libs.index.IndexEngine.get_loc\u001b[0;34m()\u001b[0m\n",
      "\u001b[0;32mpandas/_libs/hashtable_class_helper.pxi\u001b[0m in \u001b[0;36mpandas._libs.hashtable.PyObjectHashTable.get_item\u001b[0;34m()\u001b[0m\n",
      "\u001b[0;32mpandas/_libs/hashtable_class_helper.pxi\u001b[0m in \u001b[0;36mpandas._libs.hashtable.PyObjectHashTable.get_item\u001b[0;34m()\u001b[0m\n",
      "\u001b[0;31mKeyError\u001b[0m: '0'",
      "\nDuring handling of the above exception, another exception occurred:\n",
      "\u001b[0;31mKeyError\u001b[0m                                  Traceback (most recent call last)",
      "\u001b[0;32m<ipython-input-184-46aed57c3162>\u001b[0m in \u001b[0;36m<module>\u001b[0;34m\u001b[0m\n\u001b[0;32m----> 1\u001b[0;31m \u001b[0mdata_Paris\u001b[0m\u001b[0;34m[\u001b[0m\u001b[0;34m'0'\u001b[0m\u001b[0;34m]\u001b[0m\u001b[0;34m\u001b[0m\u001b[0;34m\u001b[0m\u001b[0m\n\u001b[0m",
      "\u001b[0;32m/anaconda3/lib/python3.7/site-packages/pandas/core/frame.py\u001b[0m in \u001b[0;36m__getitem__\u001b[0;34m(self, key)\u001b[0m\n\u001b[1;32m   2686\u001b[0m             \u001b[0;32mreturn\u001b[0m \u001b[0mself\u001b[0m\u001b[0;34m.\u001b[0m\u001b[0m_getitem_multilevel\u001b[0m\u001b[0;34m(\u001b[0m\u001b[0mkey\u001b[0m\u001b[0;34m)\u001b[0m\u001b[0;34m\u001b[0m\u001b[0;34m\u001b[0m\u001b[0m\n\u001b[1;32m   2687\u001b[0m         \u001b[0;32melse\u001b[0m\u001b[0;34m:\u001b[0m\u001b[0;34m\u001b[0m\u001b[0;34m\u001b[0m\u001b[0m\n\u001b[0;32m-> 2688\u001b[0;31m             \u001b[0;32mreturn\u001b[0m \u001b[0mself\u001b[0m\u001b[0;34m.\u001b[0m\u001b[0m_getitem_column\u001b[0m\u001b[0;34m(\u001b[0m\u001b[0mkey\u001b[0m\u001b[0;34m)\u001b[0m\u001b[0;34m\u001b[0m\u001b[0;34m\u001b[0m\u001b[0m\n\u001b[0m\u001b[1;32m   2689\u001b[0m \u001b[0;34m\u001b[0m\u001b[0m\n\u001b[1;32m   2690\u001b[0m     \u001b[0;32mdef\u001b[0m \u001b[0m_getitem_column\u001b[0m\u001b[0;34m(\u001b[0m\u001b[0mself\u001b[0m\u001b[0;34m,\u001b[0m \u001b[0mkey\u001b[0m\u001b[0;34m)\u001b[0m\u001b[0;34m:\u001b[0m\u001b[0;34m\u001b[0m\u001b[0;34m\u001b[0m\u001b[0m\n",
      "\u001b[0;32m/anaconda3/lib/python3.7/site-packages/pandas/core/frame.py\u001b[0m in \u001b[0;36m_getitem_column\u001b[0;34m(self, key)\u001b[0m\n\u001b[1;32m   2693\u001b[0m         \u001b[0;31m# get column\u001b[0m\u001b[0;34m\u001b[0m\u001b[0;34m\u001b[0m\u001b[0;34m\u001b[0m\u001b[0m\n\u001b[1;32m   2694\u001b[0m         \u001b[0;32mif\u001b[0m \u001b[0mself\u001b[0m\u001b[0;34m.\u001b[0m\u001b[0mcolumns\u001b[0m\u001b[0;34m.\u001b[0m\u001b[0mis_unique\u001b[0m\u001b[0;34m:\u001b[0m\u001b[0;34m\u001b[0m\u001b[0;34m\u001b[0m\u001b[0m\n\u001b[0;32m-> 2695\u001b[0;31m             \u001b[0;32mreturn\u001b[0m \u001b[0mself\u001b[0m\u001b[0;34m.\u001b[0m\u001b[0m_get_item_cache\u001b[0m\u001b[0;34m(\u001b[0m\u001b[0mkey\u001b[0m\u001b[0;34m)\u001b[0m\u001b[0;34m\u001b[0m\u001b[0;34m\u001b[0m\u001b[0m\n\u001b[0m\u001b[1;32m   2696\u001b[0m \u001b[0;34m\u001b[0m\u001b[0m\n\u001b[1;32m   2697\u001b[0m         \u001b[0;31m# duplicate columns & possible reduce dimensionality\u001b[0m\u001b[0;34m\u001b[0m\u001b[0;34m\u001b[0m\u001b[0;34m\u001b[0m\u001b[0m\n",
      "\u001b[0;32m/anaconda3/lib/python3.7/site-packages/pandas/core/generic.py\u001b[0m in \u001b[0;36m_get_item_cache\u001b[0;34m(self, item)\u001b[0m\n\u001b[1;32m   2487\u001b[0m         \u001b[0mres\u001b[0m \u001b[0;34m=\u001b[0m \u001b[0mcache\u001b[0m\u001b[0;34m.\u001b[0m\u001b[0mget\u001b[0m\u001b[0;34m(\u001b[0m\u001b[0mitem\u001b[0m\u001b[0;34m)\u001b[0m\u001b[0;34m\u001b[0m\u001b[0;34m\u001b[0m\u001b[0m\n\u001b[1;32m   2488\u001b[0m         \u001b[0;32mif\u001b[0m \u001b[0mres\u001b[0m \u001b[0;32mis\u001b[0m \u001b[0;32mNone\u001b[0m\u001b[0;34m:\u001b[0m\u001b[0;34m\u001b[0m\u001b[0;34m\u001b[0m\u001b[0m\n\u001b[0;32m-> 2489\u001b[0;31m             \u001b[0mvalues\u001b[0m \u001b[0;34m=\u001b[0m \u001b[0mself\u001b[0m\u001b[0;34m.\u001b[0m\u001b[0m_data\u001b[0m\u001b[0;34m.\u001b[0m\u001b[0mget\u001b[0m\u001b[0;34m(\u001b[0m\u001b[0mitem\u001b[0m\u001b[0;34m)\u001b[0m\u001b[0;34m\u001b[0m\u001b[0;34m\u001b[0m\u001b[0m\n\u001b[0m\u001b[1;32m   2490\u001b[0m             \u001b[0mres\u001b[0m \u001b[0;34m=\u001b[0m \u001b[0mself\u001b[0m\u001b[0;34m.\u001b[0m\u001b[0m_box_item_values\u001b[0m\u001b[0;34m(\u001b[0m\u001b[0mitem\u001b[0m\u001b[0;34m,\u001b[0m \u001b[0mvalues\u001b[0m\u001b[0;34m)\u001b[0m\u001b[0;34m\u001b[0m\u001b[0;34m\u001b[0m\u001b[0m\n\u001b[1;32m   2491\u001b[0m             \u001b[0mcache\u001b[0m\u001b[0;34m[\u001b[0m\u001b[0mitem\u001b[0m\u001b[0;34m]\u001b[0m \u001b[0;34m=\u001b[0m \u001b[0mres\u001b[0m\u001b[0;34m\u001b[0m\u001b[0;34m\u001b[0m\u001b[0m\n",
      "\u001b[0;32m/anaconda3/lib/python3.7/site-packages/pandas/core/internals.py\u001b[0m in \u001b[0;36mget\u001b[0;34m(self, item, fastpath)\u001b[0m\n\u001b[1;32m   4113\u001b[0m \u001b[0;34m\u001b[0m\u001b[0m\n\u001b[1;32m   4114\u001b[0m             \u001b[0;32mif\u001b[0m \u001b[0;32mnot\u001b[0m \u001b[0misna\u001b[0m\u001b[0;34m(\u001b[0m\u001b[0mitem\u001b[0m\u001b[0;34m)\u001b[0m\u001b[0;34m:\u001b[0m\u001b[0;34m\u001b[0m\u001b[0;34m\u001b[0m\u001b[0m\n\u001b[0;32m-> 4115\u001b[0;31m                 \u001b[0mloc\u001b[0m \u001b[0;34m=\u001b[0m \u001b[0mself\u001b[0m\u001b[0;34m.\u001b[0m\u001b[0mitems\u001b[0m\u001b[0;34m.\u001b[0m\u001b[0mget_loc\u001b[0m\u001b[0;34m(\u001b[0m\u001b[0mitem\u001b[0m\u001b[0;34m)\u001b[0m\u001b[0;34m\u001b[0m\u001b[0;34m\u001b[0m\u001b[0m\n\u001b[0m\u001b[1;32m   4116\u001b[0m             \u001b[0;32melse\u001b[0m\u001b[0;34m:\u001b[0m\u001b[0;34m\u001b[0m\u001b[0;34m\u001b[0m\u001b[0m\n\u001b[1;32m   4117\u001b[0m                 \u001b[0mindexer\u001b[0m \u001b[0;34m=\u001b[0m \u001b[0mnp\u001b[0m\u001b[0;34m.\u001b[0m\u001b[0marange\u001b[0m\u001b[0;34m(\u001b[0m\u001b[0mlen\u001b[0m\u001b[0;34m(\u001b[0m\u001b[0mself\u001b[0m\u001b[0;34m.\u001b[0m\u001b[0mitems\u001b[0m\u001b[0;34m)\u001b[0m\u001b[0;34m)\u001b[0m\u001b[0;34m[\u001b[0m\u001b[0misna\u001b[0m\u001b[0;34m(\u001b[0m\u001b[0mself\u001b[0m\u001b[0;34m.\u001b[0m\u001b[0mitems\u001b[0m\u001b[0;34m)\u001b[0m\u001b[0;34m]\u001b[0m\u001b[0;34m\u001b[0m\u001b[0;34m\u001b[0m\u001b[0m\n",
      "\u001b[0;32m/anaconda3/lib/python3.7/site-packages/pandas/core/indexes/base.py\u001b[0m in \u001b[0;36mget_loc\u001b[0;34m(self, key, method, tolerance)\u001b[0m\n\u001b[1;32m   3078\u001b[0m                 \u001b[0;32mreturn\u001b[0m \u001b[0mself\u001b[0m\u001b[0;34m.\u001b[0m\u001b[0m_engine\u001b[0m\u001b[0;34m.\u001b[0m\u001b[0mget_loc\u001b[0m\u001b[0;34m(\u001b[0m\u001b[0mkey\u001b[0m\u001b[0;34m)\u001b[0m\u001b[0;34m\u001b[0m\u001b[0;34m\u001b[0m\u001b[0m\n\u001b[1;32m   3079\u001b[0m             \u001b[0;32mexcept\u001b[0m \u001b[0mKeyError\u001b[0m\u001b[0;34m:\u001b[0m\u001b[0;34m\u001b[0m\u001b[0;34m\u001b[0m\u001b[0m\n\u001b[0;32m-> 3080\u001b[0;31m                 \u001b[0;32mreturn\u001b[0m \u001b[0mself\u001b[0m\u001b[0;34m.\u001b[0m\u001b[0m_engine\u001b[0m\u001b[0;34m.\u001b[0m\u001b[0mget_loc\u001b[0m\u001b[0;34m(\u001b[0m\u001b[0mself\u001b[0m\u001b[0;34m.\u001b[0m\u001b[0m_maybe_cast_indexer\u001b[0m\u001b[0;34m(\u001b[0m\u001b[0mkey\u001b[0m\u001b[0;34m)\u001b[0m\u001b[0;34m)\u001b[0m\u001b[0;34m\u001b[0m\u001b[0;34m\u001b[0m\u001b[0m\n\u001b[0m\u001b[1;32m   3081\u001b[0m \u001b[0;34m\u001b[0m\u001b[0m\n\u001b[1;32m   3082\u001b[0m         \u001b[0mindexer\u001b[0m \u001b[0;34m=\u001b[0m \u001b[0mself\u001b[0m\u001b[0;34m.\u001b[0m\u001b[0mget_indexer\u001b[0m\u001b[0;34m(\u001b[0m\u001b[0;34m[\u001b[0m\u001b[0mkey\u001b[0m\u001b[0;34m]\u001b[0m\u001b[0;34m,\u001b[0m \u001b[0mmethod\u001b[0m\u001b[0;34m=\u001b[0m\u001b[0mmethod\u001b[0m\u001b[0;34m,\u001b[0m \u001b[0mtolerance\u001b[0m\u001b[0;34m=\u001b[0m\u001b[0mtolerance\u001b[0m\u001b[0;34m)\u001b[0m\u001b[0;34m\u001b[0m\u001b[0;34m\u001b[0m\u001b[0m\n",
      "\u001b[0;32mpandas/_libs/index.pyx\u001b[0m in \u001b[0;36mpandas._libs.index.IndexEngine.get_loc\u001b[0;34m()\u001b[0m\n",
      "\u001b[0;32mpandas/_libs/index.pyx\u001b[0m in \u001b[0;36mpandas._libs.index.IndexEngine.get_loc\u001b[0;34m()\u001b[0m\n",
      "\u001b[0;32mpandas/_libs/hashtable_class_helper.pxi\u001b[0m in \u001b[0;36mpandas._libs.hashtable.PyObjectHashTable.get_item\u001b[0;34m()\u001b[0m\n",
      "\u001b[0;32mpandas/_libs/hashtable_class_helper.pxi\u001b[0m in \u001b[0;36mpandas._libs.hashtable.PyObjectHashTable.get_item\u001b[0;34m()\u001b[0m\n",
      "\u001b[0;31mKeyError\u001b[0m: '0'"
     ]
    }
   ],
   "source": [
    "data_Paris['0']"
   ]
  },
  {
   "cell_type": "code",
   "execution_count": null,
   "metadata": {},
   "outputs": [],
   "source": []
  }
 ],
 "metadata": {
  "kernelspec": {
   "display_name": "Python 3",
   "language": "python",
   "name": "python3"
  },
  "language_info": {
   "codemirror_mode": {
    "name": "ipython",
    "version": 3
   },
   "file_extension": ".py",
   "mimetype": "text/x-python",
   "name": "python",
   "nbconvert_exporter": "python",
   "pygments_lexer": "ipython3",
   "version": "3.7.1"
  }
 },
 "nbformat": 4,
 "nbformat_minor": 1
}
