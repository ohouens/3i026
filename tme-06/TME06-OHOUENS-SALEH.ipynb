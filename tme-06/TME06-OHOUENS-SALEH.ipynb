{
 "cells": [
  {
   "cell_type": "markdown",
   "metadata": {},
   "source": [
    "IA & Data science (3i026) -- 2018-2019\n",
    "--------\n",
    "*&copy; Equipe pédagogique: Manon Ansart, Vincent Guigue, Marie-Jeanne Lesot, Christophe Marsala, Olivier Schwander.*"
   ]
  },
  {
   "cell_type": "markdown",
   "metadata": {},
   "source": [
    "# TD-TME06: méthodes d'ensembles\n",
    "\n",
    "L'objectif de ce TP est d'implémenter des méthodes d'ensembles et de les évaluer. Dans un premier temps, on se focalisera sur l'algorithme de bagging appliqué aux arbres de décision, puis on passera au random forests.\n",
    "\n",
    "Comme précédemment, on ne considére que le cas où les attributs sont tous numériques."
   ]
  },
  {
   "cell_type": "markdown",
   "metadata": {},
   "source": [
    "<font size=\"+1\">**[Q]**</font> **Indiquer dans la boîte ci-dessous vos noms et prénoms :**"
   ]
  },
  {
   "cell_type": "markdown",
   "metadata": {},
   "source": [
    "Ryan Ohouens\n",
    "Sarah Saleh"
   ]
  },
  {
   "cell_type": "markdown",
   "metadata": {},
   "source": [
    "<font color=\"RED\" size=\"+1\">**[Q]**</font> **Renommer ce fichier ipython**\n",
    "\n",
    "Tout en haut de cette page, cliquer sur <tt>tme-06</tt> et rajouter à la suite de <tt>tme-06</tt> les noms des membres du binômes séparés par un tiret."
   ]
  },
  {
   "cell_type": "markdown",
   "metadata": {},
   "source": [
    "Charger la librairie <code>iads</code> pour avoir accès aux fonctions déjà écrites."
   ]
  },
  {
   "cell_type": "code",
   "execution_count": 1,
   "metadata": {},
   "outputs": [],
   "source": [
    "import numpy as np\n",
    "import pandas as pd\n",
    "import matplotlib.pyplot as plt\n",
    "%matplotlib inline  \n",
    "\n",
    "# La ligne suivante permet de préciser le chemin d'accès à la librairie iads\n",
    "import sys\n",
    "sys.path.append('../')\n",
    "\n",
    "# Importation de la librairie iads\n",
    "import iads as iads\n",
    "\n",
    "# importation de LabeledSet\n",
    "from iads import LabeledSet as ls\n",
    "\n",
    "# importation de Classifiers\n",
    "from iads import Classifiers as cl\n",
    "\n"
   ]
  },
  {
   "cell_type": "markdown",
   "metadata": {},
   "source": [
    "Pour tester les fonctions à implémenter dans cette séance, on utilise la base d'exemples suivante :"
   ]
  },
  {
   "cell_type": "code",
   "execution_count": 2,
   "metadata": {},
   "outputs": [],
   "source": [
    "# Base d'exemples pour tester les fonctions:\n",
    "set_exemples = ls.LabeledSet(2)\n",
    "set_exemples.addExample([2.10492662303,1.10648470933],1)\n",
    "set_exemples.addExample([0.297525816499,-0.662504551625],1)\n",
    "set_exemples.addExample([1.6694258992,0.313687975072],1)\n",
    "set_exemples.addExample([1.20583098523,3.50817309097],1)\n",
    "set_exemples.addExample([1.13739407316,1.96688273992],1)\n",
    "set_exemples.addExample([2.32319808376,0.536577798714],1)\n",
    "set_exemples.addExample([-0.953004346997,0.596926923927],1)\n",
    "set_exemples.addExample([1.00574784804,-0.0959606771199],1)\n",
    "set_exemples.addExample([0.747509778063,0.429544908608],1)\n",
    "set_exemples.addExample([1.39048336283,0.442578873406],1)\n",
    "set_exemples.addExample([0.0470799329584,-1.97596265858],-1)\n",
    "set_exemples.addExample([-0.673998013071,0.0693931940855],-1)\n",
    "set_exemples.addExample([-0.84587451642,0.761766191612],-1)\n",
    "set_exemples.addExample([-1.39596839858,-0.943807082082],-1)\n",
    "set_exemples.addExample([0.319301767707,0.566169775123],-1)\n",
    "set_exemples.addExample([1.43459714786,0.935712030926],-1)\n",
    "set_exemples.addExample([-1.69323475458,-1.89563184035],-1)\n",
    "set_exemples.addExample([0.81167008598,-1.17927660655],-1)\n",
    "set_exemples.addExample([-1.03264043689,-1.08118488864],-1)\n",
    "set_exemples.addExample([0.609517439986,-2.88593327349],-1)"
   ]
  },
  {
   "cell_type": "markdown",
   "metadata": {},
   "source": [
    "## Etape 1: retours sur la séance 5\n"
   ]
  },
  {
   "cell_type": "markdown",
   "metadata": {},
   "source": [
    "<font color=\"RED\" size=\"+1\">**[Q]**</font> Modifier la fonction <code>shannon()</code> afin qu'elle puisse s'appliquer sur une liste vide ou sur une liste à un seul élément: dans ce cas-là, la fonction rend $0.0$."
   ]
  },
  {
   "cell_type": "code",
   "execution_count": 3,
   "metadata": {},
   "outputs": [],
   "source": [
    "import math\n",
    "\n",
    "def shannon(ensemble):\n",
    "    k = len(ensemble)\n",
    "    if k == 1 :\n",
    "        return 0\n",
    "    somme = 0\n",
    "    for i in range(k):\n",
    "        if ensemble[i] > 0 :\n",
    "            somme += ensemble[i]*math.log(ensemble[i], k)\n",
    "    return - somme"
   ]
  },
  {
   "cell_type": "code",
   "execution_count": 4,
   "metadata": {},
   "outputs": [
    {
     "name": "stdout",
     "output_type": "stream",
     "text": [
      "P=[]  :  0\n",
      "P=[1] :  0\n"
     ]
    }
   ],
   "source": [
    "# Exemples d'utilisation:\n",
    "print(\"P=[]  : \", shannon([]))\n",
    "print(\"P=[1] : \", shannon([1]))"
   ]
  },
  {
   "cell_type": "markdown",
   "metadata": {},
   "source": [
    "Recopier les fonctions suivantes à partir de votre notebook du TD-TME05.\n",
    "- classe_majoritaire(LSet)\n",
    "- entropie(LSet)\n",
    "- discretise(LSet, col)\n",
    "- divise(LSet,att,seuil)\n",
    "- construit_AD(LSet,epsilon)\n",
    "\n",
    "ainsi que les classes:\n",
    "- class ArbreBinaire\n",
    "- class ArbreDecision\n",
    "\n",
    "Remplissez la boite suivante en recopiant toutes ces fonctions et classes du TD_TME05."
   ]
  },
  {
   "cell_type": "code",
   "execution_count": 5,
   "metadata": {},
   "outputs": [],
   "source": [
    "def classe_majoritaire(label) :\n",
    "    cpt_p = 0\n",
    "    cpt_m = 0\n",
    "    \n",
    "    for i in range(label.size()) :\n",
    "        if(label.getY(i) > 0) :\n",
    "            cpt_p += 1\n",
    "        else :\n",
    "            cpt_m += 1\n",
    "            \n",
    "    if cpt_m > cpt_p :\n",
    "        return -1\n",
    "    return +1\n",
    "\n",
    "\n",
    "def entropie(label) :\n",
    "    plus = 0\n",
    "    moins = 0\n",
    "    for i in range(label.size()) :\n",
    "        if(label.getY(i) > 0) :\n",
    "            plus += 1 / label.size()\n",
    "        else :\n",
    "            moins += 1 / label.size()\n",
    "            \n",
    "    return shannon([plus, moins])\n",
    "\n",
    "\n",
    "def discretise(LSet, col):\n",
    "    \"\"\" LabelledSet * int -> tuple[float, float]\n",
    "        Hypothèse: LSet.size() >= 2\n",
    "        col est le numéro de colonne sur X à discrétiser\n",
    "        rend la valeur de coupure qui minimise l'entropie ainsi que son entropie.\n",
    "    \"\"\"\n",
    "    # initialisation:\n",
    "    min_entropie = 1.1  # on met à une valeur max car on veut minimiser\n",
    "    min_seuil = 0.0     \n",
    "    # trie des valeurs:\n",
    "    ind= np.argsort(LSet.x,axis=0)\n",
    "    \n",
    "    # calcul des distributions des classes pour E1 et E2:\n",
    "    inf_plus  = 0               # nombre de +1 dans E1\n",
    "    inf_moins = 0               # nombre de -1 dans E1\n",
    "    sup_plus  = 0               # nombre de +1 dans E2\n",
    "    sup_moins = 0               # nombre de -1 dans E2       \n",
    "    # remarque: au départ on considère que E1 est vide et donc E2 correspond à E. \n",
    "    # Ainsi inf_plus et inf_moins valent 0. Il reste à calculer sup_plus et sup_moins \n",
    "    # dans E.\n",
    "    for j in range(0,LSet.size()):\n",
    "        if (LSet.getY(j) == -1):\n",
    "            sup_moins += 1\n",
    "        else:\n",
    "            sup_plus += 1\n",
    "    nb_total = (sup_plus + sup_moins) # nombre d'exemples total dans E\n",
    "    \n",
    "    # parcours pour trouver le meilleur seuil:\n",
    "    for i in range(len(LSet.x)-1):\n",
    "        v_ind_i = ind[i]   # vecteur d'indices\n",
    "        courant = LSet.getX(v_ind_i[col])[col]\n",
    "        lookahead = LSet.getX(ind[i+1][col])[col]\n",
    "        val_seuil = (courant + lookahead) / 2.0;\n",
    "        # M-A-J de la distrib. des classes:\n",
    "        # pour réduire les traitements: on retire un exemple de E2 et on le place\n",
    "        # dans E1, c'est ainsi que l'on déplace donc le seuil de coupure.\n",
    "        if LSet.getY(ind[i][col])[0] == -1:\n",
    "            inf_moins += 1\n",
    "            sup_moins -= 1\n",
    "        else:\n",
    "            inf_plus += 1\n",
    "            sup_plus -= 1\n",
    "        # calcul de la distribution des classes de chaque côté du seuil:\n",
    "        nb_inf = (inf_moins + inf_plus)*1.0     # rem: on en fait un float pour éviter\n",
    "        nb_sup = (sup_moins + sup_plus)*1.0     # que ce soit une division entière.\n",
    "        # calcul de l'entropie de la coupure\n",
    "        val_entropie_inf = shannon([inf_moins / nb_inf, inf_plus  / nb_inf])\n",
    "        val_entropie_sup = shannon([sup_moins / nb_sup, sup_plus  / nb_sup])\n",
    "        val_entropie = (nb_inf / nb_total) * val_entropie_inf \\\n",
    "                       + (nb_sup / nb_total) * val_entropie_sup\n",
    "        # si cette coupure minimise l'entropie, on mémorise ce seuil et son entropie:\n",
    "        if (min_entropie > val_entropie):\n",
    "            min_entropie = val_entropie\n",
    "            min_seuil = val_seuil\n",
    "    return (min_seuil, min_entropie)\n",
    "\n",
    "\n",
    "\n",
    "def divise(LSet, att, seuil):\n",
    "    result1 = ls.LabeledSet(LSet.input_dimension)\n",
    "    result2 = ls.LabeledSet(LSet.input_dimension)\n",
    "    for i in range(LSet.size()):\n",
    "        if(LSet.getX(i)[att] > seuil):\n",
    "            result1.addExample(LSet.getX(i), LSet.getY(i))\n",
    "        else:\n",
    "            result2.addExample(LSet.getX(i), LSet.getY(i))\n",
    "    return (result2, result1)\n",
    "\n",
    "\n",
    "import graphviz as gv\n",
    "# Eventuellement, il peut être nécessaire d'installer graphviz sur votre compte:\n",
    "# pip install --user --install-option=\"--prefix=\" -U graphviz\n",
    "\n",
    "    \n",
    "class ArbreBinaire:\n",
    "    def __init__(self):\n",
    "        self.attribut = None   # numéro de l'attribut\n",
    "        self.seuil = None\n",
    "        self.inferieur = None # ArbreBinaire Gauche (valeurs <= au seuil)\n",
    "        self.superieur = None # ArbreBinaire Gauche (valeurs > au seuil)\n",
    "        self.classe = None # Classe si c'est une feuille: -1 ou +1\n",
    "        \n",
    "    def est_feuille(self):\n",
    "        \"\"\" rend True si l'arbre est une feuille \"\"\"\n",
    "        return self.seuil == None\n",
    "    \n",
    "    def ajoute_fils(self,ABinf,ABsup,att,seuil):\n",
    "        \"\"\" ABinf, ABsup: 2 arbres binaires\n",
    "            att: numéro d'attribut\n",
    "            seuil: valeur de seuil\n",
    "        \"\"\"\n",
    "        self.attribut = att\n",
    "        self.seuil = seuil\n",
    "        self.inferieur = ABinf\n",
    "        self.superieur = ABsup\n",
    "    \n",
    "    def ajoute_feuille(self,classe):\n",
    "        \"\"\" classe: -1 ou + 1\n",
    "        \"\"\"\n",
    "        self.classe = classe\n",
    "        \n",
    "    def classifie(self,exemple):\n",
    "        \"\"\" exemple : numpy.array\n",
    "            rend la classe de l'exemple: +1 ou -1\n",
    "        \"\"\"\n",
    "        if self.est_feuille():\n",
    "            return self.classe\n",
    "        if exemple[self.attribut] <= self.seuil:\n",
    "            return self.inferieur.classifie(exemple)\n",
    "        return self.superieur.classifie(exemple)\n",
    "    \n",
    "    def to_graph(self, g, prefixe='A'):\n",
    "        \"\"\" construit une représentation de l'arbre pour pouvoir\n",
    "            l'afficher\n",
    "        \"\"\"\n",
    "        if self.est_feuille():\n",
    "            g.node(prefixe,str(self.classe),shape='box')\n",
    "        else:\n",
    "            g.node(prefixe, str(self.attribut))\n",
    "            self.inferieur.to_graph(g,prefixe+\"g\")\n",
    "            self.superieur.to_graph(g,prefixe+\"d\")\n",
    "            g.edge(prefixe,prefixe+\"g\", '<='+ str(self.seuil))\n",
    "            g.edge(prefixe,prefixe+\"d\", '>'+ str(self.seuil))\n",
    "        \n",
    "        return g\n",
    "\n",
    "# ---------------------------\n",
    "\n",
    "\"\"\"    \n",
    "def construit_AD(LSet, epsilon):\n",
    "    result = ArbreBinaire()\n",
    "    if(entropie(LSet) <= epsilon) :\n",
    "        result.ajoute_feuille(classe_majoritaire(LSet))\n",
    "    else :\n",
    "        mini_seuil, mini_ent = discretise(LSet, 0)\n",
    "        indice = 0\n",
    "        for i in range(1, LSet.input_dimension):\n",
    "            seuil, e = discretise(LSet, i)\n",
    "            if( e < mini_ent) :\n",
    "                mini_ent = e\n",
    "                indice = i\n",
    "                mini_seuil = seuil\n",
    "        inf, sup = divise(LSet, indice, mini_seuil)\n",
    "        result.ajoute_fils(construit_AD(inf, epsilon), construit_AD(sup, epsilon), indice, mini_seuil)  \n",
    "    return result  \n",
    "\"\"\"\n",
    "\n",
    "class ArbreDecision(cl.Classifier):\n",
    "    # Constructeur\n",
    "    def __init__(self,epsilon):\n",
    "        # valeur seuil d'entropie pour arrêter la construction\n",
    "        self.epsilon= epsilon\n",
    "        self.racine = None\n",
    "    \n",
    "    # Permet de calculer la prediction sur x => renvoie un score\n",
    "    def predict(self,x):\n",
    "        # classification de l'exemple x avec l'arbre de décision\n",
    "        # on rend 0 (classe -1) ou 1 (classe 1)\n",
    "        classe = self.racine.classifie(x)\n",
    "        if (classe == 1):\n",
    "            return(1)\n",
    "        else:\n",
    "            return(-1)\n",
    "    \n",
    "    # Permet d'entrainer le modele sur un ensemble de données\n",
    "    def train(self,set):\n",
    "        # construction de l'arbre de décision \n",
    "        self.set=set\n",
    "        self.racine = construit_AD(set,self.epsilon)\n",
    "\n",
    "    # Permet d'afficher l'arbre\n",
    "    def plot(self):\n",
    "        gtree = gv.Digraph(format='png')\n",
    "        return self.racine.to_graph(gtree)\n",
    "\n"
   ]
  },
  {
   "cell_type": "code",
   "execution_count": 6,
   "metadata": {},
   "outputs": [],
   "source": [
    "def plot2DSet(set):\n",
    "    \"\"\" LabeledSet -> NoneType\n",
    "        Hypothèse: set est de dimension 2\n",
    "        affiche une représentation graphique du LabeledSet\n",
    "        remarque: l'ordre des labels dans set peut être quelconque\n",
    "    \"\"\"\n",
    "    S_pos = set.x[np.where(set.y == 1),:][0]      # tous les exemples de label +1\n",
    "    S_neg = set.x[np.where(set.y == -1),:][0]     # tous les exemples de label -1\n",
    "    plt.scatter(S_pos[:,0],S_pos[:,1],marker='o') # 'o' pour la classe +1\n",
    "    plt.scatter(S_neg[:,0],S_neg[:,1],marker='x') # 'x' pour la classe -1\n",
    "\n",
    "def plot_frontiere(set,classifier,step=50):\n",
    "    \"\"\" LabeledSet * Classifier * int -> NoneType\n",
    "        Remarque: le 3e argument est optionnel et donne la \"résolution\" du tracé\n",
    "        affiche la frontière de décision associée au classifieur\n",
    "    \"\"\"\n",
    "    mmax=set.x.max(0)\n",
    "    mmin=set.x.min(0)\n",
    "    x1grid,x2grid=np.meshgrid(np.linspace(mmin[0],mmax[0],step),np.linspace(mmin[1],mmax[1],step))\n",
    "    grid=np.hstack((x1grid.reshape(x1grid.size,1),x2grid.reshape(x2grid.size,1)))\n",
    "    \n",
    "    # calcul de la prediction pour chaque point de la grille\n",
    "    res=np.array([classifier.predict(grid[i,:]) for i in range(len(grid)) ])\n",
    "    res=res.reshape(x1grid.shape)\n",
    "    # tracer des frontieres\n",
    "    plt.contourf(x1grid,x2grid,res,colors=[\"red\",\"cyan\"],levels=[-1000,0,1000])\n",
    "    \n",
    "# ------------------------ \n",
    "\n",
    "def createGaussianDataset(positive_center, positive_sigma, negative_center, negative_sigma, nb_points):\n",
    "    \"\"\" \n",
    "        rend un LabeledSet 2D généré aléatoirement.\n",
    "        Arguments:\n",
    "        - positive_center (vecteur taille 2): centre de la gaussienne des points positifs\n",
    "        - positive_sigma (matrice 2*2): variance de la gaussienne des points positifs\n",
    "        - negative_center (vecteur taille 2): centre de la gaussienne des points négative\n",
    "        - negative_sigma (matrice 2*2): variance de la gaussienne des points négative\n",
    "    - nb_points (int):  nombre de points de chaque classe à générer\n",
    "\"\"\"\n",
    "#TODO: A Compléter\n",
    "    x, y = np.random.multivariate_normal(positive_center, positive_sigma, nb_points).T\n",
    "    a, b = np.random.multivariate_normal(negative_center, negative_sigma, nb_points).T\n",
    "    label = ls.LabeledSet(2)\n",
    "    for i in range(len(a)):\n",
    "        label.addExample(np.array([x[i], y[i]]), 1)\n",
    "        label.addExample(np.array([a[i], b[i]]),-1)\n",
    "    return label\n",
    "\n",
    "    raise NotImplementedError(\"Please Implement this method\")\n",
    "    \n",
    "# Exemple d'utilisation de utils\n",
    "\n",
    "the_set = createGaussianDataset(np.array([1,1]),np.array([[1,0],[0,1]]),np.array([-1,-1]),np.array([[1,0],[0,1]]),100)\n",
    "\n",
    "\n",
    "\n",
    "def super_entrainement(n, label, perceptron, show=False) :\n",
    "    x = []\n",
    "    y = []\n",
    "    for i in range(n) :\n",
    "        train, test = split(label)\n",
    "        perceptron.train(train)\n",
    "        train = perceptron.accuracy(test)\n",
    "        if(show):\n",
    "            print(str(i) + \" entrainement\")\n",
    "            print(\"Accuracy \"+str(train)+\"%\\n\")\n",
    "        y.append(train)\n",
    "        x.append(i)\n",
    "    plt.plot(x,y)\n",
    "    plt.xlabel('N')\n",
    "    plt.ylabel('Accuracy')\n",
    "    plt.title('performances accuracy')\n",
    "    plt.legend()\n",
    "    plt.show()\n",
    "    plot_frontiere(test,perceptron)\n",
    "    plot2DSet(test)\n",
    "\n",
    "    \n",
    "    # Fonction pour afficher le LabeledSet\n",
    "def affiche_base(LS):\n",
    "    \"\"\" LabeledSet\n",
    "        affiche le contenu de LS\n",
    "    \"\"\"\n",
    "    for i in range(0,LS.size()):\n",
    "        print(\"Exemple \"+str(i))\n",
    "        print(\"\\tdescription : \",LS.getX(i))\n",
    "        print(\"\\tlabel : \",LS.getY(i))\n",
    "    return\n",
    "\n",
    "def split(label,pourcentage=60) :\n",
    "\n",
    "    size = label.size()\n",
    "\n",
    "    label_train = ls.LabeledSet(label.getInputDimension())\n",
    "    label_test = ls.LabeledSet(label.getInputDimension())\n",
    "    \n",
    "    indice = np.arange(label.size())\n",
    "    temoin = np.random.permutation(indice)\n",
    "    \n",
    "    for i in range (temoin.size) :\n",
    "        if (i < pourcentage*len(temoin)/100):\n",
    "            label_train.addExample(label.getX(temoin[i]), label.getY(temoin[i]))\n",
    "        else : \n",
    "            label_test.addExample(label.getX(temoin[i]), label.getY(temoin[i]))\n",
    "\n",
    "    return (label_train, label_test)"
   ]
  },
  {
   "cell_type": "markdown",
   "metadata": {},
   "source": [
    "<font color=\"RED\" size=\"+1\">**[Q]**</font> Modifier la fonction <code>construit_ad</code> afin d'utiliser le gain d'information comme critère d'arrêt. \n",
    "\n",
    "L'algorithme est modifié ainsi:\n",
    "\n",
    "Pour construire un arbre de décision, il faut réaliser les étapes suivantes:\n",
    "- si l'entropie de Shannon de l'ensemble courant est inférieure à epsilon (réel positif fixé et qui est un paramètre de l'algorithme), alors construire une feuille avec cet ensemble, la classe associée à cette feuille est la classe majoritaire;\n",
    "- sinon, pour chaque attribut, calculer le seuil de discrétisation et l'entropie de Shannon correspondante\n",
    "    - choisir l'attribut qui donne une valeur d'entropie minimale\n",
    "    - regarder le gain d'information apporté par le test sur les valeurs de cet attribut\n",
    "        - si ce gain est inférieur à epsilon alors construire une feuille avec l'ensemble\n",
    "        - sinon l'attribut choisi sert à constituer un noeud de l'arbre de décision, les arcs issus de ce noeud sont labeller par un test (inférieur ou égal ou supérieur) par rapport au seuil trouvé\n",
    "    \n",
    "On rappelle (cf. cours) que le gain d'information vaut:\n",
    "\n",
    "$$I-s(A_j,Y) = D(Y) - Q_Y(A_j)$$\n",
    "\n",
    "avec $D(Y)$, l'entropie de Shannon de l'ensemble courant, et $Q_Y(A_j)$ l'entropie de de la classe pour la coupure par le seuil trouvé sur l'attribut $A_j$).\n",
    "\n"
   ]
  },
  {
   "cell_type": "code",
   "execution_count": 7,
   "metadata": {},
   "outputs": [],
   "source": [
    "def construit_AD(LSet, epsilon):\n",
    "    result = ArbreBinaire()\n",
    "    if(entropie(LSet) < epsilon) :\n",
    "        result.ajoute_feuille(classe_majoritaire(LSet))\n",
    "    else :\n",
    "        mini_seuil, mini_ent = discretise(LSet, 0)\n",
    "        indice = 0\n",
    "        for i in range(1, LSet.input_dimension):\n",
    "            seuil, e = discretise(LSet, i)\n",
    "            if( e < mini_ent) :\n",
    "                mini_ent = e\n",
    "                indice = i\n",
    "                mini_seuil = seuil\n",
    "        inf, sup = divise(LSet, indice, mini_seuil)\n",
    "        gain = entropie(LSet) - mini_ent\n",
    "        if (gain >= epsilon) :\n",
    "            result.ajoute_fils(construit_AD(inf, epsilon), construit_AD(sup, epsilon), indice, mini_seuil)\n",
    "        else :\n",
    "            result.ajoute_feuille(classe_majoritaire(LSet))\n",
    "    return result\n",
    "\n"
   ]
  },
  {
   "cell_type": "markdown",
   "metadata": {},
   "source": [
    "## Etape 2: Bagging d'arbres de décision\n",
    "\n",
    "### Tirage aléatoire d'exemples\n",
    "\n",
    "Le bootstrap s'effectue en tirant aléatoirement un échantillon de $m$ exemples à partir de la base d'apprentissage $X$. Cet échantillon sert ensuite à construire un classifieur.\n",
    "\n",
    "Dans l'algorithme du bagging, ce processus est répété $B$ fois.\n",
    "\n",
    "Afin de ne pas alourdir la place mémoire nécessaire pour réaliser un tel tirage, on ne travaille que sur les indices des exemples dans la base. Un **échantillon de $X$ est donc un vecteur d'entiers** qui représentent les indices des exemples choisis.\n"
   ]
  },
  {
   "cell_type": "markdown",
   "metadata": {},
   "source": [
    "#### Tirages aléatoires en Python\n",
    "\n",
    "Consulter la librairie Python random qui propose différentes fonctions utiles pour implémenter le tirage aléatoire du bootstrap.\n",
    "\n",
    "Par exemple, la fonction <code>sample()</code> de la librairie <code>random</code> rend une sélection aléatoire dans une population donnée en réalisant un tirage sans remise.\n",
    "\n",
    "Pour tester, exécuter plusieurs fois les instructions de la boîte suivante :"
   ]
  },
  {
   "cell_type": "code",
   "execution_count": 8,
   "metadata": {},
   "outputs": [
    {
     "name": "stdout",
     "output_type": "stream",
     "text": [
      "La liste L de départ:  [0, 1, 2, 3, 4, 5, 6, 7, 8, 9, 10]\n",
      "Echantillon:  [7, 10, 0, 5, 4, 9]\n"
     ]
    }
   ],
   "source": [
    "import random\n",
    "L= [i for i in range(0,11)]             # construction de la liste des entiers de 0 à 10\n",
    "print(\"La liste L de départ: \",L)\n",
    "EchL = random.sample(L,6)               # tirage de 6 éléments de L\n",
    "print(\"Echantillon: \",EchL)"
   ]
  },
  {
   "cell_type": "markdown",
   "metadata": {},
   "source": [
    "La fonction <code>choice()</code> permet de choisir aléatoirement un élément:"
   ]
  },
  {
   "cell_type": "code",
   "execution_count": 9,
   "metadata": {},
   "outputs": [
    {
     "name": "stdout",
     "output_type": "stream",
     "text": [
      "La liste L de départ:  [0, 1, 2, 3, 4, 5, 6, 7, 8, 9, 10]\n",
      "Element choisi:  2\n"
     ]
    }
   ],
   "source": [
    "L= [i for i in range(0,11)]             # construction de la liste des entiers de 0 à 10\n",
    "print(\"La liste L de départ: \",L)\n",
    "elt = random.choice(L)                  # choix d'un élémént\n",
    "print(\"Element choisi: \",elt)"
   ]
  },
  {
   "cell_type": "markdown",
   "metadata": {},
   "source": [
    "<font color=\"RED\" size=\"+1\">**[Q]**</font> Ecrire une fonction <code>tirage()</code> qui étant donné un vecteur d'entiers $VX$ qui représente l'ensemble des indices des exemples d'une base d'apprentissage $X$, un entier $m$, et un booléen $r$, rend un vecteur de $m$ indices choisis aléatoirement dans $VX$. Si le booléen $r$ est vrai, le tirage s'effectue *avec remise*, sinon il s'effectue *sans remise*."
   ]
  },
  {
   "cell_type": "code",
   "execution_count": 10,
   "metadata": {},
   "outputs": [],
   "source": [
    "def tirage(vx, m, r) :\n",
    "    if (r == True) :\n",
    "        t = []\n",
    "        for i in range(m) :\n",
    "            t.append(random.choice(vx))\n",
    "        return t\n",
    "    else :\n",
    "        return random.sample(vx,m)"
   ]
  },
  {
   "cell_type": "markdown",
   "metadata": {},
   "source": [
    "Exemples :"
   ]
  },
  {
   "cell_type": "code",
   "execution_count": 11,
   "metadata": {},
   "outputs": [
    {
     "data": {
      "text/plain": [
       "[72, 45, 36, 14, 72, 3, 34, 57]"
      ]
     },
     "execution_count": 11,
     "metadata": {},
     "output_type": "execute_result"
    }
   ],
   "source": [
    "L= [i for i in range(0,100)]    # construction de la liste des entiers de 0 à 100\n",
    "tirage(L,8,True)               # tirage avec remise"
   ]
  },
  {
   "cell_type": "code",
   "execution_count": 12,
   "metadata": {},
   "outputs": [
    {
     "data": {
      "text/plain": [
       "[73, 11, 95, 96, 62, 74, 52, 91]"
      ]
     },
     "execution_count": 12,
     "metadata": {},
     "output_type": "execute_result"
    }
   ],
   "source": [
    "tirage(L,8,False)               # tirage sans remise"
   ]
  },
  {
   "cell_type": "markdown",
   "metadata": {
    "collapsed": true
   },
   "source": [
    "<font color=\"RED\" size=\"+1\">**[Q]**</font> En utilisant la fonction précédente, écrire la fonction <code>echantillonLS()</code> qui, étant donné un <code>LabeledSet</code> $X$, un nombre entier $m$, et un booléen rend un échantillon de $X$ de taille $m$ sous la forme d'un <code>LabeledSet</code>. L'échantillon est obtenu par un tirage avec remise si le booléen est True, sinon, il est obtenu sans remise."
   ]
  },
  {
   "cell_type": "code",
   "execution_count": 13,
   "metadata": {},
   "outputs": [
    {
     "name": "stdout",
     "output_type": "stream",
     "text": [
      "\n",
      "\n",
      "\n",
      "Exemple 0\n",
      "\tdescription :  [2.32319808 0.5365778 ]\n",
      "\tlabel :  [1]\n",
      "Exemple 1\n",
      "\tdescription :  [ 0.29752582 -0.66250455]\n",
      "\tlabel :  [1]\n",
      "Exemple 2\n",
      "\tdescription :  [-1.3959684  -0.94380708]\n",
      "\tlabel :  [-1]\n",
      "Exemple 3\n",
      "\tdescription :  [1.20583099 3.50817309]\n",
      "\tlabel :  [1]\n",
      "Exemple 4\n",
      "\tdescription :  [ 0.60951744 -2.88593327]\n",
      "\tlabel :  [-1]\n",
      "Exemple 5\n",
      "\tdescription :  [1.6694259  0.31368798]\n",
      "\tlabel :  [1]\n",
      "Exemple 6\n",
      "\tdescription :  [-0.84587452  0.76176619]\n",
      "\tlabel :  [-1]\n",
      "Exemple 7\n",
      "\tdescription :  [ 0.81167009 -1.17927661]\n",
      "\tlabel :  [-1]\n",
      "Exemple 8\n",
      "\tdescription :  [2.10492662 1.10648471]\n",
      "\tlabel :  [1]\n",
      "Exemple 9\n",
      "\tdescription :  [ 0.04707993 -1.97596266]\n",
      "\tlabel :  [-1]\n"
     ]
    }
   ],
   "source": [
    "def echantillonLS(x, m, r):\n",
    "    vx = [x for x in range(x.size())]\n",
    "    t = tirage(vx, m, r)\n",
    "    label = ls.LabeledSet(x.input_dimension)\n",
    "    for i in t:\n",
    "        label.addExample(x.getX(i), x.getY(i))\n",
    "    return label\n",
    "\n",
    "#ut.affiche_base(set_exemples)\n",
    "print(\"\\n\\n\")\n",
    "affiche_base(echantillonLS(set_exemples, 10, False))"
   ]
  },
  {
   "cell_type": "markdown",
   "metadata": {},
   "source": [
    "<font color=\"RED\" size=\"+1\">**[Q]**</font> Ecrire la classe <code>ClassifierBaggingTree</code>, dérivée de la classe <code>Classifier</code>, qui permet d'implémenter un bagging d'arbres de décision. Les spécifications de cette classe sont :\n",
    "- la création de l'ensemble nécessite les paramètres suivants : \n",
    "    - le nombre $B$ d'arbres à construire, \n",
    "    - le pourcentage d'exemples de la base d'apprentissage utilisés pour constituer un échantillon, \n",
    "    - un booléen qui précise si un échantillon est tiré avec ou sans remise\n",
    "    - et la valeur de seuil d'entropie pour arrêter la construction de chaque arbre, \n",
    "- l'apprentissage (méthode <code>train()</code>) construit autant d'arbres que précisé à la création. Chaque arbre est construit à partir d'un échantillon de la base d'apprentissage (<code>LabeledSet</code>) donnée en argument. Les arbres construits sont stockés dans un ensemble Python.\n",
    "- la prédiction (méthode <code>predict()</code>) classe un exemple par vote de tous les arbres de la forêt. Si la somme des votes est positive ou nulle, la classe rendue est +1, sinon, la classe rendue est -1."
   ]
  },
  {
   "cell_type": "code",
   "execution_count": 14,
   "metadata": {},
   "outputs": [],
   "source": [
    "class ClassifierBaggingTree(cl.Classifier):\n",
    "\n",
    "  \n",
    "    def __init__(self, B, pourcentage, b, seuil):\n",
    "        self.B = B\n",
    "        self.pourcentage = pourcentage \n",
    "        self.b = b\n",
    "        self.seuil = seuil\n",
    "        self.ensemble = []\n",
    "        \n",
    "    def predict(self, x):\n",
    "        plus = 0\n",
    "        moins = 0\n",
    "        for i in range(self.B) :\n",
    "            if (self.ensemble[i].predict(x) > 0):\n",
    "                plus += 1\n",
    "            else :\n",
    "                moins += 1\n",
    "        if plus > moins :\n",
    "            return 1\n",
    "        return -1\n",
    "\n",
    "    def train(self, labeledSet, epsilon=0) :\n",
    "        for i in range(self.B):\n",
    "            a = int(labeledSet.size()*self.pourcentage)\n",
    "            e  = echantillonLS(labeledSet,a, self.b)\n",
    "            \n",
    "            decision = ArbreDecision(epsilon)\n",
    "            decision.train(e)\n",
    "            self.ensemble.append(decision)\n",
    "    "
   ]
  },
  {
   "cell_type": "code",
   "execution_count": 15,
   "metadata": {},
   "outputs": [
    {
     "name": "stdout",
     "output_type": "stream",
     "text": [
      "exemple: 0  vraie classe =  [1] - classe trouvee =  1\n",
      "exemple: 1  vraie classe =  [1] - classe trouvee =  1\n",
      "exemple: 2  vraie classe =  [1] - classe trouvee =  1\n",
      "exemple: 3  vraie classe =  [1] - classe trouvee =  1\n",
      "exemple: 4  vraie classe =  [1] - classe trouvee =  1\n",
      "exemple: 5  vraie classe =  [1] - classe trouvee =  1\n",
      "exemple: 6  vraie classe =  [1] - classe trouvee =  -1\n",
      "exemple: 7  vraie classe =  [1] - classe trouvee =  1\n",
      "exemple: 8  vraie classe =  [1] - classe trouvee =  1\n",
      "exemple: 9  vraie classe =  [1] - classe trouvee =  1\n",
      "exemple: 10  vraie classe =  [-1] - classe trouvee =  -1\n",
      "exemple: 11  vraie classe =  [-1] - classe trouvee =  -1\n",
      "exemple: 12  vraie classe =  [-1] - classe trouvee =  -1\n",
      "exemple: 13  vraie classe =  [-1] - classe trouvee =  -1\n",
      "exemple: 14  vraie classe =  [-1] - classe trouvee =  1\n",
      "exemple: 15  vraie classe =  [-1] - classe trouvee =  1\n",
      "exemple: 16  vraie classe =  [-1] - classe trouvee =  -1\n",
      "exemple: 17  vraie classe =  [-1] - classe trouvee =  1\n",
      "exemple: 18  vraie classe =  [-1] - classe trouvee =  -1\n",
      "exemple: 19  vraie classe =  [-1] - classe trouvee =  1\n",
      "\n",
      "accuracy totale: 75.0\n"
     ]
    },
    {
     "data": {
      "image/png": "[encoded data removed]",
      "text/plain": [
       "<Figure size 432x288 with 1 Axes>"
      ]
     },
     "metadata": {
      "needs_background": "light"
     },
     "output_type": "display_data"
    }
   ],
   "source": [
    "foret = ClassifierBaggingTree(10,0.3,0.0,False)\n",
    "foret.train(set_exemples)\n",
    "for i in range(set_exemples.size()):\n",
    "    print(\"exemple:\",i,\" vraie classe = \", set_exemples.getY(i), \"- classe trouvee = \", foret.predict(set_exemples.getX(i)))\n",
    "    \n",
    "plot_frontiere(set_exemples,foret,20)\n",
    "plot2DSet(set_exemples) \n",
    "\n",
    "print(\"\\naccuracy totale:\",foret.accuracy(set_exemples))"
   ]
  },
  {
   "cell_type": "markdown",
   "metadata": {},
   "source": [
    "### Expérimentations\n",
    "\n",
    "<font color=\"RED\" size=\"+1\">**[Q]**</font> Expérimenter l'algorithme précédent de la façon suivante :\n",
    "- générer une base d'apprentissage $X$ contenant au moins 1000 exemples ;\n",
    "- réaliser un échantillon de cette base contenant 50 exemples de chaque classe. Soit $E$ cet échantillon, et soit $F$ l'ensemble des exemples de $X$ qui ne sont pas dans $E$ ;\n",
    "- réaliser un apprentissage par bagging sur $F$ et évaluer le taux de prédiction du modèle obtenu sur $E$ ;\n",
    "- construire la courbe donnant le taux de prédiction obtenu en augmentant la taille de la forêt d'arbres de 1 à 20 arbres. "
   ]
  },
  {
   "cell_type": "code",
   "execution_count": 16,
   "metadata": {},
   "outputs": [
    {
     "data": {
      "image/png": "[encoded data removed]",
      "text/plain": [
       "<Figure size 432x288 with 1 Axes>"
      ]
     },
     "metadata": {
      "needs_background": "light"
     },
     "output_type": "display_data"
    }
   ],
   "source": [
    "autre_set=createGaussianDataset(np.array([1,1]),np.array([[1,0],[0,1]]),np.array([-1,-1]),np.array([[1,0],[0,1]]),500)\n",
    "i = 0\n",
    "b = 50\n",
    "c = 50\n",
    "E = ls.LabeledSet(2)\n",
    "F = ls.LabeledSet(2)\n",
    "for i in range(autre_set.size()):\n",
    "    if(autre_set.getY(i) == 1 and b>0):\n",
    "        E.addExample(autre_set.getX(i), autre_set.getY(i))\n",
    "        b -= 1\n",
    "    elif(autre_set.getY(i) == -1 and c>0):\n",
    "        E.addExample(autre_set.getX(i), autre_set.getY(i))\n",
    "        c -= 1\n",
    "    else:\n",
    "        F.addExample(autre_set.getX(i), autre_set.getY(i))\n",
    "    \n",
    "foret = ClassifierBaggingTree(20,0.1,0.0,False)\n",
    "foret.train(F)\n",
    "\n",
    "#ut.plot_frontiere(E,foret,20)\n",
    "#ut.plot2DSet(E)\n",
    "\n",
    "x=[]\n",
    "y=[]\n",
    "x2=[]\n",
    "y2=[]\n",
    "for i in range(20):\n",
    "    foret = ClassifierBaggingTree(i,0.1,0.0,False)\n",
    "    foret.train(F)\n",
    "    y.append(foret.accuracy(F))\n",
    "    x.append(i)\n",
    "    foret = ClassifierBaggingTree(i,0.1,0.0,False)\n",
    "    foret.train(E)\n",
    "    y2.append(foret.accuracy(E))\n",
    "    x2.append(i)\n",
    "    \n",
    "plt.plot(x, y, label='linear')\n",
    "plt.plot(x2, y2, label='linear')\n",
    "plt.show()\n",
    "    "
   ]
  },
  {
   "cell_type": "code",
   "execution_count": 17,
   "metadata": {},
   "outputs": [
    {
     "name": "stdout",
     "output_type": "stream",
     "text": [
      "Bagging : 20 trees: accuracy totale: train=93.0000 test=87.5556\n"
     ]
    },
    {
     "data": {
      "image/png": "[encoded data removed]",
      "text/plain": [
       "<Figure size 432x288 with 1 Axes>"
      ]
     },
     "metadata": {
      "needs_background": "light"
     },
     "output_type": "display_data"
    }
   ],
   "source": [
    "# Réaliser un apprentissage par bagging sur E et évaluer le taux de prédiction du modèle sur F\n",
    "foret20 =  ClassifierBaggingTree(20,0.3,0.0,True)\n",
    "foret20.train(E)\n",
    "print(\"Bagging : 20 trees: accuracy totale: train=%.4f test=%.4f\"%(foret20.accuracy(E),foret20.accuracy(F)))\n",
    "\n",
    "plot_frontiere(F,foret20,20)\n",
    "plot2DSet(F)"
   ]
  },
  {
   "cell_type": "code",
   "execution_count": 18,
   "metadata": {},
   "outputs": [
    {
     "data": {
      "image/png": "[encoded data removed]",
      "text/plain": [
       "<Figure size 432x288 with 1 Axes>"
      ]
     },
     "metadata": {
      "needs_background": "light"
     },
     "output_type": "display_data"
    }
   ],
   "source": [
    "x=[]\n",
    "y=[]\n",
    "x2=[]\n",
    "y2=[]\n",
    "for i in range(20):\n",
    "    foret = ClassifierBaggingTree(i,0.1,0.0,False)\n",
    "    foret.train(F)\n",
    "    y.append(foret.accuracy(F))\n",
    "    x.append(i)\n",
    "    foret = ClassifierBaggingTree(i,0.1,0.0,False)\n",
    "    foret.train(E)\n",
    "    y2.append(foret.accuracy(E))\n",
    "    x2.append(i)\n",
    "    \n",
    "plt.plot(x, y, label='linear')\n",
    "plt.plot(x2, y2, label='linear')\n",
    "plt.show()"
   ]
  },
  {
   "cell_type": "code",
   "execution_count": null,
   "metadata": {},
   "outputs": [],
   "source": []
  },
  {
   "cell_type": "markdown",
   "metadata": {},
   "source": [
    "### Evaluation par la méthode \"Out Of Bags\"\n",
    "\n",
    "<font color=\"RED\" size=\"+1\">**[Q]**</font> Sur les mêmes données, réaliser une évaluation par la méthode \"Out Of Bags\" vue en cours. Construire la courbe donnant le taux de prédiction OOB en fonction de la taille de la forêt d'arbres.\n",
    "\n",
    "Pour cela, écrire la classe <code>ClassifierBaggingTreeOOB</code> qui étend la classe d'un classifieur bagging pour prendre en compte la spécificité de l'approche OOB.\n",
    "Ainsi, à partir de $\\mathcal{X}$, l'ensemble des données d'apprentissage, chaque arbre $A_i$ de la forêt est associé à 2 sous-ensembles de $\\mathcal{X}$: \n",
    "- $\\mathcal{X}_i$: l'échantillon bootstrap qui sert à construire l'arbre $A_i$\n",
    "- $\\mathcal{T}_i$: l'ensemble des exemples OOB associés à l'arbre $A_i$\n",
    "\n",
    "Le calcul du taux de bonne classification s'effectuera comme suit:\n",
    "- soit $t_i$ le taux de bonne classification de $A_i$ pour l'ensemble OOB $\\mathcal{T}_i$\n",
    "- le taux de global de bonne classification de la forêt d'arbres $A_1$,..., $A_B$ est donné par $\\frac{1}{B}\\sum_{i=1}^{B} t_i$\n"
   ]
  },
  {
   "cell_type": "code",
   "execution_count": 19,
   "metadata": {},
   "outputs": [],
   "source": [
    "class ClassifierBaggingTreeOOB(ClassifierBaggingTree):\n",
    "    \n",
    "    def __init__(self, B, pourcentage, b, seuil):\n",
    "        super().__init__(B, pourcentage, b, seuil)\n",
    "        self.taux = []\n",
    "        self.X = []\n",
    "        self.T = []\n",
    "    \n",
    "    def train(self, labeledSet, epsilon=0) :\n",
    "        for i in range(self.B):\n",
    "            a = int(labeledSet.size()*self.pourcentage)\n",
    "            e  = echantillonLS(labeledSet,a, self.b)\n",
    "            self.T.append(labeledSet)\n",
    "            self.X.append(e)\n",
    "            decision = ArbreDecision(epsilon)\n",
    "            decision.train(e)\n",
    "            self.ensemble.append(decision)\n",
    "    \n",
    "    def calcul(self):\n",
    "        for i in range(1,self.B+1):\n",
    "            foret = ClassifierBaggingTreeOOB(self.B, self.pourcentage, self.b, self.seuil)\n",
    "            foret.train(self.X[i-1])\n",
    "            self.taux.append(foret.accuracy(self.T[i-1]))\n",
    "        return np.sum(self.taux)/self.B"
   ]
  },
  {
   "cell_type": "code",
   "execution_count": 20,
   "metadata": {},
   "outputs": [],
   "source": [
    "foret201 =  ClassifierBaggingTreeOOB(20,0.3,0.0,True)\n",
    "foret201.train(E)\n",
    "#foret201.calcul()"
   ]
  },
  {
   "cell_type": "code",
   "execution_count": 21,
   "metadata": {},
   "outputs": [
    {
     "name": "stdout",
     "output_type": "stream",
     "text": [
      "50.0\n",
      "70.0\n",
      "72.0\n",
      "87.0\n",
      "88.0\n",
      "87.0\n",
      "88.0\n",
      "92.0\n",
      "80.0\n",
      "89.0\n",
      "88.0\n",
      "89.0\n",
      "87.0\n",
      "87.0\n",
      "89.0\n",
      "88.0\n",
      "90.0\n",
      "90.0\n",
      "90.0\n",
      "88.0\n"
     ]
    },
    {
     "data": {
      "image/png": "[encoded data removed]",
      "text/plain": [
       "<Figure size 432x288 with 1 Axes>"
      ]
     },
     "metadata": {
      "needs_background": "light"
     },
     "output_type": "display_data"
    }
   ],
   "source": [
    "x=[]\n",
    "y=[]\n",
    "x2=[]\n",
    "y2=[]\n",
    "for i in range(20):\n",
    "    foret = ClassifierBaggingTreeOOB(i,0.1,0.0,False)\n",
    "    foret.train(F)\n",
    "    y.append(foret.accuracy(F))\n",
    "    x.append(i)\n",
    "    foret = ClassifierBaggingTreeOOB(i,0.1,0.0,False)\n",
    "    foret.train(E)\n",
    "    y2.append(foret.accuracy(E))\n",
    "    print(foret.accuracy(E))\n",
    "    x2.append(i)\n",
    "    \n",
    "plt.plot(x, y, label='linear')\n",
    "plt.plot(x2, y2, label='linear')\n",
    "plt.title(\"accuracy\")\n",
    "plt.show()"
   ]
  },
  {
   "cell_type": "code",
   "execution_count": 25,
   "metadata": {},
   "outputs": [
    {
     "data": {
      "image/png": "[encoded data removed]",
      "text/plain": [
       "<Figure size 432x288 with 1 Axes>"
      ]
     },
     "metadata": {
      "needs_background": "light"
     },
     "output_type": "display_data"
    }
   ],
   "source": [
    "x=[]\n",
    "y=[]\n",
    "x2=[]\n",
    "y2=[]\n",
    "\n",
    "\n",
    "for i in range(1,21):\n",
    "    foret = ClassifierBaggingTreeOOB(i,0.1,0.0,False)\n",
    "    foret.train(E)\n",
    "    x2.append(i)\n",
    "    y2.append(foret.calcul())\n",
    "    foret = ClassifierBaggingTreeOOB(i,0.1,0.0,True)\n",
    "    foret.train(F)\n",
    "    x.append(i)\n",
    "    y.append(foret.calcul())\n",
    "\n",
    "\n",
    "\n",
    "    \n",
    "\n",
    "plt.plot(x, y, label='linear')\n",
    "plt.plot(x2, y2, label='linear')\n",
    "plt.title(\"OOB\")\n",
    "plt.show()    \n",
    "    "
   ]
  },
  {
   "cell_type": "markdown",
   "metadata": {
    "collapsed": true
   },
   "source": [
    "## Etape 3: Random forests\n",
    "\n",
    "<font color=\"RED\" size=\"+1\">**[Q]**</font> Ecrire et tester la classe <code>ClassifierRandomForest</code> qui implémente l'algorithme des random forests vu en cours.\n",
    "\n",
    "Pour cela, vous devrez:\n",
    "- définir une méthode <code>construit_AD_aleatoire(LSet,epsilon,nbatt)</code> qui utilise $nbatt$ attributs choisis aléatoirement à chaque niveau de la construction de l'arbre\n",
    "- définir une nouvelle classe <code>ArbreDecisionAleatoire</code> qui étend la classe <code>ArbreDecision</code> en surchargeant la méthode <code>train</code>. Le constructeur d'un tel arbre prendra en argument le nombre d'attributs à utiliser lors de la construction de l'arbre."
   ]
  },
  {
   "cell_type": "code",
   "execution_count": null,
   "metadata": {},
   "outputs": [],
   "source": [
    "def construit_AD_aleatoire(LSet,epsilon,nbatt):\n",
    "    result = ArbreBinaire()\n",
    "    if(entropie(LSet) < epsilon) :\n",
    "        result.ajoute_feuille(classe_majoritaire(LSet))\n",
    "    else :\n",
    "        res = []\n",
    "        for j in range(nbatt):\n",
    "            mini_seuil, mini_ent = discretise(LSet, 0)\n",
    "            indice = 0\n",
    "            for i in range(1, LSet.input_dimension):\n",
    "                seuil, e = discretise(LSet, i)\n",
    "                if( (e < mini_ent) and (i not in res)) :\n",
    "                    mini_ent = e\n",
    "                    indice = i\n",
    "                    mini_seuil = seuil\n",
    "            res.append(indice)\n",
    "            inf, sup = divise(LSet, indice, mini_seuil)\n",
    "            gain = entropie(LSet) - mini_ent\n",
    "            if (gain >= epsilon) :\n",
    "                result.ajoute_fils(construit_AD(inf, epsilon), construit_AD(sup, epsilon), indice, mini_seuil)\n",
    "            else :\n",
    "                result.ajoute_feuille(classe_majoritaire(LSet))\n",
    "    return result \n",
    "\n",
    "\n",
    "\n",
    "\"\"\"abin = construit_AD_aleatoire(the_set,0.0,2)\n",
    "gtree = gv.Digraph(format='png')\n",
    "abin.to_graph(gtree)\"\"\""
   ]
  },
  {
   "cell_type": "code",
   "execution_count": null,
   "metadata": {},
   "outputs": [],
   "source": [
    "class ArbreDecisionAleatoire (ArbreDecision):\n",
    "        def __init__(self,epsilon, nbatt):\n",
    "            # valeur seuil d'entropie pour arrêter la construction\n",
    "            self.epsilon= epsilon\n",
    "            self.racine = None\n",
    "            self.nbatt = nbatt\n",
    "        \n",
    "        def train(self,set):\n",
    "            # construction de l'arbre de décision \n",
    "            self.set=set\n",
    "            self.racine = construit_AD_aleatoire(set,self.epsilon,self.nbatt)"
   ]
  },
  {
   "cell_type": "code",
   "execution_count": null,
   "metadata": {},
   "outputs": [],
   "source": [
    "class ClassifierRandomForest(ClassifierBaggingTreeOOB):\n",
    "    \n",
    "    def __init__(self, B, pourcentage, b, seuil):\n",
    "        super().__init__(B, pourcentage, b, seuil)\n",
    "        self.taux = []\n",
    "        self.X = []\n",
    "        self.T = []\n",
    "        \n",
    "    def predict(self, x):\n",
    "        plus = 0\n",
    "        moins = 0\n",
    "        for i in range(self.B) :\n",
    "            if (self.ensemble[i].predict(x) > 0):\n",
    "                plus += 1\n",
    "            else :\n",
    "                moins += 1\n",
    "        if plus > moins :\n",
    "            return 1\n",
    "        return -1\n",
    "\n",
    "    def train(self, labeledSet, epsilon=0) :\n",
    "        for i in range(self.B):\n",
    "            a = int(labeledSet.size()*self.pourcentage)\n",
    "            e  = echantillonLS(labeledSet,a, self.b)\n",
    "            self.T.append(labeledSet)\n",
    "            self.X.append(e)\n",
    "            nbatt = np.random.randint(1, labeledSet.input_dimension+1)\n",
    "            decision = ArbreDecisionAleatoire(epsilon, nbatt)\n",
    "            decision.train(e)\n",
    "            self.ensemble.append(decision)\n",
    "            \n",
    "\n",
    "    \n",
    "foret_alea =  ClassifierRandomForest(20,0.3,0.0,True)\n",
    "foret20.train(E)\n",
    "print(\"Bagging : 20 trees: accuracy totale: train=%.4f test=%.4f\"%(foret20.accuracy(E),foret20.accuracy(F)))\n",
    "\n",
    "plot_frontiere(F,foret20,20)\n",
    "plot2DSet(F)"
   ]
  },
  {
   "cell_type": "markdown",
   "metadata": {},
   "source": [
    "## Etape 4: expérimentation\n",
    "\n",
    "<font color=\"RED\" size=\"+1\">**[Q]**</font> Comparer le bagging d'arbres et les random forests sur d'autres bases d'apprentissage (réelles ou générées aléatoirement). Construire la courbe donnant le taux de prédiction pour une forêt d'arbres variant de 1 à 100 arbres (cela peut prendre du temps, tester sur un nombre réduit d'arbres dans un premier temps)."
   ]
  },
  {
   "cell_type": "code",
   "execution_count": null,
   "metadata": {},
   "outputs": [],
   "source": [
    "x=[]\n",
    "y=[]\n",
    "x_alea = []\n",
    "y_alea = []\n",
    "\n",
    "for i in range(1,101):\n",
    "    foret = ClassifierBaggingTree(i,0.1,0.0,True)\n",
    "    foret.train(E)\n",
    "    y.append(foret.accuracy(F))\n",
    "    x.append(i)\n",
    "    foret_alea = ClassifierRandomForest(i,0.1,0.0,True)\n",
    "    foret_alea.train(E)\n",
    "    y_alea.append(foret_alea.accuracy(F))\n",
    "    x_alea.append(i)\n",
    "    \n",
    "\n",
    "plt.plot(x, y, label='linear')\n",
    "plt.plot(x_alea, y_alea, label='linear')\n",
    "plt.title(\"comparaison entre l'algorithme bagging tree et random forest\")\n",
    "plt.show()     "
   ]
  },
  {
   "cell_type": "markdown",
   "metadata": {},
   "source": [
    "## Exercices à faire chez vous (sur papier)\n",
    "\n",
    "Pour vous entraîner sans machine... *(exercice de l'examen 2017)*\n",
    "\n",
    "Soit $V=\\{v_{1}, v_{2},..., v_{n}\\}$ un ensemble de $n$ valeurs réelles ordonnées,\n",
    "  telles que $v_1 \\geq v_2 \\geq \\ldots \\geq v_{n}$.. On note $\\bar{v}$ la valeur moyenne de $V$. La variance de $V$, $var(V)$ est définie par:\n",
    "$var(V) = \\frac{1}{n} \\sum_{i=1}^{n} (v_{i} - \\bar{v})^2$. \n",
    "\n",
    "Et soit $W=\\{w_{1}, w_{2},..., w_{n}\\}$ tel que,pour tout $i=1,...,n$.\n",
    "\n",
    "\n",
    "** [Q] ** Donner l'expression de $\\bar{v}$ en fonction des valeurs de $V$.\n",
    "\n",
    "** [Q] **  Montrer que $var(aV+b) = a^2 var(V)$.\n",
    "\n",
    "** [Q] ** Donner l'expression de $V\\cdot W$ (le produit scalaire) en fonction des coordonnées\n",
    "   de $V$ et de $W$.\n",
    "   \n",
    "** [Q] ** Comment doit-on définir $W$ si on souhaite que $V\\cdot W = \\bar{v}$ ?\n",
    "\n",
    "\n",
    "** [Q] ** Comment doit-on définir $W$ si on souhaite que\n",
    "   $V\\cdot W = \\displaystyle\\max_{i=1,...n} v_i$ ? Même question si on souhaite que\n",
    "   $V\\cdot W = \\displaystyle\\min_{i=1,...n} v_i$ ?\n",
    "\n",
    "** [Q] ** Soit un entier $k$ tel que $0<k\\leq n$. Proposer une définition de $W$ qui, par le\n",
    "   calcul du produit scalaire, permet de ne tenir compte, de façon équitable, que des $k$\n",
    "   valeurs les plus élevées de $V$.\n",
    "\n"
   ]
  },
  {
   "cell_type": "code",
   "execution_count": null,
   "metadata": {},
   "outputs": [],
   "source": []
  }
 ],
 "metadata": {
  "kernelspec": {
   "display_name": "Python 3",
   "language": "python",
   "name": "python3"
  },
  "language_info": {
   "codemirror_mode": {
    "name": "ipython",
    "version": 3
   },
   "file_extension": ".py",
   "mimetype": "text/x-python",
   "name": "python",
   "nbconvert_exporter": "python",
   "pygments_lexer": "ipython3",
   "version": "3.7.1"
  }
 },
 "nbformat": 4,
 "nbformat_minor": 1
}
