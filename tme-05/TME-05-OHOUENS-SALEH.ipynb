{
 "cells": [
  {
   "cell_type": "markdown",
   "metadata": {},
   "source": [
    "IA & Data science (3i026) -- 2018-2019\n",
    "--------\n",
    "*&copy; Equipe pédagogique: Manon Ansart, Vincent Guigue, Marie-Jeanne Lesot, Christophe Marsala, Olivier Schwander.*"
   ]
  },
  {
   "cell_type": "markdown",
   "metadata": {},
   "source": [
    "# TD-TME05: les arbres de décision\n",
    "\n",
    "L'objectif de ce TP est d'implémenter un algorithme d'apprentissage supervisé, l'algorithme de construction d'arbres de décision vu en cours.\n",
    "\n",
    "Dans un premier temps, nous allons nous restreindre à un cas binaire où les classes sont étiquetées $+1$ ou $-1$. De plus, nous allons ne considérer que le cas où les attributs sont tous numériques et on ne construit que des arbres avec des noeuds binaires (ie. qui ne contiennent que 2 branches sortantes)."
   ]
  },
  {
   "cell_type": "markdown",
   "metadata": {},
   "source": [
    "<font size=\"+1\" color=\"RED\">**[Q]**</font> **Indiquer dans la boîte ci-dessous vos noms et prénoms :**"
   ]
  },
  {
   "cell_type": "markdown",
   "metadata": {},
   "source": [
    "Ryan OHOUENS et Sarah SALEH"
   ]
  },
  {
   "cell_type": "markdown",
   "metadata": {},
   "source": [
    "<font color=\"RED\" size=\"+1\">**[Q]**</font> **Renommer ce fichier ipython**\n",
    "\n",
    "Tout en haut de cette page, cliquer sur <tt>tme-05</tt> et rajouter à la suite de <tt>tme-05</tt> les noms des membres du binômes séparés par un tiret."
   ]
  },
  {
   "cell_type": "markdown",
   "metadata": {},
   "source": [
    "<font color=\"RED\" size=\"+1\">IMPORTANT: soumission de votre fichier final</font>\n",
    "\n",
    "**Nom à donner au fichier à poster** : *tme-05-Nom1_Nom2.ipynb* \n",
    "- *Nom1* et *Nom2* : noms des membres du binôme\n",
    "- ne pas compresser ou faire une archive: il faut rendre le notebook tel quel, éventuellement, si vous avez d'autres fichiers vous les rendez séparément.\n",
    "\n",
    "**Echancier pour la soumission de votre compte-rendu:**\n",
    "- le compte-rendu d'une séance doit être remis obligatoirement <font color=\"RED\">** à la fin de la séance**</font>. C'est ce compte-rendu qui donne la note de base de la séance.\n",
    "- vous pouvez éventuellement compléter votre compte-rendu  pour obtenir des points bonus, dans ce cas, vous devez soumettre votre complément avant le début de la semaine suivante.\n",
    "\n",
    "** Sur la page Moodle de remise du travail <font color=\"RED\">ne pas oublier d'envoyer le compte rendu</font>** à la fin de la séance, la soumission de la version complémentaire post-séance se fera sur une page différente."
   ]
  },
  {
   "cell_type": "markdown",
   "metadata": {},
   "source": [
    "## Mise à jour de votre librairie IADS\n",
    "\n",
    "Comme lors des séances précédentes, vous devez utiliser les fonctions de la librairie IADS.\n",
    "\n",
    "<font color=\"RED\" size=\"+1\">**[Q]**</font> **Ouvrir et compléter les fichiers Classifiers.py et utils.py**\n",
    "\n",
    "Rajouter dans la librairie les fonctions et classes et que vous avez écrites lors de la séance précédente. \n",
    "\n",
    "**Rappel**: dans un premier temps, vous devez écrire les classes et fonctions demandées dans le notebook de la séance de TDTME en cours. Lors de la séance suivante, vous rajouterez tout cela, une fois que vous l'aurez bien testé, dans vos fichiers de la librairie IADS.\n",
    "\n"
   ]
  },
  {
   "cell_type": "code",
   "execution_count": 20,
   "metadata": {},
   "outputs": [],
   "source": [
    "import numpy as np\n",
    "import pandas as pd\n",
    "import matplotlib.pyplot as plt\n",
    "%matplotlib inline  \n",
    "\n",
    "# La ligne suivante permet de préciser le chemin d'accès à la librairie iads\n",
    "import sys\n",
    "sys.path.append('../')\n",
    "\n",
    "# Importation de la librairie iads\n",
    "import iads as iads\n",
    "\n",
    "# importation de LabeledSet\n",
    "from iads import LabeledSet as ls\n",
    "\n",
    "# importation de Classifiers\n",
    "from iads import Classifiers as cl"
   ]
  },
  {
   "cell_type": "markdown",
   "metadata": {},
   "source": [
    "### Génération de données Jouet\n",
    "\n",
    "<font color=\"RED\" size=\"+1\">**[Q]**</font>  Dans un premier temps, pour mettre au point les fonctions, générer une base jouet assez petite (par exemple, 10 exemples de chaque classe)."
   ]
  },
  {
   "cell_type": "code",
   "execution_count": 3,
   "metadata": {},
   "outputs": [],
   "source": [
    "def plot2DSet(set):\n",
    "    \"\"\" LabeledSet -> NoneType\n",
    "        Hypothèse: set est de dimension 2\n",
    "        affiche une représentation graphique du LabeledSet\n",
    "        remarque: l'ordre des labels dans set peut être quelconque\n",
    "    \"\"\"\n",
    "    S_pos = set.x[np.where(set.y == 1),:][0]      # tous les exemples de label +1\n",
    "    S_neg = set.x[np.where(set.y == -1),:][0]     # tous les exemples de label -1\n",
    "    plt.scatter(S_pos[:,0],S_pos[:,1],marker='o') # 'o' pour la classe +1\n",
    "    plt.scatter(S_neg[:,0],S_neg[:,1],marker='x') # 'x' pour la classe -1\n",
    "\n",
    "def plot_frontiere(set,classifier,step=50):\n",
    "    \"\"\" LabeledSet * Classifier * int -> NoneType\n",
    "        Remarque: le 3e argument est optionnel et donne la \"résolution\" du tracé\n",
    "        affiche la frontière de décision associée au classifieur\n",
    "    \"\"\"\n",
    "    mmax=set.x.max(0)\n",
    "    mmin=set.x.min(0)\n",
    "    x1grid,x2grid=np.meshgrid(np.linspace(mmin[0],mmax[0],step),np.linspace(mmin[1],mmax[1],step))\n",
    "    grid=np.hstack((x1grid.reshape(x1grid.size,1),x2grid.reshape(x2grid.size,1)))\n",
    "    \n",
    "    # calcul de la prediction pour chaque point de la grille\n",
    "    res=np.array([classifier.predict(grid[i,:]) for i in range(len(grid)) ])\n",
    "    res=res.reshape(x1grid.shape)\n",
    "    # tracer des frontieres\n",
    "    plt.contourf(x1grid,x2grid,res,colors=[\"red\",\"cyan\"],levels=[-1000,0,1000])\n",
    "    \n",
    "# ------------------------ \n",
    "\n",
    "def createGaussianDataset(positive_center, positive_sigma, negative_center, negative_sigma, nb_points):\n",
    "    \"\"\" \n",
    "        rend un LabeledSet 2D généré aléatoirement.\n",
    "        Arguments:\n",
    "        - positive_center (vecteur taille 2): centre de la gaussienne des points positifs\n",
    "        - positive_sigma (matrice 2*2): variance de la gaussienne des points positifs\n",
    "        - negative_center (vecteur taille 2): centre de la gaussienne des points négative\n",
    "        - negative_sigma (matrice 2*2): variance de la gaussienne des points négative\n",
    "    - nb_points (int):  nombre de points de chaque classe à générer\n",
    "\"\"\"\n",
    "#TODO: A Compléter\n",
    "    x, y = np.random.multivariate_normal(positive_center, positive_sigma, nb_points).T\n",
    "    a, b = np.random.multivariate_normal(negative_center, negative_sigma, nb_points).T\n",
    "    label = ls.LabeledSet(2)\n",
    "    for i in range(len(a)):\n",
    "        label.addExample(np.array([x[i], y[i]]), 1)\n",
    "        label.addExample(np.array([a[i], b[i]]),-1)\n",
    "    return label\n",
    "\n",
    "    raise NotImplementedError(\"Please Implement this method\")\n",
    "    \n",
    "# Exemple d'utilisation de utils\n",
    "\n",
    "the_set = createGaussianDataset(np.array([1,1]),np.array([[1,0],[0,1]]),np.array([-1,-1]),np.array([[1,0],[0,1]]),100)\n",
    "\n",
    "\n",
    "\n",
    "def super_entrainement(n, label, perceptron) :\n",
    "    x = []\n",
    "    y = []\n",
    "    for i in range(n) :\n",
    "        train, test = split(label)\n",
    "        print(str(i) + \" entrainement\")\n",
    "        perceptron.train(train)\n",
    "        train = perceptron.accuracy(test)\n",
    "        print(\"Accuracy \"+str(train)+\"%\\n\")\n",
    "        y.append(train)\n",
    "        x.append(i)\n",
    "    plt.plot(x,y)\n",
    "    plt.xlabel('N')\n",
    "    plt.ylabel('Accuracy')\n",
    "    plt.title('performances accuracy')\n",
    "    plt.legend()\n",
    "    plt.show()\n",
    "    plot_frontiere(test,perceptron)\n",
    "    plot2DSet(test)\n",
    "\n",
    "    \n",
    "    # Fonction pour afficher le LabeledSet\n",
    "def affiche_base(LS):\n",
    "    \"\"\" LabeledSet\n",
    "        affiche le contenu de LS\n",
    "    \"\"\"\n",
    "    for i in range(0,LS.size()):\n",
    "        print(\"Exemple \"+str(i))\n",
    "        print(\"\\tdescription : \",LS.getX(i))\n",
    "        print(\"\\tlabel : \",LS.getY(i))\n",
    "    return"
   ]
  },
  {
   "cell_type": "code",
   "execution_count": 6,
   "metadata": {},
   "outputs": [
    {
     "name": "stdout",
     "output_type": "stream",
     "text": [
      "Taille de la base jouet générée : 20 exemples\n"
     ]
    }
   ],
   "source": [
    "the_set = createGaussianDataset(np.array([1,1]),np.array([[1,0],[0,1]]),np.array([-1,-1]),np.array([[1,0],[0,1]]),10)\n",
    "\n",
    "print(\"Taille de la base jouet générée :\", the_set.size(), \"exemples\")\n"
   ]
  },
  {
   "cell_type": "code",
   "execution_count": 7,
   "metadata": {},
   "outputs": [
    {
     "data": {
      "text/plain": [
       "array([[ 0.72300461,  0.92204491],\n",
       "       [ 0.89113171,  1.15869004],\n",
       "       [ 1.60947857, -0.814717  ],\n",
       "       [ 1.24659736,  0.62193771],\n",
       "       [ 1.43298845,  1.49891483],\n",
       "       [ 0.96782473,  1.54006092],\n",
       "       [ 0.84021035,  1.10178562],\n",
       "       [ 1.9518179 ,  1.27230018],\n",
       "       [ 0.99384295,  3.17652212],\n",
       "       [-0.35928322, -0.27025961]])"
      ]
     },
     "execution_count": 7,
     "metadata": {},
     "output_type": "execute_result"
    }
   ],
   "source": [
    "# the_set = ... # définition d'un LabeledSet avec la fonction précédente\n",
    "\n",
    "S= the_set.x[np.where(the_set.y == 1),:]\n",
    "S[0]"
   ]
  },
  {
   "cell_type": "code",
   "execution_count": 8,
   "metadata": {},
   "outputs": [
    {
     "data": {
      "image/png": "[encoded data removed]",
      "text/plain": [
       "<Figure size 432x288 with 1 Axes>"
      ]
     },
     "metadata": {},
     "output_type": "display_data"
    }
   ],
   "source": [
    "# Affichage du dataset généré\n",
    "plot2DSet(the_set)"
   ]
  },
  {
   "cell_type": "markdown",
   "metadata": {},
   "source": [
    "<font color=\"RED\" size=\"+1\">**[Q]**</font> Ecrire la fonction <code>classe_majoritaire()</code> qui, étant donné un LabeledSet rend la classe majoritaire dans l'ensemble (celle qui est possédée par le plus grand nombre d'exemples donc...). En cas d'égalité, cette fonction rend la classe +1."
   ]
  },
  {
   "cell_type": "code",
   "execution_count": 9,
   "metadata": {},
   "outputs": [],
   "source": [
    "def classe_majoritaire(label) :\n",
    "    cpt_p = 0\n",
    "    cpt_m = 0\n",
    "    \n",
    "    for i in range(label.size()) :\n",
    "        if(label.getY(i) > 0) :\n",
    "            cpt_p += 1\n",
    "        else :\n",
    "            cpt_m += 1\n",
    "            \n",
    "    if cpt_m > cpt_p :\n",
    "        return -1\n",
    "    return +1"
   ]
  },
  {
   "cell_type": "code",
   "execution_count": 10,
   "metadata": {},
   "outputs": [
    {
     "data": {
      "text/plain": [
       "1"
      ]
     },
     "execution_count": 10,
     "metadata": {},
     "output_type": "execute_result"
    }
   ],
   "source": [
    "classe_majoritaire(the_set)"
   ]
  },
  {
   "cell_type": "markdown",
   "metadata": {},
   "source": [
    "## Arbres de décision\n",
    "\n",
    "Dans cette étape, on réalise l'implémentation de l'algorithme de construction d'un arbre de décision."
   ]
  },
  {
   "cell_type": "markdown",
   "metadata": {},
   "source": [
    "### Entropie et gain d'information\n",
    "\n",
    "On note $\\{c_1, c_2,..., c_k\\}$, l'ensemble des classes possibles.\n",
    "\n",
    "Dans le cours, la mesure de désordre présentée utilise, pour toute valeur $c$ de la classe le ratio $\\frac{|Y(c)|}{|Y|}$ qui correspond à la probabilité de la classe $c$ parmi $Y$.\n",
    "On note dans ce qui suit $p_1$ la probabilité de la classe $c_1$ parmi $Y$, etc. \n",
    "\n",
    "Ainsi, on a $P=(p_1, p_2,..., p_k)$ la distribution de probabilités sur les classes ainsi définies.\n",
    "\n",
    "L'**entropie de Shannon** de la distribution $P$ est donnée par:\n",
    "\n",
    "$ H_S(P) = -\\sum_{i=1}^{k} p_i \\log_k(p_i)$\n",
    "\n",
    "Le logarithme utilisé est le logarithme en base $k$ afin d'obtenir une valeur normalisée de l'entropie. \n",
    "\n",
    "*Remarque:* avec les notations vues en cours, on a $D(Y) = H_S(P)$.\n",
    "\n",
    "Pour ce qui suit, une *distribution de probabilités* est représentée par une **liste** Python $P=[p_1,...,p_k]$ de valeurs réelles telle que\n",
    "* pour tout $i=1,..., k$ : $0 \\leq p_i \\leq 1$\n",
    "* $\\sum_{i=1}^{k}p_i = 1$\n"
   ]
  },
  {
   "cell_type": "markdown",
   "metadata": {},
   "source": [
    "<font color=\"RED\" size=\"+1\">**[Q]**</font> Ecrire la fonction <code>shannon()</code> qui, étant donné une distribution de probabilités $P$, rend la valeur de $H_S(P)$, l'entropie de Shannon de $P$."
   ]
  },
  {
   "cell_type": "code",
   "execution_count": 34,
   "metadata": {},
   "outputs": [],
   "source": [
    "def shannon(ensemble):\n",
    "    k = len(ensemble)\n",
    "    somme = 0\n",
    "    for i in range(k):\n",
    "        if ensemble[i] > 0 :\n",
    "            somme += ensemble[i]*math.log(ensemble[i], k)\n",
    "    return - somme"
   ]
  },
  {
   "cell_type": "code",
   "execution_count": 35,
   "metadata": {},
   "outputs": [
    {
     "name": "stdout",
     "output_type": "stream",
     "text": [
      "P=[1,0] :  -0.0\n",
      "P=[0.25, 0.25, 0.25, 0.25] :  1.0\n",
      "P=[0.7, 0.1, 0.2, 0.0] :  0.5783898247235197\n",
      "P=[1.0/3, 2.0/3] :  0.9182958340544896\n"
     ]
    }
   ],
   "source": [
    "# Exemples d'utilisation:\n",
    "print(\"P=[1,0] : \", shannon([1, 0]))\n",
    "print(\"P=[0.25, 0.25, 0.25, 0.25] : \", shannon([0.25, 0.25, 0.25, 0.25]))\n",
    "print(\"P=[0.7, 0.1, 0.2, 0.0] : \", shannon([0.7, 0.1, 0.2, 0.0]))\n",
    "print(\"P=[1.0/3, 2.0/3] : \", shannon([1.0/3, 2.0/3]))"
   ]
  },
  {
   "cell_type": "markdown",
   "metadata": {},
   "source": [
    "<font color=\"RED\" size=\"+1\">**[Q]**</font> Tracer, à l'aide de la fonction plot, la courbe donnant la valeur de <code>shannon([p, 1-p])</code> en fonction de <code>p</code>."
   ]
  },
  {
   "cell_type": "code",
   "execution_count": 10,
   "metadata": {},
   "outputs": [],
   "source": [
    "import matplotlib.pyplot as plt"
   ]
  },
  {
   "cell_type": "code",
   "execution_count": 42,
   "metadata": {},
   "outputs": [
    {
     "data": {
      "image/png": "[encoded data removed]",
      "text/plain": [
       "<Figure size 432x288 with 1 Axes>"
      ]
     },
     "metadata": {},
     "output_type": "display_data"
    }
   ],
   "source": [
    "def curve():\n",
    "    x = []\n",
    "    y = []\n",
    "    for i in range(0, 101, 1) :\n",
    "        x.append(i/100)\n",
    "        y.append(shannon([i/100, 1-i/100]))\n",
    "    \n",
    "    plt.plot(x, y, label='linear')\n",
    "    plt.show()\n",
    "curve()"
   ]
  },
  {
   "cell_type": "markdown",
   "metadata": {},
   "source": [
    "<font color=\"RED\" size=\"+1\">**[Q]**</font> A l'aide de la fonction <code>shannon()</code>, écrire la fonction <code>entropie()</code> qui prend un LabeledSet en argument et renvoie l'entropie de la distribution des classes dans cet ensemble."
   ]
  },
  {
   "cell_type": "code",
   "execution_count": 66,
   "metadata": {},
   "outputs": [],
   "source": [
    "def entropie(label) :\n",
    "    plus = 0\n",
    "    moins = 0\n",
    "    for i in range(label.size()) :\n",
    "        if(label.getY(i) > 0) :\n",
    "            plus += 1 / label.size()\n",
    "        else :\n",
    "            moins += 1 / label.size()\n",
    "            \n",
    "    return shannon([plus, moins])"
   ]
  },
  {
   "cell_type": "code",
   "execution_count": 67,
   "metadata": {},
   "outputs": [
    {
     "data": {
      "text/plain": [
       "1.0"
      ]
     },
     "execution_count": 67,
     "metadata": {},
     "output_type": "execute_result"
    }
   ],
   "source": [
    "entropie(the_set)"
   ]
  },
  {
   "cell_type": "markdown",
   "metadata": {},
   "source": [
    "Cette fonction <code>entropie</code> permet dont de calculer le désordre des classes dans le LabeledSet considéré."
   ]
  },
  {
   "cell_type": "markdown",
   "metadata": {},
   "source": [
    "### Discrétisation des attributs numériques"
   ]
  },
  {
   "cell_type": "markdown",
   "metadata": {
    "collapsed": true
   },
   "source": [
    "Comme on l'a vu en cours, discrétiser un attribut numérique consiste en trouver un seuil de coupure dans son ensemble de valeurs. \n",
    "\n",
    "Par exemple, soit l'attribut Age contenant les valeurs 17, 18, 20, 27, 35, 37, 40. On discrétise cet attribut en 2 valeurs en prenant, par exemple, le seuil 30: cela permet de séparer d'un côté les valeurs inférieures ou égales à 30, et de l'autre les valeurs strictement supérieures à 30.\n",
    "\n",
    "Le seuil est choisi afin d'optimiser la distribution des classes des exemples qui se trouvent de chaque côté du seuil. Une fois un seuil choisi, on calcule le désordre des classes associées aux exemples de chaque côté du seuil et on agrège les 2 valeurs de désordre obtenues pour déterminer la qualité de la coupure à l'aide de la mesure $Q$ vue en cours.\n",
    "\n",
    "\n",
    "Soit $X$ un ensemble d'exemples, et soit $A$ un attribut que l'on souhaite discrétiser. Pour cela, on constitue l'ensemble des valeurs prises par les exemples de $X$ pour l'attribut $A$. Soit $A_X$ cet ensemble de valeurs.\n",
    "\n",
    "La discrétisation de $A_X$ s'effectue par les étapes suivantes:\n",
    "- Etape 1: ordonner de façon croissante les valeurs de $A_X$;\n",
    "- Etape 2: regarder tous les seuils possibles de coupure entre 2 valeurs consécutives de $A_X$ (on prend comme seuil de coupure la valeur médiane entre ces 2 valeurs). Chaque seuil trouvé créé 2 intervalles qui générent 2 sous-ensembles de $X$: l'ensemble $X_1$ des exemples dont la valeur pour $A$ et inférieure ou égale au seuil, et l'ensemble $X_2$ des exemples dont la valeur pour $A$ et supérieure au seuil. On détermine la qualité du seuil par la mesure de qualité d'un test vue en cours. On note $Q(seuil)$ cette valeur.\n",
    "\n",
    "\n",
    "La meilleure coupure pour discrétiser $A_X$ est celle qui minimise la valeur $Q(seuil)$.\n",
    "\n",
    "\n",
    "Par exemple, soit $X=\\{17, 18, 20, 27, 35, 37, 40\\}$, chaque valeur étant associées aux classes +1, +1, -1, -1, +1, +1, -1 respectivement. Un seuil de coupure possible est $31$ ($31 = \\frac{27+35}{2}$). Ce seuil coupe $X$ en $X_1=\\{17, 18, 20, 27\\}$ et $X_2=\\{35, 37, 40\\}$.\n",
    "\n",
    "- pour $X_1$, la probabilité de chaque classe est: $p(+1)= 0.5$ et $p(-1)=0.5$ donc, $H_S(X_1)=1$;\n",
    "- pour $X_2$, la probabilité de chaque classe est: $p(+1)= \\frac{1}{3}$ et $p(-1)=\\frac{2}{3}$ donc, $H_S(X_2)=0.9182958340544896$;\n",
    "- on a donc: $$Q(seuil=31) = \\frac{4}{7} H_S(X_1) + \\frac{3}{7} H_S(X_2);$$\n",
    "soit $Q(seuil=31) = 0.9182958340544896$"
   ]
  },
  {
   "cell_type": "markdown",
   "metadata": {},
   "source": [
    "On considère que <code>the_set</code> est un LabeledSet construit précédement. Il contient deux variables de type array: $x$ et $y$.\n",
    "\n",
    "Regarder et tester les instructions suivantes, il faut bien comprendre comment elles fonctionnent car on va utiliser les mêmes principes dans les fonctions à écrire."
   ]
  },
  {
   "cell_type": "code",
   "execution_count": 48,
   "metadata": {},
   "outputs": [
    {
     "name": "stdout",
     "output_type": "stream",
     "text": [
      "[[ 0.72300461  0.92204491]\n",
      " [-1.21941843 -2.15227425]\n",
      " [ 0.89113171  1.15869004]\n",
      " [-2.74208858 -1.46338828]\n",
      " [ 1.60947857 -0.814717  ]\n",
      " [-0.51368449 -2.2763347 ]\n",
      " [ 1.24659736  0.62193771]\n",
      " [ 1.16353227 -0.80195749]\n",
      " [ 1.43298845  1.49891483]\n",
      " [-1.40507452  1.18738783]\n",
      " [ 0.96782473  1.54006092]\n",
      " [-0.95653153 -1.55895808]\n",
      " [ 0.84021035  1.10178562]\n",
      " [-0.25472346 -1.41662923]\n",
      " [ 1.9518179   1.27230018]\n",
      " [-1.80956512 -0.20931568]\n",
      " [ 0.99384295  3.17652212]\n",
      " [-1.02441912 -1.73925294]\n",
      " [-0.35928322 -0.27025961]\n",
      " [-1.02451542 -0.52854918]]\n"
     ]
    },
    {
     "data": {
      "text/plain": [
       "array([[ 3,  5],\n",
       "       [15,  1],\n",
       "       [ 9, 17],\n",
       "       [ 1, 11],\n",
       "       [19,  3],\n",
       "       [17, 13],\n",
       "       [11,  4],\n",
       "       [ 5,  7],\n",
       "       [18, 19],\n",
       "       [13, 18],\n",
       "       [ 0, 15],\n",
       "       [12,  6],\n",
       "       [ 2,  0],\n",
       "       [10, 12],\n",
       "       [16,  2],\n",
       "       [ 7,  9],\n",
       "       [ 6, 14],\n",
       "       [ 8,  8],\n",
       "       [ 4, 10],\n",
       "       [14, 16]])"
      ]
     },
     "execution_count": 48,
     "metadata": {},
     "output_type": "execute_result"
    }
   ],
   "source": [
    "ind= np.argsort(the_set.x,axis=0)   # Tri des valeurs de the_set.x selon les colonnes. \n",
    "                                    # La fonction rend un numpy.ndarray contenant autant de \n",
    "                                    # colonnes que the_set.x et dans chaque colonne, on a \n",
    "print(the_set.x)                              # la position de l'exemple dans l'ordonnancement croissant.\n",
    "ind # pour afficher"
   ]
  },
  {
   "cell_type": "code",
   "execution_count": 51,
   "metadata": {},
   "outputs": [
    {
     "data": {
      "text/plain": [
       "array([[-2.74208858, -1.46338828],\n",
       "       [-1.80956512, -0.20931568],\n",
       "       [-1.40507452,  1.18738783],\n",
       "       [-1.21941843, -2.15227425],\n",
       "       [-1.02451542, -0.52854918],\n",
       "       [-1.02441912, -1.73925294],\n",
       "       [-0.95653153, -1.55895808],\n",
       "       [-0.51368449, -2.2763347 ],\n",
       "       [-0.35928322, -0.27025961],\n",
       "       [-0.25472346, -1.41662923],\n",
       "       [ 0.72300461,  0.92204491],\n",
       "       [ 0.84021035,  1.10178562],\n",
       "       [ 0.89113171,  1.15869004],\n",
       "       [ 0.96782473,  1.54006092],\n",
       "       [ 0.99384295,  3.17652212],\n",
       "       [ 1.16353227, -0.80195749],\n",
       "       [ 1.24659736,  0.62193771],\n",
       "       [ 1.43298845,  1.49891483],\n",
       "       [ 1.60947857, -0.814717  ],\n",
       "       [ 1.9518179 ,  1.27230018]])"
      ]
     },
     "execution_count": 51,
     "metadata": {},
     "output_type": "execute_result"
    }
   ],
   "source": [
    "the_set.x[ind[0:len(the_set.x),0]]  # Rend le numpy.array des exemples de the_set.x ordonnés\n",
    "                                    # selon les indices donnés dans ind (colonne 0)\n"
   ]
  },
  {
   "cell_type": "code",
   "execution_count": 17,
   "metadata": {},
   "outputs": [
    {
     "data": {
      "text/plain": [
       "array([[-1],\n",
       "       [-1],\n",
       "       [-1],\n",
       "       [-1],\n",
       "       [-1],\n",
       "       [-1],\n",
       "       [ 1],\n",
       "       [ 1],\n",
       "       [ 1],\n",
       "       [ 1],\n",
       "       [ 1],\n",
       "       [-1],\n",
       "       [-1],\n",
       "       [ 1],\n",
       "       [ 1],\n",
       "       [-1],\n",
       "       [-1],\n",
       "       [ 1],\n",
       "       [ 1],\n",
       "       [ 1]])"
      ]
     },
     "execution_count": 17,
     "metadata": {},
     "output_type": "execute_result"
    }
   ],
   "source": [
    "the_set.y[ind[0:len(the_set.y),0]]  # Rend le numpy.array des exemples de the_set.y ordonnés\n",
    "                                    # selon les indices donnés dans ind (colonne 0)"
   ]
  },
  {
   "cell_type": "code",
   "execution_count": 52,
   "metadata": {},
   "outputs": [
    {
     "name": "stdout",
     "output_type": "stream",
     "text": [
      "valeur= -2.2763347047865525 classe=  -1\n",
      "valeur= -2.1522742470999736 classe=  -1\n",
      "valeur= -1.7392529437518949 classe=  -1\n",
      "valeur= -1.5589580835309687 classe=  -1\n",
      "valeur= -1.4633882835318512 classe=  -1\n",
      "valeur= -1.4166292321769698 classe=  -1\n",
      "valeur= -0.8147169950784281 classe=  1\n",
      "valeur= -0.8019574920130221 classe=  -1\n",
      "valeur= -0.5285491826882905 classe=  -1\n",
      "valeur= -0.27025960776445923 classe=  1\n",
      "valeur= -0.20931567602034518 classe=  -1\n",
      "valeur= 0.6219377051619632 classe=  1\n",
      "valeur= 0.9220449057166855 classe=  1\n",
      "valeur= 1.1017856167734308 classe=  1\n",
      "valeur= 1.1586900438809558 classe=  1\n",
      "valeur= 1.1873878337030606 classe=  -1\n",
      "valeur= 1.2723001823359796 classe=  1\n",
      "valeur= 1.498914825597445 classe=  1\n",
      "valeur= 1.5400609161915457 classe=  1\n",
      "valeur= 3.1765221176996676 classe=  1\n"
     ]
    }
   ],
   "source": [
    "colonne = 1    # numéro de la colonne de the_set.x à considérer\n",
    "for v_i in ind[0:len(the_set.x)]:\n",
    "    i = v_i[colonne]\n",
    "    exem = the_set.getX(i)\n",
    "    clas = the_set.getY(i)\n",
    "    print(\"valeur=\",exem[colonne], \"classe= \", clas[0])"
   ]
  },
  {
   "cell_type": "markdown",
   "metadata": {},
   "source": [
    "Etant donné un LabeledSet, ainsi qu'un numéro de colonne à considérer (qui correspond à un des attributs de description), la fonction <code>discrétise()</code> rend un tuple constitué de la valeur de coupure qui optimise la mesure de qualité, et de la valeur trouvée pour cette mesure."
   ]
  },
  {
   "cell_type": "code",
   "execution_count": 53,
   "metadata": {},
   "outputs": [],
   "source": [
    "def discretise(LSet, col):\n",
    "    \"\"\" LabelledSet * int -> tuple[float, float]\n",
    "        Hypothèse: LSet.size() >= 2\n",
    "        col est le numéro de colonne sur X à discrétiser\n",
    "        rend la valeur de coupure qui minimise l'entropie ainsi que son entropie.\n",
    "    \"\"\"\n",
    "    # initialisation:\n",
    "    min_entropie = 1.1  # on met à une valeur max car on veut minimiser\n",
    "    min_seuil = 0.0     \n",
    "    # trie des valeurs:\n",
    "    ind= np.argsort(LSet.x,axis=0)\n",
    "    \n",
    "    # calcul des distributions des classes pour E1 et E2:\n",
    "    inf_plus  = 0               # nombre de +1 dans E1\n",
    "    inf_moins = 0               # nombre de -1 dans E1\n",
    "    sup_plus  = 0               # nombre de +1 dans E2\n",
    "    sup_moins = 0               # nombre de -1 dans E2       \n",
    "    # remarque: au départ on considère que E1 est vide et donc E2 correspond à E. \n",
    "    # Ainsi inf_plus et inf_moins valent 0. Il reste à calculer sup_plus et sup_moins \n",
    "    # dans E.\n",
    "    for j in range(0,LSet.size()):\n",
    "        if (LSet.getY(j) == -1):\n",
    "            sup_moins += 1\n",
    "        else:\n",
    "            sup_plus += 1\n",
    "    nb_total = (sup_plus + sup_moins) # nombre d'exemples total dans E\n",
    "    \n",
    "    # parcours pour trouver le meilleur seuil:\n",
    "    for i in range(len(LSet.x)-1):\n",
    "        v_ind_i = ind[i]   # vecteur d'indices\n",
    "        courant = LSet.getX(v_ind_i[col])[col]\n",
    "        lookahead = LSet.getX(ind[i+1][col])[col]\n",
    "        val_seuil = (courant + lookahead) / 2.0;\n",
    "        # M-A-J de la distrib. des classes:\n",
    "        # pour réduire les traitements: on retire un exemple de E2 et on le place\n",
    "        # dans E1, c'est ainsi que l'on déplace donc le seuil de coupure.\n",
    "        if LSet.getY(ind[i][col])[0] == -1:\n",
    "            inf_moins += 1\n",
    "            sup_moins -= 1\n",
    "        else:\n",
    "            inf_plus += 1\n",
    "            sup_plus -= 1\n",
    "        # calcul de la distribution des classes de chaque côté du seuil:\n",
    "        nb_inf = (inf_moins + inf_plus)*1.0     # rem: on en fait un float pour éviter\n",
    "        nb_sup = (sup_moins + sup_plus)*1.0     # que ce soit une division entière.\n",
    "        # calcul de l'entropie de la coupure\n",
    "        val_entropie_inf = shannon([inf_moins / nb_inf, inf_plus  / nb_inf])\n",
    "        val_entropie_sup = shannon([sup_moins / nb_sup, sup_plus  / nb_sup])\n",
    "        val_entropie = (nb_inf / nb_total) * val_entropie_inf \\\n",
    "                       + (nb_sup / nb_total) * val_entropie_sup\n",
    "        # si cette coupure minimise l'entropie, on mémorise ce seuil et son entropie:\n",
    "        if (min_entropie > val_entropie):\n",
    "            min_entropie = val_entropie\n",
    "            min_seuil = val_seuil\n",
    "    return (min_seuil, min_entropie)"
   ]
  },
  {
   "cell_type": "code",
   "execution_count": 54,
   "metadata": {},
   "outputs": [
    {
     "data": {
      "text/plain": [
       "(-0.43648385426882214, 0.39001345298901247)"
      ]
     },
     "execution_count": 54,
     "metadata": {},
     "output_type": "execute_result"
    }
   ],
   "source": [
    "discretise(the_set,0) # le résultat dépend, bien sûr, de la base jouet"
   ]
  },
  {
   "cell_type": "code",
   "execution_count": 55,
   "metadata": {},
   "outputs": [
    {
     "data": {
      "text/plain": [
       "(-0.3994043952263749, 0.6026873902505135)"
      ]
     },
     "execution_count": 55,
     "metadata": {},
     "output_type": "execute_result"
    }
   ],
   "source": [
    "discretise(the_set,1) # le résultat dépend, bien sûr, de la base jouet"
   ]
  },
  {
   "cell_type": "markdown",
   "metadata": {},
   "source": [
    "Une dernière fonction utile permet de diviser une base d'exemples en 2 sous-bases en utilisant un seuil sur la valeur d'un attribut donné.\n",
    "\n",
    "<font color=\"RED\" size=\"+1\">**[Q]**</font> Ecrire la fonction divise() dont la spécification est:\n",
    "\n",
    "    def divise(LSet,att,seuil):\n",
    "        \"\"\" LSet: LabeledSet\n",
    "            att : numéro d'attribut\n",
    "            seuil : valeur de seuil\n",
    "            rend le tuple contenant les 2 sous-LabeledSet obtenus par la\n",
    "            division de LSet selon le seuil sur l'attribut att\n",
    "        \"\"\"\n",
    "\n"
   ]
  },
  {
   "cell_type": "code",
   "execution_count": 60,
   "metadata": {},
   "outputs": [],
   "source": [
    "def divise(LSet, att, seuil):\n",
    "    result1 = ls.LabeledSet(LSet.input_dimension)\n",
    "    result2 = ls.LabeledSet(LSet.input_dimension)\n",
    "    for i in range(LSet.size()):\n",
    "        if(LSet.getX(i)[att] > seuil):\n",
    "            result1.addExample(LSet.getX(i), LSet.getY(i))\n",
    "        else:\n",
    "            result2.addExample(LSet.getX(i), LSet.getY(i))\n",
    "    return (result2, result1)"
   ]
  },
  {
   "cell_type": "code",
   "execution_count": 61,
   "metadata": {},
   "outputs": [
    {
     "name": "stdout",
     "output_type": "stream",
     "text": [
      "entropie inférieur: -0.0  / entropie supérieur: 0.6500224216483541\n"
     ]
    }
   ],
   "source": [
    "Linf, Lsup = divise(the_set,0,-0.5)\n",
    "print(\"entropie inférieur:\",entropie(Linf),\" / entropie supérieur:\", entropie(Lsup))\n",
    "# remarque: les résultats dépendent de votre base jouet..."
   ]
  },
  {
   "cell_type": "markdown",
   "metadata": {},
   "source": [
    "### Représentation d'un arbre en Python"
   ]
  },
  {
   "cell_type": "markdown",
   "metadata": {},
   "source": [
    "Un arbre de décision doit être représenté en Python, pour cela, on utilise la classe <code>ArbreBinaire</code> suivante:"
   ]
  },
  {
   "cell_type": "code",
   "execution_count": 62,
   "metadata": {},
   "outputs": [],
   "source": [
    "import graphviz as gv\n",
    "# Eventuellement, il peut être nécessaire d'installer graphviz sur votre compte:\n",
    "# pip install --user --install-option=\"--prefix=\" -U graphviz\n",
    "\n",
    "\n",
    "class ArbreBinaire:\n",
    "    def __init__(self):\n",
    "        self.attribut = None   # numéro de l'attribut\n",
    "        self.seuil = None\n",
    "        self.inferieur = None # ArbreBinaire Gauche (valeurs <= au seuil)\n",
    "        self.superieur = None # ArbreBinaire Gauche (valeurs > au seuil)\n",
    "        self.classe = None # Classe si c'est une feuille: -1 ou +1\n",
    "        \n",
    "    def est_feuille(self):\n",
    "        \"\"\" rend True si l'arbre est une feuille \"\"\"\n",
    "        return self.seuil == None\n",
    "    \n",
    "    def ajoute_fils(self,ABinf,ABsup,att,seuil):\n",
    "        \"\"\" ABinf, ABsup: 2 arbres binaires\n",
    "            att: numéro d'attribut\n",
    "            seuil: valeur de seuil\n",
    "        \"\"\"\n",
    "        self.attribut = att\n",
    "        self.seuil = seuil\n",
    "        self.inferieur = ABinf\n",
    "        self.superieur = ABsup\n",
    "    \n",
    "    def ajoute_feuille(self,classe):\n",
    "        \"\"\" classe: -1 ou + 1\n",
    "        \"\"\"\n",
    "        self.classe = classe\n",
    "        \n",
    "    def classifie(self,exemple):\n",
    "        \"\"\" exemple : numpy.array\n",
    "            rend la classe de l'exemple: +1 ou -1\n",
    "        \"\"\"\n",
    "        if self.est_feuille():\n",
    "            return self.classe\n",
    "        if exemple[self.attribut] <= self.seuil:\n",
    "            return self.inferieur.classifie(exemple)\n",
    "        return self.superieur.classifie(exemple)\n",
    "    \n",
    "    def to_graph(self, g, prefixe='A'):\n",
    "        \"\"\" construit une représentation de l'arbre pour pouvoir\n",
    "            l'afficher\n",
    "        \"\"\"\n",
    "        if self.est_feuille():\n",
    "            g.node(prefixe,str(self.classe),shape='box')\n",
    "        else:\n",
    "            g.node(prefixe, str(self.attribut))\n",
    "            self.inferieur.to_graph(g,prefixe+\"g\")\n",
    "            self.superieur.to_graph(g,prefixe+\"d\")\n",
    "            g.edge(prefixe,prefixe+\"g\", '<='+ str(self.seuil))\n",
    "            g.edge(prefixe,prefixe+\"d\", '>'+ str(self.seuil))\n",
    "        \n",
    "        return g"
   ]
  },
  {
   "cell_type": "code",
   "execution_count": 63,
   "metadata": {},
   "outputs": [
    {
     "data": {
      "image/svg+xml": [
       "<?xml version=\"1.0\" encoding=\"UTF-8\" standalone=\"no\"?>\n",
       "<!DOCTYPE svg PUBLIC \"-//W3C//DTD SVG 1.1//EN\"\n",
       " \"http://www.w3.org/Graphics/SVG/1.1/DTD/svg11.dtd\">\n",
       "<!-- Generated by graphviz version 2.38.0 (20140413.2041)\n",
       " -->\n",
       "<!-- Title: %3 Pages: 1 -->\n",
       "<svg width=\"134pt\" height=\"131pt\"\n",
       " viewBox=\"0.00 0.00 134.00 131.00\" xmlns=\"http://www.w3.org/2000/svg\" xmlns:xlink=\"http://www.w3.org/1999/xlink\">\n",
       "<g id=\"graph0\" class=\"graph\" transform=\"scale(1 1) rotate(0) translate(4 127)\">\n",
       "<title>%3</title>\n",
       "<polygon fill=\"white\" stroke=\"none\" points=\"-4,4 -4,-127 130,-127 130,4 -4,4\"/>\n",
       "<!-- A -->\n",
       "<g id=\"node1\" class=\"node\"><title>A</title>\n",
       "<ellipse fill=\"none\" stroke=\"black\" cx=\"63\" cy=\"-105\" rx=\"27\" ry=\"18\"/>\n",
       "<text text-anchor=\"middle\" x=\"63\" y=\"-101.3\" font-family=\"Times,serif\" font-size=\"14.00\">nom</text>\n",
       "</g>\n",
       "<!-- Ag -->\n",
       "<g id=\"node2\" class=\"node\"><title>Ag</title>\n",
       "<polygon fill=\"none\" stroke=\"black\" points=\"54,-36 0,-36 0,-0 54,-0 54,-36\"/>\n",
       "<text text-anchor=\"middle\" x=\"27\" y=\"-14.3\" font-family=\"Times,serif\" font-size=\"14.00\">1</text>\n",
       "</g>\n",
       "<!-- A&#45;&gt;Ag -->\n",
       "<g id=\"edge1\" class=\"edge\"><title>A&#45;&gt;Ag</title>\n",
       "<path fill=\"none\" stroke=\"black\" d=\"M49.171,-89.3516C44.2998,-83.4397 39.2368,-76.2955 36,-69 32.8522,-61.9053 30.8051,-53.78 29.4738,-46.171\"/>\n",
       "<polygon fill=\"black\" stroke=\"black\" points=\"32.9377,-45.6687 28.0661,-36.2603 26.0073,-46.6532 32.9377,-45.6687\"/>\n",
       "<text text-anchor=\"middle\" x=\"56.5\" y=\"-57.8\" font-family=\"Times,serif\" font-size=\"14.00\">&lt;=42.0</text>\n",
       "</g>\n",
       "<!-- Ad -->\n",
       "<g id=\"node3\" class=\"node\"><title>Ad</title>\n",
       "<polygon fill=\"none\" stroke=\"black\" points=\"126,-36 72,-36 72,-0 126,-0 126,-36\"/>\n",
       "<text text-anchor=\"middle\" x=\"99\" y=\"-14.3\" font-family=\"Times,serif\" font-size=\"14.00\">2</text>\n",
       "</g>\n",
       "<!-- A&#45;&gt;Ad -->\n",
       "<g id=\"edge2\" class=\"edge\"><title>A&#45;&gt;Ad</title>\n",
       "<path fill=\"none\" stroke=\"black\" d=\"M70.1124,-87.2067C75.1581,-75.2934 82.032,-59.0634 87.8086,-45.4242\"/>\n",
       "<polygon fill=\"black\" stroke=\"black\" points=\"91.102,-46.6225 91.7791,-36.0493 84.6563,-43.8925 91.102,-46.6225\"/>\n",
       "<text text-anchor=\"middle\" x=\"99.5\" y=\"-57.8\" font-family=\"Times,serif\" font-size=\"14.00\">&gt;42.0</text>\n",
       "</g>\n",
       "</g>\n",
       "</svg>\n"
      ],
      "text/plain": [
       "<graphviz.dot.Digraph at 0x7efc80ea7048>"
      ]
     },
     "execution_count": 63,
     "metadata": {},
     "output_type": "execute_result"
    }
   ],
   "source": [
    "# Exemple d'utilisation: \n",
    "un_arbre= ArbreBinaire()\n",
    "un_arbre.ajoute_feuille(1)\n",
    "un_arbre.est_feuille()\n",
    "un_arbre1 = ArbreBinaire()\n",
    "un_arbre1.ajoute_feuille(2)\n",
    "un_arbre2 = ArbreBinaire()\n",
    "un_arbre2.ajoute_fils(un_arbre,un_arbre1,\"nom\",42.0)\n",
    "\n",
    "gtree = gv.Digraph(format='png')\n",
    "un_arbre2.to_graph(gtree)"
   ]
  },
  {
   "cell_type": "markdown",
   "metadata": {},
   "source": [
    "### Construction de l'arbre de décision"
   ]
  },
  {
   "cell_type": "markdown",
   "metadata": {},
   "source": [
    "Pour construire un arbre de décision, il faut réaliser les étapes suivantes:\n",
    "- si l'entropie de Shannon de la distribution des classes de l'ensemble courant est inférieure à epsilon (réel positif fixé et qui est un paramètre de l'algorithme), alors construire une feuille avec cet ensemble, la classe associée à cette feuille est la classe majoritaire;\n",
    "- sinon, pour chaque attribut, calculer le seuil de discrétisation et l'entropie de Shannon correspondante\n",
    "    - choisir l'attribut qui donne une valeur d'entropie minimale\n",
    "    - l'attribut choisi sert à constituer un noeud de l'arbre de décision, les arcs issus de ce noeud sont labeller par un test (inférieur ou égal ou supérieur) par rapport au seuil trouvé\n",
    "    \n",
    "    \n",
    "<font color=\"RED\" size=\"+1\">**[Q]**</font> Ecrire la fonction qui construit un arbre de décision (binaire) à partir d'une base d'exemples. En plus de la base d'exemples, on utilise un argument \"epsilon\" qui est un réel >0 et qui sert pour le critère d'arrêt.\n",
    "Cette fonction a la spécification suivante:\n",
    "\n",
    "    def construit_AD(LSet,epsilon):\n",
    "        \"\"\" LSet : LabeledSet\n",
    "            epsilon : seuil d'entropie pour le critère d'arrêt \n",
    "        \"\"\"\n"
   ]
  },
  {
   "cell_type": "code",
   "execution_count": 72,
   "metadata": {},
   "outputs": [],
   "source": [
    "def construit_AD(LSet, epsilon):\n",
    "    result = ArbreBinaire()\n",
    "    if(entropie(LSet) <= epsilon) :\n",
    "        result.ajoute_feuille(classe_majoritaire(LSet))\n",
    "    else :\n",
    "        mini_seuil, mini_ent = discretise(LSet, 0)\n",
    "        indice = 0\n",
    "        for i in range(1, LSet.input_dimension):\n",
    "            seuil, e = discretise(LSet, i)\n",
    "            if( e < mini_ent) :\n",
    "                mini_ent = e\n",
    "                indice = i\n",
    "                mini_seuil = seuil\n",
    "        inf, sup = divise(LSet, indice, mini_seuil)\n",
    "        result.ajoute_fils(construit_AD(inf, epsilon), construit_AD(sup, epsilon), indice, mini_seuil)  \n",
    "    return result       \n",
    "        "
   ]
  },
  {
   "cell_type": "code",
   "execution_count": 73,
   "metadata": {},
   "outputs": [
    {
     "data": {
      "image/svg+xml": [
       "<?xml version=\"1.0\" encoding=\"UTF-8\" standalone=\"no\"?>\n",
       "<!DOCTYPE svg PUBLIC \"-//W3C//DTD SVG 1.1//EN\"\n",
       " \"http://www.w3.org/Graphics/SVG/1.1/DTD/svg11.dtd\">\n",
       "<!-- Generated by graphviz version 2.38.0 (20140413.2041)\n",
       " -->\n",
       "<!-- Title: %3 Pages: 1 -->\n",
       "<svg width=\"406pt\" height=\"305pt\"\n",
       " viewBox=\"0.00 0.00 406.00 305.00\" xmlns=\"http://www.w3.org/2000/svg\" xmlns:xlink=\"http://www.w3.org/1999/xlink\">\n",
       "<g id=\"graph0\" class=\"graph\" transform=\"scale(1 1) rotate(0) translate(4 301)\">\n",
       "<title>%3</title>\n",
       "<polygon fill=\"white\" stroke=\"none\" points=\"-4,4 -4,-301 402,-301 402,4 -4,4\"/>\n",
       "<!-- A -->\n",
       "<g id=\"node1\" class=\"node\"><title>A</title>\n",
       "<ellipse fill=\"none\" stroke=\"black\" cx=\"112\" cy=\"-279\" rx=\"27\" ry=\"18\"/>\n",
       "<text text-anchor=\"middle\" x=\"112\" y=\"-275.3\" font-family=\"Times,serif\" font-size=\"14.00\">0</text>\n",
       "</g>\n",
       "<!-- Ag -->\n",
       "<g id=\"node2\" class=\"node\"><title>Ag</title>\n",
       "<polygon fill=\"none\" stroke=\"black\" points=\"54,-210 0,-210 0,-174 54,-174 54,-210\"/>\n",
       "<text text-anchor=\"middle\" x=\"27\" y=\"-188.3\" font-family=\"Times,serif\" font-size=\"14.00\">&#45;1</text>\n",
       "</g>\n",
       "<!-- A&#45;&gt;Ag -->\n",
       "<g id=\"edge5\" class=\"edge\"><title>A&#45;&gt;Ag</title>\n",
       "<path fill=\"none\" stroke=\"black\" d=\"M85.592,-274.644C66.1327,-270.647 40.897,-261.933 28,-243 23.5137,-236.414 22.1157,-228.124 22.1682,-220.198\"/>\n",
       "<polygon fill=\"black\" stroke=\"black\" points=\"25.6629,-220.399 22.9351,-210.162 18.6833,-219.866 25.6629,-220.399\"/>\n",
       "<text text-anchor=\"middle\" x=\"101.5\" y=\"-231.8\" font-family=\"Times,serif\" font-size=\"14.00\">&lt;=&#45;0.43648385426882214</text>\n",
       "</g>\n",
       "<!-- Ad -->\n",
       "<g id=\"node3\" class=\"node\"><title>Ad</title>\n",
       "<ellipse fill=\"none\" stroke=\"black\" cx=\"197\" cy=\"-192\" rx=\"27\" ry=\"18\"/>\n",
       "<text text-anchor=\"middle\" x=\"197\" y=\"-188.3\" font-family=\"Times,serif\" font-size=\"14.00\">1</text>\n",
       "</g>\n",
       "<!-- A&#45;&gt;Ad -->\n",
       "<g id=\"edge6\" class=\"edge\"><title>A&#45;&gt;Ad</title>\n",
       "<path fill=\"none\" stroke=\"black\" d=\"M135.103,-269.513C148.215,-263.723 164.127,-254.929 175,-243 181.086,-236.323 185.689,-227.691 189.07,-219.484\"/>\n",
       "<polygon fill=\"black\" stroke=\"black\" points=\"192.448,-220.438 192.605,-209.844 185.876,-218.028 192.448,-220.438\"/>\n",
       "<text text-anchor=\"middle\" x=\"253.5\" y=\"-231.8\" font-family=\"Times,serif\" font-size=\"14.00\">&gt;&#45;0.43648385426882214</text>\n",
       "</g>\n",
       "<!-- Adg -->\n",
       "<g id=\"node4\" class=\"node\"><title>Adg</title>\n",
       "<ellipse fill=\"none\" stroke=\"black\" cx=\"116\" cy=\"-105\" rx=\"27\" ry=\"18\"/>\n",
       "<text text-anchor=\"middle\" x=\"116\" y=\"-101.3\" font-family=\"Times,serif\" font-size=\"14.00\">0</text>\n",
       "</g>\n",
       "<!-- Ad&#45;&gt;Adg -->\n",
       "<g id=\"edge3\" class=\"edge\"><title>Ad&#45;&gt;Adg</title>\n",
       "<path fill=\"none\" stroke=\"black\" d=\"M170.653,-187.007C152.268,-182.709 128.962,-173.897 117,-156 112.572,-149.375 111.19,-141.073 111.24,-133.149\"/>\n",
       "<polygon fill=\"black\" stroke=\"black\" points=\"114.734,-133.356 111.994,-123.122 107.754,-132.831 114.734,-133.356\"/>\n",
       "<text text-anchor=\"middle\" x=\"187\" y=\"-144.8\" font-family=\"Times,serif\" font-size=\"14.00\">&lt;=&#45;0.5361085498887407</text>\n",
       "</g>\n",
       "<!-- Add -->\n",
       "<g id=\"node7\" class=\"node\"><title>Add</title>\n",
       "<polygon fill=\"none\" stroke=\"black\" points=\"306,-123 252,-123 252,-87 306,-87 306,-123\"/>\n",
       "<text text-anchor=\"middle\" x=\"279\" y=\"-101.3\" font-family=\"Times,serif\" font-size=\"14.00\">1</text>\n",
       "</g>\n",
       "<!-- Ad&#45;&gt;Add -->\n",
       "<g id=\"edge4\" class=\"edge\"><title>Ad&#45;&gt;Add</title>\n",
       "<path fill=\"none\" stroke=\"black\" d=\"M219.583,-181.999C231.956,-176.13 246.802,-167.427 257,-156 262.926,-149.36 267.463,-140.869 270.834,-132.777\"/>\n",
       "<polygon fill=\"black\" stroke=\"black\" points=\"274.17,-133.847 274.382,-123.254 267.611,-131.403 274.17,-133.847\"/>\n",
       "<text text-anchor=\"middle\" x=\"332\" y=\"-144.8\" font-family=\"Times,serif\" font-size=\"14.00\">&gt;&#45;0.5361085498887407</text>\n",
       "</g>\n",
       "<!-- Adgg -->\n",
       "<g id=\"node5\" class=\"node\"><title>Adgg</title>\n",
       "<polygon fill=\"none\" stroke=\"black\" points=\"67,-36 13,-36 13,-0 67,-0 67,-36\"/>\n",
       "<text text-anchor=\"middle\" x=\"40\" y=\"-14.3\" font-family=\"Times,serif\" font-size=\"14.00\">&#45;1</text>\n",
       "</g>\n",
       "<!-- Adg&#45;&gt;Adgg -->\n",
       "<g id=\"edge1\" class=\"edge\"><title>Adg&#45;&gt;Adgg</title>\n",
       "<path fill=\"none\" stroke=\"black\" d=\"M90.1504,-99.2391C73.0715,-94.6184 51.8968,-85.7383 41,-69 36.6524,-62.3218 35.2937,-54.0052 35.3395,-46.0836\"/>\n",
       "<polygon fill=\"black\" stroke=\"black\" points=\"38.8331,-46.2979 36.0756,-36.0682 31.8519,-45.7847 38.8331,-46.2979\"/>\n",
       "<text text-anchor=\"middle\" x=\"105.5\" y=\"-57.8\" font-family=\"Times,serif\" font-size=\"14.00\">&lt;=1.386505416999718</text>\n",
       "</g>\n",
       "<!-- Adgd -->\n",
       "<g id=\"node6\" class=\"node\"><title>Adgd</title>\n",
       "<polygon fill=\"none\" stroke=\"black\" points=\"219,-36 165,-36 165,-0 219,-0 219,-36\"/>\n",
       "<text text-anchor=\"middle\" x=\"192\" y=\"-14.3\" font-family=\"Times,serif\" font-size=\"14.00\">1</text>\n",
       "</g>\n",
       "<!-- Adg&#45;&gt;Adgd -->\n",
       "<g id=\"edge2\" class=\"edge\"><title>Adg&#45;&gt;Adgd</title>\n",
       "<path fill=\"none\" stroke=\"black\" d=\"M137.37,-93.9488C148.28,-87.9532 161.094,-79.4647 170,-69 175.768,-62.2224 180.264,-53.6949 183.645,-45.6112\"/>\n",
       "<polygon fill=\"black\" stroke=\"black\" points=\"186.971,-46.7102 187.226,-36.1184 180.421,-44.2391 186.971,-46.7102\"/>\n",
       "<text text-anchor=\"middle\" x=\"239.5\" y=\"-57.8\" font-family=\"Times,serif\" font-size=\"14.00\">&gt;1.386505416999718</text>\n",
       "</g>\n",
       "</g>\n",
       "</svg>\n"
      ],
      "text/plain": [
       "<graphviz.dot.Digraph at 0x7efc80eb8198>"
      ]
     },
     "execution_count": 73,
     "metadata": {},
     "output_type": "execute_result"
    }
   ],
   "source": [
    "#test de l'affichage \n",
    "abin = construit_AD(the_set,0.0)\n",
    "gtree = gv.Digraph(format='png')\n",
    "abin.to_graph(gtree)"
   ]
  },
  {
   "cell_type": "markdown",
   "metadata": {},
   "source": [
    "### Classification avec arbre de décision\n"
   ]
  },
  {
   "cell_type": "markdown",
   "metadata": {},
   "source": [
    "Pour classer un nouvel exemple avec un arbre de décision, il faut parcourir l'arbre, de la racine vers une feuille en respectant les tests rencontrés dans chaque arc. Une fois atteint une feuille, la classe de l'exemple est celle présente dans la feuille.\n",
    "\n",
    "La classe ArbreBinaire contient déjà une fonction <code>classifie</code> qui permet de classer un nouvel exemple et de renvoyer la classe +1 ou -1 selon le cas."
   ]
  },
  {
   "cell_type": "markdown",
   "metadata": {},
   "source": [
    "### Implémentation"
   ]
  },
  {
   "cell_type": "markdown",
   "metadata": {},
   "source": [
    "On définit le classifieur <code>ArbreDecision</code> comme suit.\n",
    "\n",
    "Si toutes les fonctions précédentes ont été écrites correctement, il est maintenant possible de construire un arbre de décision à partir de la base jouet.\n"
   ]
  },
  {
   "cell_type": "markdown",
   "metadata": {},
   "source": [
    "## Applications à des données réelles"
   ]
  },
  {
   "cell_type": "code",
   "execution_count": 79,
   "metadata": {},
   "outputs": [],
   "source": [
    "class ArbreDecision(cl.Classifier):\n",
    "    # Constructeur\n",
    "    def __init__(self,epsilon):\n",
    "        # valeur seuil d'entropie pour arrêter la construction\n",
    "        self.epsilon= epsilon\n",
    "        self.racine = None\n",
    "    \n",
    "    # Permet de calculer la prediction sur x => renvoie un score\n",
    "    def predict(self,x):\n",
    "        # classification de l'exemple x avec l'arbre de décision\n",
    "        # on rend 0 (classe -1) ou 1 (classe 1)\n",
    "        classe = self.racine.classifie(x)\n",
    "        if (classe == 1):\n",
    "            return(1)\n",
    "        else:\n",
    "            return(-1)\n",
    "    \n",
    "    # Permet d'entrainer le modele sur un ensemble de données\n",
    "    def train(self,set):\n",
    "        # construction de l'arbre de décision \n",
    "        self.set=set\n",
    "        self.racine = construit_AD(set,self.epsilon)\n",
    "\n",
    "    # Permet d'afficher l'arbre\n",
    "    def plot(self):\n",
    "        gtree = gv.Digraph(format='png')\n",
    "        return self.racine.to_graph(gtree)\n",
    "        "
   ]
  },
  {
   "cell_type": "code",
   "execution_count": 80,
   "metadata": {},
   "outputs": [
    {
     "data": {
      "image/png": "[encoded data removed]",
      "text/plain": [
       "<Figure size 432x288 with 1 Axes>"
      ]
     },
     "metadata": {},
     "output_type": "display_data"
    }
   ],
   "source": [
    "# un exemple d'utilisation:\n",
    "ad=ArbreDecision(0.0)          # initialiation d'un arbre binaire qui utilisera epsilon= 0.0\n",
    "ad.train(the_set)              # construction de l'arbre à partir de la base jouet\n",
    "plot_frontiere(the_set,ad,20)  # tracé graphique de la frontière de décision\n",
    "plot2DSet(the_set) "
   ]
  },
  {
   "cell_type": "code",
   "execution_count": 77,
   "metadata": {},
   "outputs": [
    {
     "data": {
      "image/svg+xml": [
       "<?xml version=\"1.0\" encoding=\"UTF-8\" standalone=\"no\"?>\n",
       "<!DOCTYPE svg PUBLIC \"-//W3C//DTD SVG 1.1//EN\"\n",
       " \"http://www.w3.org/Graphics/SVG/1.1/DTD/svg11.dtd\">\n",
       "<!-- Generated by graphviz version 2.38.0 (20140413.2041)\n",
       " -->\n",
       "<!-- Title: %3 Pages: 1 -->\n",
       "<svg width=\"406pt\" height=\"305pt\"\n",
       " viewBox=\"0.00 0.00 406.00 305.00\" xmlns=\"http://www.w3.org/2000/svg\" xmlns:xlink=\"http://www.w3.org/1999/xlink\">\n",
       "<g id=\"graph0\" class=\"graph\" transform=\"scale(1 1) rotate(0) translate(4 301)\">\n",
       "<title>%3</title>\n",
       "<polygon fill=\"white\" stroke=\"none\" points=\"-4,4 -4,-301 402,-301 402,4 -4,4\"/>\n",
       "<!-- A -->\n",
       "<g id=\"node1\" class=\"node\"><title>A</title>\n",
       "<ellipse fill=\"none\" stroke=\"black\" cx=\"112\" cy=\"-279\" rx=\"27\" ry=\"18\"/>\n",
       "<text text-anchor=\"middle\" x=\"112\" y=\"-275.3\" font-family=\"Times,serif\" font-size=\"14.00\">0</text>\n",
       "</g>\n",
       "<!-- Ag -->\n",
       "<g id=\"node2\" class=\"node\"><title>Ag</title>\n",
       "<polygon fill=\"none\" stroke=\"black\" points=\"54,-210 0,-210 0,-174 54,-174 54,-210\"/>\n",
       "<text text-anchor=\"middle\" x=\"27\" y=\"-188.3\" font-family=\"Times,serif\" font-size=\"14.00\">&#45;1</text>\n",
       "</g>\n",
       "<!-- A&#45;&gt;Ag -->\n",
       "<g id=\"edge5\" class=\"edge\"><title>A&#45;&gt;Ag</title>\n",
       "<path fill=\"none\" stroke=\"black\" d=\"M85.592,-274.644C66.1327,-270.647 40.897,-261.933 28,-243 23.5137,-236.414 22.1157,-228.124 22.1682,-220.198\"/>\n",
       "<polygon fill=\"black\" stroke=\"black\" points=\"25.6629,-220.399 22.9351,-210.162 18.6833,-219.866 25.6629,-220.399\"/>\n",
       "<text text-anchor=\"middle\" x=\"101.5\" y=\"-231.8\" font-family=\"Times,serif\" font-size=\"14.00\">&lt;=&#45;0.43648385426882214</text>\n",
       "</g>\n",
       "<!-- Ad -->\n",
       "<g id=\"node3\" class=\"node\"><title>Ad</title>\n",
       "<ellipse fill=\"none\" stroke=\"black\" cx=\"197\" cy=\"-192\" rx=\"27\" ry=\"18\"/>\n",
       "<text text-anchor=\"middle\" x=\"197\" y=\"-188.3\" font-family=\"Times,serif\" font-size=\"14.00\">1</text>\n",
       "</g>\n",
       "<!-- A&#45;&gt;Ad -->\n",
       "<g id=\"edge6\" class=\"edge\"><title>A&#45;&gt;Ad</title>\n",
       "<path fill=\"none\" stroke=\"black\" d=\"M135.103,-269.513C148.215,-263.723 164.127,-254.929 175,-243 181.086,-236.323 185.689,-227.691 189.07,-219.484\"/>\n",
       "<polygon fill=\"black\" stroke=\"black\" points=\"192.448,-220.438 192.605,-209.844 185.876,-218.028 192.448,-220.438\"/>\n",
       "<text text-anchor=\"middle\" x=\"253.5\" y=\"-231.8\" font-family=\"Times,serif\" font-size=\"14.00\">&gt;&#45;0.43648385426882214</text>\n",
       "</g>\n",
       "<!-- Adg -->\n",
       "<g id=\"node4\" class=\"node\"><title>Adg</title>\n",
       "<ellipse fill=\"none\" stroke=\"black\" cx=\"116\" cy=\"-105\" rx=\"27\" ry=\"18\"/>\n",
       "<text text-anchor=\"middle\" x=\"116\" y=\"-101.3\" font-family=\"Times,serif\" font-size=\"14.00\">0</text>\n",
       "</g>\n",
       "<!-- Ad&#45;&gt;Adg -->\n",
       "<g id=\"edge3\" class=\"edge\"><title>Ad&#45;&gt;Adg</title>\n",
       "<path fill=\"none\" stroke=\"black\" d=\"M170.653,-187.007C152.268,-182.709 128.962,-173.897 117,-156 112.572,-149.375 111.19,-141.073 111.24,-133.149\"/>\n",
       "<polygon fill=\"black\" stroke=\"black\" points=\"114.734,-133.356 111.994,-123.122 107.754,-132.831 114.734,-133.356\"/>\n",
       "<text text-anchor=\"middle\" x=\"187\" y=\"-144.8\" font-family=\"Times,serif\" font-size=\"14.00\">&lt;=&#45;0.5361085498887407</text>\n",
       "</g>\n",
       "<!-- Add -->\n",
       "<g id=\"node7\" class=\"node\"><title>Add</title>\n",
       "<polygon fill=\"none\" stroke=\"black\" points=\"306,-123 252,-123 252,-87 306,-87 306,-123\"/>\n",
       "<text text-anchor=\"middle\" x=\"279\" y=\"-101.3\" font-family=\"Times,serif\" font-size=\"14.00\">1</text>\n",
       "</g>\n",
       "<!-- Ad&#45;&gt;Add -->\n",
       "<g id=\"edge4\" class=\"edge\"><title>Ad&#45;&gt;Add</title>\n",
       "<path fill=\"none\" stroke=\"black\" d=\"M219.583,-181.999C231.956,-176.13 246.802,-167.427 257,-156 262.926,-149.36 267.463,-140.869 270.834,-132.777\"/>\n",
       "<polygon fill=\"black\" stroke=\"black\" points=\"274.17,-133.847 274.382,-123.254 267.611,-131.403 274.17,-133.847\"/>\n",
       "<text text-anchor=\"middle\" x=\"332\" y=\"-144.8\" font-family=\"Times,serif\" font-size=\"14.00\">&gt;&#45;0.5361085498887407</text>\n",
       "</g>\n",
       "<!-- Adgg -->\n",
       "<g id=\"node5\" class=\"node\"><title>Adgg</title>\n",
       "<polygon fill=\"none\" stroke=\"black\" points=\"67,-36 13,-36 13,-0 67,-0 67,-36\"/>\n",
       "<text text-anchor=\"middle\" x=\"40\" y=\"-14.3\" font-family=\"Times,serif\" font-size=\"14.00\">&#45;1</text>\n",
       "</g>\n",
       "<!-- Adg&#45;&gt;Adgg -->\n",
       "<g id=\"edge1\" class=\"edge\"><title>Adg&#45;&gt;Adgg</title>\n",
       "<path fill=\"none\" stroke=\"black\" d=\"M90.1504,-99.2391C73.0715,-94.6184 51.8968,-85.7383 41,-69 36.6524,-62.3218 35.2937,-54.0052 35.3395,-46.0836\"/>\n",
       "<polygon fill=\"black\" stroke=\"black\" points=\"38.8331,-46.2979 36.0756,-36.0682 31.8519,-45.7847 38.8331,-46.2979\"/>\n",
       "<text text-anchor=\"middle\" x=\"105.5\" y=\"-57.8\" font-family=\"Times,serif\" font-size=\"14.00\">&lt;=1.386505416999718</text>\n",
       "</g>\n",
       "<!-- Adgd -->\n",
       "<g id=\"node6\" class=\"node\"><title>Adgd</title>\n",
       "<polygon fill=\"none\" stroke=\"black\" points=\"219,-36 165,-36 165,-0 219,-0 219,-36\"/>\n",
       "<text text-anchor=\"middle\" x=\"192\" y=\"-14.3\" font-family=\"Times,serif\" font-size=\"14.00\">1</text>\n",
       "</g>\n",
       "<!-- Adg&#45;&gt;Adgd -->\n",
       "<g id=\"edge2\" class=\"edge\"><title>Adg&#45;&gt;Adgd</title>\n",
       "<path fill=\"none\" stroke=\"black\" d=\"M137.37,-93.9488C148.28,-87.9532 161.094,-79.4647 170,-69 175.768,-62.2224 180.264,-53.6949 183.645,-45.6112\"/>\n",
       "<polygon fill=\"black\" stroke=\"black\" points=\"186.971,-46.7102 187.226,-36.1184 180.421,-44.2391 186.971,-46.7102\"/>\n",
       "<text text-anchor=\"middle\" x=\"239.5\" y=\"-57.8\" font-family=\"Times,serif\" font-size=\"14.00\">&gt;1.386505416999718</text>\n",
       "</g>\n",
       "</g>\n",
       "</svg>\n"
      ],
      "text/plain": [
       "<graphviz.dot.Digraph at 0x7efc80fac080>"
      ]
     },
     "execution_count": 77,
     "metadata": {},
     "output_type": "execute_result"
    }
   ],
   "source": [
    "ad.plot()"
   ]
  },
  {
   "cell_type": "markdown",
   "metadata": {},
   "source": [
    "<font color=\"RED\" size=\"+1\">**[Q]**</font> Appliquer l'algorithme des arbres de décision à des données réelles (par exemple, celles utilisées avec les k-nn) et comparer les résultats obtenus par les 2 algorithmes.\n",
    "\n",
    "Un autre exemple d'utilisation sur une base plus grande:"
   ]
  },
  {
   "cell_type": "code",
   "execution_count": 82,
   "metadata": {
    "scrolled": true
   },
   "outputs": [
    {
     "name": "stdout",
     "output_type": "stream",
     "text": [
      "Taille de la base générée : 200 exemples\n"
     ]
    },
    {
     "data": {
      "image/png": "[encoded data removed]",
      "text/plain": [
       "<Figure size 432x288 with 1 Axes>"
      ]
     },
     "metadata": {},
     "output_type": "display_data"
    }
   ],
   "source": [
    "autre_set=createGaussianDataset(np.array([1,1]),np.array([[1,0],[0,1]]),np.array([-1,-1]),np.array([[1,0],[0,1]]),100)\n",
    "print(\"Taille de la base générée :\", autre_set.size(), \"exemples\")\n",
    "adautre=ArbreDecision(0.0)          \n",
    "adautre.train(autre_set)            \n",
    "plot_frontiere(autre_set,adautre,20)\n",
    "plot2DSet(autre_set) "
   ]
  },
  {
   "cell_type": "code",
   "execution_count": 83,
   "metadata": {},
   "outputs": [
    {
     "data": {
      "image/svg+xml": [
       "<?xml version=\"1.0\" encoding=\"UTF-8\" standalone=\"no\"?>\n",
       "<!DOCTYPE svg PUBLIC \"-//W3C//DTD SVG 1.1//EN\"\n",
       " \"http://www.w3.org/Graphics/SVG/1.1/DTD/svg11.dtd\">\n",
       "<!-- Generated by graphviz version 2.38.0 (20140413.2041)\n",
       " -->\n",
       "<!-- Title: %3 Pages: 1 -->\n",
       "<svg width=\"1875pt\" height=\"566pt\"\n",
       " viewBox=\"0.00 0.00 1875.00 566.00\" xmlns=\"http://www.w3.org/2000/svg\" xmlns:xlink=\"http://www.w3.org/1999/xlink\">\n",
       "<g id=\"graph0\" class=\"graph\" transform=\"scale(1 1) rotate(0) translate(4 562)\">\n",
       "<title>%3</title>\n",
       "<polygon fill=\"white\" stroke=\"none\" points=\"-4,4 -4,-562 1871,-562 1871,4 -4,4\"/>\n",
       "<!-- A -->\n",
       "<g id=\"node1\" class=\"node\"><title>A</title>\n",
       "<ellipse fill=\"none\" stroke=\"black\" cx=\"1036\" cy=\"-540\" rx=\"27\" ry=\"18\"/>\n",
       "<text text-anchor=\"middle\" x=\"1036\" y=\"-536.3\" font-family=\"Times,serif\" font-size=\"14.00\">0</text>\n",
       "</g>\n",
       "<!-- Ag -->\n",
       "<g id=\"node2\" class=\"node\"><title>Ag</title>\n",
       "<ellipse fill=\"none\" stroke=\"black\" cx=\"897\" cy=\"-453\" rx=\"27\" ry=\"18\"/>\n",
       "<text text-anchor=\"middle\" x=\"897\" y=\"-449.3\" font-family=\"Times,serif\" font-size=\"14.00\">1</text>\n",
       "</g>\n",
       "<!-- A&#45;&gt;Ag -->\n",
       "<g id=\"edge35\" class=\"edge\"><title>A&#45;&gt;Ag</title>\n",
       "<path fill=\"none\" stroke=\"black\" d=\"M1014.06,-529.164C1000.02,-522.591 981.566,-513.444 966,-504 950.894,-494.835 934.864,-483.338 922.061,-473.68\"/>\n",
       "<polygon fill=\"black\" stroke=\"black\" points=\"923.834,-470.63 913.763,-467.339 919.583,-476.192 923.834,-470.63\"/>\n",
       "<text text-anchor=\"middle\" x=\"1037\" y=\"-492.8\" font-family=\"Times,serif\" font-size=\"14.00\">&lt;=0.06039476425100504</text>\n",
       "</g>\n",
       "<!-- Ad -->\n",
       "<g id=\"node25\" class=\"node\"><title>Ad</title>\n",
       "<ellipse fill=\"none\" stroke=\"black\" cx=\"1274\" cy=\"-453\" rx=\"27\" ry=\"18\"/>\n",
       "<text text-anchor=\"middle\" x=\"1274\" y=\"-449.3\" font-family=\"Times,serif\" font-size=\"14.00\">1</text>\n",
       "</g>\n",
       "<!-- A&#45;&gt;Ad -->\n",
       "<g id=\"edge36\" class=\"edge\"><title>A&#45;&gt;Ad</title>\n",
       "<path fill=\"none\" stroke=\"black\" d=\"M1059.25,-530.695C1101.82,-515.492 1192.37,-483.153 1241.19,-465.719\"/>\n",
       "<polygon fill=\"black\" stroke=\"black\" points=\"1242.41,-468.998 1250.65,-462.339 1240.06,-462.406 1242.41,-468.998\"/>\n",
       "<text text-anchor=\"middle\" x=\"1236\" y=\"-492.8\" font-family=\"Times,serif\" font-size=\"14.00\">&gt;0.06039476425100504</text>\n",
       "</g>\n",
       "<!-- Agg -->\n",
       "<g id=\"node3\" class=\"node\"><title>Agg</title>\n",
       "<ellipse fill=\"none\" stroke=\"black\" cx=\"469\" cy=\"-366\" rx=\"27\" ry=\"18\"/>\n",
       "<text text-anchor=\"middle\" x=\"469\" y=\"-362.3\" font-family=\"Times,serif\" font-size=\"14.00\">0</text>\n",
       "</g>\n",
       "<!-- Ag&#45;&gt;Agg -->\n",
       "<g id=\"edge21\" class=\"edge\"><title>Ag&#45;&gt;Agg</title>\n",
       "<path fill=\"none\" stroke=\"black\" d=\"M871.508,-446.937C798.519,-432.442 588.589,-390.75 504.477,-374.046\"/>\n",
       "<polygon fill=\"black\" stroke=\"black\" points=\"505.118,-370.605 494.628,-372.09 503.755,-377.471 505.118,-370.605\"/>\n",
       "<text text-anchor=\"middle\" x=\"787\" y=\"-405.8\" font-family=\"Times,serif\" font-size=\"14.00\">&lt;=0.0034966106667710384</text>\n",
       "</g>\n",
       "<!-- Agd -->\n",
       "<g id=\"node12\" class=\"node\"><title>Agd</title>\n",
       "<ellipse fill=\"none\" stroke=\"black\" cx=\"897\" cy=\"-366\" rx=\"27\" ry=\"18\"/>\n",
       "<text text-anchor=\"middle\" x=\"897\" y=\"-362.3\" font-family=\"Times,serif\" font-size=\"14.00\">0</text>\n",
       "</g>\n",
       "<!-- Ag&#45;&gt;Agd -->\n",
       "<g id=\"edge22\" class=\"edge\"><title>Ag&#45;&gt;Agd</title>\n",
       "<path fill=\"none\" stroke=\"black\" d=\"M897,-434.799C897,-423.163 897,-407.548 897,-394.237\"/>\n",
       "<polygon fill=\"black\" stroke=\"black\" points=\"900.5,-394.175 897,-384.175 893.5,-394.175 900.5,-394.175\"/>\n",
       "<text text-anchor=\"middle\" x=\"971\" y=\"-405.8\" font-family=\"Times,serif\" font-size=\"14.00\">&gt;0.0034966106667710384</text>\n",
       "</g>\n",
       "<!-- Aggg -->\n",
       "<g id=\"node4\" class=\"node\"><title>Aggg</title>\n",
       "<ellipse fill=\"none\" stroke=\"black\" cx=\"190\" cy=\"-279\" rx=\"27\" ry=\"18\"/>\n",
       "<text text-anchor=\"middle\" x=\"190\" y=\"-275.3\" font-family=\"Times,serif\" font-size=\"14.00\">0</text>\n",
       "</g>\n",
       "<!-- Agg&#45;&gt;Aggg -->\n",
       "<g id=\"edge7\" class=\"edge\"><title>Agg&#45;&gt;Aggg</title>\n",
       "<path fill=\"none\" stroke=\"black\" d=\"M443.526,-359.748C414.558,-353.559 365.967,-342.519 325,-330 289.236,-319.071 249.161,-303.837 222.032,-293.064\"/>\n",
       "<polygon fill=\"black\" stroke=\"black\" points=\"223.239,-289.777 212.654,-289.313 220.639,-296.277 223.239,-289.777\"/>\n",
       "<text text-anchor=\"middle\" x=\"395\" y=\"-318.8\" font-family=\"Times,serif\" font-size=\"14.00\">&lt;=&#45;0.5643924960192346</text>\n",
       "</g>\n",
       "<!-- Aggd -->\n",
       "<g id=\"node9\" class=\"node\"><title>Aggd</title>\n",
       "<ellipse fill=\"none\" stroke=\"black\" cx=\"469\" cy=\"-279\" rx=\"27\" ry=\"18\"/>\n",
       "<text text-anchor=\"middle\" x=\"469\" y=\"-275.3\" font-family=\"Times,serif\" font-size=\"14.00\">0</text>\n",
       "</g>\n",
       "<!-- Agg&#45;&gt;Aggd -->\n",
       "<g id=\"edge8\" class=\"edge\"><title>Agg&#45;&gt;Aggd</title>\n",
       "<path fill=\"none\" stroke=\"black\" d=\"M469,-347.799C469,-336.163 469,-320.548 469,-307.237\"/>\n",
       "<polygon fill=\"black\" stroke=\"black\" points=\"472.5,-307.175 469,-297.175 465.5,-307.175 472.5,-307.175\"/>\n",
       "<text text-anchor=\"middle\" x=\"535\" y=\"-318.8\" font-family=\"Times,serif\" font-size=\"14.00\">&gt;&#45;0.5643924960192346</text>\n",
       "</g>\n",
       "<!-- Agggg -->\n",
       "<g id=\"node5\" class=\"node\"><title>Agggg</title>\n",
       "<polygon fill=\"none\" stroke=\"black\" points=\"54,-210 0,-210 0,-174 54,-174 54,-210\"/>\n",
       "<text text-anchor=\"middle\" x=\"27\" y=\"-188.3\" font-family=\"Times,serif\" font-size=\"14.00\">&#45;1</text>\n",
       "</g>\n",
       "<!-- Aggg&#45;&gt;Agggg -->\n",
       "<g id=\"edge3\" class=\"edge\"><title>Aggg&#45;&gt;Agggg</title>\n",
       "<path fill=\"none\" stroke=\"black\" d=\"M162.988,-278.595C131.224,-277.843 78.6977,-271.854 46,-243 39.1939,-236.994 34.8153,-228.285 32.0026,-219.812\"/>\n",
       "<polygon fill=\"black\" stroke=\"black\" points=\"35.3758,-218.878 29.3685,-210.151 28.6224,-220.72 35.3758,-218.878\"/>\n",
       "<text text-anchor=\"middle\" x=\"116\" y=\"-231.8\" font-family=\"Times,serif\" font-size=\"14.00\">&lt;=&#45;3.5487285156154855</text>\n",
       "</g>\n",
       "<!-- Agggd -->\n",
       "<g id=\"node6\" class=\"node\"><title>Agggd</title>\n",
       "<ellipse fill=\"none\" stroke=\"black\" cx=\"190\" cy=\"-192\" rx=\"27\" ry=\"18\"/>\n",
       "<text text-anchor=\"middle\" x=\"190\" y=\"-188.3\" font-family=\"Times,serif\" font-size=\"14.00\">0</text>\n",
       "</g>\n",
       "<!-- Aggg&#45;&gt;Agggd -->\n",
       "<g id=\"edge4\" class=\"edge\"><title>Aggg&#45;&gt;Agggd</title>\n",
       "<path fill=\"none\" stroke=\"black\" d=\"M190,-260.799C190,-249.163 190,-233.548 190,-220.237\"/>\n",
       "<polygon fill=\"black\" stroke=\"black\" points=\"193.5,-220.175 190,-210.175 186.5,-220.175 193.5,-220.175\"/>\n",
       "<text text-anchor=\"middle\" x=\"256\" y=\"-231.8\" font-family=\"Times,serif\" font-size=\"14.00\">&gt;&#45;3.5487285156154855</text>\n",
       "</g>\n",
       "<!-- Agggdg -->\n",
       "<g id=\"node7\" class=\"node\"><title>Agggdg</title>\n",
       "<polygon fill=\"none\" stroke=\"black\" points=\"136,-123 82,-123 82,-87 136,-87 136,-123\"/>\n",
       "<text text-anchor=\"middle\" x=\"109\" y=\"-101.3\" font-family=\"Times,serif\" font-size=\"14.00\">&#45;1</text>\n",
       "</g>\n",
       "<!-- Agggd&#45;&gt;Agggdg -->\n",
       "<g id=\"edge1\" class=\"edge\"><title>Agggd&#45;&gt;Agggdg</title>\n",
       "<path fill=\"none\" stroke=\"black\" d=\"M163.653,-187.007C145.268,-182.709 121.962,-173.897 110,-156 105.572,-149.375 104.19,-141.073 104.24,-133.149\"/>\n",
       "<polygon fill=\"black\" stroke=\"black\" points=\"107.734,-133.356 104.994,-123.122 100.754,-132.831 107.734,-133.356\"/>\n",
       "<text text-anchor=\"middle\" x=\"180\" y=\"-144.8\" font-family=\"Times,serif\" font-size=\"14.00\">&lt;=&#45;2.8645819366207754</text>\n",
       "</g>\n",
       "<!-- Agggdd -->\n",
       "<g id=\"node8\" class=\"node\"><title>Agggdd</title>\n",
       "<polygon fill=\"none\" stroke=\"black\" points=\"299,-123 245,-123 245,-87 299,-87 299,-123\"/>\n",
       "<text text-anchor=\"middle\" x=\"272\" y=\"-101.3\" font-family=\"Times,serif\" font-size=\"14.00\">&#45;1</text>\n",
       "</g>\n",
       "<!-- Agggd&#45;&gt;Agggdd -->\n",
       "<g id=\"edge2\" class=\"edge\"><title>Agggd&#45;&gt;Agggdd</title>\n",
       "<path fill=\"none\" stroke=\"black\" d=\"M212.583,-181.999C224.956,-176.13 239.802,-167.427 250,-156 255.926,-149.36 260.463,-140.869 263.834,-132.777\"/>\n",
       "<polygon fill=\"black\" stroke=\"black\" points=\"267.17,-133.847 267.382,-123.254 260.611,-131.403 267.17,-133.847\"/>\n",
       "<text text-anchor=\"middle\" x=\"326\" y=\"-144.8\" font-family=\"Times,serif\" font-size=\"14.00\">&gt;&#45;2.8645819366207754</text>\n",
       "</g>\n",
       "<!-- Aggdg -->\n",
       "<g id=\"node10\" class=\"node\"><title>Aggdg</title>\n",
       "<polygon fill=\"none\" stroke=\"black\" points=\"372,-210 318,-210 318,-174 372,-174 372,-210\"/>\n",
       "<text text-anchor=\"middle\" x=\"345\" y=\"-188.3\" font-family=\"Times,serif\" font-size=\"14.00\">1</text>\n",
       "</g>\n",
       "<!-- Aggd&#45;&gt;Aggdg -->\n",
       "<g id=\"edge5\" class=\"edge\"><title>Aggd&#45;&gt;Aggdg</title>\n",
       "<path fill=\"none\" stroke=\"black\" d=\"M442.831,-274.53C409.335,-269.49 354.16,-258.965 342,-243 337.164,-236.651 336.181,-228.427 336.91,-220.49\"/>\n",
       "<polygon fill=\"black\" stroke=\"black\" points=\"340.399,-220.855 338.675,-210.401 333.504,-219.649 340.399,-220.855\"/>\n",
       "<text text-anchor=\"middle\" x=\"412\" y=\"-231.8\" font-family=\"Times,serif\" font-size=\"14.00\">&lt;=&#45;0.4685033958985841</text>\n",
       "</g>\n",
       "<!-- Aggdd -->\n",
       "<g id=\"node11\" class=\"node\"><title>Aggdd</title>\n",
       "<polygon fill=\"none\" stroke=\"black\" points=\"535,-210 481,-210 481,-174 535,-174 535,-210\"/>\n",
       "<text text-anchor=\"middle\" x=\"508\" y=\"-188.3\" font-family=\"Times,serif\" font-size=\"14.00\">&#45;1</text>\n",
       "</g>\n",
       "<!-- Aggd&#45;&gt;Aggdd -->\n",
       "<g id=\"edge6\" class=\"edge\"><title>Aggd&#45;&gt;Aggdd</title>\n",
       "<path fill=\"none\" stroke=\"black\" d=\"M477.085,-261.679C479.949,-255.813 483.164,-249.131 486,-243 489.528,-235.375 493.249,-227.039 496.607,-219.398\"/>\n",
       "<polygon fill=\"black\" stroke=\"black\" points=\"499.83,-220.761 500.624,-210.196 493.415,-217.96 499.83,-220.761\"/>\n",
       "<text text-anchor=\"middle\" x=\"559\" y=\"-231.8\" font-family=\"Times,serif\" font-size=\"14.00\">&gt;&#45;0.4685033958985841</text>\n",
       "</g>\n",
       "<!-- Agdg -->\n",
       "<g id=\"node13\" class=\"node\"><title>Agdg</title>\n",
       "<ellipse fill=\"none\" stroke=\"black\" cx=\"815\" cy=\"-279\" rx=\"27\" ry=\"18\"/>\n",
       "<text text-anchor=\"middle\" x=\"815\" y=\"-275.3\" font-family=\"Times,serif\" font-size=\"14.00\">1</text>\n",
       "</g>\n",
       "<!-- Agd&#45;&gt;Agdg -->\n",
       "<g id=\"edge19\" class=\"edge\"><title>Agd&#45;&gt;Agdg</title>\n",
       "<path fill=\"none\" stroke=\"black\" d=\"M870.587,-361.89C850.789,-358.021 824.965,-349.36 812,-330 807.441,-323.192 806.644,-314.623 807.458,-306.511\"/>\n",
       "<polygon fill=\"black\" stroke=\"black\" points=\"810.907,-307.101 809.188,-296.647 804.013,-305.892 810.907,-307.101\"/>\n",
       "<text text-anchor=\"middle\" x=\"882\" y=\"-318.8\" font-family=\"Times,serif\" font-size=\"14.00\">&lt;=&#45;0.9611648776181819</text>\n",
       "</g>\n",
       "<!-- Agdd -->\n",
       "<g id=\"node16\" class=\"node\"><title>Agdd</title>\n",
       "<ellipse fill=\"none\" stroke=\"black\" cx=\"978\" cy=\"-279\" rx=\"27\" ry=\"18\"/>\n",
       "<text text-anchor=\"middle\" x=\"978\" y=\"-275.3\" font-family=\"Times,serif\" font-size=\"14.00\">1</text>\n",
       "</g>\n",
       "<!-- Agd&#45;&gt;Agdd -->\n",
       "<g id=\"edge20\" class=\"edge\"><title>Agd&#45;&gt;Agdd</title>\n",
       "<path fill=\"none\" stroke=\"black\" d=\"M919.493,-355.78C931.601,-349.887 946.049,-341.233 956,-330 961.991,-323.237 966.57,-314.584 969.957,-306.383\"/>\n",
       "<polygon fill=\"black\" stroke=\"black\" points=\"973.329,-307.355 973.514,-296.762 966.764,-304.928 973.329,-307.355\"/>\n",
       "<text text-anchor=\"middle\" x=\"1032\" y=\"-318.8\" font-family=\"Times,serif\" font-size=\"14.00\">&gt;&#45;0.9611648776181819</text>\n",
       "</g>\n",
       "<!-- Agdgg -->\n",
       "<g id=\"node14\" class=\"node\"><title>Agdgg</title>\n",
       "<polygon fill=\"none\" stroke=\"black\" points=\"690,-210 636,-210 636,-174 690,-174 690,-210\"/>\n",
       "<text text-anchor=\"middle\" x=\"663\" y=\"-188.3\" font-family=\"Times,serif\" font-size=\"14.00\">&#45;1</text>\n",
       "</g>\n",
       "<!-- Agdg&#45;&gt;Agdgg -->\n",
       "<g id=\"edge9\" class=\"edge\"><title>Agdg&#45;&gt;Agdgg</title>\n",
       "<path fill=\"none\" stroke=\"black\" d=\"M787.853,-278.384C757.463,-277.325 708.61,-270.946 679,-243 672.591,-236.951 668.741,-228.34 666.431,-219.963\"/>\n",
       "<polygon fill=\"black\" stroke=\"black\" points=\"669.825,-219.097 664.309,-210.051 662.98,-220.562 669.825,-219.097\"/>\n",
       "<text text-anchor=\"middle\" x=\"747\" y=\"-231.8\" font-family=\"Times,serif\" font-size=\"14.00\">&lt;=2.2636616592710546</text>\n",
       "</g>\n",
       "<!-- Agdgd -->\n",
       "<g id=\"node15\" class=\"node\"><title>Agdgd</title>\n",
       "<polygon fill=\"none\" stroke=\"black\" points=\"849,-210 795,-210 795,-174 849,-174 849,-210\"/>\n",
       "<text text-anchor=\"middle\" x=\"822\" y=\"-188.3\" font-family=\"Times,serif\" font-size=\"14.00\">1</text>\n",
       "</g>\n",
       "<!-- Agdg&#45;&gt;Agdgd -->\n",
       "<g id=\"edge10\" class=\"edge\"><title>Agdg&#45;&gt;Agdgd</title>\n",
       "<path fill=\"none\" stroke=\"black\" d=\"M816.417,-260.799C817.375,-249.163 818.661,-233.548 819.757,-220.237\"/>\n",
       "<polygon fill=\"black\" stroke=\"black\" points=\"823.253,-220.429 820.586,-210.175 816.277,-219.854 823.253,-220.429\"/>\n",
       "<text text-anchor=\"middle\" x=\"882.5\" y=\"-231.8\" font-family=\"Times,serif\" font-size=\"14.00\">&gt;2.2636616592710546</text>\n",
       "</g>\n",
       "<!-- Agddg -->\n",
       "<g id=\"node17\" class=\"node\"><title>Agddg</title>\n",
       "<ellipse fill=\"none\" stroke=\"black\" cx=\"958\" cy=\"-192\" rx=\"27\" ry=\"18\"/>\n",
       "<text text-anchor=\"middle\" x=\"958\" y=\"-188.3\" font-family=\"Times,serif\" font-size=\"14.00\">0</text>\n",
       "</g>\n",
       "<!-- Agdd&#45;&gt;Agddg -->\n",
       "<g id=\"edge17\" class=\"edge\"><title>Agdd&#45;&gt;Agddg</title>\n",
       "<path fill=\"none\" stroke=\"black\" d=\"M973.953,-260.799C971.197,-249.086 967.492,-233.342 964.347,-219.974\"/>\n",
       "<polygon fill=\"black\" stroke=\"black\" points=\"967.67,-218.818 961.973,-209.885 960.857,-220.421 967.67,-218.818\"/>\n",
       "<text text-anchor=\"middle\" x=\"1034.5\" y=\"-231.8\" font-family=\"Times,serif\" font-size=\"14.00\">&lt;=0.437663165246299</text>\n",
       "</g>\n",
       "<!-- Agddd -->\n",
       "<g id=\"node22\" class=\"node\"><title>Agddd</title>\n",
       "<ellipse fill=\"none\" stroke=\"black\" cx=\"1124\" cy=\"-192\" rx=\"27\" ry=\"18\"/>\n",
       "<text text-anchor=\"middle\" x=\"1124\" y=\"-188.3\" font-family=\"Times,serif\" font-size=\"14.00\">0</text>\n",
       "</g>\n",
       "<!-- Agdd&#45;&gt;Agddd -->\n",
       "<g id=\"edge18\" class=\"edge\"><title>Agdd&#45;&gt;Agddd</title>\n",
       "<path fill=\"none\" stroke=\"black\" d=\"M1005.07,-276.903C1032.52,-274.429 1074.74,-266.704 1102,-243 1109,-236.917 1113.86,-228.19 1117.19,-219.724\"/>\n",
       "<polygon fill=\"black\" stroke=\"black\" points=\"1120.57,-220.675 1120.45,-210.081 1113.93,-218.438 1120.57,-220.675\"/>\n",
       "<text text-anchor=\"middle\" x=\"1173.5\" y=\"-231.8\" font-family=\"Times,serif\" font-size=\"14.00\">&gt;0.437663165246299</text>\n",
       "</g>\n",
       "<!-- Agddgg -->\n",
       "<g id=\"node18\" class=\"node\"><title>Agddgg</title>\n",
       "<ellipse fill=\"none\" stroke=\"black\" cx=\"788\" cy=\"-105\" rx=\"27\" ry=\"18\"/>\n",
       "<text text-anchor=\"middle\" x=\"788\" y=\"-101.3\" font-family=\"Times,serif\" font-size=\"14.00\">1</text>\n",
       "</g>\n",
       "<!-- Agddg&#45;&gt;Agddgg -->\n",
       "<g id=\"edge13\" class=\"edge\"><title>Agddg&#45;&gt;Agddgg</title>\n",
       "<path fill=\"none\" stroke=\"black\" d=\"M932.091,-186.366C891.462,-178.898 816.401,-164.207 807,-156 800.162,-150.03 795.776,-141.33 792.966,-132.854\"/>\n",
       "<polygon fill=\"black\" stroke=\"black\" points=\"796.338,-131.917 790.339,-123.184 789.583,-133.752 796.338,-131.917\"/>\n",
       "<text text-anchor=\"middle\" x=\"880.5\" y=\"-144.8\" font-family=\"Times,serif\" font-size=\"14.00\">&lt;=&#45;0.21225936539083667</text>\n",
       "</g>\n",
       "<!-- Agddgd -->\n",
       "<g id=\"node21\" class=\"node\"><title>Agddgd</title>\n",
       "<polygon fill=\"none\" stroke=\"black\" points=\"985,-123 931,-123 931,-87 985,-87 985,-123\"/>\n",
       "<text text-anchor=\"middle\" x=\"958\" y=\"-101.3\" font-family=\"Times,serif\" font-size=\"14.00\">1</text>\n",
       "</g>\n",
       "<!-- Agddg&#45;&gt;Agddgd -->\n",
       "<g id=\"edge14\" class=\"edge\"><title>Agddg&#45;&gt;Agddgd</title>\n",
       "<path fill=\"none\" stroke=\"black\" d=\"M958,-173.799C958,-162.163 958,-146.548 958,-133.237\"/>\n",
       "<polygon fill=\"black\" stroke=\"black\" points=\"961.5,-133.175 958,-123.175 954.5,-133.175 961.5,-133.175\"/>\n",
       "<text text-anchor=\"middle\" x=\"1027.5\" y=\"-144.8\" font-family=\"Times,serif\" font-size=\"14.00\">&gt;&#45;0.21225936539083667</text>\n",
       "</g>\n",
       "<!-- Agddggg -->\n",
       "<g id=\"node19\" class=\"node\"><title>Agddggg</title>\n",
       "<polygon fill=\"none\" stroke=\"black\" points=\"733,-36 679,-36 679,-0 733,-0 733,-36\"/>\n",
       "<text text-anchor=\"middle\" x=\"706\" y=\"-14.3\" font-family=\"Times,serif\" font-size=\"14.00\">1</text>\n",
       "</g>\n",
       "<!-- Agddgg&#45;&gt;Agddggg -->\n",
       "<g id=\"edge11\" class=\"edge\"><title>Agddgg&#45;&gt;Agddggg</title>\n",
       "<path fill=\"none\" stroke=\"black\" d=\"M761.726,-100.192C743.057,-95.9749 719.214,-87.1851 707,-69 702.557,-62.385 701.171,-54.0863 701.222,-46.1616\"/>\n",
       "<polygon fill=\"black\" stroke=\"black\" points=\"704.716,-46.3673 701.979,-36.1322 697.736,-45.8402 704.716,-46.3673\"/>\n",
       "<text text-anchor=\"middle\" x=\"778\" y=\"-57.8\" font-family=\"Times,serif\" font-size=\"14.00\">&lt;=0.07026506753623957</text>\n",
       "</g>\n",
       "<!-- Agddggd -->\n",
       "<g id=\"node20\" class=\"node\"><title>Agddggd</title>\n",
       "<polygon fill=\"none\" stroke=\"black\" points=\"898,-36 844,-36 844,-0 898,-0 898,-36\"/>\n",
       "<text text-anchor=\"middle\" x=\"871\" y=\"-14.3\" font-family=\"Times,serif\" font-size=\"14.00\">&#45;1</text>\n",
       "</g>\n",
       "<!-- Agddgg&#45;&gt;Agddggd -->\n",
       "<g id=\"edge12\" class=\"edge\"><title>Agddgg&#45;&gt;Agddggd</title>\n",
       "<path fill=\"none\" stroke=\"black\" d=\"M810.961,-95.0797C823.54,-89.2361 838.634,-80.5322 849,-69 854.95,-62.3811 859.494,-53.896 862.863,-45.8022\"/>\n",
       "<polygon fill=\"black\" stroke=\"black\" points=\"866.201,-46.8684 866.406,-36.2755 859.64,-44.4284 866.201,-46.8684\"/>\n",
       "<text text-anchor=\"middle\" x=\"926\" y=\"-57.8\" font-family=\"Times,serif\" font-size=\"14.00\">&gt;0.07026506753623957</text>\n",
       "</g>\n",
       "<!-- Agdddg -->\n",
       "<g id=\"node23\" class=\"node\"><title>Agdddg</title>\n",
       "<polygon fill=\"none\" stroke=\"black\" points=\"1147,-123 1093,-123 1093,-87 1147,-87 1147,-123\"/>\n",
       "<text text-anchor=\"middle\" x=\"1120\" y=\"-101.3\" font-family=\"Times,serif\" font-size=\"14.00\">1</text>\n",
       "</g>\n",
       "<!-- Agddd&#45;&gt;Agdddg -->\n",
       "<g id=\"edge15\" class=\"edge\"><title>Agddd&#45;&gt;Agdddg</title>\n",
       "<path fill=\"none\" stroke=\"black\" d=\"M1122.31,-173.926C1121.81,-168.23 1121.31,-161.847 1121,-156 1120.61,-148.66 1120.37,-140.707 1120.22,-133.349\"/>\n",
       "<polygon fill=\"black\" stroke=\"black\" points=\"1123.72,-133.079 1120.07,-123.134 1116.72,-133.187 1123.72,-133.079\"/>\n",
       "<text text-anchor=\"middle\" x=\"1191\" y=\"-144.8\" font-family=\"Times,serif\" font-size=\"14.00\">&lt;=&#45;0.8745630102353198</text>\n",
       "</g>\n",
       "<!-- Agdddd -->\n",
       "<g id=\"node24\" class=\"node\"><title>Agdddd</title>\n",
       "<polygon fill=\"none\" stroke=\"black\" points=\"1310,-123 1256,-123 1256,-87 1310,-87 1310,-123\"/>\n",
       "<text text-anchor=\"middle\" x=\"1283\" y=\"-101.3\" font-family=\"Times,serif\" font-size=\"14.00\">1</text>\n",
       "</g>\n",
       "<!-- Agddd&#45;&gt;Agdddd -->\n",
       "<g id=\"edge16\" class=\"edge\"><title>Agddd&#45;&gt;Agdddd</title>\n",
       "<path fill=\"none\" stroke=\"black\" d=\"M1151.09,-190.849C1181.25,-189.287 1229.82,-182.432 1261,-156 1268.07,-150.005 1272.95,-141.299 1276.28,-132.825\"/>\n",
       "<polygon fill=\"black\" stroke=\"black\" points=\"1279.66,-133.755 1279.51,-123.161 1273.02,-131.533 1279.66,-133.755\"/>\n",
       "<text text-anchor=\"middle\" x=\"1337\" y=\"-144.8\" font-family=\"Times,serif\" font-size=\"14.00\">&gt;&#45;0.8745630102353198</text>\n",
       "</g>\n",
       "<!-- Adg -->\n",
       "<g id=\"node26\" class=\"node\"><title>Adg</title>\n",
       "<ellipse fill=\"none\" stroke=\"black\" cx=\"1314\" cy=\"-366\" rx=\"27\" ry=\"18\"/>\n",
       "<text text-anchor=\"middle\" x=\"1314\" y=\"-362.3\" font-family=\"Times,serif\" font-size=\"14.00\">0</text>\n",
       "</g>\n",
       "<!-- Ad&#45;&gt;Adg -->\n",
       "<g id=\"edge33\" class=\"edge\"><title>Ad&#45;&gt;Adg</title>\n",
       "<path fill=\"none\" stroke=\"black\" d=\"M1271.07,-435.043C1270.11,-424.994 1270.3,-412.261 1275,-402 1277.79,-395.921 1282.19,-390.448 1287.05,-385.733\"/>\n",
       "<polygon fill=\"black\" stroke=\"black\" points=\"1289.6,-388.151 1294.89,-378.972 1285.03,-382.848 1289.6,-388.151\"/>\n",
       "<text text-anchor=\"middle\" x=\"1339.5\" y=\"-405.8\" font-family=\"Times,serif\" font-size=\"14.00\">&lt;=0.280259410138949</text>\n",
       "</g>\n",
       "<!-- Add -->\n",
       "<g id=\"node37\" class=\"node\"><title>Add</title>\n",
       "<polygon fill=\"none\" stroke=\"black\" points=\"1453,-384 1399,-384 1399,-348 1453,-348 1453,-384\"/>\n",
       "<text text-anchor=\"middle\" x=\"1426\" y=\"-362.3\" font-family=\"Times,serif\" font-size=\"14.00\">1</text>\n",
       "</g>\n",
       "<!-- Ad&#45;&gt;Add -->\n",
       "<g id=\"edge34\" class=\"edge\"><title>Ad&#45;&gt;Add</title>\n",
       "<path fill=\"none\" stroke=\"black\" d=\"M1301.03,-451.365C1329.75,-449.315 1374.92,-441.976 1404,-417 1411.03,-410.96 1415.9,-402.242 1419.23,-393.773\"/>\n",
       "<polygon fill=\"black\" stroke=\"black\" points=\"1422.61,-394.714 1422.48,-384.12 1415.98,-392.484 1422.61,-394.714\"/>\n",
       "<text text-anchor=\"middle\" x=\"1474.5\" y=\"-405.8\" font-family=\"Times,serif\" font-size=\"14.00\">&gt;0.280259410138949</text>\n",
       "</g>\n",
       "<!-- Adgg -->\n",
       "<g id=\"node27\" class=\"node\"><title>Adgg</title>\n",
       "<ellipse fill=\"none\" stroke=\"black\" cx=\"1314\" cy=\"-279\" rx=\"27\" ry=\"18\"/>\n",
       "<text text-anchor=\"middle\" x=\"1314\" y=\"-275.3\" font-family=\"Times,serif\" font-size=\"14.00\">0</text>\n",
       "</g>\n",
       "<!-- Adg&#45;&gt;Adgg -->\n",
       "<g id=\"edge31\" class=\"edge\"><title>Adg&#45;&gt;Adgg</title>\n",
       "<path fill=\"none\" stroke=\"black\" d=\"M1314,-347.799C1314,-336.163 1314,-320.548 1314,-307.237\"/>\n",
       "<polygon fill=\"black\" stroke=\"black\" points=\"1317.5,-307.175 1314,-297.175 1310.5,-307.175 1317.5,-307.175\"/>\n",
       "<text text-anchor=\"middle\" x=\"1378.5\" y=\"-318.8\" font-family=\"Times,serif\" font-size=\"14.00\">&lt;=0.814430322927256</text>\n",
       "</g>\n",
       "<!-- Adgd -->\n",
       "<g id=\"node34\" class=\"node\"><title>Adgd</title>\n",
       "<ellipse fill=\"none\" stroke=\"black\" cx=\"1584\" cy=\"-279\" rx=\"27\" ry=\"18\"/>\n",
       "<text text-anchor=\"middle\" x=\"1584\" y=\"-275.3\" font-family=\"Times,serif\" font-size=\"14.00\">1</text>\n",
       "</g>\n",
       "<!-- Adg&#45;&gt;Adgd -->\n",
       "<g id=\"edge32\" class=\"edge\"><title>Adg&#45;&gt;Adgd</title>\n",
       "<path fill=\"none\" stroke=\"black\" d=\"M1339.2,-359.106C1366.1,-352.644 1409.86,-341.636 1447,-330 1483.37,-318.606 1524.33,-303.326 1551.91,-292.668\"/>\n",
       "<polygon fill=\"black\" stroke=\"black\" points=\"1553.38,-295.851 1561.43,-288.966 1550.85,-289.327 1553.38,-295.851\"/>\n",
       "<text text-anchor=\"middle\" x=\"1548.5\" y=\"-318.8\" font-family=\"Times,serif\" font-size=\"14.00\">&gt;0.814430322927256</text>\n",
       "</g>\n",
       "<!-- Adggg -->\n",
       "<g id=\"node28\" class=\"node\"><title>Adggg</title>\n",
       "<polygon fill=\"none\" stroke=\"black\" points=\"1302,-210 1248,-210 1248,-174 1302,-174 1302,-210\"/>\n",
       "<text text-anchor=\"middle\" x=\"1275\" y=\"-188.3\" font-family=\"Times,serif\" font-size=\"14.00\">1</text>\n",
       "</g>\n",
       "<!-- Adgg&#45;&gt;Adggg -->\n",
       "<g id=\"edge27\" class=\"edge\"><title>Adgg&#45;&gt;Adggg</title>\n",
       "<path fill=\"none\" stroke=\"black\" d=\"M1295.37,-265.93C1287.91,-260.003 1280.13,-252.159 1276,-243 1272.9,-236.113 1271.79,-228.132 1271.68,-220.597\"/>\n",
       "<polygon fill=\"black\" stroke=\"black\" points=\"1275.18,-220.53 1272.08,-210.4 1268.19,-220.255 1275.18,-220.53\"/>\n",
       "<text text-anchor=\"middle\" x=\"1344\" y=\"-231.8\" font-family=\"Times,serif\" font-size=\"14.00\">&lt;=0.1291611968791177</text>\n",
       "</g>\n",
       "<!-- Adggd -->\n",
       "<g id=\"node29\" class=\"node\"><title>Adggd</title>\n",
       "<ellipse fill=\"none\" stroke=\"black\" cx=\"1438\" cy=\"-192\" rx=\"27\" ry=\"18\"/>\n",
       "<text text-anchor=\"middle\" x=\"1438\" y=\"-188.3\" font-family=\"Times,serif\" font-size=\"14.00\">1</text>\n",
       "</g>\n",
       "<!-- Adgg&#45;&gt;Adggd -->\n",
       "<g id=\"edge28\" class=\"edge\"><title>Adgg&#45;&gt;Adggd</title>\n",
       "<path fill=\"none\" stroke=\"black\" d=\"M1340.42,-274.04C1361.84,-269.646 1391.71,-260.692 1412,-243 1419.29,-236.646 1424.82,-227.748 1428.87,-219.216\"/>\n",
       "<polygon fill=\"black\" stroke=\"black\" points=\"1432.14,-220.467 1432.83,-209.895 1425.7,-217.732 1432.14,-220.467\"/>\n",
       "<text text-anchor=\"middle\" x=\"1486.5\" y=\"-231.8\" font-family=\"Times,serif\" font-size=\"14.00\">&gt;0.1291611968791177</text>\n",
       "</g>\n",
       "<!-- Adggdg -->\n",
       "<g id=\"node30\" class=\"node\"><title>Adggdg</title>\n",
       "<polygon fill=\"none\" stroke=\"black\" points=\"1465,-123 1411,-123 1411,-87 1465,-87 1465,-123\"/>\n",
       "<text text-anchor=\"middle\" x=\"1438\" y=\"-101.3\" font-family=\"Times,serif\" font-size=\"14.00\">&#45;1</text>\n",
       "</g>\n",
       "<!-- Adggd&#45;&gt;Adggdg -->\n",
       "<g id=\"edge25\" class=\"edge\"><title>Adggd&#45;&gt;Adggdg</title>\n",
       "<path fill=\"none\" stroke=\"black\" d=\"M1438,-173.799C1438,-162.163 1438,-146.548 1438,-133.237\"/>\n",
       "<polygon fill=\"black\" stroke=\"black\" points=\"1441.5,-133.175 1438,-123.175 1434.5,-133.175 1441.5,-133.175\"/>\n",
       "<text text-anchor=\"middle\" x=\"1511.5\" y=\"-144.8\" font-family=\"Times,serif\" font-size=\"14.00\">&lt;=&#45;0.22766975966498598</text>\n",
       "</g>\n",
       "<!-- Adggdd -->\n",
       "<g id=\"node31\" class=\"node\"><title>Adggdd</title>\n",
       "<ellipse fill=\"none\" stroke=\"black\" cx=\"1608\" cy=\"-105\" rx=\"27\" ry=\"18\"/>\n",
       "<text text-anchor=\"middle\" x=\"1608\" y=\"-101.3\" font-family=\"Times,serif\" font-size=\"14.00\">0</text>\n",
       "</g>\n",
       "<!-- Adggd&#45;&gt;Adggdd -->\n",
       "<g id=\"edge26\" class=\"edge\"><title>Adggd&#45;&gt;Adggdd</title>\n",
       "<path fill=\"none\" stroke=\"black\" d=\"M1464.25,-187.641C1501.62,-182.392 1567.69,-171.246 1586,-156 1593.12,-150.069 1598.02,-141.377 1601.34,-132.898\"/>\n",
       "<polygon fill=\"black\" stroke=\"black\" points=\"1604.72,-133.813 1604.56,-123.22 1598.08,-131.601 1604.72,-133.813\"/>\n",
       "<text text-anchor=\"middle\" x=\"1665.5\" y=\"-144.8\" font-family=\"Times,serif\" font-size=\"14.00\">&gt;&#45;0.22766975966498598</text>\n",
       "</g>\n",
       "<!-- Adggddg -->\n",
       "<g id=\"node32\" class=\"node\"><title>Adggddg</title>\n",
       "<polygon fill=\"none\" stroke=\"black\" points=\"1555,-36 1501,-36 1501,-0 1555,-0 1555,-36\"/>\n",
       "<text text-anchor=\"middle\" x=\"1528\" y=\"-14.3\" font-family=\"Times,serif\" font-size=\"14.00\">1</text>\n",
       "</g>\n",
       "<!-- Adggdd&#45;&gt;Adggddg -->\n",
       "<g id=\"edge23\" class=\"edge\"><title>Adggdd&#45;&gt;Adggddg</title>\n",
       "<path fill=\"none\" stroke=\"black\" d=\"M1581.79,-100.622C1562.5,-96.6134 1537.54,-87.8942 1525,-69 1520.59,-62.3496 1519.72,-54.041 1520.43,-46.1179\"/>\n",
       "<polygon fill=\"black\" stroke=\"black\" points=\"1523.91,-46.5358 1522.1,-36.0964 1517.01,-45.3847 1523.91,-46.5358\"/>\n",
       "<text text-anchor=\"middle\" x=\"1593\" y=\"-57.8\" font-family=\"Times,serif\" font-size=\"14.00\">&lt;=0.6327690543412278</text>\n",
       "</g>\n",
       "<!-- Adggddd -->\n",
       "<g id=\"node33\" class=\"node\"><title>Adggddd</title>\n",
       "<polygon fill=\"none\" stroke=\"black\" points=\"1714,-36 1660,-36 1660,-0 1714,-0 1714,-36\"/>\n",
       "<text text-anchor=\"middle\" x=\"1687\" y=\"-14.3\" font-family=\"Times,serif\" font-size=\"14.00\">&#45;1</text>\n",
       "</g>\n",
       "<!-- Adggdd&#45;&gt;Adggddd -->\n",
       "<g id=\"edge24\" class=\"edge\"><title>Adggdd&#45;&gt;Adggddd</title>\n",
       "<path fill=\"none\" stroke=\"black\" d=\"M1630.01,-94.4779C1641.64,-88.5396 1655.46,-79.9386 1665,-69 1670.85,-62.2933 1675.37,-53.7847 1678.74,-45.6965\"/>\n",
       "<polygon fill=\"black\" stroke=\"black\" points=\"1682.07,-46.7809 1682.31,-36.1886 1675.52,-44.3238 1682.07,-46.7809\"/>\n",
       "<text text-anchor=\"middle\" x=\"1737.5\" y=\"-57.8\" font-family=\"Times,serif\" font-size=\"14.00\">&gt;0.6327690543412278</text>\n",
       "</g>\n",
       "<!-- Adgdg -->\n",
       "<g id=\"node35\" class=\"node\"><title>Adgdg</title>\n",
       "<polygon fill=\"none\" stroke=\"black\" points=\"1611,-210 1557,-210 1557,-174 1611,-174 1611,-210\"/>\n",
       "<text text-anchor=\"middle\" x=\"1584\" y=\"-188.3\" font-family=\"Times,serif\" font-size=\"14.00\">&#45;1</text>\n",
       "</g>\n",
       "<!-- Adgd&#45;&gt;Adgdg -->\n",
       "<g id=\"edge29\" class=\"edge\"><title>Adgd&#45;&gt;Adgdg</title>\n",
       "<path fill=\"none\" stroke=\"black\" d=\"M1584,-260.799C1584,-249.163 1584,-233.548 1584,-220.237\"/>\n",
       "<polygon fill=\"black\" stroke=\"black\" points=\"1587.5,-220.175 1584,-210.175 1580.5,-220.175 1587.5,-220.175\"/>\n",
       "<text text-anchor=\"middle\" x=\"1654\" y=\"-231.8\" font-family=\"Times,serif\" font-size=\"14.00\">&lt;=&#45;1.3597324904956618</text>\n",
       "</g>\n",
       "<!-- Adgdd -->\n",
       "<g id=\"node36\" class=\"node\"><title>Adgdd</title>\n",
       "<polygon fill=\"none\" stroke=\"black\" points=\"1774,-210 1720,-210 1720,-174 1774,-174 1774,-210\"/>\n",
       "<text text-anchor=\"middle\" x=\"1747\" y=\"-188.3\" font-family=\"Times,serif\" font-size=\"14.00\">1</text>\n",
       "</g>\n",
       "<!-- Adgd&#45;&gt;Adgdd -->\n",
       "<g id=\"edge30\" class=\"edge\"><title>Adgd&#45;&gt;Adgdd</title>\n",
       "<path fill=\"none\" stroke=\"black\" d=\"M1611.04,-278.111C1641.99,-276.836 1692.59,-270.291 1725,-243 1732.09,-237.029 1736.98,-228.328 1740.3,-219.853\"/>\n",
       "<polygon fill=\"black\" stroke=\"black\" points=\"1743.68,-220.777 1743.53,-210.183 1737.04,-218.559 1743.68,-220.777\"/>\n",
       "<text text-anchor=\"middle\" x=\"1801\" y=\"-231.8\" font-family=\"Times,serif\" font-size=\"14.00\">&gt;&#45;1.3597324904956618</text>\n",
       "</g>\n",
       "</g>\n",
       "</svg>\n"
      ],
      "text/plain": [
       "<graphviz.dot.Digraph at 0x7efc91f3cb00>"
      ]
     },
     "execution_count": 83,
     "metadata": {},
     "output_type": "execute_result"
    }
   ],
   "source": [
    "adautre.plot()"
   ]
  },
  {
   "cell_type": "code",
   "execution_count": 107,
   "metadata": {},
   "outputs": [
    {
     "ename": "IndexError",
     "evalue": "index 2 is out of bounds for axis 0 with size 2",
     "output_type": "error",
     "traceback": [
      "\u001b[0;31m---------------------------------------------------------------------------\u001b[0m",
      "\u001b[0;31mIndexError\u001b[0m                                Traceback (most recent call last)",
      "\u001b[0;32m<ipython-input-107-4d6b7a2203c3>\u001b[0m in \u001b[0;36m<module>\u001b[0;34m()\u001b[0m\n\u001b[1;32m     14\u001b[0m \u001b[0madautre\u001b[0m\u001b[0;34m=\u001b[0m\u001b[0mArbreDecision\u001b[0m\u001b[0;34m(\u001b[0m\u001b[0;36m0.0\u001b[0m\u001b[0;34m)\u001b[0m\u001b[0;34m\u001b[0m\u001b[0m\n\u001b[1;32m     15\u001b[0m \u001b[0madautre\u001b[0m\u001b[0;34m.\u001b[0m\u001b[0mtrain\u001b[0m\u001b[0;34m(\u001b[0m\u001b[0mdonnees\u001b[0m\u001b[0;34m)\u001b[0m\u001b[0;34m\u001b[0m\u001b[0m\n\u001b[0;32m---> 16\u001b[0;31m \u001b[0mplot_frontiere\u001b[0m\u001b[0;34m(\u001b[0m\u001b[0mdonnees\u001b[0m\u001b[0;34m,\u001b[0m\u001b[0madautre\u001b[0m\u001b[0;34m,\u001b[0m\u001b[0;36m20\u001b[0m\u001b[0;34m)\u001b[0m\u001b[0;34m\u001b[0m\u001b[0m\n\u001b[0m\u001b[1;32m     17\u001b[0m \u001b[0mplot2DSet\u001b[0m\u001b[0;34m(\u001b[0m\u001b[0mdonnees\u001b[0m\u001b[0;34m)\u001b[0m\u001b[0;34m\u001b[0m\u001b[0m\n",
      "\u001b[0;32m<ipython-input-3-d374e80eb8e4>\u001b[0m in \u001b[0;36mplot_frontiere\u001b[0;34m(set, classifier, step)\u001b[0m\n\u001b[1;32m     21\u001b[0m \u001b[0;34m\u001b[0m\u001b[0m\n\u001b[1;32m     22\u001b[0m     \u001b[0;31m# calcul de la prediction pour chaque point de la grille\u001b[0m\u001b[0;34m\u001b[0m\u001b[0;34m\u001b[0m\u001b[0m\n\u001b[0;32m---> 23\u001b[0;31m     \u001b[0mres\u001b[0m\u001b[0;34m=\u001b[0m\u001b[0mnp\u001b[0m\u001b[0;34m.\u001b[0m\u001b[0marray\u001b[0m\u001b[0;34m(\u001b[0m\u001b[0;34m[\u001b[0m\u001b[0mclassifier\u001b[0m\u001b[0;34m.\u001b[0m\u001b[0mpredict\u001b[0m\u001b[0;34m(\u001b[0m\u001b[0mgrid\u001b[0m\u001b[0;34m[\u001b[0m\u001b[0mi\u001b[0m\u001b[0;34m,\u001b[0m\u001b[0;34m:\u001b[0m\u001b[0;34m]\u001b[0m\u001b[0;34m)\u001b[0m \u001b[0;32mfor\u001b[0m \u001b[0mi\u001b[0m \u001b[0;32min\u001b[0m \u001b[0mrange\u001b[0m\u001b[0;34m(\u001b[0m\u001b[0mlen\u001b[0m\u001b[0;34m(\u001b[0m\u001b[0mgrid\u001b[0m\u001b[0;34m)\u001b[0m\u001b[0;34m)\u001b[0m \u001b[0;34m]\u001b[0m\u001b[0;34m)\u001b[0m\u001b[0;34m\u001b[0m\u001b[0m\n\u001b[0m\u001b[1;32m     24\u001b[0m     \u001b[0mres\u001b[0m\u001b[0;34m=\u001b[0m\u001b[0mres\u001b[0m\u001b[0;34m.\u001b[0m\u001b[0mreshape\u001b[0m\u001b[0;34m(\u001b[0m\u001b[0mx1grid\u001b[0m\u001b[0;34m.\u001b[0m\u001b[0mshape\u001b[0m\u001b[0;34m)\u001b[0m\u001b[0;34m\u001b[0m\u001b[0m\n\u001b[1;32m     25\u001b[0m     \u001b[0;31m# tracer des frontieres\u001b[0m\u001b[0;34m\u001b[0m\u001b[0;34m\u001b[0m\u001b[0m\n",
      "\u001b[0;32m<ipython-input-3-d374e80eb8e4>\u001b[0m in \u001b[0;36m<listcomp>\u001b[0;34m(.0)\u001b[0m\n\u001b[1;32m     21\u001b[0m \u001b[0;34m\u001b[0m\u001b[0m\n\u001b[1;32m     22\u001b[0m     \u001b[0;31m# calcul de la prediction pour chaque point de la grille\u001b[0m\u001b[0;34m\u001b[0m\u001b[0;34m\u001b[0m\u001b[0m\n\u001b[0;32m---> 23\u001b[0;31m     \u001b[0mres\u001b[0m\u001b[0;34m=\u001b[0m\u001b[0mnp\u001b[0m\u001b[0;34m.\u001b[0m\u001b[0marray\u001b[0m\u001b[0;34m(\u001b[0m\u001b[0;34m[\u001b[0m\u001b[0mclassifier\u001b[0m\u001b[0;34m.\u001b[0m\u001b[0mpredict\u001b[0m\u001b[0;34m(\u001b[0m\u001b[0mgrid\u001b[0m\u001b[0;34m[\u001b[0m\u001b[0mi\u001b[0m\u001b[0;34m,\u001b[0m\u001b[0;34m:\u001b[0m\u001b[0;34m]\u001b[0m\u001b[0;34m)\u001b[0m \u001b[0;32mfor\u001b[0m \u001b[0mi\u001b[0m \u001b[0;32min\u001b[0m \u001b[0mrange\u001b[0m\u001b[0;34m(\u001b[0m\u001b[0mlen\u001b[0m\u001b[0;34m(\u001b[0m\u001b[0mgrid\u001b[0m\u001b[0;34m)\u001b[0m\u001b[0;34m)\u001b[0m \u001b[0;34m]\u001b[0m\u001b[0;34m)\u001b[0m\u001b[0;34m\u001b[0m\u001b[0m\n\u001b[0m\u001b[1;32m     24\u001b[0m     \u001b[0mres\u001b[0m\u001b[0;34m=\u001b[0m\u001b[0mres\u001b[0m\u001b[0;34m.\u001b[0m\u001b[0mreshape\u001b[0m\u001b[0;34m(\u001b[0m\u001b[0mx1grid\u001b[0m\u001b[0;34m.\u001b[0m\u001b[0mshape\u001b[0m\u001b[0;34m)\u001b[0m\u001b[0;34m\u001b[0m\u001b[0m\n\u001b[1;32m     25\u001b[0m     \u001b[0;31m# tracer des frontieres\u001b[0m\u001b[0;34m\u001b[0m\u001b[0;34m\u001b[0m\u001b[0m\n",
      "\u001b[0;32m<ipython-input-79-de623f9fd76a>\u001b[0m in \u001b[0;36mpredict\u001b[0;34m(self, x)\u001b[0m\n\u001b[1;32m     10\u001b[0m         \u001b[0;31m# classification de l'exemple x avec l'arbre de décision\u001b[0m\u001b[0;34m\u001b[0m\u001b[0;34m\u001b[0m\u001b[0m\n\u001b[1;32m     11\u001b[0m         \u001b[0;31m# on rend 0 (classe -1) ou 1 (classe 1)\u001b[0m\u001b[0;34m\u001b[0m\u001b[0;34m\u001b[0m\u001b[0m\n\u001b[0;32m---> 12\u001b[0;31m         \u001b[0mclasse\u001b[0m \u001b[0;34m=\u001b[0m \u001b[0mself\u001b[0m\u001b[0;34m.\u001b[0m\u001b[0mracine\u001b[0m\u001b[0;34m.\u001b[0m\u001b[0mclassifie\u001b[0m\u001b[0;34m(\u001b[0m\u001b[0mx\u001b[0m\u001b[0;34m)\u001b[0m\u001b[0;34m\u001b[0m\u001b[0m\n\u001b[0m\u001b[1;32m     13\u001b[0m         \u001b[0;32mif\u001b[0m \u001b[0;34m(\u001b[0m\u001b[0mclasse\u001b[0m \u001b[0;34m==\u001b[0m \u001b[0;36m1\u001b[0m\u001b[0;34m)\u001b[0m\u001b[0;34m:\u001b[0m\u001b[0;34m\u001b[0m\u001b[0m\n\u001b[1;32m     14\u001b[0m             \u001b[0;32mreturn\u001b[0m\u001b[0;34m(\u001b[0m\u001b[0;36m1\u001b[0m\u001b[0;34m)\u001b[0m\u001b[0;34m\u001b[0m\u001b[0m\n",
      "\u001b[0;32m<ipython-input-62-414dc9f4f0fd>\u001b[0m in \u001b[0;36mclassifie\u001b[0;34m(self, exemple)\u001b[0m\n\u001b[1;32m     37\u001b[0m         \u001b[0;32mif\u001b[0m \u001b[0mself\u001b[0m\u001b[0;34m.\u001b[0m\u001b[0mest_feuille\u001b[0m\u001b[0;34m(\u001b[0m\u001b[0;34m)\u001b[0m\u001b[0;34m:\u001b[0m\u001b[0;34m\u001b[0m\u001b[0m\n\u001b[1;32m     38\u001b[0m             \u001b[0;32mreturn\u001b[0m \u001b[0mself\u001b[0m\u001b[0;34m.\u001b[0m\u001b[0mclasse\u001b[0m\u001b[0;34m\u001b[0m\u001b[0m\n\u001b[0;32m---> 39\u001b[0;31m         \u001b[0;32mif\u001b[0m \u001b[0mexemple\u001b[0m\u001b[0;34m[\u001b[0m\u001b[0mself\u001b[0m\u001b[0;34m.\u001b[0m\u001b[0mattribut\u001b[0m\u001b[0;34m]\u001b[0m \u001b[0;34m<=\u001b[0m \u001b[0mself\u001b[0m\u001b[0;34m.\u001b[0m\u001b[0mseuil\u001b[0m\u001b[0;34m:\u001b[0m\u001b[0;34m\u001b[0m\u001b[0m\n\u001b[0m\u001b[1;32m     40\u001b[0m             \u001b[0;32mreturn\u001b[0m \u001b[0mself\u001b[0m\u001b[0;34m.\u001b[0m\u001b[0minferieur\u001b[0m\u001b[0;34m.\u001b[0m\u001b[0mclassifie\u001b[0m\u001b[0;34m(\u001b[0m\u001b[0mexemple\u001b[0m\u001b[0;34m)\u001b[0m\u001b[0;34m\u001b[0m\u001b[0m\n\u001b[1;32m     41\u001b[0m         \u001b[0;32mreturn\u001b[0m \u001b[0mself\u001b[0m\u001b[0;34m.\u001b[0m\u001b[0msuperieur\u001b[0m\u001b[0;34m.\u001b[0m\u001b[0mclassifie\u001b[0m\u001b[0;34m(\u001b[0m\u001b[0mexemple\u001b[0m\u001b[0;34m)\u001b[0m\u001b[0;34m\u001b[0m\u001b[0m\n",
      "\u001b[0;31mIndexError\u001b[0m: index 2 is out of bounds for axis 0 with size 2"
     ]
    },
    {
     "data": {
      "image/png": "[encoded data removed]",
      "text/plain": [
       "<Figure size 432x288 with 1 Axes>"
      ]
     },
     "metadata": {},
     "output_type": "display_data"
    }
   ],
   "source": [
    "data = pd.read_csv(\"data-01/data.csv\", parse_dates=[-1])\n",
    "donnees = ls.LabeledSet(4)\n",
    "for index, row in data.iterrows() :\n",
    "\n",
    "    if row[\"variete\"] == \"Iris-setosa\" :\n",
    "        donnees.addExample([row[\"sepal_length\"],row[\"sepal_width\"], row[\"petal_length\"], row[\"petal_width\"]] ,+1 )\n",
    "    else : \n",
    "        donnees.addExample([row[\"sepal_length\"],row[\"sepal_width\"], row[\"petal_length\"], row[\"petal_width\"]] ,-1 )\n",
    "    \n",
    "S= donnees.x[np.where(donnees.y == 1),:]\n",
    "S[0]\n",
    "plot2DSet(donnees)\n",
    "\n",
    "adautre=ArbreDecision(0.0)          \n",
    "adautre.train(donnees)            \n",
    "plot_frontiere(donnees,adautre,20)\n",
    "plot2DSet(donnees) "
   ]
  },
  {
   "cell_type": "code",
   "execution_count": null,
   "metadata": {},
   "outputs": [],
   "source": [
    "\n"
   ]
  },
  {
   "cell_type": "markdown",
   "metadata": {},
   "source": [
    "### Améliorations (facultatif)"
   ]
  },
  {
   "cell_type": "markdown",
   "metadata": {},
   "source": [
    "Adapter votre algorithme afin de pouvoir construire des arbres de décision avec des attributs catégoriels. Dans un premier temps, vous considèrerez des attributs catégoriels à 2 valeurs. Ensuite, pour considérer des attributs à plus de 2 valeurs, vous devrez écrire une classe <code>ArbreGeneral</code> pour remplacer la classe <code>ArbreBinaire</code>."
   ]
  },
  {
   "cell_type": "markdown",
   "metadata": {},
   "source": [
    "## Etape 3: Expérimentation"
   ]
  },
  {
   "cell_type": "markdown",
   "metadata": {
    "collapsed": true
   },
   "source": [
    "Comparez le résultat obtenu avec ceux obtenus avec les 2 classifiers implémentés lors des TD-TME précédents. Ensuite, utilisez votre implémentation sur d'autres bases de données que vous avez déjà trouvées ou que vous pourrez trouver sur le web."
   ]
  },
  {
   "cell_type": "code",
   "execution_count": null,
   "metadata": {},
   "outputs": [],
   "source": []
  }
 ],
 "metadata": {
  "kernelspec": {
   "display_name": "Python 3",
   "language": "python",
   "name": "python3"
  },
  "language_info": {
   "codemirror_mode": {
    "name": "ipython",
    "version": 3
   },
   "file_extension": ".py",
   "mimetype": "text/x-python",
   "name": "python",
   "nbconvert_exporter": "python",
   "pygments_lexer": "ipython3",
   "version": "3.5.3"
  }
 },
 "nbformat": 4,
 "nbformat_minor": 1
}
