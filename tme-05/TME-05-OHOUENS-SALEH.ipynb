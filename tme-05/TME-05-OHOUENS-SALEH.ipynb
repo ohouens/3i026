{
 "cells": [
  {
   "cell_type": "markdown",
   "metadata": {},
   "source": [
    "IA & Data science (3i026) -- 2018-2019\n",
    "--------\n",
    "*&copy; Equipe pédagogique: Manon Ansart, Vincent Guigue, Marie-Jeanne Lesot, Christophe Marsala, Olivier Schwander.*"
   ]
  },
  {
   "cell_type": "markdown",
   "metadata": {},
   "source": [
    "# TD-TME05: les arbres de décision\n",
    "\n",
    "L'objectif de ce TP est d'implémenter un algorithme d'apprentissage supervisé, l'algorithme de construction d'arbres de décision vu en cours.\n",
    "\n",
    "Dans un premier temps, nous allons nous restreindre à un cas binaire où les classes sont étiquetées $+1$ ou $-1$. De plus, nous allons ne considérer que le cas où les attributs sont tous numériques et on ne construit que des arbres avec des noeuds binaires (ie. qui ne contiennent que 2 branches sortantes)."
   ]
  },
  {
   "cell_type": "markdown",
   "metadata": {},
   "source": [
    "<font size=\"+1\" color=\"RED\">**[Q]**</font> **Indiquer dans la boîte ci-dessous vos noms et prénoms :**"
   ]
  },
  {
   "cell_type": "markdown",
   "metadata": {},
   "source": [
    "Ryan OHOUENS et Sarah SALEH"
   ]
  },
  {
   "cell_type": "markdown",
   "metadata": {},
   "source": [
    "<font color=\"RED\" size=\"+1\">**[Q]**</font> **Renommer ce fichier ipython**\n",
    "\n",
    "Tout en haut de cette page, cliquer sur <tt>tme-05</tt> et rajouter à la suite de <tt>tme-05</tt> les noms des membres du binômes séparés par un tiret."
   ]
  },
  {
   "cell_type": "markdown",
   "metadata": {},
   "source": [
    "<font color=\"RED\" size=\"+1\">IMPORTANT: soumission de votre fichier final</font>\n",
    "\n",
    "**Nom à donner au fichier à poster** : *tme-05-Nom1_Nom2.ipynb* \n",
    "- *Nom1* et *Nom2* : noms des membres du binôme\n",
    "- ne pas compresser ou faire une archive: il faut rendre le notebook tel quel, éventuellement, si vous avez d'autres fichiers vous les rendez séparément.\n",
    "\n",
    "**Echancier pour la soumission de votre compte-rendu:**\n",
    "- le compte-rendu d'une séance doit être remis obligatoirement <font color=\"RED\">** à la fin de la séance**</font>. C'est ce compte-rendu qui donne la note de base de la séance.\n",
    "- vous pouvez éventuellement compléter votre compte-rendu  pour obtenir des points bonus, dans ce cas, vous devez soumettre votre complément avant le début de la semaine suivante.\n",
    "\n",
    "** Sur la page Moodle de remise du travail <font color=\"RED\">ne pas oublier d'envoyer le compte rendu</font>** à la fin de la séance, la soumission de la version complémentaire post-séance se fera sur une page différente."
   ]
  },
  {
   "cell_type": "markdown",
   "metadata": {},
   "source": [
    "## Mise à jour de votre librairie IADS\n",
    "\n",
    "Comme lors des séances précédentes, vous devez utiliser les fonctions de la librairie IADS.\n",
    "\n",
    "<font color=\"RED\" size=\"+1\">**[Q]**</font> **Ouvrir et compléter les fichiers Classifiers.py et utils.py**\n",
    "\n",
    "Rajouter dans la librairie les fonctions et classes et que vous avez écrites lors de la séance précédente. \n",
    "\n",
    "**Rappel**: dans un premier temps, vous devez écrire les classes et fonctions demandées dans le notebook de la séance de TDTME en cours. Lors de la séance suivante, vous rajouterez tout cela, une fois que vous l'aurez bien testé, dans vos fichiers de la librairie IADS.\n",
    "\n"
   ]
  },
  {
   "cell_type": "code",
   "execution_count": 44,
   "metadata": {},
   "outputs": [],
   "source": [
    "import numpy as np\n",
    "import pandas as pd\n",
    "import matplotlib.pyplot as plt\n",
    "%matplotlib inline  \n",
    "\n",
    "# La ligne suivante permet de préciser le chemin d'accès à la librairie iads\n",
    "import sys\n",
    "sys.path.append('../')\n",
    "\n",
    "# Importation de la librairie iads\n",
    "import iads as iads\n",
    "\n",
    "# importation de LabeledSet\n",
    "from iads import LabeledSet as ls\n",
    "\n",
    "# importation de Classifiers\n",
    "from iads import Classifiers as cl"
   ]
  },
  {
   "cell_type": "markdown",
   "metadata": {},
   "source": [
    "### Génération de données Jouet\n",
    "\n",
    "<font color=\"RED\" size=\"+1\">**[Q]**</font>  Dans un premier temps, pour mettre au point les fonctions, générer une base jouet assez petite (par exemple, 10 exemples de chaque classe)."
   ]
  },
  {
   "cell_type": "code",
   "execution_count": 7,
   "metadata": {},
   "outputs": [],
   "source": [
    "def plot2DSet(set):\n",
    "    \"\"\" LabeledSet -> NoneType\n",
    "        Hypothèse: set est de dimension 2\n",
    "        affiche une représentation graphique du LabeledSet\n",
    "        remarque: l'ordre des labels dans set peut être quelconque\n",
    "    \"\"\"\n",
    "    S_pos = set.x[np.where(set.y == 1),:][0]      # tous les exemples de label +1\n",
    "    S_neg = set.x[np.where(set.y == -1),:][0]     # tous les exemples de label -1\n",
    "    plt.scatter(S_pos[:,0],S_pos[:,1],marker='o') # 'o' pour la classe +1\n",
    "    plt.scatter(S_neg[:,0],S_neg[:,1],marker='x') # 'x' pour la classe -1\n",
    "\n",
    "def plot_frontiere(set,classifier,step=50):\n",
    "    \"\"\" LabeledSet * Classifier * int -> NoneType\n",
    "        Remarque: le 3e argument est optionnel et donne la \"résolution\" du tracé\n",
    "        affiche la frontière de décision associée au classifieur\n",
    "    \"\"\"\n",
    "    mmax=set.x.max(0)\n",
    "    mmin=set.x.min(0)\n",
    "    x1grid,x2grid=np.meshgrid(np.linspace(mmin[0],mmax[0],step),np.linspace(mmin[1],mmax[1],step))\n",
    "    grid=np.hstack((x1grid.reshape(x1grid.size,1),x2grid.reshape(x2grid.size,1)))\n",
    "    \n",
    "    # calcul de la prediction pour chaque point de la grille\n",
    "    res=np.array([classifier.predict(grid[i,:]) for i in range(len(grid)) ])\n",
    "    res=res.reshape(x1grid.shape)\n",
    "    # tracer des frontieres\n",
    "    plt.contourf(x1grid,x2grid,res,colors=[\"red\",\"cyan\"],levels=[-1000,0,1000])\n",
    "    \n",
    "# ------------------------ \n",
    "\n",
    "def createGaussianDataset(positive_center, positive_sigma, negative_center, negative_sigma, nb_points):\n",
    "    \"\"\" \n",
    "        rend un LabeledSet 2D généré aléatoirement.\n",
    "        Arguments:\n",
    "        - positive_center (vecteur taille 2): centre de la gaussienne des points positifs\n",
    "        - positive_sigma (matrice 2*2): variance de la gaussienne des points positifs\n",
    "        - negative_center (vecteur taille 2): centre de la gaussienne des points négative\n",
    "        - negative_sigma (matrice 2*2): variance de la gaussienne des points négative\n",
    "    - nb_points (int):  nombre de points de chaque classe à générer\n",
    "\"\"\"\n",
    "#TODO: A Compléter\n",
    "    x, y = np.random.multivariate_normal(positive_center, positive_sigma, nb_points).T\n",
    "    a, b = np.random.multivariate_normal(negative_center, negative_sigma, nb_points).T\n",
    "    label = ls.LabeledSet(2)\n",
    "    for i in range(len(a)):\n",
    "        label.addExample(np.array([x[i], y[i]]), 1)\n",
    "        label.addExample(np.array([a[i], b[i]]),-1)\n",
    "    return label\n",
    "\n",
    "    raise NotImplementedError(\"Please Implement this method\")\n",
    "    \n",
    "# Exemple d'utilisation de utils\n",
    "\n",
    "the_set = createGaussianDataset(np.array([1,1]),np.array([[1,0],[0,1]]),np.array([-1,-1]),np.array([[1,0],[0,1]]),100)\n",
    "\n",
    "\n",
    "\n",
    "def super_entrainement(n, label, perceptron, show=False) :\n",
    "    x = []\n",
    "    y = []\n",
    "    for i in range(n) :\n",
    "        train, test = split(label)\n",
    "        perceptron.train(train)\n",
    "        train = perceptron.accuracy(test)\n",
    "        if(show):\n",
    "            print(str(i) + \" entrainement\")\n",
    "            print(\"Accuracy \"+str(train)+\"%\\n\")\n",
    "        y.append(train)\n",
    "        x.append(i)\n",
    "    plt.plot(x,y)\n",
    "    plt.xlabel('N')\n",
    "    plt.ylabel('Accuracy')\n",
    "    plt.title('performances accuracy')\n",
    "    plt.legend()\n",
    "    plt.show()\n",
    "    plot_frontiere(test,perceptron)\n",
    "    plot2DSet(test)\n",
    "\n",
    "    \n",
    "    # Fonction pour afficher le LabeledSet\n",
    "def affiche_base(LS):\n",
    "    \"\"\" LabeledSet\n",
    "        affiche le contenu de LS\n",
    "    \"\"\"\n",
    "    for i in range(0,LS.size()):\n",
    "        print(\"Exemple \"+str(i))\n",
    "        print(\"\\tdescription : \",LS.getX(i))\n",
    "        print(\"\\tlabel : \",LS.getY(i))\n",
    "    return\n",
    "\n",
    "def split(label,pourcentage=60) :\n",
    "\n",
    "    size = label.size()\n",
    "\n",
    "    label_train = ls.LabeledSet(label.getInputDimension())\n",
    "    label_test = ls.LabeledSet(label.getInputDimension())\n",
    "    \n",
    "    indice = np.arange(label.size())\n",
    "    temoin = np.random.permutation(indice)\n",
    "    \n",
    "    for i in range (temoin.size) :\n",
    "        if (i < pourcentage*len(temoin)/100):\n",
    "            label_train.addExample(label.getX(temoin[i]), label.getY(temoin[i]))\n",
    "        else : \n",
    "            label_test.addExample(label.getX(temoin[i]), label.getY(temoin[i]))\n",
    "\n",
    "    return (label_train, label_test)"
   ]
  },
  {
   "cell_type": "code",
   "execution_count": 8,
   "metadata": {},
   "outputs": [
    {
     "name": "stdout",
     "output_type": "stream",
     "text": [
      "Taille de la base jouet générée : 20 exemples\n"
     ]
    }
   ],
   "source": [
    "the_set = createGaussianDataset(np.array([1,1]),np.array([[1,0],[0,1]]),np.array([-1,-1]),np.array([[1,0],[0,1]]),10)\n",
    "\n",
    "print(\"Taille de la base jouet générée :\", the_set.size(), \"exemples\")\n"
   ]
  },
  {
   "cell_type": "code",
   "execution_count": 9,
   "metadata": {},
   "outputs": [
    {
     "data": {
      "text/plain": [
       "array([[ 0.97748374,  2.09172493],\n",
       "       [ 2.78617278,  1.61415127],\n",
       "       [ 0.07458239,  2.75355954],\n",
       "       [ 1.22415849,  2.60249432],\n",
       "       [ 1.25456012,  1.50307318],\n",
       "       [ 1.33690907,  1.10225268],\n",
       "       [ 1.21322415,  2.37668481],\n",
       "       [ 0.12336498,  0.78186074],\n",
       "       [ 1.20840371,  0.53679326],\n",
       "       [ 0.55205893, -0.1170732 ]])"
      ]
     },
     "execution_count": 9,
     "metadata": {},
     "output_type": "execute_result"
    }
   ],
   "source": [
    "# the_set = ... # définition d'un LabeledSet avec la fonction précédente\n",
    "\n",
    "S= the_set.x[np.where(the_set.y == 1),:]\n",
    "S[0]"
   ]
  },
  {
   "cell_type": "code",
   "execution_count": 10,
   "metadata": {},
   "outputs": [
    {
     "data": {
      "image/png": "[encoded data removed]",
      "text/plain": [
       "<Figure size 432x288 with 1 Axes>"
      ]
     },
     "metadata": {
      "needs_background": "light"
     },
     "output_type": "display_data"
    }
   ],
   "source": [
    "# Affichage du dataset généré\n",
    "plot2DSet(the_set)"
   ]
  },
  {
   "cell_type": "markdown",
   "metadata": {},
   "source": [
    "<font color=\"RED\" size=\"+1\">**[Q]**</font> Ecrire la fonction <code>classe_majoritaire()</code> qui, étant donné un LabeledSet rend la classe majoritaire dans l'ensemble (celle qui est possédée par le plus grand nombre d'exemples donc...). En cas d'égalité, cette fonction rend la classe +1."
   ]
  },
  {
   "cell_type": "code",
   "execution_count": 11,
   "metadata": {},
   "outputs": [],
   "source": [
    "def classe_majoritaire(label) :\n",
    "    cpt_p = 0\n",
    "    cpt_m = 0\n",
    "    \n",
    "    for i in range(label.size()) :\n",
    "        if(label.getY(i) > 0) :\n",
    "            cpt_p += 1\n",
    "        else :\n",
    "            cpt_m += 1\n",
    "            \n",
    "    if cpt_m > cpt_p :\n",
    "        return -1\n",
    "    return +1"
   ]
  },
  {
   "cell_type": "code",
   "execution_count": 12,
   "metadata": {},
   "outputs": [
    {
     "data": {
      "text/plain": [
       "1"
      ]
     },
     "execution_count": 12,
     "metadata": {},
     "output_type": "execute_result"
    }
   ],
   "source": [
    "classe_majoritaire(the_set)"
   ]
  },
  {
   "cell_type": "markdown",
   "metadata": {},
   "source": [
    "## Arbres de décision\n",
    "\n",
    "Dans cette étape, on réalise l'implémentation de l'algorithme de construction d'un arbre de décision."
   ]
  },
  {
   "cell_type": "markdown",
   "metadata": {},
   "source": [
    "### Entropie et gain d'information\n",
    "\n",
    "On note $\\{c_1, c_2,..., c_k\\}$, l'ensemble des classes possibles.\n",
    "\n",
    "Dans le cours, la mesure de désordre présentée utilise, pour toute valeur $c$ de la classe le ratio $\\frac{|Y(c)|}{|Y|}$ qui correspond à la probabilité de la classe $c$ parmi $Y$.\n",
    "On note dans ce qui suit $p_1$ la probabilité de la classe $c_1$ parmi $Y$, etc. \n",
    "\n",
    "Ainsi, on a $P=(p_1, p_2,..., p_k)$ la distribution de probabilités sur les classes ainsi définies.\n",
    "\n",
    "L'**entropie de Shannon** de la distribution $P$ est donnée par:\n",
    "\n",
    "$ H_S(P) = -\\sum_{i=1}^{k} p_i \\log_k(p_i)$\n",
    "\n",
    "Le logarithme utilisé est le logarithme en base $k$ afin d'obtenir une valeur normalisée de l'entropie. \n",
    "\n",
    "*Remarque:* avec les notations vues en cours, on a $D(Y) = H_S(P)$.\n",
    "\n",
    "Pour ce qui suit, une *distribution de probabilités* est représentée par une **liste** Python $P=[p_1,...,p_k]$ de valeurs réelles telle que\n",
    "* pour tout $i=1,..., k$ : $0 \\leq p_i \\leq 1$\n",
    "* $\\sum_{i=1}^{k}p_i = 1$\n"
   ]
  },
  {
   "cell_type": "markdown",
   "metadata": {},
   "source": [
    "<font color=\"RED\" size=\"+1\">**[Q]**</font> Ecrire la fonction <code>shannon()</code> qui, étant donné une distribution de probabilités $P$, rend la valeur de $H_S(P)$, l'entropie de Shannon de $P$."
   ]
  },
  {
   "cell_type": "code",
   "execution_count": 13,
   "metadata": {},
   "outputs": [],
   "source": [
    "import math\n",
    "\n",
    "def shannon(ensemble):\n",
    "    k = len(ensemble)\n",
    "    somme = 0\n",
    "    for i in range(k):\n",
    "        if ensemble[i] > 0 :\n",
    "            somme += ensemble[i]*math.log(ensemble[i], k)\n",
    "    return - somme"
   ]
  },
  {
   "cell_type": "code",
   "execution_count": 14,
   "metadata": {},
   "outputs": [
    {
     "name": "stdout",
     "output_type": "stream",
     "text": [
      "P=[1,0] :  -0.0\n",
      "P=[0.25, 0.25, 0.25, 0.25] :  1.0\n",
      "P=[0.7, 0.1, 0.2, 0.0] :  0.5783898247235197\n",
      "P=[1.0/3, 2.0/3] :  0.9182958340544896\n"
     ]
    }
   ],
   "source": [
    "# Exemples d'utilisation:\n",
    "print(\"P=[1,0] : \", shannon([1, 0]))\n",
    "print(\"P=[0.25, 0.25, 0.25, 0.25] : \", shannon([0.25, 0.25, 0.25, 0.25]))\n",
    "print(\"P=[0.7, 0.1, 0.2, 0.0] : \", shannon([0.7, 0.1, 0.2, 0.0]))\n",
    "print(\"P=[1.0/3, 2.0/3] : \", shannon([1.0/3, 2.0/3]))"
   ]
  },
  {
   "cell_type": "markdown",
   "metadata": {},
   "source": [
    "<font color=\"RED\" size=\"+1\">**[Q]**</font> Tracer, à l'aide de la fonction plot, la courbe donnant la valeur de <code>shannon([p, 1-p])</code> en fonction de <code>p</code>."
   ]
  },
  {
   "cell_type": "code",
   "execution_count": 15,
   "metadata": {},
   "outputs": [],
   "source": [
    "import matplotlib.pyplot as plt"
   ]
  },
  {
   "cell_type": "code",
   "execution_count": 16,
   "metadata": {},
   "outputs": [
    {
     "data": {
      "image/png": "[encoded data removed]",
      "text/plain": [
       "<Figure size 432x288 with 1 Axes>"
      ]
     },
     "metadata": {
      "needs_background": "light"
     },
     "output_type": "display_data"
    }
   ],
   "source": [
    "def curve():\n",
    "    x = []\n",
    "    y = []\n",
    "    for i in range(0, 101, 1) :\n",
    "        x.append(i/100)\n",
    "        y.append(shannon([i/100, 1-i/100]))\n",
    "    \n",
    "    plt.plot(x, y, label='linear')\n",
    "    plt.show()\n",
    "curve()"
   ]
  },
  {
   "cell_type": "markdown",
   "metadata": {},
   "source": [
    "<font color=\"RED\" size=\"+1\">**[Q]**</font> A l'aide de la fonction <code>shannon()</code>, écrire la fonction <code>entropie()</code> qui prend un LabeledSet en argument et renvoie l'entropie de la distribution des classes dans cet ensemble."
   ]
  },
  {
   "cell_type": "code",
   "execution_count": 17,
   "metadata": {},
   "outputs": [],
   "source": [
    "def entropie(label) :\n",
    "    plus = 0\n",
    "    moins = 0\n",
    "    for i in range(label.size()) :\n",
    "        if(label.getY(i) > 0) :\n",
    "            plus += 1 / label.size()\n",
    "        else :\n",
    "            moins += 1 / label.size()\n",
    "            \n",
    "    return shannon([plus, moins])"
   ]
  },
  {
   "cell_type": "code",
   "execution_count": 18,
   "metadata": {},
   "outputs": [
    {
     "data": {
      "text/plain": [
       "1.0"
      ]
     },
     "execution_count": 18,
     "metadata": {},
     "output_type": "execute_result"
    }
   ],
   "source": [
    "entropie(the_set)"
   ]
  },
  {
   "cell_type": "markdown",
   "metadata": {},
   "source": [
    "Cette fonction <code>entropie</code> permet dont de calculer le désordre des classes dans le LabeledSet considéré."
   ]
  },
  {
   "cell_type": "markdown",
   "metadata": {},
   "source": [
    "### Discrétisation des attributs numériques"
   ]
  },
  {
   "cell_type": "markdown",
   "metadata": {
    "collapsed": true
   },
   "source": [
    "Comme on l'a vu en cours, discrétiser un attribut numérique consiste en trouver un seuil de coupure dans son ensemble de valeurs. \n",
    "\n",
    "Par exemple, soit l'attribut Age contenant les valeurs 17, 18, 20, 27, 35, 37, 40. On discrétise cet attribut en 2 valeurs en prenant, par exemple, le seuil 30: cela permet de séparer d'un côté les valeurs inférieures ou égales à 30, et de l'autre les valeurs strictement supérieures à 30.\n",
    "\n",
    "Le seuil est choisi afin d'optimiser la distribution des classes des exemples qui se trouvent de chaque côté du seuil. Une fois un seuil choisi, on calcule le désordre des classes associées aux exemples de chaque côté du seuil et on agrège les 2 valeurs de désordre obtenues pour déterminer la qualité de la coupure à l'aide de la mesure $Q$ vue en cours.\n",
    "\n",
    "\n",
    "Soit $X$ un ensemble d'exemples, et soit $A$ un attribut que l'on souhaite discrétiser. Pour cela, on constitue l'ensemble des valeurs prises par les exemples de $X$ pour l'attribut $A$. Soit $A_X$ cet ensemble de valeurs.\n",
    "\n",
    "La discrétisation de $A_X$ s'effectue par les étapes suivantes:\n",
    "- Etape 1: ordonner de façon croissante les valeurs de $A_X$;\n",
    "- Etape 2: regarder tous les seuils possibles de coupure entre 2 valeurs consécutives de $A_X$ (on prend comme seuil de coupure la valeur médiane entre ces 2 valeurs). Chaque seuil trouvé créé 2 intervalles qui générent 2 sous-ensembles de $X$: l'ensemble $X_1$ des exemples dont la valeur pour $A$ et inférieure ou égale au seuil, et l'ensemble $X_2$ des exemples dont la valeur pour $A$ et supérieure au seuil. On détermine la qualité du seuil par la mesure de qualité d'un test vue en cours. On note $Q(seuil)$ cette valeur.\n",
    "\n",
    "\n",
    "La meilleure coupure pour discrétiser $A_X$ est celle qui minimise la valeur $Q(seuil)$.\n",
    "\n",
    "\n",
    "Par exemple, soit $X=\\{17, 18, 20, 27, 35, 37, 40\\}$, chaque valeur étant associées aux classes +1, +1, -1, -1, +1, +1, -1 respectivement. Un seuil de coupure possible est $31$ ($31 = \\frac{27+35}{2}$). Ce seuil coupe $X$ en $X_1=\\{17, 18, 20, 27\\}$ et $X_2=\\{35, 37, 40\\}$.\n",
    "\n",
    "- pour $X_1$, la probabilité de chaque classe est: $p(+1)= 0.5$ et $p(-1)=0.5$ donc, $H_S(X_1)=1$;\n",
    "- pour $X_2$, la probabilité de chaque classe est: $p(+1)= \\frac{1}{3}$ et $p(-1)=\\frac{2}{3}$ donc, $H_S(X_2)=0.9182958340544896$;\n",
    "- on a donc: $$Q(seuil=31) = \\frac{4}{7} H_S(X_1) + \\frac{3}{7} H_S(X_2);$$\n",
    "soit $Q(seuil=31) = 0.9182958340544896$"
   ]
  },
  {
   "cell_type": "markdown",
   "metadata": {},
   "source": [
    "On considère que <code>the_set</code> est un LabeledSet construit précédement. Il contient deux variables de type array: $x$ et $y$.\n",
    "\n",
    "Regarder et tester les instructions suivantes, il faut bien comprendre comment elles fonctionnent car on va utiliser les mêmes principes dans les fonctions à écrire."
   ]
  },
  {
   "cell_type": "code",
   "execution_count": 19,
   "metadata": {},
   "outputs": [
    {
     "name": "stdout",
     "output_type": "stream",
     "text": [
      "[[ 0.97748374  2.09172493]\n",
      " [-0.01275629  0.45384723]\n",
      " [ 2.78617278  1.61415127]\n",
      " [-1.41379699 -0.01077038]\n",
      " [ 0.07458239  2.75355954]\n",
      " [-1.50101712 -1.51893229]\n",
      " [ 1.22415849  2.60249432]\n",
      " [-0.7153534  -0.52239571]\n",
      " [ 1.25456012  1.50307318]\n",
      " [-0.90744735 -1.71344112]\n",
      " [ 1.33690907  1.10225268]\n",
      " [-1.87110703  0.54652396]\n",
      " [ 1.21322415  2.37668481]\n",
      " [-2.14088569  0.28808708]\n",
      " [ 0.12336498  0.78186074]\n",
      " [-0.79138498 -0.33356378]\n",
      " [ 1.20840371  0.53679326]\n",
      " [-0.14082007 -2.81198869]\n",
      " [ 0.55205893 -0.1170732 ]\n",
      " [-0.69629675  0.89423845]]\n"
     ]
    },
    {
     "data": {
      "text/plain": [
       "array([[13, 17],\n",
       "       [11,  9],\n",
       "       [ 5,  5],\n",
       "       [ 3,  7],\n",
       "       [ 9, 15],\n",
       "       [15, 18],\n",
       "       [ 7,  3],\n",
       "       [19, 13],\n",
       "       [17,  1],\n",
       "       [ 1, 16],\n",
       "       [ 4, 11],\n",
       "       [14, 14],\n",
       "       [18, 19],\n",
       "       [ 0, 10],\n",
       "       [16,  8],\n",
       "       [12,  2],\n",
       "       [ 6,  0],\n",
       "       [ 8, 12],\n",
       "       [10,  6],\n",
       "       [ 2,  4]])"
      ]
     },
     "execution_count": 19,
     "metadata": {},
     "output_type": "execute_result"
    }
   ],
   "source": [
    "ind= np.argsort(the_set.x,axis=0)   # Tri des valeurs de the_set.x selon les colonnes. \n",
    "                                    # La fonction rend un numpy.ndarray contenant autant de \n",
    "                                    # colonnes que the_set.x et dans chaque colonne, on a \n",
    "print(the_set.x)                              # la position de l'exemple dans l'ordonnancement croissant.\n",
    "ind # pour afficher"
   ]
  },
  {
   "cell_type": "code",
   "execution_count": 16,
   "metadata": {},
   "outputs": [
    {
     "data": {
      "text/plain": [
       "array([[-2.13886229e+00, -1.38872219e+00],\n",
       "       [-1.81228281e+00, -1.72997801e+00],\n",
       "       [-1.77841146e+00, -1.54671657e+00],\n",
       "       [-1.73605180e+00, -1.27900795e+00],\n",
       "       [-1.34193541e+00, -6.92498917e-01],\n",
       "       [-1.23341718e+00, -2.93016110e+00],\n",
       "       [-6.66012670e-01,  8.01095928e-01],\n",
       "       [-9.82506184e-02, -1.88971579e+00],\n",
       "       [ 3.02790271e-01, -1.85490406e-01],\n",
       "       [ 4.88593209e-01,  1.30150248e+00],\n",
       "       [ 8.06680604e-01,  1.27793236e+00],\n",
       "       [ 1.04634398e+00,  6.38365272e-01],\n",
       "       [ 1.06510911e+00,  6.79890994e-01],\n",
       "       [ 1.22125679e+00, -5.68532711e-02],\n",
       "       [ 1.42771375e+00,  1.99568596e-03],\n",
       "       [ 1.73498418e+00, -1.42991049e+00],\n",
       "       [ 1.82724524e+00,  6.53463279e-01],\n",
       "       [ 1.93278755e+00,  7.17973081e-01],\n",
       "       [ 1.98186653e+00,  6.70133330e-01],\n",
       "       [ 2.51703034e+00,  1.42263584e+00]])"
      ]
     },
     "execution_count": 16,
     "metadata": {},
     "output_type": "execute_result"
    }
   ],
   "source": [
    "the_set.x[ind[0:len(the_set.x),0]]  # Rend le numpy.array des exemples de the_set.x ordonnés\n",
    "                                    # selon les indices donnés dans ind (colonne 0)\n"
   ]
  },
  {
   "cell_type": "code",
   "execution_count": 20,
   "metadata": {},
   "outputs": [
    {
     "data": {
      "text/plain": [
       "array([[-1],\n",
       "       [-1],\n",
       "       [-1],\n",
       "       [-1],\n",
       "       [-1],\n",
       "       [-1],\n",
       "       [-1],\n",
       "       [-1],\n",
       "       [-1],\n",
       "       [-1],\n",
       "       [ 1],\n",
       "       [ 1],\n",
       "       [ 1],\n",
       "       [ 1],\n",
       "       [ 1],\n",
       "       [ 1],\n",
       "       [ 1],\n",
       "       [ 1],\n",
       "       [ 1],\n",
       "       [ 1]])"
      ]
     },
     "execution_count": 20,
     "metadata": {},
     "output_type": "execute_result"
    }
   ],
   "source": [
    "the_set.y[ind[0:len(the_set.y),0]]  # Rend le numpy.array des exemples de the_set.y ordonnés\n",
    "                                    # selon les indices donnés dans ind (colonne 0)"
   ]
  },
  {
   "cell_type": "code",
   "execution_count": 21,
   "metadata": {},
   "outputs": [
    {
     "name": "stdout",
     "output_type": "stream",
     "text": [
      "valeur= -2.811988687477914 classe=  -1\n",
      "valeur= -1.7134411230338582 classe=  -1\n",
      "valeur= -1.5189322937491845 classe=  -1\n",
      "valeur= -0.5223957087077309 classe=  -1\n",
      "valeur= -0.3335637806107943 classe=  -1\n",
      "valeur= -0.11707319599414578 classe=  1\n",
      "valeur= -0.010770380762435527 classe=  -1\n",
      "valeur= 0.2880870778507538 classe=  -1\n",
      "valeur= 0.45384722907535613 classe=  -1\n",
      "valeur= 0.5367932608001436 classe=  1\n",
      "valeur= 0.5465239640896504 classe=  -1\n",
      "valeur= 0.7818607380875977 classe=  1\n",
      "valeur= 0.8942384501761911 classe=  -1\n",
      "valeur= 1.1022526768774499 classe=  1\n",
      "valeur= 1.5030731822289995 classe=  1\n",
      "valeur= 1.614151267544358 classe=  1\n",
      "valeur= 2.091724925472046 classe=  1\n",
      "valeur= 2.376684811844565 classe=  1\n",
      "valeur= 2.602494323428895 classe=  1\n",
      "valeur= 2.7535595371855566 classe=  1\n"
     ]
    }
   ],
   "source": [
    "colonne = 1    # numéro de la colonne de the_set.x à considérer\n",
    "for v_i in ind[0:len(the_set.x)]:\n",
    "    i = v_i[colonne]\n",
    "    exem = the_set.getX(i)\n",
    "    clas = the_set.getY(i)\n",
    "    print(\"valeur=\",exem[colonne], \"classe= \", clas[0])"
   ]
  },
  {
   "cell_type": "markdown",
   "metadata": {},
   "source": [
    "Etant donné un LabeledSet, ainsi qu'un numéro de colonne à considérer (qui correspond à un des attributs de description), la fonction <code>discrétise()</code> rend un tuple constitué de la valeur de coupure qui optimise la mesure de qualité, et de la valeur trouvée pour cette mesure."
   ]
  },
  {
   "cell_type": "code",
   "execution_count": 22,
   "metadata": {},
   "outputs": [],
   "source": [
    "def discretise(LSet, col):\n",
    "    \"\"\" LabelledSet * int -> tuple[float, float]\n",
    "        Hypothèse: LSet.size() >= 2\n",
    "        col est le numéro de colonne sur X à discrétiser\n",
    "        rend la valeur de coupure qui minimise l'entropie ainsi que son entropie.\n",
    "    \"\"\"\n",
    "    # initialisation:\n",
    "    min_entropie = 1.1  # on met à une valeur max car on veut minimiser\n",
    "    min_seuil = 0.0     \n",
    "    # trie des valeurs:\n",
    "    ind= np.argsort(LSet.x,axis=0)\n",
    "    \n",
    "    # calcul des distributions des classes pour E1 et E2:\n",
    "    inf_plus  = 0               # nombre de +1 dans E1\n",
    "    inf_moins = 0               # nombre de -1 dans E1\n",
    "    sup_plus  = 0               # nombre de +1 dans E2\n",
    "    sup_moins = 0               # nombre de -1 dans E2       \n",
    "    # remarque: au départ on considère que E1 est vide et donc E2 correspond à E. \n",
    "    # Ainsi inf_plus et inf_moins valent 0. Il reste à calculer sup_plus et sup_moins \n",
    "    # dans E.\n",
    "    for j in range(0,LSet.size()):\n",
    "        if (LSet.getY(j) == -1):\n",
    "            sup_moins += 1\n",
    "        else:\n",
    "            sup_plus += 1\n",
    "    nb_total = (sup_plus + sup_moins) # nombre d'exemples total dans E\n",
    "    \n",
    "    # parcours pour trouver le meilleur seuil:\n",
    "    for i in range(len(LSet.x)-1):\n",
    "        v_ind_i = ind[i]   # vecteur d'indices\n",
    "        courant = LSet.getX(v_ind_i[col])[col]\n",
    "        lookahead = LSet.getX(ind[i+1][col])[col]\n",
    "        val_seuil = (courant + lookahead) / 2.0;\n",
    "        # M-A-J de la distrib. des classes:\n",
    "        # pour réduire les traitements: on retire un exemple de E2 et on le place\n",
    "        # dans E1, c'est ainsi que l'on déplace donc le seuil de coupure.\n",
    "        if LSet.getY(ind[i][col])[0] == -1:\n",
    "            inf_moins += 1\n",
    "            sup_moins -= 1\n",
    "        else:\n",
    "            inf_plus += 1\n",
    "            sup_plus -= 1\n",
    "        # calcul de la distribution des classes de chaque côté du seuil:\n",
    "        nb_inf = (inf_moins + inf_plus)*1.0     # rem: on en fait un float pour éviter\n",
    "        nb_sup = (sup_moins + sup_plus)*1.0     # que ce soit une division entière.\n",
    "        # calcul de l'entropie de la coupure\n",
    "        val_entropie_inf = shannon([inf_moins / nb_inf, inf_plus  / nb_inf])\n",
    "        val_entropie_sup = shannon([sup_moins / nb_sup, sup_plus  / nb_sup])\n",
    "        val_entropie = (nb_inf / nb_total) * val_entropie_inf \\\n",
    "                       + (nb_sup / nb_total) * val_entropie_sup\n",
    "        # si cette coupure minimise l'entropie, on mémorise ce seuil et son entropie:\n",
    "        if (min_entropie > val_entropie):\n",
    "            min_entropie = val_entropie\n",
    "            min_seuil = val_seuil\n",
    "    return (min_seuil, min_entropie)"
   ]
  },
  {
   "cell_type": "code",
   "execution_count": 23,
   "metadata": {},
   "outputs": [
    {
     "data": {
      "text/plain": [
       "(0.030913052516222228, -0.0)"
      ]
     },
     "execution_count": 23,
     "metadata": {},
     "output_type": "execute_result"
    }
   ],
   "source": [
    "discretise(the_set,0) # le résultat dépend, bien sûr, de la base jouet"
   ]
  },
  {
   "cell_type": "code",
   "execution_count": 24,
   "metadata": {},
   "outputs": [
    {
     "data": {
      "text/plain": [
       "(0.9982455635268205, 0.5065773942398554)"
      ]
     },
     "execution_count": 24,
     "metadata": {},
     "output_type": "execute_result"
    }
   ],
   "source": [
    "discretise(the_set,1) # le résultat dépend, bien sûr, de la base jouet"
   ]
  },
  {
   "cell_type": "markdown",
   "metadata": {},
   "source": [
    "Une dernière fonction utile permet de diviser une base d'exemples en 2 sous-bases en utilisant un seuil sur la valeur d'un attribut donné.\n",
    "\n",
    "<font color=\"RED\" size=\"+1\">**[Q]**</font> Ecrire la fonction divise() dont la spécification est:\n",
    "\n",
    "    def divise(LSet,att,seuil):\n",
    "        \"\"\" LSet: LabeledSet\n",
    "            att : numéro d'attribut\n",
    "            seuil : valeur de seuil\n",
    "            rend le tuple contenant les 2 sous-LabeledSet obtenus par la\n",
    "            division de LSet selon le seuil sur l'attribut att\n",
    "        \"\"\"\n",
    "\n"
   ]
  },
  {
   "cell_type": "code",
   "execution_count": 25,
   "metadata": {},
   "outputs": [],
   "source": [
    "def divise(LSet, att, seuil):\n",
    "    result1 = ls.LabeledSet(LSet.input_dimension)\n",
    "    result2 = ls.LabeledSet(LSet.input_dimension)\n",
    "    for i in range(LSet.size()):\n",
    "        if(LSet.getX(i)[att] > seuil):\n",
    "            result1.addExample(LSet.getX(i), LSet.getY(i))\n",
    "        else:\n",
    "            result2.addExample(LSet.getX(i), LSet.getY(i))\n",
    "    return (result2, result1)"
   ]
  },
  {
   "cell_type": "code",
   "execution_count": 26,
   "metadata": {},
   "outputs": [
    {
     "name": "stdout",
     "output_type": "stream",
     "text": [
      "entropie inférieur: -0.0  / entropie supérieur: 0.6500224216483541\n"
     ]
    }
   ],
   "source": [
    "Linf, Lsup = divise(the_set,0,-0.5)\n",
    "print(\"entropie inférieur:\",entropie(Linf),\" / entropie supérieur:\", entropie(Lsup))\n",
    "# remarque: les résultats dépendent de votre base jouet..."
   ]
  },
  {
   "cell_type": "markdown",
   "metadata": {},
   "source": [
    "### Représentation d'un arbre en Python"
   ]
  },
  {
   "cell_type": "markdown",
   "metadata": {},
   "source": [
    "Un arbre de décision doit être représenté en Python, pour cela, on utilise la classe <code>ArbreBinaire</code> suivante:"
   ]
  },
  {
   "cell_type": "code",
   "execution_count": 27,
   "metadata": {},
   "outputs": [],
   "source": [
    "import graphviz as gv\n",
    "# Eventuellement, il peut être nécessaire d'installer graphviz sur votre compte:\n",
    "# pip install --user --install-option=\"--prefix=\" -U graphviz\n",
    "\n",
    "\n",
    "class ArbreBinaire:\n",
    "    def __init__(self):\n",
    "        self.attribut = None   # numéro de l'attribut\n",
    "        self.seuil = None\n",
    "        self.inferieur = None # ArbreBinaire Gauche (valeurs <= au seuil)\n",
    "        self.superieur = None # ArbreBinaire Gauche (valeurs > au seuil)\n",
    "        self.classe = None # Classe si c'est une feuille: -1 ou +1\n",
    "        \n",
    "    def est_feuille(self):\n",
    "        \"\"\" rend True si l'arbre est une feuille \"\"\"\n",
    "        return self.seuil == None\n",
    "    \n",
    "    def ajoute_fils(self,ABinf,ABsup,att,seuil):\n",
    "        \"\"\" ABinf, ABsup: 2 arbres binaires\n",
    "            att: numéro d'attribut\n",
    "            seuil: valeur de seuil\n",
    "        \"\"\"\n",
    "        self.attribut = att\n",
    "        self.seuil = seuil\n",
    "        self.inferieur = ABinf\n",
    "        self.superieur = ABsup\n",
    "    \n",
    "    def ajoute_feuille(self,classe):\n",
    "        \"\"\" classe: -1 ou + 1\n",
    "        \"\"\"\n",
    "        self.classe = classe\n",
    "        \n",
    "    def classifie(self,exemple):\n",
    "        \"\"\" exemple : numpy.array\n",
    "            rend la classe de l'exemple: +1 ou -1\n",
    "        \"\"\"\n",
    "        if self.est_feuille():\n",
    "            return self.classe\n",
    "        if exemple[self.attribut] <= self.seuil:\n",
    "            return self.inferieur.classifie(exemple)\n",
    "        return self.superieur.classifie(exemple)\n",
    "    \n",
    "    def to_graph(self, g, prefixe='A'):\n",
    "        \"\"\" construit une représentation de l'arbre pour pouvoir\n",
    "            l'afficher\n",
    "        \"\"\"\n",
    "        if self.est_feuille():\n",
    "            g.node(prefixe,str(self.classe),shape='box')\n",
    "        else:\n",
    "            g.node(prefixe, str(self.attribut))\n",
    "            self.inferieur.to_graph(g,prefixe+\"g\")\n",
    "            self.superieur.to_graph(g,prefixe+\"d\")\n",
    "            g.edge(prefixe,prefixe+\"g\", '<='+ str(self.seuil))\n",
    "            g.edge(prefixe,prefixe+\"d\", '>'+ str(self.seuil))\n",
    "        \n",
    "        return g"
   ]
  },
  {
   "cell_type": "code",
   "execution_count": 28,
   "metadata": {},
   "outputs": [
    {
     "data": {
      "image/svg+xml": [
       "<?xml version=\"1.0\" encoding=\"UTF-8\" standalone=\"no\"?>\n",
       "<!DOCTYPE svg PUBLIC \"-//W3C//DTD SVG 1.1//EN\"\n",
       " \"http://www.w3.org/Graphics/SVG/1.1/DTD/svg11.dtd\">\n",
       "<!-- Generated by graphviz version 2.38.0 (20140413.2041)\n",
       " -->\n",
       "<!-- Title: %3 Pages: 1 -->\n",
       "<svg width=\"134pt\" height=\"131pt\"\n",
       " viewBox=\"0.00 0.00 134.00 131.00\" xmlns=\"http://www.w3.org/2000/svg\" xmlns:xlink=\"http://www.w3.org/1999/xlink\">\n",
       "<g id=\"graph0\" class=\"graph\" transform=\"scale(1 1) rotate(0) translate(4 127)\">\n",
       "<title>%3</title>\n",
       "<polygon fill=\"white\" stroke=\"none\" points=\"-4,4 -4,-127 130,-127 130,4 -4,4\"/>\n",
       "<!-- A -->\n",
       "<g id=\"node1\" class=\"node\"><title>A</title>\n",
       "<ellipse fill=\"none\" stroke=\"black\" cx=\"63\" cy=\"-105\" rx=\"27\" ry=\"18\"/>\n",
       "<text text-anchor=\"middle\" x=\"63\" y=\"-101.3\" font-family=\"Times,serif\" font-size=\"14.00\">nom</text>\n",
       "</g>\n",
       "<!-- Ag -->\n",
       "<g id=\"node2\" class=\"node\"><title>Ag</title>\n",
       "<polygon fill=\"none\" stroke=\"black\" points=\"54,-36 0,-36 0,-0 54,-0 54,-36\"/>\n",
       "<text text-anchor=\"middle\" x=\"27\" y=\"-14.3\" font-family=\"Times,serif\" font-size=\"14.00\">1</text>\n",
       "</g>\n",
       "<!-- A&#45;&gt;Ag -->\n",
       "<g id=\"edge1\" class=\"edge\"><title>A&#45;&gt;Ag</title>\n",
       "<path fill=\"none\" stroke=\"black\" d=\"M49.171,-89.3516C44.2998,-83.4397 39.2368,-76.2955 36,-69 32.8522,-61.9053 30.8051,-53.78 29.4738,-46.171\"/>\n",
       "<polygon fill=\"black\" stroke=\"black\" points=\"32.9377,-45.6687 28.0661,-36.2603 26.0073,-46.6532 32.9377,-45.6687\"/>\n",
       "<text text-anchor=\"middle\" x=\"56.5\" y=\"-57.8\" font-family=\"Times,serif\" font-size=\"14.00\">&lt;=42.0</text>\n",
       "</g>\n",
       "<!-- Ad -->\n",
       "<g id=\"node3\" class=\"node\"><title>Ad</title>\n",
       "<polygon fill=\"none\" stroke=\"black\" points=\"126,-36 72,-36 72,-0 126,-0 126,-36\"/>\n",
       "<text text-anchor=\"middle\" x=\"99\" y=\"-14.3\" font-family=\"Times,serif\" font-size=\"14.00\">2</text>\n",
       "</g>\n",
       "<!-- A&#45;&gt;Ad -->\n",
       "<g id=\"edge2\" class=\"edge\"><title>A&#45;&gt;Ad</title>\n",
       "<path fill=\"none\" stroke=\"black\" d=\"M70.1124,-87.2067C75.1581,-75.2934 82.032,-59.0634 87.8086,-45.4242\"/>\n",
       "<polygon fill=\"black\" stroke=\"black\" points=\"91.102,-46.6225 91.7791,-36.0493 84.6563,-43.8925 91.102,-46.6225\"/>\n",
       "<text text-anchor=\"middle\" x=\"99.5\" y=\"-57.8\" font-family=\"Times,serif\" font-size=\"14.00\">&gt;42.0</text>\n",
       "</g>\n",
       "</g>\n",
       "</svg>\n"
      ],
      "text/plain": [
       "<graphviz.dot.Digraph at 0x7f3541345748>"
      ]
     },
     "execution_count": 28,
     "metadata": {},
     "output_type": "execute_result"
    }
   ],
   "source": [
    "# Exemple d'utilisation: \n",
    "un_arbre= ArbreBinaire()\n",
    "un_arbre.ajoute_feuille(1)\n",
    "un_arbre.est_feuille()\n",
    "un_arbre1 = ArbreBinaire()\n",
    "un_arbre1.ajoute_feuille(2)\n",
    "un_arbre2 = ArbreBinaire()\n",
    "un_arbre2.ajoute_fils(un_arbre,un_arbre1,\"nom\",42.0)\n",
    "\n",
    "gtree = gv.Digraph(format='png')\n",
    "un_arbre2.to_graph(gtree)"
   ]
  },
  {
   "cell_type": "markdown",
   "metadata": {},
   "source": [
    "### Construction de l'arbre de décision"
   ]
  },
  {
   "cell_type": "markdown",
   "metadata": {},
   "source": [
    "Pour construire un arbre de décision, il faut réaliser les étapes suivantes:\n",
    "- si l'entropie de Shannon de la distribution des classes de l'ensemble courant est inférieure à epsilon (réel positif fixé et qui est un paramètre de l'algorithme), alors construire une feuille avec cet ensemble, la classe associée à cette feuille est la classe majoritaire;\n",
    "- sinon, pour chaque attribut, calculer le seuil de discrétisation et l'entropie de Shannon correspondante\n",
    "    - choisir l'attribut qui donne une valeur d'entropie minimale\n",
    "    - l'attribut choisi sert à constituer un noeud de l'arbre de décision, les arcs issus de ce noeud sont labeller par un test (inférieur ou égal ou supérieur) par rapport au seuil trouvé\n",
    "    \n",
    "    \n",
    "<font color=\"RED\" size=\"+1\">**[Q]**</font> Ecrire la fonction qui construit un arbre de décision (binaire) à partir d'une base d'exemples. En plus de la base d'exemples, on utilise un argument \"epsilon\" qui est un réel >0 et qui sert pour le critère d'arrêt.\n",
    "Cette fonction a la spécification suivante:\n",
    "\n",
    "    def construit_AD(LSet,epsilon):\n",
    "        \"\"\" LSet : LabeledSet\n",
    "            epsilon : seuil d'entropie pour le critère d'arrêt \n",
    "        \"\"\"\n"
   ]
  },
  {
   "cell_type": "code",
   "execution_count": 29,
   "metadata": {},
   "outputs": [],
   "source": [
    "def construit_AD(LSet, epsilon):\n",
    "    result = ArbreBinaire()\n",
    "    if(entropie(LSet) <= epsilon) :\n",
    "        result.ajoute_feuille(classe_majoritaire(LSet))\n",
    "    else :\n",
    "        mini_seuil, mini_ent = discretise(LSet, 0)\n",
    "        indice = 0\n",
    "        for i in range(1, LSet.input_dimension):\n",
    "            seuil, e = discretise(LSet, i)\n",
    "            if( e < mini_ent) :\n",
    "                mini_ent = e\n",
    "                indice = i\n",
    "                mini_seuil = seuil\n",
    "        inf, sup = divise(LSet, indice, mini_seuil)\n",
    "        result.ajoute_fils(construit_AD(inf, epsilon), construit_AD(sup, epsilon), indice, mini_seuil)  \n",
    "    return result       \n",
    "        "
   ]
  },
  {
   "cell_type": "code",
   "execution_count": 30,
   "metadata": {},
   "outputs": [
    {
     "data": {
      "image/svg+xml": [
       "<?xml version=\"1.0\" encoding=\"UTF-8\" standalone=\"no\"?>\n",
       "<!DOCTYPE svg PUBLIC \"-//W3C//DTD SVG 1.1//EN\"\n",
       " \"http://www.w3.org/Graphics/SVG/1.1/DTD/svg11.dtd\">\n",
       "<!-- Generated by graphviz version 2.38.0 (20140413.2041)\n",
       " -->\n",
       "<!-- Title: %3 Pages: 1 -->\n",
       "<svg width=\"648pt\" height=\"218pt\"\n",
       " viewBox=\"0.00 0.00 648.00 218.00\" xmlns=\"http://www.w3.org/2000/svg\" xmlns:xlink=\"http://www.w3.org/1999/xlink\">\n",
       "<g id=\"graph0\" class=\"graph\" transform=\"scale(1 1) rotate(0) translate(4 214)\">\n",
       "<title>%3</title>\n",
       "<polygon fill=\"white\" stroke=\"none\" points=\"-4,4 -4,-214 644,-214 644,4 -4,4\"/>\n",
       "<!-- A -->\n",
       "<g id=\"node1\" class=\"node\"><title>A</title>\n",
       "<ellipse fill=\"none\" stroke=\"black\" cx=\"271\" cy=\"-192\" rx=\"27\" ry=\"18\"/>\n",
       "<text text-anchor=\"middle\" x=\"271\" y=\"-188.3\" font-family=\"Times,serif\" font-size=\"14.00\">0</text>\n",
       "</g>\n",
       "<!-- Ag -->\n",
       "<g id=\"node2\" class=\"node\"><title>Ag</title>\n",
       "<ellipse fill=\"none\" stroke=\"black\" cx=\"185\" cy=\"-105\" rx=\"27\" ry=\"18\"/>\n",
       "<text text-anchor=\"middle\" x=\"185\" y=\"-101.3\" font-family=\"Times,serif\" font-size=\"14.00\">0</text>\n",
       "</g>\n",
       "<!-- A&#45;&gt;Ag -->\n",
       "<g id=\"edge5\" class=\"edge\"><title>A&#45;&gt;Ag</title>\n",
       "<path fill=\"none\" stroke=\"black\" d=\"M244.694,-187.818C224.954,-183.909 199.158,-175.229 186,-156 181.5,-149.424 180.098,-141.136 180.151,-133.209\"/>\n",
       "<polygon fill=\"black\" stroke=\"black\" points=\"183.646,-133.41 180.921,-123.171 176.667,-132.874 183.646,-133.41\"/>\n",
       "<text text-anchor=\"middle\" x=\"260.5\" y=\"-144.8\" font-family=\"Times,serif\" font-size=\"14.00\">&lt;=0.030913052516222228</text>\n",
       "</g>\n",
       "<!-- Ad -->\n",
       "<g id=\"node5\" class=\"node\"><title>Ad</title>\n",
       "<ellipse fill=\"none\" stroke=\"black\" cx=\"357\" cy=\"-105\" rx=\"27\" ry=\"18\"/>\n",
       "<text text-anchor=\"middle\" x=\"357\" y=\"-101.3\" font-family=\"Times,serif\" font-size=\"14.00\">0</text>\n",
       "</g>\n",
       "<!-- A&#45;&gt;Ad -->\n",
       "<g id=\"edge6\" class=\"edge\"><title>A&#45;&gt;Ad</title>\n",
       "<path fill=\"none\" stroke=\"black\" d=\"M294.161,-182.726C307.539,-176.967 323.869,-168.131 335,-156 341.108,-149.343 345.717,-140.716 349.096,-132.508\"/>\n",
       "<polygon fill=\"black\" stroke=\"black\" points=\"352.476,-133.457 352.627,-122.864 345.902,-131.051 352.476,-133.457\"/>\n",
       "<text text-anchor=\"middle\" x=\"415.5\" y=\"-144.8\" font-family=\"Times,serif\" font-size=\"14.00\">&gt;0.030913052516222228</text>\n",
       "</g>\n",
       "<!-- Agg -->\n",
       "<g id=\"node3\" class=\"node\"><title>Agg</title>\n",
       "<polygon fill=\"none\" stroke=\"black\" points=\"54,-36 0,-36 0,-0 54,-0 54,-36\"/>\n",
       "<text text-anchor=\"middle\" x=\"27\" y=\"-14.3\" font-family=\"Times,serif\" font-size=\"14.00\">&#45;1</text>\n",
       "</g>\n",
       "<!-- Ag&#45;&gt;Agg -->\n",
       "<g id=\"edge1\" class=\"edge\"><title>Ag&#45;&gt;Agg</title>\n",
       "<path fill=\"none\" stroke=\"black\" d=\"M157.811,-104.607C126.477,-103.821 75.2929,-97.7564 44,-69 37.4726,-63.0017 33.4509,-54.402 30.9731,-46.0216\"/>\n",
       "<polygon fill=\"black\" stroke=\"black\" points=\"34.3376,-45.0378 28.652,-36.0977 27.5215,-46.6321 34.3376,-45.0378\"/>\n",
       "<text text-anchor=\"middle\" x=\"114\" y=\"-57.8\" font-family=\"Times,serif\" font-size=\"14.00\">&lt;=&#45;2.0059963591875856</text>\n",
       "</g>\n",
       "<!-- Agd -->\n",
       "<g id=\"node4\" class=\"node\"><title>Agd</title>\n",
       "<polygon fill=\"none\" stroke=\"black\" points=\"217,-36 163,-36 163,-0 217,-0 217,-36\"/>\n",
       "<text text-anchor=\"middle\" x=\"190\" y=\"-14.3\" font-family=\"Times,serif\" font-size=\"14.00\">&#45;1</text>\n",
       "</g>\n",
       "<!-- Ag&#45;&gt;Agd -->\n",
       "<g id=\"edge2\" class=\"edge\"><title>Ag&#45;&gt;Agd</title>\n",
       "<path fill=\"none\" stroke=\"black\" d=\"M186.012,-86.799C186.696,-75.1626 187.615,-59.5479 188.398,-46.2368\"/>\n",
       "<polygon fill=\"black\" stroke=\"black\" points=\"191.896,-46.3637 188.99,-36.1754 184.908,-45.9526 191.896,-46.3637\"/>\n",
       "<text text-anchor=\"middle\" x=\"254\" y=\"-57.8\" font-family=\"Times,serif\" font-size=\"14.00\">&gt;&#45;2.0059963591875856</text>\n",
       "</g>\n",
       "<!-- Adg -->\n",
       "<g id=\"node6\" class=\"node\"><title>Adg</title>\n",
       "<polygon fill=\"none\" stroke=\"black\" points=\"380,-36 326,-36 326,-0 380,-0 380,-36\"/>\n",
       "<text text-anchor=\"middle\" x=\"353\" y=\"-14.3\" font-family=\"Times,serif\" font-size=\"14.00\">1</text>\n",
       "</g>\n",
       "<!-- Ad&#45;&gt;Adg -->\n",
       "<g id=\"edge3\" class=\"edge\"><title>Ad&#45;&gt;Adg</title>\n",
       "<path fill=\"none\" stroke=\"black\" d=\"M355.311,-86.9257C354.808,-81.2301 354.309,-74.8466 354,-69 353.612,-61.6601 353.372,-53.7069 353.223,-46.3487\"/>\n",
       "<polygon fill=\"black\" stroke=\"black\" points=\"356.72,-46.0792 353.065,-36.1345 349.721,-46.1874 356.72,-46.0792\"/>\n",
       "<text text-anchor=\"middle\" x=\"425\" y=\"-57.8\" font-family=\"Times,serif\" font-size=\"14.00\">&lt;=0.09897368506126453</text>\n",
       "</g>\n",
       "<!-- Add -->\n",
       "<g id=\"node7\" class=\"node\"><title>Add</title>\n",
       "<polygon fill=\"none\" stroke=\"black\" points=\"545,-36 491,-36 491,-0 545,-0 545,-36\"/>\n",
       "<text text-anchor=\"middle\" x=\"518\" y=\"-14.3\" font-family=\"Times,serif\" font-size=\"14.00\">1</text>\n",
       "</g>\n",
       "<!-- Ad&#45;&gt;Add -->\n",
       "<g id=\"edge4\" class=\"edge\"><title>Ad&#45;&gt;Add</title>\n",
       "<path fill=\"none\" stroke=\"black\" d=\"M384.208,-103.975C414.775,-102.542 464.254,-95.8196 496,-69 503.081,-63.0174 507.963,-54.3136 511.291,-45.839\"/>\n",
       "<polygon fill=\"black\" stroke=\"black\" points=\"514.672,-46.7664 514.524,-36.1726 508.033,-44.5459 514.672,-46.7664\"/>\n",
       "<text text-anchor=\"middle\" x=\"573\" y=\"-57.8\" font-family=\"Times,serif\" font-size=\"14.00\">&gt;0.09897368506126453</text>\n",
       "</g>\n",
       "</g>\n",
       "</svg>\n"
      ],
      "text/plain": [
       "<graphviz.dot.Digraph at 0x7f3541332048>"
      ]
     },
     "execution_count": 30,
     "metadata": {},
     "output_type": "execute_result"
    }
   ],
   "source": [
    "#test de l'affichage \n",
    "abin = construit_AD(the_set,0.0)\n",
    "gtree = gv.Digraph(format='png')\n",
    "abin.to_graph(gtree)"
   ]
  },
  {
   "cell_type": "markdown",
   "metadata": {},
   "source": [
    "### Classification avec arbre de décision\n"
   ]
  },
  {
   "cell_type": "markdown",
   "metadata": {},
   "source": [
    "Pour classer un nouvel exemple avec un arbre de décision, il faut parcourir l'arbre, de la racine vers une feuille en respectant les tests rencontrés dans chaque arc. Une fois atteint une feuille, la classe de l'exemple est celle présente dans la feuille.\n",
    "\n",
    "La classe ArbreBinaire contient déjà une fonction <code>classifie</code> qui permet de classer un nouvel exemple et de renvoyer la classe +1 ou -1 selon le cas."
   ]
  },
  {
   "cell_type": "markdown",
   "metadata": {},
   "source": [
    "### Implémentation"
   ]
  },
  {
   "cell_type": "markdown",
   "metadata": {},
   "source": [
    "On définit le classifieur <code>ArbreDecision</code> comme suit.\n",
    "\n",
    "Si toutes les fonctions précédentes ont été écrites correctement, il est maintenant possible de construire un arbre de décision à partir de la base jouet.\n"
   ]
  },
  {
   "cell_type": "markdown",
   "metadata": {},
   "source": [
    "## Applications à des données réelles"
   ]
  },
  {
   "cell_type": "code",
   "execution_count": 31,
   "metadata": {},
   "outputs": [],
   "source": [
    "class ArbreDecision(cl.Classifier):\n",
    "    # Constructeur\n",
    "    def __init__(self,epsilon):\n",
    "        # valeur seuil d'entropie pour arrêter la construction\n",
    "        self.epsilon= epsilon\n",
    "        self.racine = None\n",
    "    \n",
    "    # Permet de calculer la prediction sur x => renvoie un score\n",
    "    def predict(self,x):\n",
    "        # classification de l'exemple x avec l'arbre de décision\n",
    "        # on rend 0 (classe -1) ou 1 (classe 1)\n",
    "        classe = self.racine.classifie(x)\n",
    "        if (classe == 1):\n",
    "            return(1)\n",
    "        else:\n",
    "            return(-1)\n",
    "    \n",
    "    # Permet d'entrainer le modele sur un ensemble de données\n",
    "    def train(self,set):\n",
    "        # construction de l'arbre de décision \n",
    "        self.set=set\n",
    "        self.racine = construit_AD(set,self.epsilon)\n",
    "\n",
    "    # Permet d'afficher l'arbre\n",
    "    def plot(self):\n",
    "        gtree = gv.Digraph(format='png')\n",
    "        return self.racine.to_graph(gtree)\n",
    "        "
   ]
  },
  {
   "cell_type": "code",
   "execution_count": 33,
   "metadata": {},
   "outputs": [
    {
     "data": {
      "image/png": "[encoded data removed]",
      "text/plain": [
       "<Figure size 432x288 with 1 Axes>"
      ]
     },
     "metadata": {
      "needs_background": "light"
     },
     "output_type": "display_data"
    }
   ],
   "source": [
    "# un exemple d'utilisation:\n",
    "ad=ArbreDecision(0.0)          # initialiation d'un arbre binaire qui utilisera epsilon= 0.0\n",
    "ad.train(the_set)              # construction de l'arbre à partir de la base jouet\n",
    "plot_frontiere(the_set,ad,20)  # tracé graphique de la frontière de décision\n",
    "plot2DSet(the_set) "
   ]
  },
  {
   "cell_type": "code",
   "execution_count": 34,
   "metadata": {},
   "outputs": [
    {
     "data": {
      "image/svg+xml": [
       "<?xml version=\"1.0\" encoding=\"UTF-8\" standalone=\"no\"?>\n",
       "<!DOCTYPE svg PUBLIC \"-//W3C//DTD SVG 1.1//EN\"\n",
       " \"http://www.w3.org/Graphics/SVG/1.1/DTD/svg11.dtd\">\n",
       "<!-- Generated by graphviz version 2.38.0 (20140413.2041)\n",
       " -->\n",
       "<!-- Title: %3 Pages: 1 -->\n",
       "<svg width=\"648pt\" height=\"218pt\"\n",
       " viewBox=\"0.00 0.00 648.00 218.00\" xmlns=\"http://www.w3.org/2000/svg\" xmlns:xlink=\"http://www.w3.org/1999/xlink\">\n",
       "<g id=\"graph0\" class=\"graph\" transform=\"scale(1 1) rotate(0) translate(4 214)\">\n",
       "<title>%3</title>\n",
       "<polygon fill=\"white\" stroke=\"none\" points=\"-4,4 -4,-214 644,-214 644,4 -4,4\"/>\n",
       "<!-- A -->\n",
       "<g id=\"node1\" class=\"node\"><title>A</title>\n",
       "<ellipse fill=\"none\" stroke=\"black\" cx=\"271\" cy=\"-192\" rx=\"27\" ry=\"18\"/>\n",
       "<text text-anchor=\"middle\" x=\"271\" y=\"-188.3\" font-family=\"Times,serif\" font-size=\"14.00\">0</text>\n",
       "</g>\n",
       "<!-- Ag -->\n",
       "<g id=\"node2\" class=\"node\"><title>Ag</title>\n",
       "<ellipse fill=\"none\" stroke=\"black\" cx=\"185\" cy=\"-105\" rx=\"27\" ry=\"18\"/>\n",
       "<text text-anchor=\"middle\" x=\"185\" y=\"-101.3\" font-family=\"Times,serif\" font-size=\"14.00\">0</text>\n",
       "</g>\n",
       "<!-- A&#45;&gt;Ag -->\n",
       "<g id=\"edge5\" class=\"edge\"><title>A&#45;&gt;Ag</title>\n",
       "<path fill=\"none\" stroke=\"black\" d=\"M244.694,-187.818C224.954,-183.909 199.158,-175.229 186,-156 181.5,-149.424 180.098,-141.136 180.151,-133.209\"/>\n",
       "<polygon fill=\"black\" stroke=\"black\" points=\"183.646,-133.41 180.921,-123.171 176.667,-132.874 183.646,-133.41\"/>\n",
       "<text text-anchor=\"middle\" x=\"260.5\" y=\"-144.8\" font-family=\"Times,serif\" font-size=\"14.00\">&lt;=0.030913052516222228</text>\n",
       "</g>\n",
       "<!-- Ad -->\n",
       "<g id=\"node5\" class=\"node\"><title>Ad</title>\n",
       "<ellipse fill=\"none\" stroke=\"black\" cx=\"357\" cy=\"-105\" rx=\"27\" ry=\"18\"/>\n",
       "<text text-anchor=\"middle\" x=\"357\" y=\"-101.3\" font-family=\"Times,serif\" font-size=\"14.00\">0</text>\n",
       "</g>\n",
       "<!-- A&#45;&gt;Ad -->\n",
       "<g id=\"edge6\" class=\"edge\"><title>A&#45;&gt;Ad</title>\n",
       "<path fill=\"none\" stroke=\"black\" d=\"M294.161,-182.726C307.539,-176.967 323.869,-168.131 335,-156 341.108,-149.343 345.717,-140.716 349.096,-132.508\"/>\n",
       "<polygon fill=\"black\" stroke=\"black\" points=\"352.476,-133.457 352.627,-122.864 345.902,-131.051 352.476,-133.457\"/>\n",
       "<text text-anchor=\"middle\" x=\"415.5\" y=\"-144.8\" font-family=\"Times,serif\" font-size=\"14.00\">&gt;0.030913052516222228</text>\n",
       "</g>\n",
       "<!-- Agg -->\n",
       "<g id=\"node3\" class=\"node\"><title>Agg</title>\n",
       "<polygon fill=\"none\" stroke=\"black\" points=\"54,-36 0,-36 0,-0 54,-0 54,-36\"/>\n",
       "<text text-anchor=\"middle\" x=\"27\" y=\"-14.3\" font-family=\"Times,serif\" font-size=\"14.00\">&#45;1</text>\n",
       "</g>\n",
       "<!-- Ag&#45;&gt;Agg -->\n",
       "<g id=\"edge1\" class=\"edge\"><title>Ag&#45;&gt;Agg</title>\n",
       "<path fill=\"none\" stroke=\"black\" d=\"M157.811,-104.607C126.477,-103.821 75.2929,-97.7564 44,-69 37.4726,-63.0017 33.4509,-54.402 30.9731,-46.0216\"/>\n",
       "<polygon fill=\"black\" stroke=\"black\" points=\"34.3376,-45.0378 28.652,-36.0977 27.5215,-46.6321 34.3376,-45.0378\"/>\n",
       "<text text-anchor=\"middle\" x=\"114\" y=\"-57.8\" font-family=\"Times,serif\" font-size=\"14.00\">&lt;=&#45;2.0059963591875856</text>\n",
       "</g>\n",
       "<!-- Agd -->\n",
       "<g id=\"node4\" class=\"node\"><title>Agd</title>\n",
       "<polygon fill=\"none\" stroke=\"black\" points=\"217,-36 163,-36 163,-0 217,-0 217,-36\"/>\n",
       "<text text-anchor=\"middle\" x=\"190\" y=\"-14.3\" font-family=\"Times,serif\" font-size=\"14.00\">&#45;1</text>\n",
       "</g>\n",
       "<!-- Ag&#45;&gt;Agd -->\n",
       "<g id=\"edge2\" class=\"edge\"><title>Ag&#45;&gt;Agd</title>\n",
       "<path fill=\"none\" stroke=\"black\" d=\"M186.012,-86.799C186.696,-75.1626 187.615,-59.5479 188.398,-46.2368\"/>\n",
       "<polygon fill=\"black\" stroke=\"black\" points=\"191.896,-46.3637 188.99,-36.1754 184.908,-45.9526 191.896,-46.3637\"/>\n",
       "<text text-anchor=\"middle\" x=\"254\" y=\"-57.8\" font-family=\"Times,serif\" font-size=\"14.00\">&gt;&#45;2.0059963591875856</text>\n",
       "</g>\n",
       "<!-- Adg -->\n",
       "<g id=\"node6\" class=\"node\"><title>Adg</title>\n",
       "<polygon fill=\"none\" stroke=\"black\" points=\"380,-36 326,-36 326,-0 380,-0 380,-36\"/>\n",
       "<text text-anchor=\"middle\" x=\"353\" y=\"-14.3\" font-family=\"Times,serif\" font-size=\"14.00\">1</text>\n",
       "</g>\n",
       "<!-- Ad&#45;&gt;Adg -->\n",
       "<g id=\"edge3\" class=\"edge\"><title>Ad&#45;&gt;Adg</title>\n",
       "<path fill=\"none\" stroke=\"black\" d=\"M355.311,-86.9257C354.808,-81.2301 354.309,-74.8466 354,-69 353.612,-61.6601 353.372,-53.7069 353.223,-46.3487\"/>\n",
       "<polygon fill=\"black\" stroke=\"black\" points=\"356.72,-46.0792 353.065,-36.1345 349.721,-46.1874 356.72,-46.0792\"/>\n",
       "<text text-anchor=\"middle\" x=\"425\" y=\"-57.8\" font-family=\"Times,serif\" font-size=\"14.00\">&lt;=0.09897368506126453</text>\n",
       "</g>\n",
       "<!-- Add -->\n",
       "<g id=\"node7\" class=\"node\"><title>Add</title>\n",
       "<polygon fill=\"none\" stroke=\"black\" points=\"545,-36 491,-36 491,-0 545,-0 545,-36\"/>\n",
       "<text text-anchor=\"middle\" x=\"518\" y=\"-14.3\" font-family=\"Times,serif\" font-size=\"14.00\">1</text>\n",
       "</g>\n",
       "<!-- Ad&#45;&gt;Add -->\n",
       "<g id=\"edge4\" class=\"edge\"><title>Ad&#45;&gt;Add</title>\n",
       "<path fill=\"none\" stroke=\"black\" d=\"M384.208,-103.975C414.775,-102.542 464.254,-95.8196 496,-69 503.081,-63.0174 507.963,-54.3136 511.291,-45.839\"/>\n",
       "<polygon fill=\"black\" stroke=\"black\" points=\"514.672,-46.7664 514.524,-36.1726 508.033,-44.5459 514.672,-46.7664\"/>\n",
       "<text text-anchor=\"middle\" x=\"573\" y=\"-57.8\" font-family=\"Times,serif\" font-size=\"14.00\">&gt;0.09897368506126453</text>\n",
       "</g>\n",
       "</g>\n",
       "</svg>\n"
      ],
      "text/plain": [
       "<graphviz.dot.Digraph at 0x7f354131c860>"
      ]
     },
     "execution_count": 34,
     "metadata": {},
     "output_type": "execute_result"
    }
   ],
   "source": [
    "ad.plot()"
   ]
  },
  {
   "cell_type": "markdown",
   "metadata": {},
   "source": [
    "<font color=\"RED\" size=\"+1\">**[Q]**</font> Appliquer l'algorithme des arbres de décision à des données réelles (par exemple, celles utilisées avec les k-nn) et comparer les résultats obtenus par les 2 algorithmes.\n",
    "\n",
    "Un autre exemple d'utilisation sur une base plus grande:"
   ]
  },
  {
   "cell_type": "code",
   "execution_count": 36,
   "metadata": {
    "scrolled": true
   },
   "outputs": [
    {
     "name": "stdout",
     "output_type": "stream",
     "text": [
      "Taille de la base générée : 200 exemples\n"
     ]
    },
    {
     "data": {
      "image/png": "[encoded data removed]",
      "text/plain": [
       "<Figure size 432x288 with 1 Axes>"
      ]
     },
     "metadata": {
      "needs_background": "light"
     },
     "output_type": "display_data"
    }
   ],
   "source": [
    "autre_set=createGaussianDataset(np.array([1,1]),np.array([[1,0],[0,1]]),np.array([-1,-1]),np.array([[1,0],[0,1]]),100)\n",
    "print(\"Taille de la base générée :\", autre_set.size(), \"exemples\")\n",
    "adautre=ArbreDecision(0.0)          \n",
    "adautre.train(autre_set)            \n",
    "plot_frontiere(autre_set,adautre,20)\n",
    "plot2DSet(autre_set) "
   ]
  },
  {
   "cell_type": "code",
   "execution_count": 45,
   "metadata": {},
   "outputs": [
    {
     "data": {
      "image/svg+xml": [
       "<?xml version=\"1.0\" encoding=\"UTF-8\" standalone=\"no\"?>\n",
       "<!DOCTYPE svg PUBLIC \"-//W3C//DTD SVG 1.1//EN\"\n",
       " \"http://www.w3.org/Graphics/SVG/1.1/DTD/svg11.dtd\">\n",
       "<!-- Generated by graphviz version 2.38.0 (20140413.2041)\n",
       " -->\n",
       "<!-- Title: %3 Pages: 1 -->\n",
       "<svg width=\"1255pt\" height=\"740pt\"\n",
       " viewBox=\"0.00 0.00 1255.00 740.00\" xmlns=\"http://www.w3.org/2000/svg\" xmlns:xlink=\"http://www.w3.org/1999/xlink\">\n",
       "<g id=\"graph0\" class=\"graph\" transform=\"scale(1 1) rotate(0) translate(4 736)\">\n",
       "<title>%3</title>\n",
       "<polygon fill=\"white\" stroke=\"none\" points=\"-4,4 -4,-736 1251,-736 1251,4 -4,4\"/>\n",
       "<!-- A -->\n",
       "<g id=\"node1\" class=\"node\"><title>A</title>\n",
       "<ellipse fill=\"none\" stroke=\"black\" cx=\"582\" cy=\"-714\" rx=\"27\" ry=\"18\"/>\n",
       "<text text-anchor=\"middle\" x=\"582\" y=\"-710.3\" font-family=\"Times,serif\" font-size=\"14.00\">0</text>\n",
       "</g>\n",
       "<!-- Ag -->\n",
       "<g id=\"node2\" class=\"node\"><title>Ag</title>\n",
       "<ellipse fill=\"none\" stroke=\"black\" cx=\"498\" cy=\"-627\" rx=\"27\" ry=\"18\"/>\n",
       "<text text-anchor=\"middle\" x=\"498\" y=\"-623.3\" font-family=\"Times,serif\" font-size=\"14.00\">1</text>\n",
       "</g>\n",
       "<!-- A&#45;&gt;Ag -->\n",
       "<g id=\"edge31\" class=\"edge\"><title>A&#45;&gt;Ag</title>\n",
       "<path fill=\"none\" stroke=\"black\" d=\"M556.477,-708.098C539.179,-703.393 517.304,-694.469 505,-678 500.185,-671.555 497.923,-663.305 497.002,-655.372\"/>\n",
       "<polygon fill=\"black\" stroke=\"black\" points=\"500.493,-655.103 496.462,-645.304 493.503,-655.478 500.493,-655.103\"/>\n",
       "<text text-anchor=\"middle\" x=\"573\" y=\"-666.8\" font-family=\"Times,serif\" font-size=\"14.00\">&lt;=0.2688093644328901</text>\n",
       "</g>\n",
       "<!-- Ad -->\n",
       "<g id=\"node21\" class=\"node\"><title>Ad</title>\n",
       "<ellipse fill=\"none\" stroke=\"black\" cx=\"666\" cy=\"-627\" rx=\"27\" ry=\"18\"/>\n",
       "<text text-anchor=\"middle\" x=\"666\" y=\"-623.3\" font-family=\"Times,serif\" font-size=\"14.00\">1</text>\n",
       "</g>\n",
       "<!-- A&#45;&gt;Ad -->\n",
       "<g id=\"edge32\" class=\"edge\"><title>A&#45;&gt;Ad</title>\n",
       "<path fill=\"none\" stroke=\"black\" d=\"M604.282,-703.588C616.324,-697.635 630.776,-688.985 641,-678 647.368,-671.158 652.483,-662.387 656.387,-654.107\"/>\n",
       "<polygon fill=\"black\" stroke=\"black\" points=\"659.672,-655.326 660.415,-644.757 653.244,-652.556 659.672,-655.326\"/>\n",
       "<text text-anchor=\"middle\" x=\"715.5\" y=\"-666.8\" font-family=\"Times,serif\" font-size=\"14.00\">&gt;0.2688093644328901</text>\n",
       "</g>\n",
       "<!-- Agg -->\n",
       "<g id=\"node3\" class=\"node\"><title>Agg</title>\n",
       "<polygon fill=\"none\" stroke=\"black\" points=\"348,-558 294,-558 294,-522 348,-522 348,-558\"/>\n",
       "<text text-anchor=\"middle\" x=\"321\" y=\"-536.3\" font-family=\"Times,serif\" font-size=\"14.00\">&#45;1</text>\n",
       "</g>\n",
       "<!-- Ag&#45;&gt;Agg -->\n",
       "<g id=\"edge17\" class=\"edge\"><title>Ag&#45;&gt;Agg</title>\n",
       "<path fill=\"none\" stroke=\"black\" d=\"M471.528,-623.186C431.83,-618.473 359.448,-607.812 340,-591 333.133,-585.064 328.74,-576.371 325.933,-567.892\"/>\n",
       "<polygon fill=\"black\" stroke=\"black\" points=\"329.304,-566.953 323.313,-558.215 322.548,-568.782 329.304,-566.953\"/>\n",
       "<text text-anchor=\"middle\" x=\"417\" y=\"-579.8\" font-family=\"Times,serif\" font-size=\"14.00\">&lt;=&#45;0.030126719631764776</text>\n",
       "</g>\n",
       "<!-- Agd -->\n",
       "<g id=\"node4\" class=\"node\"><title>Agd</title>\n",
       "<ellipse fill=\"none\" stroke=\"black\" cx=\"498\" cy=\"-540\" rx=\"27\" ry=\"18\"/>\n",
       "<text text-anchor=\"middle\" x=\"498\" y=\"-536.3\" font-family=\"Times,serif\" font-size=\"14.00\">0</text>\n",
       "</g>\n",
       "<!-- Ag&#45;&gt;Agd -->\n",
       "<g id=\"edge18\" class=\"edge\"><title>Ag&#45;&gt;Agd</title>\n",
       "<path fill=\"none\" stroke=\"black\" d=\"M498,-608.799C498,-597.163 498,-581.548 498,-568.237\"/>\n",
       "<polygon fill=\"black\" stroke=\"black\" points=\"501.5,-568.175 498,-558.175 494.5,-568.175 501.5,-568.175\"/>\n",
       "<text text-anchor=\"middle\" x=\"570.5\" y=\"-579.8\" font-family=\"Times,serif\" font-size=\"14.00\">&gt;&#45;0.030126719631764776</text>\n",
       "</g>\n",
       "<!-- Agdg -->\n",
       "<g id=\"node5\" class=\"node\"><title>Agdg</title>\n",
       "<polygon fill=\"none\" stroke=\"black\" points=\"368,-471 314,-471 314,-435 368,-435 368,-471\"/>\n",
       "<text text-anchor=\"middle\" x=\"341\" y=\"-449.3\" font-family=\"Times,serif\" font-size=\"14.00\">&#45;1</text>\n",
       "</g>\n",
       "<!-- Agd&#45;&gt;Agdg -->\n",
       "<g id=\"edge15\" class=\"edge\"><title>Agd&#45;&gt;Agdg</title>\n",
       "<path fill=\"none\" stroke=\"black\" d=\"M470.999,-539.711C439.604,-539.048 388.124,-533.124 357,-504 350.565,-497.979 346.709,-489.374 344.401,-480.995\"/>\n",
       "<polygon fill=\"black\" stroke=\"black\" points=\"347.795,-480.126 342.285,-471.077 340.949,-481.587 347.795,-480.126\"/>\n",
       "<text text-anchor=\"middle\" x=\"427\" y=\"-492.8\" font-family=\"Times,serif\" font-size=\"14.00\">&lt;=&#45;1.2990447702687677</text>\n",
       "</g>\n",
       "<!-- Agdd -->\n",
       "<g id=\"node6\" class=\"node\"><title>Agdd</title>\n",
       "<ellipse fill=\"none\" stroke=\"black\" cx=\"504\" cy=\"-453\" rx=\"27\" ry=\"18\"/>\n",
       "<text text-anchor=\"middle\" x=\"504\" y=\"-449.3\" font-family=\"Times,serif\" font-size=\"14.00\">1</text>\n",
       "</g>\n",
       "<!-- Agd&#45;&gt;Agdd -->\n",
       "<g id=\"edge16\" class=\"edge\"><title>Agd&#45;&gt;Agdd</title>\n",
       "<path fill=\"none\" stroke=\"black\" d=\"M499.214,-521.799C500.036,-510.163 501.138,-494.548 502.077,-481.237\"/>\n",
       "<polygon fill=\"black\" stroke=\"black\" points=\"505.575,-481.397 502.788,-471.175 498.592,-480.904 505.575,-481.397\"/>\n",
       "<text text-anchor=\"middle\" x=\"568\" y=\"-492.8\" font-family=\"Times,serif\" font-size=\"14.00\">&gt;&#45;1.2990447702687677</text>\n",
       "</g>\n",
       "<!-- Agddg -->\n",
       "<g id=\"node7\" class=\"node\"><title>Agddg</title>\n",
       "<ellipse fill=\"none\" stroke=\"black\" cx=\"346\" cy=\"-366\" rx=\"27\" ry=\"18\"/>\n",
       "<text text-anchor=\"middle\" x=\"346\" y=\"-362.3\" font-family=\"Times,serif\" font-size=\"14.00\">0</text>\n",
       "</g>\n",
       "<!-- Agdd&#45;&gt;Agddg -->\n",
       "<g id=\"edge13\" class=\"edge\"><title>Agdd&#45;&gt;Agddg</title>\n",
       "<path fill=\"none\" stroke=\"black\" d=\"M476.814,-452.278C446.037,-451.142 396.14,-444.709 365,-417 358.219,-410.966 353.846,-402.25 351.031,-393.78\"/>\n",
       "<polygon fill=\"black\" stroke=\"black\" points=\"354.405,-392.848 348.391,-384.125 347.653,-394.694 354.405,-392.848\"/>\n",
       "<text text-anchor=\"middle\" x=\"433\" y=\"-405.8\" font-family=\"Times,serif\" font-size=\"14.00\">&lt;=1.0083703201227183</text>\n",
       "</g>\n",
       "<!-- Agddd -->\n",
       "<g id=\"node18\" class=\"node\"><title>Agddd</title>\n",
       "<ellipse fill=\"none\" stroke=\"black\" cx=\"505\" cy=\"-366\" rx=\"27\" ry=\"18\"/>\n",
       "<text text-anchor=\"middle\" x=\"505\" y=\"-362.3\" font-family=\"Times,serif\" font-size=\"14.00\">0</text>\n",
       "</g>\n",
       "<!-- Agdd&#45;&gt;Agddd -->\n",
       "<g id=\"edge14\" class=\"edge\"><title>Agdd&#45;&gt;Agddd</title>\n",
       "<path fill=\"none\" stroke=\"black\" d=\"M504.202,-434.799C504.339,-423.163 504.523,-407.548 504.68,-394.237\"/>\n",
       "<polygon fill=\"black\" stroke=\"black\" points=\"508.18,-394.216 504.798,-384.175 501.18,-394.134 508.18,-394.216\"/>\n",
       "<text text-anchor=\"middle\" x=\"568.5\" y=\"-405.8\" font-family=\"Times,serif\" font-size=\"14.00\">&gt;1.0083703201227183</text>\n",
       "</g>\n",
       "<!-- Agddgg -->\n",
       "<g id=\"node8\" class=\"node\"><title>Agddgg</title>\n",
       "<polygon fill=\"none\" stroke=\"black\" points=\"211,-297 157,-297 157,-261 211,-261 211,-297\"/>\n",
       "<text text-anchor=\"middle\" x=\"184\" y=\"-275.3\" font-family=\"Times,serif\" font-size=\"14.00\">&#45;1</text>\n",
       "</g>\n",
       "<!-- Agddg&#45;&gt;Agddgg -->\n",
       "<g id=\"edge9\" class=\"edge\"><title>Agddg&#45;&gt;Agddgg</title>\n",
       "<path fill=\"none\" stroke=\"black\" d=\"M318.892,-365.532C287.318,-364.697 235.365,-358.607 203,-330 196.199,-323.988 191.821,-315.278 189.008,-306.806\"/>\n",
       "<polygon fill=\"black\" stroke=\"black\" points=\"192.381,-305.872 186.373,-297.146 185.628,-307.715 192.381,-305.872\"/>\n",
       "<text text-anchor=\"middle\" x=\"273\" y=\"-318.8\" font-family=\"Times,serif\" font-size=\"14.00\">&lt;=&#45;0.9597061770128925</text>\n",
       "</g>\n",
       "<!-- Agddgd -->\n",
       "<g id=\"node9\" class=\"node\"><title>Agddgd</title>\n",
       "<ellipse fill=\"none\" stroke=\"black\" cx=\"347\" cy=\"-279\" rx=\"27\" ry=\"18\"/>\n",
       "<text text-anchor=\"middle\" x=\"347\" y=\"-275.3\" font-family=\"Times,serif\" font-size=\"14.00\">1</text>\n",
       "</g>\n",
       "<!-- Agddg&#45;&gt;Agddgd -->\n",
       "<g id=\"edge10\" class=\"edge\"><title>Agddg&#45;&gt;Agddgd</title>\n",
       "<path fill=\"none\" stroke=\"black\" d=\"M346.202,-347.799C346.339,-336.163 346.523,-320.548 346.68,-307.237\"/>\n",
       "<polygon fill=\"black\" stroke=\"black\" points=\"350.18,-307.216 346.798,-297.175 343.18,-307.134 350.18,-307.216\"/>\n",
       "<text text-anchor=\"middle\" x=\"413\" y=\"-318.8\" font-family=\"Times,serif\" font-size=\"14.00\">&gt;&#45;0.9597061770128925</text>\n",
       "</g>\n",
       "<!-- Agddgdg -->\n",
       "<g id=\"node10\" class=\"node\"><title>Agddgdg</title>\n",
       "<ellipse fill=\"none\" stroke=\"black\" cx=\"271\" cy=\"-192\" rx=\"27\" ry=\"18\"/>\n",
       "<text text-anchor=\"middle\" x=\"271\" y=\"-188.3\" font-family=\"Times,serif\" font-size=\"14.00\">0</text>\n",
       "</g>\n",
       "<!-- Agddgd&#45;&gt;Agddgdg -->\n",
       "<g id=\"edge7\" class=\"edge\"><title>Agddgd&#45;&gt;Agddgdg</title>\n",
       "<path fill=\"none\" stroke=\"black\" d=\"M321.15,-273.239C304.071,-268.618 282.897,-259.738 272,-243 267.652,-236.322 266.294,-228.005 266.34,-220.084\"/>\n",
       "<polygon fill=\"black\" stroke=\"black\" points=\"269.833,-220.298 267.076,-210.068 262.852,-219.785 269.833,-220.298\"/>\n",
       "<text text-anchor=\"middle\" x=\"336.5\" y=\"-231.8\" font-family=\"Times,serif\" font-size=\"14.00\">&lt;=0.950927317851609</text>\n",
       "</g>\n",
       "<!-- Agddgdd -->\n",
       "<g id=\"node17\" class=\"node\"><title>Agddgdd</title>\n",
       "<polygon fill=\"none\" stroke=\"black\" points=\"450,-210 396,-210 396,-174 450,-174 450,-210\"/>\n",
       "<text text-anchor=\"middle\" x=\"423\" y=\"-188.3\" font-family=\"Times,serif\" font-size=\"14.00\">&#45;1</text>\n",
       "</g>\n",
       "<!-- Agddgd&#45;&gt;Agddgdd -->\n",
       "<g id=\"edge8\" class=\"edge\"><title>Agddgd&#45;&gt;Agddgdd</title>\n",
       "<path fill=\"none\" stroke=\"black\" d=\"M368.37,-267.949C379.28,-261.953 392.094,-253.465 401,-243 406.768,-236.222 411.264,-227.695 414.645,-219.611\"/>\n",
       "<polygon fill=\"black\" stroke=\"black\" points=\"417.971,-220.71 418.226,-210.118 411.421,-218.239 417.971,-220.71\"/>\n",
       "<text text-anchor=\"middle\" x=\"471.5\" y=\"-231.8\" font-family=\"Times,serif\" font-size=\"14.00\">&gt;0.950927317851609</text>\n",
       "</g>\n",
       "<!-- Agddgdgg -->\n",
       "<g id=\"node11\" class=\"node\"><title>Agddgdgg</title>\n",
       "<ellipse fill=\"none\" stroke=\"black\" cx=\"186\" cy=\"-105\" rx=\"27\" ry=\"18\"/>\n",
       "<text text-anchor=\"middle\" x=\"186\" y=\"-101.3\" font-family=\"Times,serif\" font-size=\"14.00\">0</text>\n",
       "</g>\n",
       "<!-- Agddgdg&#45;&gt;Agddgdgg -->\n",
       "<g id=\"edge5\" class=\"edge\"><title>Agddgdg&#45;&gt;Agddgdgg</title>\n",
       "<path fill=\"none\" stroke=\"black\" d=\"M244.592,-187.644C225.133,-183.647 199.897,-174.933 187,-156 182.514,-149.414 181.116,-141.124 181.168,-133.198\"/>\n",
       "<polygon fill=\"black\" stroke=\"black\" points=\"184.663,-133.399 181.935,-123.162 177.683,-132.866 184.663,-133.399\"/>\n",
       "<text text-anchor=\"middle\" x=\"260.5\" y=\"-144.8\" font-family=\"Times,serif\" font-size=\"14.00\">&lt;=&#45;0.14036559235605228</text>\n",
       "</g>\n",
       "<!-- Agddgdgd -->\n",
       "<g id=\"node14\" class=\"node\"><title>Agddgdgd</title>\n",
       "<ellipse fill=\"none\" stroke=\"black\" cx=\"356\" cy=\"-105\" rx=\"27\" ry=\"18\"/>\n",
       "<text text-anchor=\"middle\" x=\"356\" y=\"-101.3\" font-family=\"Times,serif\" font-size=\"14.00\">0</text>\n",
       "</g>\n",
       "<!-- Agddgdg&#45;&gt;Agddgdgd -->\n",
       "<g id=\"edge6\" class=\"edge\"><title>Agddgdg&#45;&gt;Agddgdgd</title>\n",
       "<path fill=\"none\" stroke=\"black\" d=\"M294.103,-182.513C307.215,-176.723 323.127,-167.929 334,-156 340.086,-149.323 344.689,-140.691 348.07,-132.484\"/>\n",
       "<polygon fill=\"black\" stroke=\"black\" points=\"351.448,-133.438 351.605,-122.844 344.876,-131.028 351.448,-133.438\"/>\n",
       "<text text-anchor=\"middle\" x=\"413.5\" y=\"-144.8\" font-family=\"Times,serif\" font-size=\"14.00\">&gt;&#45;0.14036559235605228</text>\n",
       "</g>\n",
       "<!-- Agddgdggg -->\n",
       "<g id=\"node12\" class=\"node\"><title>Agddgdggg</title>\n",
       "<polygon fill=\"none\" stroke=\"black\" points=\"54,-36 0,-36 0,-0 54,-0 54,-36\"/>\n",
       "<text text-anchor=\"middle\" x=\"27\" y=\"-14.3\" font-family=\"Times,serif\" font-size=\"14.00\">1</text>\n",
       "</g>\n",
       "<!-- Agddgdgg&#45;&gt;Agddgdggg -->\n",
       "<g id=\"edge1\" class=\"edge\"><title>Agddgdgg&#45;&gt;Agddgdggg</title>\n",
       "<path fill=\"none\" stroke=\"black\" d=\"M158.902,-104.672C127.376,-103.97 75.6194,-98.0085 44,-69 37.4677,-63.0071 33.4447,-54.4087 30.9674,-46.0279\"/>\n",
       "<polygon fill=\"black\" stroke=\"black\" points=\"34.3317,-45.0436 28.6474,-36.1027 27.5155,-46.6369 34.3317,-45.0436\"/>\n",
       "<text text-anchor=\"middle\" x=\"114\" y=\"-57.8\" font-family=\"Times,serif\" font-size=\"14.00\">&lt;=&#45;0.8699734694455897</text>\n",
       "</g>\n",
       "<!-- Agddgdggd -->\n",
       "<g id=\"node13\" class=\"node\"><title>Agddgdggd</title>\n",
       "<polygon fill=\"none\" stroke=\"black\" points=\"217,-36 163,-36 163,-0 217,-0 217,-36\"/>\n",
       "<text text-anchor=\"middle\" x=\"190\" y=\"-14.3\" font-family=\"Times,serif\" font-size=\"14.00\">1</text>\n",
       "</g>\n",
       "<!-- Agddgdgg&#45;&gt;Agddgdggd -->\n",
       "<g id=\"edge2\" class=\"edge\"><title>Agddgdgg&#45;&gt;Agddgdggd</title>\n",
       "<path fill=\"none\" stroke=\"black\" d=\"M186.809,-86.799C187.357,-75.1626 188.092,-59.5479 188.718,-46.2368\"/>\n",
       "<polygon fill=\"black\" stroke=\"black\" points=\"192.218,-46.3289 189.192,-36.1754 185.225,-45.9998 192.218,-46.3289\"/>\n",
       "<text text-anchor=\"middle\" x=\"255\" y=\"-57.8\" font-family=\"Times,serif\" font-size=\"14.00\">&gt;&#45;0.8699734694455897</text>\n",
       "</g>\n",
       "<!-- Agddgdgdg -->\n",
       "<g id=\"node15\" class=\"node\"><title>Agddgdgdg</title>\n",
       "<polygon fill=\"none\" stroke=\"black\" points=\"376,-36 322,-36 322,-0 376,-0 376,-36\"/>\n",
       "<text text-anchor=\"middle\" x=\"349\" y=\"-14.3\" font-family=\"Times,serif\" font-size=\"14.00\">&#45;1</text>\n",
       "</g>\n",
       "<!-- Agddgdgd&#45;&gt;Agddgdgdg -->\n",
       "<g id=\"edge3\" class=\"edge\"><title>Agddgdgd&#45;&gt;Agddgdgdg</title>\n",
       "<path fill=\"none\" stroke=\"black\" d=\"M352.556,-86.9787C351.545,-81.2866 350.561,-74.8918 350,-69 349.304,-61.683 348.958,-53.7375 348.808,-46.3794\"/>\n",
       "<polygon fill=\"black\" stroke=\"black\" points=\"352.306,-46.1266 348.71,-36.1608 345.307,-46.1941 352.306,-46.1266\"/>\n",
       "<text text-anchor=\"middle\" x=\"427\" y=\"-57.8\" font-family=\"Times,serif\" font-size=\"14.00\">&lt;=&#45;0.013357055107636018</text>\n",
       "</g>\n",
       "<!-- Agddgdgdd -->\n",
       "<g id=\"node16\" class=\"node\"><title>Agddgdgdd</title>\n",
       "<polygon fill=\"none\" stroke=\"black\" points=\"553,-36 499,-36 499,-0 553,-0 553,-36\"/>\n",
       "<text text-anchor=\"middle\" x=\"526\" y=\"-14.3\" font-family=\"Times,serif\" font-size=\"14.00\">1</text>\n",
       "</g>\n",
       "<!-- Agddgdgd&#45;&gt;Agddgdgdd -->\n",
       "<g id=\"edge4\" class=\"edge\"><title>Agddgdgd&#45;&gt;Agddgdgdd</title>\n",
       "<path fill=\"none\" stroke=\"black\" d=\"M383.206,-104.527C415.558,-103.729 469.504,-97.7182 504,-69 511.125,-63.0687 516.016,-54.3771 519.341,-45.8978\"/>\n",
       "<polygon fill=\"black\" stroke=\"black\" points=\"522.725,-46.8132 522.564,-36.2196 516.083,-44.6013 522.725,-46.8132\"/>\n",
       "<text text-anchor=\"middle\" x=\"587.5\" y=\"-57.8\" font-family=\"Times,serif\" font-size=\"14.00\">&gt;&#45;0.013357055107636018</text>\n",
       "</g>\n",
       "<!-- Agdddg -->\n",
       "<g id=\"node19\" class=\"node\"><title>Agdddg</title>\n",
       "<polygon fill=\"none\" stroke=\"black\" points=\"529,-297 475,-297 475,-261 529,-261 529,-297\"/>\n",
       "<text text-anchor=\"middle\" x=\"502\" y=\"-275.3\" font-family=\"Times,serif\" font-size=\"14.00\">1</text>\n",
       "</g>\n",
       "<!-- Agddd&#45;&gt;Agdddg -->\n",
       "<g id=\"edge11\" class=\"edge\"><title>Agddd&#45;&gt;Agdddg</title>\n",
       "<path fill=\"none\" stroke=\"black\" d=\"M503.897,-347.916C503.563,-342.22 503.225,-335.839 503,-330 502.717,-322.655 502.512,-314.701 502.364,-307.342\"/>\n",
       "<polygon fill=\"black\" stroke=\"black\" points=\"505.859,-307.066 502.186,-297.129 498.861,-307.189 505.859,-307.066\"/>\n",
       "<text text-anchor=\"middle\" x=\"573\" y=\"-318.8\" font-family=\"Times,serif\" font-size=\"14.00\">&lt;=&#45;0.9749600117066137</text>\n",
       "</g>\n",
       "<!-- Agdddd -->\n",
       "<g id=\"node20\" class=\"node\"><title>Agdddd</title>\n",
       "<polygon fill=\"none\" stroke=\"black\" points=\"692,-297 638,-297 638,-261 692,-261 692,-297\"/>\n",
       "<text text-anchor=\"middle\" x=\"665\" y=\"-275.3\" font-family=\"Times,serif\" font-size=\"14.00\">1</text>\n",
       "</g>\n",
       "<!-- Agddd&#45;&gt;Agdddd -->\n",
       "<g id=\"edge12\" class=\"edge\"><title>Agddd&#45;&gt;Agdddd</title>\n",
       "<path fill=\"none\" stroke=\"black\" d=\"M532.016,-364.919C562.366,-363.435 611.492,-356.665 643,-330 650.076,-324.011 654.956,-315.306 658.285,-306.832\"/>\n",
       "<polygon fill=\"black\" stroke=\"black\" points=\"661.665,-307.761 661.52,-297.167 655.027,-305.539 661.665,-307.761\"/>\n",
       "<text text-anchor=\"middle\" x=\"720\" y=\"-318.8\" font-family=\"Times,serif\" font-size=\"14.00\">&gt;&#45;0.9749600117066137</text>\n",
       "</g>\n",
       "<!-- Adg -->\n",
       "<g id=\"node22\" class=\"node\"><title>Adg</title>\n",
       "<ellipse fill=\"none\" stroke=\"black\" cx=\"666\" cy=\"-540\" rx=\"27\" ry=\"18\"/>\n",
       "<text text-anchor=\"middle\" x=\"666\" y=\"-536.3\" font-family=\"Times,serif\" font-size=\"14.00\">0</text>\n",
       "</g>\n",
       "<!-- Ad&#45;&gt;Adg -->\n",
       "<g id=\"edge29\" class=\"edge\"><title>Ad&#45;&gt;Adg</title>\n",
       "<path fill=\"none\" stroke=\"black\" d=\"M666,-608.799C666,-597.163 666,-581.548 666,-568.237\"/>\n",
       "<polygon fill=\"black\" stroke=\"black\" points=\"669.5,-568.175 666,-558.175 662.5,-568.175 669.5,-568.175\"/>\n",
       "<text text-anchor=\"middle\" x=\"736\" y=\"-579.8\" font-family=\"Times,serif\" font-size=\"14.00\">&lt;=&#45;0.6144867173295451</text>\n",
       "</g>\n",
       "<!-- Add -->\n",
       "<g id=\"node33\" class=\"node\"><title>Add</title>\n",
       "<polygon fill=\"none\" stroke=\"black\" points=\"856,-558 802,-558 802,-522 856,-522 856,-558\"/>\n",
       "<text text-anchor=\"middle\" x=\"829\" y=\"-536.3\" font-family=\"Times,serif\" font-size=\"14.00\">1</text>\n",
       "</g>\n",
       "<!-- Ad&#45;&gt;Add -->\n",
       "<g id=\"edge30\" class=\"edge\"><title>Ad&#45;&gt;Add</title>\n",
       "<path fill=\"none\" stroke=\"black\" d=\"M693.038,-626.111C723.992,-624.836 774.586,-618.291 807,-591 814.092,-585.029 818.975,-576.328 822.303,-567.853\"/>\n",
       "<polygon fill=\"black\" stroke=\"black\" points=\"825.684,-568.777 825.534,-558.183 819.045,-566.559 825.684,-568.777\"/>\n",
       "<text text-anchor=\"middle\" x=\"883\" y=\"-579.8\" font-family=\"Times,serif\" font-size=\"14.00\">&gt;&#45;0.6144867173295451</text>\n",
       "</g>\n",
       "<!-- Adgg -->\n",
       "<g id=\"node23\" class=\"node\"><title>Adgg</title>\n",
       "<polygon fill=\"none\" stroke=\"black\" points=\"693,-471 639,-471 639,-435 693,-435 693,-471\"/>\n",
       "<text text-anchor=\"middle\" x=\"666\" y=\"-449.3\" font-family=\"Times,serif\" font-size=\"14.00\">&#45;1</text>\n",
       "</g>\n",
       "<!-- Adg&#45;&gt;Adgg -->\n",
       "<g id=\"edge27\" class=\"edge\"><title>Adg&#45;&gt;Adgg</title>\n",
       "<path fill=\"none\" stroke=\"black\" d=\"M666,-521.799C666,-510.163 666,-494.548 666,-481.237\"/>\n",
       "<polygon fill=\"black\" stroke=\"black\" points=\"669.5,-481.175 666,-471.175 662.5,-481.175 669.5,-481.175\"/>\n",
       "<text text-anchor=\"middle\" x=\"734\" y=\"-492.8\" font-family=\"Times,serif\" font-size=\"14.00\">&lt;=0.6115515109822385</text>\n",
       "</g>\n",
       "<!-- Adgd -->\n",
       "<g id=\"node24\" class=\"node\"><title>Adgd</title>\n",
       "<ellipse fill=\"none\" stroke=\"black\" cx=\"825\" cy=\"-453\" rx=\"27\" ry=\"18\"/>\n",
       "<text text-anchor=\"middle\" x=\"825\" y=\"-449.3\" font-family=\"Times,serif\" font-size=\"14.00\">1</text>\n",
       "</g>\n",
       "<!-- Adg&#45;&gt;Adgd -->\n",
       "<g id=\"edge28\" class=\"edge\"><title>Adg&#45;&gt;Adgd</title>\n",
       "<path fill=\"none\" stroke=\"black\" d=\"M693.095,-538.849C723.248,-537.287 771.823,-530.432 803,-504 810.071,-498.005 814.95,-489.299 818.279,-480.825\"/>\n",
       "<polygon fill=\"black\" stroke=\"black\" points=\"821.659,-481.755 821.515,-471.161 815.021,-479.533 821.659,-481.755\"/>\n",
       "<text text-anchor=\"middle\" x=\"876.5\" y=\"-492.8\" font-family=\"Times,serif\" font-size=\"14.00\">&gt;0.6115515109822385</text>\n",
       "</g>\n",
       "<!-- Adgdg -->\n",
       "<g id=\"node25\" class=\"node\"><title>Adgdg</title>\n",
       "<ellipse fill=\"none\" stroke=\"black\" cx=\"822\" cy=\"-366\" rx=\"27\" ry=\"18\"/>\n",
       "<text text-anchor=\"middle\" x=\"822\" y=\"-362.3\" font-family=\"Times,serif\" font-size=\"14.00\">1</text>\n",
       "</g>\n",
       "<!-- Adgd&#45;&gt;Adgdg -->\n",
       "<g id=\"edge25\" class=\"edge\"><title>Adgd&#45;&gt;Adgdg</title>\n",
       "<path fill=\"none\" stroke=\"black\" d=\"M823.897,-434.916C823.563,-429.22 823.225,-422.839 823,-417 822.717,-409.655 822.512,-401.701 822.364,-394.342\"/>\n",
       "<polygon fill=\"black\" stroke=\"black\" points=\"825.859,-394.066 822.186,-384.129 818.861,-394.189 825.859,-394.066\"/>\n",
       "<text text-anchor=\"middle\" x=\"893\" y=\"-405.8\" font-family=\"Times,serif\" font-size=\"14.00\">&lt;=&#45;0.6626169030989871</text>\n",
       "</g>\n",
       "<!-- Adgdd -->\n",
       "<g id=\"node32\" class=\"node\"><title>Adgdd</title>\n",
       "<polygon fill=\"none\" stroke=\"black\" points=\"1012,-384 958,-384 958,-348 1012,-348 1012,-384\"/>\n",
       "<text text-anchor=\"middle\" x=\"985\" y=\"-362.3\" font-family=\"Times,serif\" font-size=\"14.00\">&#45;1</text>\n",
       "</g>\n",
       "<!-- Adgd&#45;&gt;Adgdd -->\n",
       "<g id=\"edge26\" class=\"edge\"><title>Adgd&#45;&gt;Adgdd</title>\n",
       "<path fill=\"none\" stroke=\"black\" d=\"M852.016,-451.919C882.366,-450.435 931.492,-443.665 963,-417 970.076,-411.011 974.956,-402.306 978.285,-393.832\"/>\n",
       "<polygon fill=\"black\" stroke=\"black\" points=\"981.665,-394.761 981.52,-384.167 975.027,-392.539 981.665,-394.761\"/>\n",
       "<text text-anchor=\"middle\" x=\"1039\" y=\"-405.8\" font-family=\"Times,serif\" font-size=\"14.00\">&gt;&#45;0.6626169030989871</text>\n",
       "</g>\n",
       "<!-- Adgdgg -->\n",
       "<g id=\"node26\" class=\"node\"><title>Adgdgg</title>\n",
       "<ellipse fill=\"none\" stroke=\"black\" cx=\"820\" cy=\"-279\" rx=\"27\" ry=\"18\"/>\n",
       "<text text-anchor=\"middle\" x=\"820\" y=\"-275.3\" font-family=\"Times,serif\" font-size=\"14.00\">0</text>\n",
       "</g>\n",
       "<!-- Adgdg&#45;&gt;Adgdgg -->\n",
       "<g id=\"edge23\" class=\"edge\"><title>Adgdg&#45;&gt;Adgdgg</title>\n",
       "<path fill=\"none\" stroke=\"black\" d=\"M821.482,-347.911C821.318,-342.214 821.142,-335.834 821,-330 820.822,-322.652 820.652,-314.696 820.504,-307.338\"/>\n",
       "<polygon fill=\"black\" stroke=\"black\" points=\"824,-307.055 820.306,-297.125 817.001,-307.191 824,-307.055\"/>\n",
       "<text text-anchor=\"middle\" x=\"887.5\" y=\"-318.8\" font-family=\"Times,serif\" font-size=\"14.00\">&lt;=&#45;1.349728485806005</text>\n",
       "</g>\n",
       "<!-- Adgdgd -->\n",
       "<g id=\"node29\" class=\"node\"><title>Adgdgd</title>\n",
       "<ellipse fill=\"none\" stroke=\"black\" cx=\"976\" cy=\"-279\" rx=\"27\" ry=\"18\"/>\n",
       "<text text-anchor=\"middle\" x=\"976\" y=\"-275.3\" font-family=\"Times,serif\" font-size=\"14.00\">0</text>\n",
       "</g>\n",
       "<!-- Adgdg&#45;&gt;Adgdgd -->\n",
       "<g id=\"edge24\" class=\"edge\"><title>Adgdg&#45;&gt;Adgdgd</title>\n",
       "<path fill=\"none\" stroke=\"black\" d=\"M848.912,-364.517C878.033,-362.62 924.276,-355.432 954,-330 961.044,-323.973 965.916,-315.259 969.248,-306.788\"/>\n",
       "<polygon fill=\"black\" stroke=\"black\" points=\"972.625,-307.726 972.49,-297.132 965.989,-305.498 972.625,-307.726\"/>\n",
       "<text text-anchor=\"middle\" x=\"1026.5\" y=\"-318.8\" font-family=\"Times,serif\" font-size=\"14.00\">&gt;&#45;1.349728485806005</text>\n",
       "</g>\n",
       "<!-- Adgdggg -->\n",
       "<g id=\"node27\" class=\"node\"><title>Adgdggg</title>\n",
       "<polygon fill=\"none\" stroke=\"black\" points=\"690,-210 636,-210 636,-174 690,-174 690,-210\"/>\n",
       "<text text-anchor=\"middle\" x=\"663\" y=\"-188.3\" font-family=\"Times,serif\" font-size=\"14.00\">1</text>\n",
       "</g>\n",
       "<!-- Adgdgg&#45;&gt;Adgdggg -->\n",
       "<g id=\"edge19\" class=\"edge\"><title>Adgdgg&#45;&gt;Adgdggg</title>\n",
       "<path fill=\"none\" stroke=\"black\" d=\"M793,-278.549C761.885,-277.707 711.06,-271.59 680,-243 673.478,-236.996 669.457,-228.395 666.979,-220.015\"/>\n",
       "<polygon fill=\"black\" stroke=\"black\" points=\"670.343,-219.032 664.657,-210.093 663.528,-220.627 670.343,-219.032\"/>\n",
       "<text text-anchor=\"middle\" x=\"748\" y=\"-231.8\" font-family=\"Times,serif\" font-size=\"14.00\">&lt;=1.0259060871216836</text>\n",
       "</g>\n",
       "<!-- Adgdggd -->\n",
       "<g id=\"node28\" class=\"node\"><title>Adgdggd</title>\n",
       "<polygon fill=\"none\" stroke=\"black\" points=\"849,-210 795,-210 795,-174 849,-174 849,-210\"/>\n",
       "<text text-anchor=\"middle\" x=\"822\" y=\"-188.3\" font-family=\"Times,serif\" font-size=\"14.00\">&#45;1</text>\n",
       "</g>\n",
       "<!-- Adgdgg&#45;&gt;Adgdggd -->\n",
       "<g id=\"edge20\" class=\"edge\"><title>Adgdgg&#45;&gt;Adgdggd</title>\n",
       "<path fill=\"none\" stroke=\"black\" d=\"M820.405,-260.799C820.679,-249.163 821.046,-233.548 821.359,-220.237\"/>\n",
       "<polygon fill=\"black\" stroke=\"black\" points=\"824.86,-220.255 821.596,-210.175 817.862,-220.09 824.86,-220.255\"/>\n",
       "<text text-anchor=\"middle\" x=\"884.5\" y=\"-231.8\" font-family=\"Times,serif\" font-size=\"14.00\">&gt;1.0259060871216836</text>\n",
       "</g>\n",
       "<!-- Adgdgdg -->\n",
       "<g id=\"node30\" class=\"node\"><title>Adgdgdg</title>\n",
       "<polygon fill=\"none\" stroke=\"black\" points=\"1000,-210 946,-210 946,-174 1000,-174 1000,-210\"/>\n",
       "<text text-anchor=\"middle\" x=\"973\" y=\"-188.3\" font-family=\"Times,serif\" font-size=\"14.00\">1</text>\n",
       "</g>\n",
       "<!-- Adgdgd&#45;&gt;Adgdgdg -->\n",
       "<g id=\"edge21\" class=\"edge\"><title>Adgdgd&#45;&gt;Adgdgdg</title>\n",
       "<path fill=\"none\" stroke=\"black\" d=\"M974.897,-260.916C974.563,-255.22 974.225,-248.839 974,-243 973.717,-235.655 973.512,-227.701 973.364,-220.342\"/>\n",
       "<polygon fill=\"black\" stroke=\"black\" points=\"976.859,-220.066 973.186,-210.129 969.861,-220.189 976.859,-220.066\"/>\n",
       "<text text-anchor=\"middle\" x=\"1042\" y=\"-231.8\" font-family=\"Times,serif\" font-size=\"14.00\">&lt;=0.6887094493500767</text>\n",
       "</g>\n",
       "<!-- Adgdgdd -->\n",
       "<g id=\"node31\" class=\"node\"><title>Adgdgdd</title>\n",
       "<polygon fill=\"none\" stroke=\"black\" points=\"1159,-210 1105,-210 1105,-174 1159,-174 1159,-210\"/>\n",
       "<text text-anchor=\"middle\" x=\"1132\" y=\"-188.3\" font-family=\"Times,serif\" font-size=\"14.00\">1</text>\n",
       "</g>\n",
       "<!-- Adgdgd&#45;&gt;Adgdgdd -->\n",
       "<g id=\"edge22\" class=\"edge\"><title>Adgdgd&#45;&gt;Adgdgdd</title>\n",
       "<path fill=\"none\" stroke=\"black\" d=\"M1003.04,-277.649C1032.58,-275.88 1079.72,-268.814 1110,-243 1117.06,-236.986 1121.93,-228.275 1125.26,-219.803\"/>\n",
       "<polygon fill=\"black\" stroke=\"black\" points=\"1128.64,-220.738 1128.5,-210.144 1122,-218.512 1128.64,-220.738\"/>\n",
       "<text text-anchor=\"middle\" x=\"1183.5\" y=\"-231.8\" font-family=\"Times,serif\" font-size=\"14.00\">&gt;0.6887094493500767</text>\n",
       "</g>\n",
       "</g>\n",
       "</svg>\n"
      ],
      "text/plain": [
       "<graphviz.dot.Digraph at 0x7f35411ccc88>"
      ]
     },
     "execution_count": 45,
     "metadata": {},
     "output_type": "execute_result"
    }
   ],
   "source": [
    "adautre.plot()"
   ]
  },
  {
   "cell_type": "code",
   "execution_count": 37,
   "metadata": {},
   "outputs": [
    {
     "name": "stdout",
     "output_type": "stream",
     "text": [
      "(5.5, 0.34748535698025806)\n",
      "(3.0, 0.5404249991038266)\n",
      "entropie inférieur: 0.7286561673702685  / entropie supérieur: 0.20905980566852655\n",
      "2\n"
     ]
    },
    {
     "data": {
      "image/png": "[encoded data removed]",
      "text/plain": [
       "<Figure size 432x288 with 1 Axes>"
      ]
     },
     "metadata": {
      "needs_background": "light"
     },
     "output_type": "display_data"
    }
   ],
   "source": [
    "data = pd.read_csv(\"data-01/data.csv\", parse_dates=[-1])\n",
    "donnees = ls.LabeledSet(2)\n",
    "for index, row in data.iterrows() :\n",
    "\n",
    "    if row[\"variete\"] == \"Iris-setosa\" :\n",
    "        donnees.addExample([row[\"sepal_length\"],row[\"sepal_width\"]] ,+1 )\n",
    "    else : \n",
    "        donnees.addExample([row[\"sepal_length\"],row[\"sepal_width\"]] ,-1 )\n",
    "    \n",
    "S= donnees.x[np.where(donnees.y == 1),:]\n",
    "S[0]\n",
    "plot2DSet(donnees)\n",
    "print(discretise(donnees,0))\n",
    "print(discretise(donnees,1))\n",
    "\n",
    "inf, sup = divise(donnees,0,5.5)\n",
    "print(\"entropie inférieur:\",entropie(inf),\" / entropie supérieur:\", entropie(sup))\n",
    "\n",
    "print(donnees.input_dimension)\n",
    "\n",
    "#test de l'affichage \n",
    "bina = construit_AD(donnees,0.209)\n",
    "tree = gv.Digraph(format='png')\n",
    "bina.to_graph(tree)\n",
    "\n",
    "#Sans split\n",
    "ad2=ArbreDecision(0.209)          # initialiation d'un arbre binaire qui utilisera epsilon= 0.0\n",
    "ad2.train(donnees)              # construction de l'arbre à partir de la base jouet\n",
    "plot_frontiere(donnees,ad2,20)  # tracé graphique de la frontière de décision\n",
    "plot2DSet(donnees) \n",
    "\n",
    "\n"
   ]
  },
  {
   "cell_type": "code",
   "execution_count": 38,
   "metadata": {},
   "outputs": [
    {
     "name": "stdout",
     "output_type": "stream",
     "text": [
      "(5.8, 0.16632087100949852)\n",
      "(3.4, 0.7617461873554409)\n",
      "2\n",
      "entropie inférieur: 0.4912373418243321  / entropie supérieur: 8.008566259537293e-16\n"
     ]
    },
    {
     "data": {
      "image/png": "[encoded data removed]",
      "text/plain": [
       "<Figure size 432x288 with 1 Axes>"
      ]
     },
     "metadata": {
      "needs_background": "light"
     },
     "output_type": "display_data"
    }
   ],
   "source": [
    "#Avec split des donnees (il faut qu'on teste sur des ensembles de meme taille donc on enlève une variete de fleurs, par exemple Iris-versicolor)\n",
    "d = ls.LabeledSet(2)\n",
    "for index, row in data.iterrows() :\n",
    "\n",
    "    if row[\"variete\"] == \"Iris-setosa\" :\n",
    "        d.addExample([row[\"sepal_length\"],row[\"sepal_width\"]] ,+1 )\n",
    "    if row[\"variete\"] == \"Iris-virginica\" : \n",
    "        d.addExample([row[\"sepal_length\"],row[\"sepal_width\"]] ,-1 )\n",
    "        \n",
    "train, test = split(d)\n",
    "\n",
    "\n",
    "S= d.x[np.where(donnees.y == 1),:]\n",
    "S[0]\n",
    "\n",
    "print(discretise(d,0))\n",
    "print(discretise(d,1))\n",
    "\n",
    "\n",
    "\n",
    "print(d.input_dimension)\n",
    "\n",
    "inf, sup = divise(d,0,5.8)\n",
    "print(\"entropie inférieur:\",entropie(inf),\" / entropie supérieur:\", entropie(sup))\n",
    "\n",
    "\n",
    "#test de l'affichage \n",
    "bina = construit_AD(d,0.491)\n",
    "tree = gv.Digraph(format='png')\n",
    "bina.to_graph(tree)\n",
    "\n",
    "\n",
    "ad3=ArbreDecision(0.491)          # initialiation d'un arbre binaire qui utilisera epsilon= 0.0\n",
    "ad3.train(train)              # construction de l'arbre à partir de la base jouet\n",
    "plot_frontiere(test,ad3,20)  # tracé graphique de la frontière de décision\n",
    "plot2DSet(test) \n",
    "\n"
   ]
  },
  {
   "cell_type": "code",
   "execution_count": 46,
   "metadata": {},
   "outputs": [
    {
     "name": "stderr",
     "output_type": "stream",
     "text": [
      "No handles with labels found to put in legend.\n"
     ]
    },
    {
     "data": {
      "image/png": "[encoded data removed]",
      "text/plain": [
       "<Figure size 432x288 with 1 Axes>"
      ]
     },
     "metadata": {
      "needs_background": "light"
     },
     "output_type": "display_data"
    },
    {
     "data": {
      "image/png": "[encoded data removed]",
      "text/plain": [
       "<Figure size 432x288 with 1 Axes>"
      ]
     },
     "metadata": {
      "needs_background": "light"
     },
     "output_type": "display_data"
    }
   ],
   "source": [
    "super_entrainement(100,d, ad3)"
   ]
  },
  {
   "cell_type": "code",
   "execution_count": 47,
   "metadata": {},
   "outputs": [
    {
     "name": "stderr",
     "output_type": "stream",
     "text": [
      "No handles with labels found to put in legend.\n"
     ]
    },
    {
     "data": {
      "image/png": "[encoded data removed]",
      "text/plain": [
       "<Figure size 432x288 with 1 Axes>"
      ]
     },
     "metadata": {
      "needs_background": "light"
     },
     "output_type": "display_data"
    },
    {
     "data": {
      "image/png": "[encoded data removed]",
      "text/plain": [
       "<Figure size 432x288 with 1 Axes>"
      ]
     },
     "metadata": {
      "needs_background": "light"
     },
     "output_type": "display_data"
    }
   ],
   "source": [
    "knn = cl.ClassifierKNN(2,3)\n",
    "\n",
    "super_entrainement(100,d, knn)\n"
   ]
  },
  {
   "cell_type": "raw",
   "metadata": {},
   "source": [
    "Pour le knn, l'accuracy varie de 97,5 % à 100% tandis que pour les arbres de décision, elle varie de 82.5 % à 100%.\n",
    "Cela peut s'expliquer par le fait que les iris appartenant à la même variété auront probablement la même taille de sépale et se trouveront dans la même zone de points et la démarcation des deux variétés est plutôt nette si bien que les les iris appartenant aux deux variétés se trouvent concentrées dans deux endroits bien distincts."
   ]
  },
  {
   "cell_type": "markdown",
   "metadata": {},
   "source": [
    "### Améliorations (facultatif)"
   ]
  },
  {
   "cell_type": "markdown",
   "metadata": {},
   "source": [
    "Adapter votre algorithme afin de pouvoir construire des arbres de décision avec des attributs catégoriels. Dans un premier temps, vous considèrerez des attributs catégoriels à 2 valeurs. Ensuite, pour considérer des attributs à plus de 2 valeurs, vous devrez écrire une classe <code>ArbreGeneral</code> pour remplacer la classe <code>ArbreBinaire</code>."
   ]
  },
  {
   "cell_type": "markdown",
   "metadata": {},
   "source": [
    "## Etape 3: Expérimentation"
   ]
  },
  {
   "cell_type": "markdown",
   "metadata": {
    "collapsed": true
   },
   "source": [
    "Comparez le résultat obtenu avec ceux obtenus avec les 2 classifiers implémentés lors des TD-TME précédents. Ensuite, utilisez votre implémentation sur d'autres bases de données que vous avez déjà trouvées ou que vous pourrez trouver sur le web."
   ]
  },
  {
   "cell_type": "code",
   "execution_count": 52,
   "metadata": {},
   "outputs": [
    {
     "name": "stdout",
     "output_type": "stream",
     "text": [
      "[57853.15804578] loss\n",
      "[4891.85842769] loss\n",
      "[109.91195063] loss\n",
      "[108.58512739] loss\n",
      "[86.45501787] loss\n",
      "[97.50251828] loss\n",
      "[82.24166074] loss\n",
      "[125.23840883] loss\n",
      "[75.17281013] loss\n",
      "[78.7585843] loss\n",
      "[81.98464396] loss\n",
      "[59.08652633] loss\n",
      "[131.99851739] loss\n",
      "[56.47742043] loss\n",
      "[70.01501216] loss\n",
      "[54.19865969] loss\n",
      "[114.48451724] loss\n",
      "[127.57691748] loss\n",
      "[129.80405941] loss\n",
      "[75.88711603] loss\n",
      "[51.7162857] loss\n",
      "[85.25543548] loss\n",
      "[88.40379938] loss\n",
      "[139.75744931] loss\n",
      "[58.23743971] loss\n",
      "[99.16660253] loss\n",
      "[71.47152337] loss\n",
      "[78.0998999] loss\n",
      "[109.38939328] loss\n",
      "[67.42329716] loss\n",
      "[97.81771561] loss\n",
      "[140.34765287] loss\n",
      "[141.31301177] loss\n",
      "[181.94700004] loss\n",
      "[100.20488224] loss\n",
      "[83.61588223] loss\n",
      "[116.97563753] loss\n",
      "[97.91099608] loss\n",
      "[85.58872083] loss\n",
      "[127.57850687] loss\n",
      "[84.02564058] loss\n",
      "[83.17698536] loss\n",
      "[154.21443653] loss\n",
      "[157.73815028] loss\n",
      "[121.80372912] loss\n",
      "[123.38627863] loss\n",
      "[90.40662746] loss\n",
      "[108.72230574] loss\n",
      "[76.60585622] loss\n",
      "[152.97659649] loss\n",
      "[178.42371869] loss\n",
      "[165.9106395] loss\n",
      "[152.53416841] loss\n",
      "[148.94021227] loss\n",
      "[129.44893338] loss\n",
      "[116.41655325] loss\n",
      "[141.15679958] loss\n",
      "[186.27978392] loss\n",
      "[181.24654175] loss\n",
      "[134.56674063] loss\n",
      "[121.70137357] loss\n",
      "[108.52922042] loss\n",
      "[103.8913667] loss\n",
      "[123.85213124] loss\n",
      "[145.18631769] loss\n",
      "[192.94908132] loss\n",
      "[136.46088234] loss\n",
      "[159.35668616] loss\n",
      "[141.22320108] loss\n",
      "[118.91728554] loss\n",
      "[165.34966859] loss\n",
      "[144.73307313] loss\n",
      "[143.43359764] loss\n",
      "[214.83437794] loss\n",
      "[162.77249042] loss\n",
      "[150.93214078] loss\n",
      "[153.93915848] loss\n",
      "[128.5927122] loss\n"
     ]
    },
    {
     "name": "stderr",
     "output_type": "stream",
     "text": [
      "No handles with labels found to put in legend.\n"
     ]
    },
    {
     "name": "stdout",
     "output_type": "stream",
     "text": [
      "[155.34831552] loss\n",
      "[214.53875674] loss\n",
      "[186.64599691] loss\n",
      "[205.00851892] loss\n",
      "[215.8973684] loss\n",
      "[187.8744377] loss\n",
      "[205.10418143] loss\n",
      "[173.79983593] loss\n",
      "[216.72446719] loss\n",
      "[178.78460151] loss\n",
      "[191.11945728] loss\n",
      "[134.3601879] loss\n",
      "[180.17878128] loss\n",
      "[176.64626538] loss\n",
      "[237.34806029] loss\n",
      "[182.65166281] loss\n",
      "[216.66792996] loss\n",
      "[189.23277514] loss\n",
      "[194.28404536] loss\n",
      "[199.37834959] loss\n",
      "[220.18734697] loss\n",
      "[135.1916058] loss\n"
     ]
    },
    {
     "data": {
      "image/png": "[encoded data removed]",
      "text/plain": [
       "<Figure size 432x288 with 1 Axes>"
      ]
     },
     "metadata": {
      "needs_background": "light"
     },
     "output_type": "display_data"
    },
    {
     "data": {
      "image/png": "[encoded data removed]",
      "text/plain": [
       "<Figure size 432x288 with 1 Axes>"
      ]
     },
     "metadata": {
      "needs_background": "light"
     },
     "output_type": "display_data"
    }
   ],
   "source": [
    "k=cl.KernelPoly()\n",
    "perceptron_k= cl.ClassifierPerceptronKernel(6,0.0005,k) \n",
    "\n",
    "super_entrainement(100,d, perceptron_k)"
   ]
  },
  {
   "cell_type": "code",
   "execution_count": 53,
   "metadata": {},
   "outputs": [
    {
     "name": "stderr",
     "output_type": "stream",
     "text": [
      "No handles with labels found to put in legend.\n"
     ]
    },
    {
     "data": {
      "image/png": "[encoded data removed]",
      "text/plain": [
       "<Figure size 432x288 with 1 Axes>"
      ]
     },
     "metadata": {
      "needs_background": "light"
     },
     "output_type": "display_data"
    },
    {
     "data": {
      "image/png": "[encoded data removed]",
      "text/plain": [
       "<Figure size 432x288 with 1 Axes>"
      ]
     },
     "metadata": {
      "needs_background": "light"
     },
     "output_type": "display_data"
    }
   ],
   "source": [
    "#Entrainement pour le gradient stochastique\n",
    "gs = cl.ClassifierGradientStochastique(2, 0.0005)\n",
    "super_entrainement(100, d, gs)\n",
    "\n",
    "#Pour le gradient stochastique, pour les données réelles il faut baisser l'epsilon de l'ordre du millième."
   ]
  },
  {
   "cell_type": "code",
   "execution_count": 54,
   "metadata": {},
   "outputs": [
    {
     "name": "stdout",
     "output_type": "stream",
     "text": [
      "[4273.79351064] loss\n",
      "[3370.79304092] loss\n",
      "[1516.77801889] loss\n",
      "[323.71457351] loss\n",
      "[92.09977519] loss\n",
      "[926.58882526] loss\n",
      "[2450.36124837] loss\n",
      "[3882.68535053] loss\n",
      "[4416.37680118] loss\n",
      "[3834.71672207] loss\n",
      "[2322.03625028] loss\n",
      "[881.23653269] loss\n",
      "[67.65118097] loss\n",
      "[313.44933909] loss\n",
      "[1672.03722559] loss\n",
      "[3079.22434791] loss\n",
      "[4331.24657312] loss\n",
      "[4317.15551918] loss\n",
      "[3028.77355421] loss\n",
      "[1708.55087085] loss\n",
      "[391.87153521] loss\n",
      "[54.54813601] loss\n",
      "[853.40462636] loss\n",
      "[2334.38034625] loss\n",
      "[3742.31687762] loss\n",
      "[4440.3006392] loss\n",
      "[3902.21057705] loss\n",
      "[2464.50237763] loss\n",
      "[1024.4165961] loss\n",
      "[93.68036776] loss\n",
      "[275.92258242] loss\n",
      "[1453.01627626] loss\n",
      "[3062.22893153] loss\n",
      "[4085.76664364] loss\n",
      "[4221.27019437] loss\n",
      "[3293.59093076] loss\n",
      "[1722.79693276] loss\n",
      "[404.04129804] loss\n",
      "[22.76778539] loss\n",
      "[749.21238311] loss\n",
      "[2143.4587344] loss\n",
      "[3578.0804288] loss\n",
      "[4344.30409501] loss\n",
      "[3889.6807734] loss\n",
      "[2505.72401935] loss\n",
      "[962.97125998] loss\n",
      "[81.50236695] loss\n",
      "[234.89628201] loss\n",
      "[1344.9574606] loss\n",
      "[2847.24591736] loss\n",
      "[3925.60205901] loss\n",
      "[4068.32302691] loss\n",
      "[3130.13311011] loss\n",
      "[1790.84428452] loss\n",
      "[473.3304638] loss\n",
      "[14.50324377] loss\n",
      "[623.68101762] loss\n",
      "[2059.42369805] loss\n",
      "[3307.77070347] loss\n",
      "[4159.20216848] loss\n",
      "[3822.27959207] loss\n",
      "[2531.20952467] loss\n",
      "[1106.10599226] loss\n",
      "[147.36796002] loss\n",
      "[162.29704333] loss\n",
      "[1121.55198978] loss\n",
      "[2527.32223499] loss\n",
      "[3729.29923449] loss\n",
      "[4180.80867528] loss\n",
      "[3303.08050456] loss\n",
      "[2071.97760562] loss\n",
      "[651.63233244] loss\n",
      "[31.69400987] loss\n",
      "[481.4518999] loss\n",
      "[1830.65083068] loss\n",
      "[3173.64247003] loss\n",
      "[4254.81530205] loss\n",
      "[3792.72127599] loss\n",
      "[2808.34446593] loss\n",
      "[1301.32751157] loss\n",
      "[242.59926136] loss\n",
      "[105.345716] loss\n",
      "[945.28696394] loss\n",
      "[2350.27512082] loss\n",
      "[3712.27351927] loss\n",
      "[4026.21394484] loss\n",
      "[3505.98503455] loss\n",
      "[2182.62486673] loss\n",
      "[846.15832757] loss\n",
      "[62.97808989] loss\n",
      "[403.90896139] loss\n",
      "[1622.29826402] loss\n",
      "[2921.60455764] loss\n",
      "[4088.00760232] loss\n",
      "[4027.04430417] loss\n",
      "[3174.71892321] loss"
     ]
    },
    {
     "name": "stderr",
     "output_type": "stream",
     "text": [
      "No handles with labels found to put in legend.\n"
     ]
    },
    {
     "name": "stdout",
     "output_type": "stream",
     "text": [
      "\n",
      "[1348.52318345] loss\n",
      "[321.80601911] loss\n"
     ]
    },
    {
     "data": {
      "image/png": "[encoded data removed]",
      "text/plain": [
       "<Figure size 432x288 with 1 Axes>"
      ]
     },
     "metadata": {
      "needs_background": "light"
     },
     "output_type": "display_data"
    },
    {
     "data": {
      "image/png": "[encoded data removed]",
      "text/plain": [
       "<Figure size 432x288 with 1 Axes>"
      ]
     },
     "metadata": {
      "needs_background": "light"
     },
     "output_type": "display_data"
    }
   ],
   "source": [
    "#Entrainement pour le gradient batch\n",
    "gb = cl.ClassifierGradientBatch(2,0.00005)\n",
    "super_entrainement(98, d, gb)"
   ]
  },
  {
   "cell_type": "code",
   "execution_count": 63,
   "metadata": {},
   "outputs": [
    {
     "name": "stdout",
     "output_type": "stream",
     "text": [
      "0 entrainement\n",
      "Accuracy 97.5%\n",
      "\n",
      "1 entrainement\n",
      "Accuracy 100.0%\n",
      "\n",
      "2 entrainement\n",
      "Accuracy 100.0%\n",
      "\n",
      "3 entrainement\n",
      "Accuracy 97.5%\n",
      "\n",
      "4 entrainement\n",
      "Accuracy 100.0%\n",
      "\n",
      "5 entrainement\n",
      "Accuracy 97.5%\n",
      "\n",
      "6 entrainement\n",
      "Accuracy 72.5%\n",
      "\n",
      "7 entrainement\n",
      "Accuracy 97.5%\n",
      "\n",
      "8 entrainement\n",
      "Accuracy 95.0%\n",
      "\n",
      "9 entrainement\n",
      "Accuracy 95.0%\n",
      "\n",
      "10 entrainement\n",
      "Accuracy 65.0%\n",
      "\n",
      "11 entrainement\n",
      "Accuracy 97.5%\n",
      "\n",
      "12 entrainement\n",
      "Accuracy 82.5%\n",
      "\n",
      "13 entrainement\n",
      "Accuracy 100.0%\n",
      "\n",
      "14 entrainement\n",
      "Accuracy 92.5%\n",
      "\n",
      "15 entrainement\n",
      "Accuracy 92.5%\n",
      "\n",
      "16 entrainement\n",
      "Accuracy 97.5%\n",
      "\n",
      "17 entrainement\n",
      "Accuracy 97.5%\n",
      "\n",
      "18 entrainement\n",
      "Accuracy 90.0%\n",
      "\n",
      "19 entrainement\n",
      "Accuracy 97.5%\n",
      "\n",
      "20 entrainement\n",
      "Accuracy 92.5%\n",
      "\n",
      "21 entrainement\n",
      "Accuracy 97.5%\n",
      "\n",
      "22 entrainement\n",
      "Accuracy 97.5%\n",
      "\n",
      "23 entrainement\n",
      "Accuracy 95.0%\n",
      "\n",
      "24 entrainement\n",
      "Accuracy 95.0%\n",
      "\n",
      "25 entrainement\n",
      "Accuracy 100.0%\n",
      "\n",
      "26 entrainement\n",
      "Accuracy 100.0%\n",
      "\n",
      "27 entrainement\n",
      "Accuracy 82.5%\n",
      "\n",
      "28 entrainement\n",
      "Accuracy 77.5%\n",
      "\n",
      "29 entrainement\n",
      "Accuracy 100.0%\n",
      "\n",
      "30 entrainement\n",
      "Accuracy 97.5%\n",
      "\n",
      "31 entrainement\n",
      "Accuracy 90.0%\n",
      "\n",
      "32 entrainement\n",
      "Accuracy 95.0%\n",
      "\n",
      "33 entrainement\n",
      "Accuracy 97.5%\n",
      "\n",
      "34 entrainement\n",
      "Accuracy 100.0%\n",
      "\n",
      "35 entrainement\n",
      "Accuracy 100.0%\n",
      "\n",
      "36 entrainement\n",
      "Accuracy 97.5%\n",
      "\n",
      "37 entrainement\n",
      "Accuracy 90.0%\n",
      "\n",
      "38 entrainement\n",
      "Accuracy 100.0%\n",
      "\n",
      "39 entrainement\n",
      "Accuracy 97.5%\n",
      "\n",
      "40 entrainement\n",
      "Accuracy 95.0%\n",
      "\n",
      "41 entrainement\n",
      "Accuracy 100.0%\n",
      "\n",
      "42 entrainement\n",
      "Accuracy 85.0%\n",
      "\n",
      "43 entrainement\n",
      "Accuracy 97.5%\n",
      "\n",
      "44 entrainement\n",
      "Accuracy 100.0%\n",
      "\n",
      "45 entrainement\n",
      "Accuracy 100.0%\n",
      "\n",
      "46 entrainement\n",
      "Accuracy 67.5%\n",
      "\n",
      "47 entrainement\n",
      "Accuracy 100.0%\n",
      "\n",
      "48 entrainement\n",
      "Accuracy 92.5%\n",
      "\n",
      "49 entrainement\n",
      "Accuracy 100.0%\n",
      "\n",
      "50 entrainement\n",
      "Accuracy 97.5%\n",
      "\n",
      "51 entrainement\n",
      "Accuracy 100.0%\n",
      "\n",
      "52 entrainement\n",
      "Accuracy 100.0%\n",
      "\n",
      "53 entrainement\n",
      "Accuracy 95.0%\n",
      "\n",
      "54 entrainement\n",
      "Accuracy 95.0%\n",
      "\n",
      "55 entrainement\n",
      "Accuracy 97.5%\n",
      "\n",
      "56 entrainement\n",
      "Accuracy 100.0%\n",
      "\n",
      "57 entrainement\n",
      "Accuracy 97.5%\n",
      "\n",
      "58 entrainement\n",
      "Accuracy 97.5%\n",
      "\n",
      "59 entrainement\n",
      "Accuracy 97.5%\n",
      "\n",
      "60 entrainement\n",
      "Accuracy 97.5%\n",
      "\n",
      "61 entrainement\n",
      "Accuracy 92.5%\n",
      "\n",
      "62 entrainement\n",
      "Accuracy 100.0%\n",
      "\n",
      "63 entrainement\n",
      "Accuracy 95.0%\n",
      "\n",
      "64 entrainement\n",
      "Accuracy 92.5%\n",
      "\n",
      "65 entrainement\n",
      "Accuracy 75.0%\n",
      "\n",
      "66 entrainement\n",
      "Accuracy 85.0%\n",
      "\n",
      "67 entrainement\n",
      "Accuracy 92.5%\n",
      "\n",
      "68 entrainement\n",
      "Accuracy 97.5%\n",
      "\n",
      "69 entrainement\n",
      "Accuracy 50.0%\n",
      "\n",
      "70 entrainement\n",
      "Accuracy 100.0%\n",
      "\n",
      "71 entrainement\n",
      "Accuracy 100.0%\n",
      "\n",
      "72 entrainement\n",
      "Accuracy 100.0%\n",
      "\n",
      "73 entrainement\n",
      "Accuracy 62.5%\n",
      "\n",
      "74 entrainement\n",
      "Accuracy 100.0%\n",
      "\n",
      "75 entrainement\n",
      "Accuracy 100.0%\n",
      "\n",
      "76 entrainement\n",
      "Accuracy 65.0%\n",
      "\n",
      "77 entrainement\n",
      "Accuracy 97.5%\n",
      "\n",
      "78 entrainement\n",
      "Accuracy 100.0%\n",
      "\n",
      "79 entrainement\n",
      "Accuracy 90.0%\n",
      "\n",
      "80 entrainement\n",
      "Accuracy 100.0%\n",
      "\n",
      "81 entrainement\n",
      "Accuracy 100.0%\n",
      "\n",
      "82 entrainement\n",
      "Accuracy 95.0%\n",
      "\n",
      "83 entrainement"
     ]
    },
    {
     "name": "stderr",
     "output_type": "stream",
     "text": [
      "No handles with labels found to put in legend.\n"
     ]
    },
    {
     "name": "stdout",
     "output_type": "stream",
     "text": [
      "\n",
      "Accuracy 100.0%\n",
      "\n",
      "84 entrainement\n",
      "Accuracy 92.5%\n",
      "\n",
      "85 entrainement\n",
      "Accuracy 97.5%\n",
      "\n",
      "86 entrainement\n",
      "Accuracy 95.0%\n",
      "\n",
      "87 entrainement\n",
      "Accuracy 97.5%\n",
      "\n",
      "88 entrainement\n",
      "Accuracy 100.0%\n",
      "\n",
      "89 entrainement\n",
      "Accuracy 100.0%\n",
      "\n",
      "90 entrainement\n",
      "Accuracy 97.5%\n",
      "\n",
      "91 entrainement\n",
      "Accuracy 97.5%\n",
      "\n",
      "92 entrainement\n",
      "Accuracy 100.0%\n",
      "\n",
      "93 entrainement\n",
      "Accuracy 100.0%\n",
      "\n",
      "94 entrainement\n",
      "Accuracy 100.0%\n",
      "\n",
      "95 entrainement\n",
      "Accuracy 90.0%\n",
      "\n",
      "96 entrainement\n",
      "Accuracy 100.0%\n",
      "\n",
      "97 entrainement\n",
      "Accuracy 100.0%\n",
      "\n",
      "98 entrainement\n",
      "Accuracy 100.0%\n",
      "\n",
      "99 entrainement\n",
      "Accuracy 100.0%\n",
      "\n"
     ]
    },
    {
     "data": {
      "image/png": "[encoded data removed]",
      "text/plain": [
       "<Figure size 432x288 with 1 Axes>"
      ]
     },
     "metadata": {
      "needs_background": "light"
     },
     "output_type": "display_data"
    },
    {
     "data": {
      "image/png": "[encoded data removed]",
      "text/plain": [
       "<Figure size 432x288 with 1 Axes>"
      ]
     },
     "metadata": {
      "needs_background": "light"
     },
     "output_type": "display_data"
    }
   ],
   "source": [
    "#Entrainement pour le gradient stochastique kernel\n",
    "\n",
    "gsk = cl.ClassifierGradientStochastiqueKernel(6, 0.0005, k)\n",
    "\n",
    "super_entrainement(100, d, gsk)"
   ]
  },
  {
   "cell_type": "code",
   "execution_count": 66,
   "metadata": {},
   "outputs": [
    {
     "name": "stdout",
     "output_type": "stream",
     "text": [
      "0 entrainement\n",
      "[77276.4271382] loss\n",
      "Accuracy 47.5%\n",
      "\n",
      "1 entrainement\n",
      "[2458.63945247] loss\n",
      "Accuracy 85.0%\n",
      "\n",
      "2 entrainement\n",
      "[678.31076687] loss\n",
      "Accuracy 97.5%\n",
      "\n",
      "3 entrainement\n",
      "[182.47995943] loss\n",
      "Accuracy 97.5%\n",
      "\n",
      "4 entrainement\n",
      "[178.66740804] loss\n",
      "Accuracy 97.5%\n",
      "\n",
      "5 entrainement\n",
      "[350.96413806] loss\n",
      "Accuracy 100.0%\n",
      "\n",
      "6 entrainement\n",
      "[214.38813333] loss\n",
      "Accuracy 100.0%\n",
      "\n",
      "7 entrainement\n",
      "[191.92460813] loss\n",
      "Accuracy 100.0%\n",
      "\n",
      "8 entrainement\n",
      "[242.39855502] loss\n",
      "Accuracy 62.5%\n",
      "\n",
      "9 entrainement\n",
      "[575.1106384] loss\n",
      "Accuracy 90.0%\n",
      "\n",
      "10 entrainement\n",
      "[432.09350513] loss\n",
      "Accuracy 60.0%\n",
      "\n",
      "11 entrainement\n",
      "[365.36149816] loss\n",
      "Accuracy 92.5%\n",
      "\n",
      "12 entrainement\n",
      "[126.58824621] loss\n",
      "Accuracy 95.0%\n",
      "\n",
      "13 entrainement\n",
      "[115.21849526] loss\n",
      "Accuracy 80.0%\n",
      "\n",
      "14 entrainement\n",
      "[189.03437222] loss\n",
      "Accuracy 100.0%\n",
      "\n",
      "15 entrainement\n",
      "[111.04457343] loss\n",
      "Accuracy 100.0%\n",
      "\n",
      "16 entrainement\n",
      "[160.74609705] loss\n",
      "Accuracy 57.49999999999999%\n",
      "\n",
      "17 entrainement\n",
      "[399.69091943] loss\n",
      "Accuracy 87.5%\n",
      "\n",
      "18 entrainement\n",
      "[130.18424964] loss\n",
      "Accuracy 95.0%\n",
      "\n",
      "19 entrainement\n",
      "[312.09075247] loss\n",
      "Accuracy 97.5%\n",
      "\n",
      "20 entrainement\n",
      "[155.80391396] loss\n",
      "Accuracy 100.0%\n",
      "\n",
      "21 entrainement\n",
      "[181.0066094] loss\n",
      "Accuracy 90.0%\n",
      "\n",
      "22 entrainement\n",
      "[199.8959983] loss\n",
      "Accuracy 100.0%\n",
      "\n",
      "23 entrainement\n",
      "[246.92272346] loss\n",
      "Accuracy 100.0%\n",
      "\n",
      "24 entrainement\n",
      "[207.69930771] loss\n",
      "Accuracy 100.0%\n",
      "\n",
      "25 entrainement\n",
      "[246.76522144] loss\n",
      "Accuracy 97.5%\n",
      "\n",
      "26 entrainement\n",
      "[173.82537549] loss\n",
      "Accuracy 97.5%\n",
      "\n",
      "27 entrainement\n",
      "[154.43910373] loss\n",
      "Accuracy 92.5%\n",
      "\n",
      "28 entrainement\n",
      "[130.13913795] loss\n",
      "Accuracy 87.5%\n",
      "\n",
      "29 entrainement\n",
      "[94.89371204] loss\n",
      "Accuracy 92.5%\n",
      "\n",
      "30 entrainement\n",
      "[128.99978083] loss\n",
      "Accuracy 100.0%\n",
      "\n",
      "31 entrainement\n",
      "[87.69609321] loss\n",
      "Accuracy 80.0%\n",
      "\n",
      "32 entrainement\n",
      "[147.45276345] loss\n",
      "Accuracy 62.5%\n",
      "\n",
      "33 entrainement\n",
      "[309.68464826] loss\n",
      "Accuracy 95.0%\n",
      "\n",
      "34 entrainement\n",
      "[88.24272913] loss\n",
      "Accuracy 97.5%\n",
      "\n",
      "35 entrainement\n",
      "[86.95434782] loss\n",
      "Accuracy 92.5%\n",
      "\n",
      "36 entrainement\n",
      "[98.03029652] loss\n",
      "Accuracy 100.0%\n",
      "\n",
      "37 entrainement\n",
      "[70.89292688] loss\n",
      "Accuracy 100.0%\n",
      "\n",
      "38 entrainement\n",
      "[72.34321075] loss\n",
      "Accuracy 95.0%\n",
      "\n",
      "39 entrainement\n",
      "[73.17492735] loss\n",
      "Accuracy 100.0%\n",
      "\n",
      "40 entrainement\n",
      "[88.24132164] loss\n",
      "Accuracy 82.5%\n",
      "\n",
      "41 entrainement\n",
      "[137.8284985] loss\n",
      "Accuracy 100.0%\n",
      "\n",
      "42 entrainement\n",
      "[93.77730537] loss\n",
      "Accuracy 100.0%\n",
      "\n",
      "43 entrainement\n",
      "[175.89247296] loss\n",
      "Accuracy 97.5%\n",
      "\n",
      "44 entrainement\n",
      "[77.13714436] loss\n",
      "Accuracy 100.0%\n",
      "\n",
      "45 entrainement\n",
      "[86.97560822] loss\n",
      "Accuracy 100.0%\n",
      "\n",
      "46 entrainement\n",
      "[134.95676479] loss\n",
      "Accuracy 97.5%\n",
      "\n",
      "47 entrainement\n",
      "[144.71373765] loss\n",
      "Accuracy 97.5%\n",
      "\n",
      "48 entrainement\n",
      "[71.47591926] loss\n",
      "Accuracy 100.0%\n",
      "\n",
      "49 entrainement\n",
      "[73.34325349] loss\n",
      "Accuracy 100.0%\n",
      "\n",
      "50 entrainement\n",
      "[75.42314354] loss\n",
      "Accuracy 100.0%\n",
      "\n",
      "51 entrainement\n",
      "[76.82169839] loss\n",
      "Accuracy 95.0%\n",
      "\n",
      "52 entrainement\n",
      "[61.46178777] loss\n",
      "Accuracy 97.5%\n",
      "\n",
      "53 entrainement\n",
      "[70.52383782] loss\n",
      "Accuracy 92.5%\n",
      "\n",
      "54 entrainement\n",
      "[69.84843977] loss\n",
      "Accuracy 100.0%\n",
      "\n",
      "55 entrainement\n",
      "[74.54040364] loss\n",
      "Accuracy 100.0%\n",
      "\n",
      "56 entrainement\n",
      "[78.97362616] loss\n",
      "Accuracy 100.0%\n",
      "\n",
      "57 entrainement\n",
      "[59.00975362] loss\n",
      "Accuracy 95.0%\n",
      "\n",
      "58 entrainement\n",
      "[66.61186141] loss\n",
      "Accuracy 97.5%\n",
      "\n",
      "59 entrainement\n",
      "[56.04176644] loss\n",
      "Accuracy 97.5%\n",
      "\n",
      "60 entrainement\n",
      "[120.07127437] loss\n",
      "Accuracy 87.5%\n",
      "\n",
      "61 entrainement\n",
      "[76.89030022] loss\n",
      "Accuracy 100.0%\n",
      "\n",
      "62 entrainement\n",
      "[117.88814625] loss\n",
      "Accuracy 100.0%\n",
      "\n",
      "63 entrainement\n",
      "[62.70006184] loss\n",
      "Accuracy 97.5%\n",
      "\n",
      "64 entrainement\n",
      "[106.26480292] loss\n",
      "Accuracy 90.0%\n",
      "\n",
      "65 entrainement\n",
      "[71.01357305] loss\n",
      "Accuracy 97.5%\n",
      "\n",
      "66 entrainement\n",
      "[48.42135734] loss\n",
      "Accuracy 92.5%\n",
      "\n",
      "67 entrainement\n",
      "[55.86407393] loss\n",
      "Accuracy 97.5%\n",
      "\n",
      "68 entrainement\n",
      "[62.94388934] loss\n",
      "Accuracy 100.0%\n",
      "\n",
      "69 entrainement\n",
      "[59.56734303] loss\n",
      "Accuracy 100.0%\n",
      "\n",
      "70 entrainement\n",
      "[51.8232722] loss\n",
      "Accuracy 97.5%\n",
      "\n",
      "71 entrainement\n",
      "[59.91433705] loss\n",
      "Accuracy 100.0%\n",
      "\n",
      "72 entrainement\n",
      "[63.500617] loss\n",
      "Accuracy 100.0%\n",
      "\n",
      "73 entrainement\n",
      "[96.07629663] loss\n",
      "Accuracy 82.5%\n",
      "\n",
      "74 entrainement\n",
      "[88.65677054] loss\n",
      "Accuracy 50.0%\n",
      "\n",
      "75 entrainement\n",
      "[720.43248347] loss\n",
      "Accuracy 45.0%\n",
      "\n",
      "76 entrainement\n",
      "[239.77032958] loss\n",
      "Accuracy 87.5%\n",
      "\n",
      "77 entrainement\n",
      "[76.96850195] loss\n",
      "Accuracy 47.5%\n",
      "\n"
     ]
    },
    {
     "name": "stderr",
     "output_type": "stream",
     "text": [
      "No handles with labels found to put in legend.\n"
     ]
    },
    {
     "name": "stdout",
     "output_type": "stream",
     "text": [
      "78 entrainement\n",
      "[376.77596826] loss\n",
      "Accuracy 57.49999999999999%\n",
      "\n",
      "79 entrainement\n",
      "[149.62129028] loss\n",
      "Accuracy 97.5%\n",
      "\n",
      "80 entrainement\n",
      "[74.51573657] loss\n",
      "Accuracy 97.5%\n",
      "\n",
      "81 entrainement\n",
      "[38.40269232] loss\n",
      "Accuracy 97.5%\n",
      "\n",
      "82 entrainement\n",
      "[37.9305448] loss\n",
      "Accuracy 97.5%\n",
      "\n",
      "83 entrainement\n",
      "[75.39655146] loss\n",
      "Accuracy 100.0%\n",
      "\n",
      "84 entrainement\n",
      "[70.62657996] loss\n",
      "Accuracy 97.5%\n",
      "\n",
      "85 entrainement\n",
      "[46.93717397] loss\n",
      "Accuracy 100.0%\n",
      "\n",
      "86 entrainement\n",
      "[30.49507786] loss\n",
      "Accuracy 92.5%\n",
      "\n",
      "87 entrainement\n",
      "[155.822033] loss\n",
      "Accuracy 55.00000000000001%\n",
      "\n",
      "88 entrainement\n",
      "[581.03099271] loss\n",
      "Accuracy 70.0%\n",
      "\n",
      "89 entrainement\n",
      "[66.8314271] loss\n",
      "Accuracy 87.5%\n",
      "\n",
      "90 entrainement\n",
      "[41.46316894] loss\n",
      "Accuracy 100.0%\n",
      "\n",
      "91 entrainement\n",
      "[58.0277026] loss\n",
      "Accuracy 55.00000000000001%\n",
      "\n",
      "92 entrainement\n",
      "[133.14573649] loss\n",
      "Accuracy 82.5%\n",
      "\n",
      "93 entrainement\n",
      "[63.71718608] loss\n",
      "Accuracy 100.0%\n",
      "\n",
      "94 entrainement\n",
      "[18.96308406] loss\n",
      "Accuracy 95.0%\n",
      "\n",
      "95 entrainement\n",
      "[23.13780221] loss\n",
      "Accuracy 97.5%\n",
      "\n",
      "96 entrainement\n",
      "[13.51021471] loss\n",
      "Accuracy 100.0%\n",
      "\n",
      "97 entrainement\n",
      "[46.49821597] loss\n",
      "Accuracy 100.0%\n",
      "\n",
      "98 entrainement\n",
      "[27.91836349] loss\n",
      "Accuracy 100.0%\n",
      "\n",
      "99 entrainement\n",
      "[71.25311107] loss\n",
      "Accuracy 100.0%\n",
      "\n"
     ]
    },
    {
     "data": {
      "image/png": "[encoded data removed]",
      "text/plain": [
       "<Figure size 432x288 with 1 Axes>"
      ]
     },
     "metadata": {
      "needs_background": "light"
     },
     "output_type": "display_data"
    },
    {
     "data": {
      "image/png": "[encoded data removed]",
      "text/plain": [
       "<Figure size 432x288 with 1 Axes>"
      ]
     },
     "metadata": {
      "needs_background": "light"
     },
     "output_type": "display_data"
    }
   ],
   "source": [
    "#Entrainement pour le gradient batch kernel\n",
    "k=cl.KernelPoly()\n",
    "gbk = cl.ClassifierGradientBatchKernel(6, 0.0005, k)\n",
    "\n",
    "super_entrainement(100, d, gbk)"
   ]
  },
  {
   "cell_type": "raw",
   "metadata": {},
   "source": [
    "Pour les deux gradients kernelisés, l'epsilon est le même pour ces données réelles.\n",
    "L'accuracy pour l'arbre de décision est meilleure puisque son intervalle de variation est plus petit que pour les autres mises à part pour l'algorithm des knn voisins.\n",
    "Toutefois, les données peuvent êtres mieux classées dans ces algorithmes que pour celui de l'arbre de décision.\n"
   ]
  }
 ],
 "metadata": {
  "kernelspec": {
   "display_name": "Python 3",
   "language": "python",
   "name": "python3"
  },
  "language_info": {
   "codemirror_mode": {
    "name": "ipython",
    "version": 3
   },
   "file_extension": ".py",
   "mimetype": "text/x-python",
   "name": "python",
   "nbconvert_exporter": "python",
   "pygments_lexer": "ipython3",
   "version": "3.5.3"
  }
 },
 "nbformat": 4,
 "nbformat_minor": 1
}
