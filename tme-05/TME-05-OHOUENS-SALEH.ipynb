{
 "cells": [
  {
   "cell_type": "markdown",
   "metadata": {},
   "source": [
    "IA & Data science (3i026) -- 2018-2019\n",
    "--------\n",
    "*&copy; Equipe pédagogique: Manon Ansart, Vincent Guigue, Marie-Jeanne Lesot, Christophe Marsala, Olivier Schwander.*"
   ]
  },
  {
   "cell_type": "markdown",
   "metadata": {},
   "source": [
    "# TD-TME05: les arbres de décision\n",
    "\n",
    "L'objectif de ce TP est d'implémenter un algorithme d'apprentissage supervisé, l'algorithme de construction d'arbres de décision vu en cours.\n",
    "\n",
    "Dans un premier temps, nous allons nous restreindre à un cas binaire où les classes sont étiquetées $+1$ ou $-1$. De plus, nous allons ne considérer que le cas où les attributs sont tous numériques et on ne construit que des arbres avec des noeuds binaires (ie. qui ne contiennent que 2 branches sortantes)."
   ]
  },
  {
   "cell_type": "markdown",
   "metadata": {},
   "source": [
    "<font size=\"+1\" color=\"RED\">**[Q]**</font> **Indiquer dans la boîte ci-dessous vos noms et prénoms :**"
   ]
  },
  {
   "cell_type": "markdown",
   "metadata": {},
   "source": [
    "Ryan OHOUENS et Sarah SALEH"
   ]
  },
  {
   "cell_type": "markdown",
   "metadata": {},
   "source": [
    "<font color=\"RED\" size=\"+1\">**[Q]**</font> **Renommer ce fichier ipython**\n",
    "\n",
    "Tout en haut de cette page, cliquer sur <tt>tme-05</tt> et rajouter à la suite de <tt>tme-05</tt> les noms des membres du binômes séparés par un tiret."
   ]
  },
  {
   "cell_type": "markdown",
   "metadata": {},
   "source": [
    "<font color=\"RED\" size=\"+1\">IMPORTANT: soumission de votre fichier final</font>\n",
    "\n",
    "**Nom à donner au fichier à poster** : *tme-05-Nom1_Nom2.ipynb* \n",
    "- *Nom1* et *Nom2* : noms des membres du binôme\n",
    "- ne pas compresser ou faire une archive: il faut rendre le notebook tel quel, éventuellement, si vous avez d'autres fichiers vous les rendez séparément.\n",
    "\n",
    "**Echancier pour la soumission de votre compte-rendu:**\n",
    "- le compte-rendu d'une séance doit être remis obligatoirement <font color=\"RED\">** à la fin de la séance**</font>. C'est ce compte-rendu qui donne la note de base de la séance.\n",
    "- vous pouvez éventuellement compléter votre compte-rendu  pour obtenir des points bonus, dans ce cas, vous devez soumettre votre complément avant le début de la semaine suivante.\n",
    "\n",
    "** Sur la page Moodle de remise du travail <font color=\"RED\">ne pas oublier d'envoyer le compte rendu</font>** à la fin de la séance, la soumission de la version complémentaire post-séance se fera sur une page différente."
   ]
  },
  {
   "cell_type": "markdown",
   "metadata": {},
   "source": [
    "## Mise à jour de votre librairie IADS\n",
    "\n",
    "Comme lors des séances précédentes, vous devez utiliser les fonctions de la librairie IADS.\n",
    "\n",
    "<font color=\"RED\" size=\"+1\">**[Q]**</font> **Ouvrir et compléter les fichiers Classifiers.py et utils.py**\n",
    "\n",
    "Rajouter dans la librairie les fonctions et classes et que vous avez écrites lors de la séance précédente. \n",
    "\n",
    "**Rappel**: dans un premier temps, vous devez écrire les classes et fonctions demandées dans le notebook de la séance de TDTME en cours. Lors de la séance suivante, vous rajouterez tout cela, une fois que vous l'aurez bien testé, dans vos fichiers de la librairie IADS.\n",
    "\n"
   ]
  },
  {
   "cell_type": "code",
   "execution_count": 1,
   "metadata": {},
   "outputs": [],
   "source": [
    "import numpy as np\n",
    "import pandas as pd\n",
    "import matplotlib.pyplot as plt\n",
    "%matplotlib inline  \n",
    "\n",
    "# La ligne suivante permet de préciser le chemin d'accès à la librairie iads\n",
    "import sys\n",
    "sys.path.append('../')\n",
    "\n",
    "# Importation de la librairie iads\n",
    "import iads as iads\n",
    "\n",
    "# importation de LabeledSet\n",
    "from iads import LabeledSet as ls\n",
    "\n",
    "# importation de Classifiers\n",
    "from iads import Classifiers as cl"
   ]
  },
  {
   "cell_type": "markdown",
   "metadata": {},
   "source": [
    "### Génération de données Jouet\n",
    "\n",
    "<font color=\"RED\" size=\"+1\">**[Q]**</font>  Dans un premier temps, pour mettre au point les fonctions, générer une base jouet assez petite (par exemple, 10 exemples de chaque classe)."
   ]
  },
  {
   "cell_type": "code",
   "execution_count": 2,
   "metadata": {},
   "outputs": [],
   "source": [
    "def plot2DSet(set):\n",
    "    \"\"\" LabeledSet -> NoneType\n",
    "        Hypothèse: set est de dimension 2\n",
    "        affiche une représentation graphique du LabeledSet\n",
    "        remarque: l'ordre des labels dans set peut être quelconque\n",
    "    \"\"\"\n",
    "    S_pos = set.x[np.where(set.y == 1),:][0]      # tous les exemples de label +1\n",
    "    S_neg = set.x[np.where(set.y == -1),:][0]     # tous les exemples de label -1\n",
    "    plt.scatter(S_pos[:,0],S_pos[:,1],marker='o') # 'o' pour la classe +1\n",
    "    plt.scatter(S_neg[:,0],S_neg[:,1],marker='x') # 'x' pour la classe -1\n",
    "\n",
    "def plot_frontiere(set,classifier,step=50):\n",
    "    \"\"\" LabeledSet * Classifier * int -> NoneType\n",
    "        Remarque: le 3e argument est optionnel et donne la \"résolution\" du tracé\n",
    "        affiche la frontière de décision associée au classifieur\n",
    "    \"\"\"\n",
    "    mmax=set.x.max(0)\n",
    "    mmin=set.x.min(0)\n",
    "    x1grid,x2grid=np.meshgrid(np.linspace(mmin[0],mmax[0],step),np.linspace(mmin[1],mmax[1],step))\n",
    "    grid=np.hstack((x1grid.reshape(x1grid.size,1),x2grid.reshape(x2grid.size,1)))\n",
    "    \n",
    "    # calcul de la prediction pour chaque point de la grille\n",
    "    res=np.array([classifier.predict(grid[i,:]) for i in range(len(grid)) ])\n",
    "    res=res.reshape(x1grid.shape)\n",
    "    # tracer des frontieres\n",
    "    plt.contourf(x1grid,x2grid,res,colors=[\"red\",\"cyan\"],levels=[-1000,0,1000])\n",
    "    \n",
    "# ------------------------ \n",
    "\n",
    "def createGaussianDataset(positive_center, positive_sigma, negative_center, negative_sigma, nb_points):\n",
    "    \"\"\" \n",
    "        rend un LabeledSet 2D généré aléatoirement.\n",
    "        Arguments:\n",
    "        - positive_center (vecteur taille 2): centre de la gaussienne des points positifs\n",
    "        - positive_sigma (matrice 2*2): variance de la gaussienne des points positifs\n",
    "        - negative_center (vecteur taille 2): centre de la gaussienne des points négative\n",
    "        - negative_sigma (matrice 2*2): variance de la gaussienne des points négative\n",
    "    - nb_points (int):  nombre de points de chaque classe à générer\n",
    "\"\"\"\n",
    "#TODO: A Compléter\n",
    "    x, y = np.random.multivariate_normal(positive_center, positive_sigma, nb_points).T\n",
    "    a, b = np.random.multivariate_normal(negative_center, negative_sigma, nb_points).T\n",
    "    label = ls.LabeledSet(2)\n",
    "    for i in range(len(a)):\n",
    "        label.addExample(np.array([x[i], y[i]]), 1)\n",
    "        label.addExample(np.array([a[i], b[i]]),-1)\n",
    "    return label\n",
    "\n",
    "    raise NotImplementedError(\"Please Implement this method\")\n",
    "    \n",
    "# Exemple d'utilisation de utils\n",
    "\n",
    "the_set = createGaussianDataset(np.array([1,1]),np.array([[1,0],[0,1]]),np.array([-1,-1]),np.array([[1,0],[0,1]]),100)\n",
    "\n",
    "\n",
    "\n",
    "def super_entrainement(n, label, perceptron, show=False) :\n",
    "    x = []\n",
    "    y = []\n",
    "    for i in range(n) :\n",
    "        train, test = split(label)\n",
    "        perceptron.train(train)\n",
    "        train = perceptron.accuracy(test)\n",
    "        if(show):\n",
    "            print(str(i) + \" entrainement\")\n",
    "            print(\"Accuracy \"+str(train)+\"%\\n\")\n",
    "        y.append(train)\n",
    "        x.append(i)\n",
    "    plt.plot(x,y)\n",
    "    plt.xlabel('N')\n",
    "    plt.ylabel('Accuracy')\n",
    "    plt.title('performances accuracy')\n",
    "    plt.legend()\n",
    "    plt.show()\n",
    "    plot_frontiere(test,perceptron)\n",
    "    plot2DSet(test)\n",
    "\n",
    "    \n",
    "    # Fonction pour afficher le LabeledSet\n",
    "def affiche_base(LS):\n",
    "    \"\"\" LabeledSet\n",
    "        affiche le contenu de LS\n",
    "    \"\"\"\n",
    "    for i in range(0,LS.size()):\n",
    "        print(\"Exemple \"+str(i))\n",
    "        print(\"\\tdescription : \",LS.getX(i))\n",
    "        print(\"\\tlabel : \",LS.getY(i))\n",
    "    return\n",
    "\n",
    "def split(label,pourcentage=60) :\n",
    "\n",
    "    size = label.size()\n",
    "\n",
    "    label_train = ls.LabeledSet(label.getInputDimension())\n",
    "    label_test = ls.LabeledSet(label.getInputDimension())\n",
    "    \n",
    "    indice = np.arange(label.size())\n",
    "    temoin = np.random.permutation(indice)\n",
    "    \n",
    "    for i in range (temoin.size) :\n",
    "        if (i < pourcentage*len(temoin)/100):\n",
    "            label_train.addExample(label.getX(temoin[i]), label.getY(temoin[i]))\n",
    "        else : \n",
    "            label_test.addExample(label.getX(temoin[i]), label.getY(temoin[i]))\n",
    "\n",
    "    return (label_train, label_test)"
   ]
  },
  {
   "cell_type": "code",
   "execution_count": 3,
   "metadata": {},
   "outputs": [
    {
     "name": "stdout",
     "output_type": "stream",
     "text": [
      "Taille de la base jouet générée : 20 exemples\n"
     ]
    }
   ],
   "source": [
    "the_set = createGaussianDataset(np.array([1,1]),np.array([[1,0],[0,1]]),np.array([-1,-1]),np.array([[1,0],[0,1]]),10)\n",
    "\n",
    "print(\"Taille de la base jouet générée :\", the_set.size(), \"exemples\")\n"
   ]
  },
  {
   "cell_type": "code",
   "execution_count": 4,
   "metadata": {},
   "outputs": [
    {
     "data": {
      "text/plain": [
       "array([[-1.40959235,  0.24237504],\n",
       "       [ 1.46913508,  0.17944497],\n",
       "       [ 0.77931754,  0.14593904],\n",
       "       [ 1.27382948,  1.31576185],\n",
       "       [ 2.38625562, -0.06360382],\n",
       "       [ 1.05043907,  1.66366171],\n",
       "       [ 1.08997764,  0.72726292],\n",
       "       [ 1.17054323,  1.28638244],\n",
       "       [ 0.52148321, -0.4429917 ],\n",
       "       [ 1.45508284,  1.08740582]])"
      ]
     },
     "execution_count": 4,
     "metadata": {},
     "output_type": "execute_result"
    }
   ],
   "source": [
    "# the_set = ... # définition d'un LabeledSet avec la fonction précédente\n",
    "\n",
    "S= the_set.x[np.where(the_set.y == 1),:]\n",
    "S[0]"
   ]
  },
  {
   "cell_type": "code",
   "execution_count": 5,
   "metadata": {},
   "outputs": [
    {
     "data": {
      "image/png": "[encoded data removed]",
      "text/plain": [
       "<Figure size 432x288 with 1 Axes>"
      ]
     },
     "metadata": {},
     "output_type": "display_data"
    }
   ],
   "source": [
    "# Affichage du dataset généré\n",
    "plot2DSet(the_set)"
   ]
  },
  {
   "cell_type": "markdown",
   "metadata": {},
   "source": [
    "<font color=\"RED\" size=\"+1\">**[Q]**</font> Ecrire la fonction <code>classe_majoritaire()</code> qui, étant donné un LabeledSet rend la classe majoritaire dans l'ensemble (celle qui est possédée par le plus grand nombre d'exemples donc...). En cas d'égalité, cette fonction rend la classe +1."
   ]
  },
  {
   "cell_type": "code",
   "execution_count": 6,
   "metadata": {},
   "outputs": [],
   "source": [
    "def classe_majoritaire(label) :\n",
    "    cpt_p = 0\n",
    "    cpt_m = 0\n",
    "    \n",
    "    for i in range(label.size()) :\n",
    "        if(label.getY(i) > 0) :\n",
    "            cpt_p += 1\n",
    "        else :\n",
    "            cpt_m += 1\n",
    "            \n",
    "    if cpt_m > cpt_p :\n",
    "        return -1\n",
    "    return +1"
   ]
  },
  {
   "cell_type": "code",
   "execution_count": 7,
   "metadata": {},
   "outputs": [
    {
     "data": {
      "text/plain": [
       "1"
      ]
     },
     "execution_count": 7,
     "metadata": {},
     "output_type": "execute_result"
    }
   ],
   "source": [
    "classe_majoritaire(the_set)"
   ]
  },
  {
   "cell_type": "markdown",
   "metadata": {},
   "source": [
    "## Arbres de décision\n",
    "\n",
    "Dans cette étape, on réalise l'implémentation de l'algorithme de construction d'un arbre de décision."
   ]
  },
  {
   "cell_type": "markdown",
   "metadata": {},
   "source": [
    "### Entropie et gain d'information\n",
    "\n",
    "On note $\\{c_1, c_2,..., c_k\\}$, l'ensemble des classes possibles.\n",
    "\n",
    "Dans le cours, la mesure de désordre présentée utilise, pour toute valeur $c$ de la classe le ratio $\\frac{|Y(c)|}{|Y|}$ qui correspond à la probabilité de la classe $c$ parmi $Y$.\n",
    "On note dans ce qui suit $p_1$ la probabilité de la classe $c_1$ parmi $Y$, etc. \n",
    "\n",
    "Ainsi, on a $P=(p_1, p_2,..., p_k)$ la distribution de probabilités sur les classes ainsi définies.\n",
    "\n",
    "L'**entropie de Shannon** de la distribution $P$ est donnée par:\n",
    "\n",
    "$ H_S(P) = -\\sum_{i=1}^{k} p_i \\log_k(p_i)$\n",
    "\n",
    "Le logarithme utilisé est le logarithme en base $k$ afin d'obtenir une valeur normalisée de l'entropie. \n",
    "\n",
    "*Remarque:* avec les notations vues en cours, on a $D(Y) = H_S(P)$.\n",
    "\n",
    "Pour ce qui suit, une *distribution de probabilités* est représentée par une **liste** Python $P=[p_1,...,p_k]$ de valeurs réelles telle que\n",
    "* pour tout $i=1,..., k$ : $0 \\leq p_i \\leq 1$\n",
    "* $\\sum_{i=1}^{k}p_i = 1$\n"
   ]
  },
  {
   "cell_type": "markdown",
   "metadata": {},
   "source": [
    "<font color=\"RED\" size=\"+1\">**[Q]**</font> Ecrire la fonction <code>shannon()</code> qui, étant donné une distribution de probabilités $P$, rend la valeur de $H_S(P)$, l'entropie de Shannon de $P$."
   ]
  },
  {
   "cell_type": "code",
   "execution_count": 8,
   "metadata": {},
   "outputs": [],
   "source": [
    "import math\n",
    "\n",
    "def shannon(ensemble):\n",
    "    k = len(ensemble)\n",
    "    somme = 0\n",
    "    for i in range(k):\n",
    "        if ensemble[i] > 0 :\n",
    "            somme += ensemble[i]*math.log(ensemble[i], k)\n",
    "    return - somme"
   ]
  },
  {
   "cell_type": "code",
   "execution_count": 9,
   "metadata": {},
   "outputs": [
    {
     "name": "stdout",
     "output_type": "stream",
     "text": [
      "P=[1,0] :  -0.0\n",
      "P=[0.25, 0.25, 0.25, 0.25] :  1.0\n",
      "P=[0.7, 0.1, 0.2, 0.0] :  0.5783898247235197\n",
      "P=[1.0/3, 2.0/3] :  0.9182958340544896\n"
     ]
    }
   ],
   "source": [
    "# Exemples d'utilisation:\n",
    "print(\"P=[1,0] : \", shannon([1, 0]))\n",
    "print(\"P=[0.25, 0.25, 0.25, 0.25] : \", shannon([0.25, 0.25, 0.25, 0.25]))\n",
    "print(\"P=[0.7, 0.1, 0.2, 0.0] : \", shannon([0.7, 0.1, 0.2, 0.0]))\n",
    "print(\"P=[1.0/3, 2.0/3] : \", shannon([1.0/3, 2.0/3]))"
   ]
  },
  {
   "cell_type": "markdown",
   "metadata": {},
   "source": [
    "<font color=\"RED\" size=\"+1\">**[Q]**</font> Tracer, à l'aide de la fonction plot, la courbe donnant la valeur de <code>shannon([p, 1-p])</code> en fonction de <code>p</code>."
   ]
  },
  {
   "cell_type": "code",
   "execution_count": 10,
   "metadata": {},
   "outputs": [],
   "source": [
    "import matplotlib.pyplot as plt"
   ]
  },
  {
   "cell_type": "code",
   "execution_count": 11,
   "metadata": {},
   "outputs": [
    {
     "data": {
      "image/png": "[encoded data removed]",
      "text/plain": [
       "<Figure size 432x288 with 1 Axes>"
      ]
     },
     "metadata": {},
     "output_type": "display_data"
    }
   ],
   "source": [
    "def curve():\n",
    "    x = []\n",
    "    y = []\n",
    "    for i in range(0, 101, 1) :\n",
    "        x.append(i/100)\n",
    "        y.append(shannon([i/100, 1-i/100]))\n",
    "    \n",
    "    plt.plot(x, y, label='linear')\n",
    "    plt.show()\n",
    "curve()"
   ]
  },
  {
   "cell_type": "markdown",
   "metadata": {},
   "source": [
    "<font color=\"RED\" size=\"+1\">**[Q]**</font> A l'aide de la fonction <code>shannon()</code>, écrire la fonction <code>entropie()</code> qui prend un LabeledSet en argument et renvoie l'entropie de la distribution des classes dans cet ensemble."
   ]
  },
  {
   "cell_type": "code",
   "execution_count": 12,
   "metadata": {},
   "outputs": [],
   "source": [
    "def entropie(label) :\n",
    "    plus = 0\n",
    "    moins = 0\n",
    "    for i in range(label.size()) :\n",
    "        if(label.getY(i) > 0) :\n",
    "            plus += 1 / label.size()\n",
    "        else :\n",
    "            moins += 1 / label.size()\n",
    "            \n",
    "    return shannon([plus, moins])"
   ]
  },
  {
   "cell_type": "code",
   "execution_count": 13,
   "metadata": {},
   "outputs": [
    {
     "data": {
      "text/plain": [
       "1.0"
      ]
     },
     "execution_count": 13,
     "metadata": {},
     "output_type": "execute_result"
    }
   ],
   "source": [
    "entropie(the_set)"
   ]
  },
  {
   "cell_type": "markdown",
   "metadata": {},
   "source": [
    "Cette fonction <code>entropie</code> permet dont de calculer le désordre des classes dans le LabeledSet considéré."
   ]
  },
  {
   "cell_type": "markdown",
   "metadata": {},
   "source": [
    "### Discrétisation des attributs numériques"
   ]
  },
  {
   "cell_type": "markdown",
   "metadata": {
    "collapsed": true
   },
   "source": [
    "Comme on l'a vu en cours, discrétiser un attribut numérique consiste en trouver un seuil de coupure dans son ensemble de valeurs. \n",
    "\n",
    "Par exemple, soit l'attribut Age contenant les valeurs 17, 18, 20, 27, 35, 37, 40. On discrétise cet attribut en 2 valeurs en prenant, par exemple, le seuil 30: cela permet de séparer d'un côté les valeurs inférieures ou égales à 30, et de l'autre les valeurs strictement supérieures à 30.\n",
    "\n",
    "Le seuil est choisi afin d'optimiser la distribution des classes des exemples qui se trouvent de chaque côté du seuil. Une fois un seuil choisi, on calcule le désordre des classes associées aux exemples de chaque côté du seuil et on agrège les 2 valeurs de désordre obtenues pour déterminer la qualité de la coupure à l'aide de la mesure $Q$ vue en cours.\n",
    "\n",
    "\n",
    "Soit $X$ un ensemble d'exemples, et soit $A$ un attribut que l'on souhaite discrétiser. Pour cela, on constitue l'ensemble des valeurs prises par les exemples de $X$ pour l'attribut $A$. Soit $A_X$ cet ensemble de valeurs.\n",
    "\n",
    "La discrétisation de $A_X$ s'effectue par les étapes suivantes:\n",
    "- Etape 1: ordonner de façon croissante les valeurs de $A_X$;\n",
    "- Etape 2: regarder tous les seuils possibles de coupure entre 2 valeurs consécutives de $A_X$ (on prend comme seuil de coupure la valeur médiane entre ces 2 valeurs). Chaque seuil trouvé créé 2 intervalles qui générent 2 sous-ensembles de $X$: l'ensemble $X_1$ des exemples dont la valeur pour $A$ et inférieure ou égale au seuil, et l'ensemble $X_2$ des exemples dont la valeur pour $A$ et supérieure au seuil. On détermine la qualité du seuil par la mesure de qualité d'un test vue en cours. On note $Q(seuil)$ cette valeur.\n",
    "\n",
    "\n",
    "La meilleure coupure pour discrétiser $A_X$ est celle qui minimise la valeur $Q(seuil)$.\n",
    "\n",
    "\n",
    "Par exemple, soit $X=\\{17, 18, 20, 27, 35, 37, 40\\}$, chaque valeur étant associées aux classes +1, +1, -1, -1, +1, +1, -1 respectivement. Un seuil de coupure possible est $31$ ($31 = \\frac{27+35}{2}$). Ce seuil coupe $X$ en $X_1=\\{17, 18, 20, 27\\}$ et $X_2=\\{35, 37, 40\\}$.\n",
    "\n",
    "- pour $X_1$, la probabilité de chaque classe est: $p(+1)= 0.5$ et $p(-1)=0.5$ donc, $H_S(X_1)=1$;\n",
    "- pour $X_2$, la probabilité de chaque classe est: $p(+1)= \\frac{1}{3}$ et $p(-1)=\\frac{2}{3}$ donc, $H_S(X_2)=0.9182958340544896$;\n",
    "- on a donc: $$Q(seuil=31) = \\frac{4}{7} H_S(X_1) + \\frac{3}{7} H_S(X_2);$$\n",
    "soit $Q(seuil=31) = 0.9182958340544896$"
   ]
  },
  {
   "cell_type": "markdown",
   "metadata": {},
   "source": [
    "On considère que <code>the_set</code> est un LabeledSet construit précédement. Il contient deux variables de type array: $x$ et $y$.\n",
    "\n",
    "Regarder et tester les instructions suivantes, il faut bien comprendre comment elles fonctionnent car on va utiliser les mêmes principes dans les fonctions à écrire."
   ]
  },
  {
   "cell_type": "code",
   "execution_count": 14,
   "metadata": {},
   "outputs": [
    {
     "name": "stdout",
     "output_type": "stream",
     "text": [
      "[[-1.40959235e+00  2.42375041e-01]\n",
      " [-1.52719560e+00  2.38602251e-01]\n",
      " [ 1.46913508e+00  1.79444973e-01]\n",
      " [-2.14074384e+00 -1.43973603e+00]\n",
      " [ 7.79317538e-01  1.45939036e-01]\n",
      " [-8.23378218e-01 -1.32423601e-04]\n",
      " [ 1.27382948e+00  1.31576185e+00]\n",
      " [-1.10439575e+00 -2.49433807e+00]\n",
      " [ 2.38625562e+00 -6.36038242e-02]\n",
      " [-1.02730389e+00  5.04054121e-01]\n",
      " [ 1.05043907e+00  1.66366171e+00]\n",
      " [-1.65728385e+00 -1.30905550e+00]\n",
      " [ 1.08997764e+00  7.27262923e-01]\n",
      " [-1.41904680e+00 -7.11599540e-01]\n",
      " [ 1.17054323e+00  1.28638244e+00]\n",
      " [ 1.33568364e+00 -1.68178742e+00]\n",
      " [ 5.21483210e-01 -4.42991696e-01]\n",
      " [-9.69561960e-01 -5.87175157e-01]\n",
      " [ 1.45508284e+00  1.08740582e+00]\n",
      " [ 5.26094598e-01 -4.31979261e-01]]\n"
     ]
    },
    {
     "data": {
      "text/plain": [
       "array([[ 3,  7],\n",
       "       [11, 15],\n",
       "       [ 1,  3],\n",
       "       [13, 11],\n",
       "       [ 0, 13],\n",
       "       [ 7, 17],\n",
       "       [ 9, 16],\n",
       "       [17, 19],\n",
       "       [ 5,  8],\n",
       "       [16,  5],\n",
       "       [19,  4],\n",
       "       [ 4,  2],\n",
       "       [10,  1],\n",
       "       [12,  0],\n",
       "       [14,  9],\n",
       "       [ 6, 12],\n",
       "       [15, 18],\n",
       "       [18, 14],\n",
       "       [ 2,  6],\n",
       "       [ 8, 10]])"
      ]
     },
     "execution_count": 14,
     "metadata": {},
     "output_type": "execute_result"
    }
   ],
   "source": [
    "ind= np.argsort(the_set.x,axis=0)   # Tri des valeurs de the_set.x selon les colonnes. \n",
    "                                    # La fonction rend un numpy.ndarray contenant autant de \n",
    "                                    # colonnes que the_set.x et dans chaque colonne, on a \n",
    "print(the_set.x)                              # la position de l'exemple dans l'ordonnancement croissant.\n",
    "ind # pour afficher"
   ]
  },
  {
   "cell_type": "code",
   "execution_count": 15,
   "metadata": {},
   "outputs": [
    {
     "data": {
      "text/plain": [
       "array([[-2.14074384e+00, -1.43973603e+00],\n",
       "       [-1.65728385e+00, -1.30905550e+00],\n",
       "       [-1.52719560e+00,  2.38602251e-01],\n",
       "       [-1.41904680e+00, -7.11599540e-01],\n",
       "       [-1.40959235e+00,  2.42375041e-01],\n",
       "       [-1.10439575e+00, -2.49433807e+00],\n",
       "       [-1.02730389e+00,  5.04054121e-01],\n",
       "       [-9.69561960e-01, -5.87175157e-01],\n",
       "       [-8.23378218e-01, -1.32423601e-04],\n",
       "       [ 5.21483210e-01, -4.42991696e-01],\n",
       "       [ 5.26094598e-01, -4.31979261e-01],\n",
       "       [ 7.79317538e-01,  1.45939036e-01],\n",
       "       [ 1.05043907e+00,  1.66366171e+00],\n",
       "       [ 1.08997764e+00,  7.27262923e-01],\n",
       "       [ 1.17054323e+00,  1.28638244e+00],\n",
       "       [ 1.27382948e+00,  1.31576185e+00],\n",
       "       [ 1.33568364e+00, -1.68178742e+00],\n",
       "       [ 1.45508284e+00,  1.08740582e+00],\n",
       "       [ 1.46913508e+00,  1.79444973e-01],\n",
       "       [ 2.38625562e+00, -6.36038242e-02]])"
      ]
     },
     "execution_count": 15,
     "metadata": {},
     "output_type": "execute_result"
    }
   ],
   "source": [
    "the_set.x[ind[0:len(the_set.x),0]]  # Rend le numpy.array des exemples de the_set.x ordonnés\n",
    "                                    # selon les indices donnés dans ind (colonne 0)\n"
   ]
  },
  {
   "cell_type": "code",
   "execution_count": 16,
   "metadata": {},
   "outputs": [
    {
     "data": {
      "text/plain": [
       "array([[-1],\n",
       "       [-1],\n",
       "       [-1],\n",
       "       [-1],\n",
       "       [ 1],\n",
       "       [-1],\n",
       "       [-1],\n",
       "       [-1],\n",
       "       [-1],\n",
       "       [ 1],\n",
       "       [-1],\n",
       "       [ 1],\n",
       "       [ 1],\n",
       "       [ 1],\n",
       "       [ 1],\n",
       "       [ 1],\n",
       "       [-1],\n",
       "       [ 1],\n",
       "       [ 1],\n",
       "       [ 1]])"
      ]
     },
     "execution_count": 16,
     "metadata": {},
     "output_type": "execute_result"
    }
   ],
   "source": [
    "the_set.y[ind[0:len(the_set.y),0]]  # Rend le numpy.array des exemples de the_set.y ordonnés\n",
    "                                    # selon les indices donnés dans ind (colonne 0)"
   ]
  },
  {
   "cell_type": "code",
   "execution_count": 17,
   "metadata": {},
   "outputs": [
    {
     "name": "stdout",
     "output_type": "stream",
     "text": [
      "valeur= -2.4943380656723546 classe=  -1\n",
      "valeur= -1.6817874203608754 classe=  -1\n",
      "valeur= -1.439736031727397 classe=  -1\n",
      "valeur= -1.3090554986109777 classe=  -1\n",
      "valeur= -0.71159954005019 classe=  -1\n",
      "valeur= -0.5871751569545682 classe=  -1\n",
      "valeur= -0.4429916962076752 classe=  1\n",
      "valeur= -0.4319792609730885 classe=  -1\n",
      "valeur= -0.06360382418791444 classe=  1\n",
      "valeur= -0.00013242360125553798 classe=  -1\n",
      "valeur= 0.14593903575127343 classe=  1\n",
      "valeur= 0.17944497296267525 classe=  1\n",
      "valeur= 0.23860225069771923 classe=  -1\n",
      "valeur= 0.24237504134989707 classe=  1\n",
      "valeur= 0.5040541208557034 classe=  -1\n",
      "valeur= 0.7272629232636512 classe=  1\n",
      "valeur= 1.0874058173132262 classe=  1\n",
      "valeur= 1.2863824396756298 classe=  1\n",
      "valeur= 1.3157618529565327 classe=  1\n",
      "valeur= 1.6636617104346478 classe=  1\n"
     ]
    }
   ],
   "source": [
    "colonne = 1    # numéro de la colonne de the_set.x à considérer\n",
    "for v_i in ind[0:len(the_set.x)]:\n",
    "    i = v_i[colonne]\n",
    "    exem = the_set.getX(i)\n",
    "    clas = the_set.getY(i)\n",
    "    print(\"valeur=\",exem[colonne], \"classe= \", clas[0])"
   ]
  },
  {
   "cell_type": "markdown",
   "metadata": {},
   "source": [
    "Etant donné un LabeledSet, ainsi qu'un numéro de colonne à considérer (qui correspond à un des attributs de description), la fonction <code>discrétise()</code> rend un tuple constitué de la valeur de coupure qui optimise la mesure de qualité, et de la valeur trouvée pour cette mesure."
   ]
  },
  {
   "cell_type": "code",
   "execution_count": 18,
   "metadata": {},
   "outputs": [],
   "source": [
    "def discretise(LSet, col):\n",
    "    \"\"\" LabelledSet * int -> tuple[float, float]\n",
    "        Hypothèse: LSet.size() >= 2\n",
    "        col est le numéro de colonne sur X à discrétiser\n",
    "        rend la valeur de coupure qui minimise l'entropie ainsi que son entropie.\n",
    "    \"\"\"\n",
    "    # initialisation:\n",
    "    min_entropie = 1.1  # on met à une valeur max car on veut minimiser\n",
    "    min_seuil = 0.0     \n",
    "    # trie des valeurs:\n",
    "    ind= np.argsort(LSet.x,axis=0)\n",
    "    \n",
    "    # calcul des distributions des classes pour E1 et E2:\n",
    "    inf_plus  = 0               # nombre de +1 dans E1\n",
    "    inf_moins = 0               # nombre de -1 dans E1\n",
    "    sup_plus  = 0               # nombre de +1 dans E2\n",
    "    sup_moins = 0               # nombre de -1 dans E2       \n",
    "    # remarque: au départ on considère que E1 est vide et donc E2 correspond à E. \n",
    "    # Ainsi inf_plus et inf_moins valent 0. Il reste à calculer sup_plus et sup_moins \n",
    "    # dans E.\n",
    "    for j in range(0,LSet.size()):\n",
    "        if (LSet.getY(j) == -1):\n",
    "            sup_moins += 1\n",
    "        else:\n",
    "            sup_plus += 1\n",
    "    nb_total = (sup_plus + sup_moins) # nombre d'exemples total dans E\n",
    "    \n",
    "    # parcours pour trouver le meilleur seuil:\n",
    "    for i in range(len(LSet.x)-1):\n",
    "        v_ind_i = ind[i]   # vecteur d'indices\n",
    "        courant = LSet.getX(v_ind_i[col])[col]\n",
    "        lookahead = LSet.getX(ind[i+1][col])[col]\n",
    "        val_seuil = (courant + lookahead) / 2.0;\n",
    "        # M-A-J de la distrib. des classes:\n",
    "        # pour réduire les traitements: on retire un exemple de E2 et on le place\n",
    "        # dans E1, c'est ainsi que l'on déplace donc le seuil de coupure.\n",
    "        if LSet.getY(ind[i][col])[0] == -1:\n",
    "            inf_moins += 1\n",
    "            sup_moins -= 1\n",
    "        else:\n",
    "            inf_plus += 1\n",
    "            sup_plus -= 1\n",
    "        # calcul de la distribution des classes de chaque côté du seuil:\n",
    "        nb_inf = (inf_moins + inf_plus)*1.0     # rem: on en fait un float pour éviter\n",
    "        nb_sup = (sup_moins + sup_plus)*1.0     # que ce soit une division entière.\n",
    "        # calcul de l'entropie de la coupure\n",
    "        val_entropie_inf = shannon([inf_moins / nb_inf, inf_plus  / nb_inf])\n",
    "        val_entropie_sup = shannon([sup_moins / nb_sup, sup_plus  / nb_sup])\n",
    "        val_entropie = (nb_inf / nb_total) * val_entropie_inf \\\n",
    "                       + (nb_sup / nb_total) * val_entropie_sup\n",
    "        # si cette coupure minimise l'entropie, on mémorise ce seuil et son entropie:\n",
    "        if (min_entropie > val_entropie):\n",
    "            min_entropie = val_entropie\n",
    "            min_seuil = val_seuil\n",
    "    return (min_seuil, min_entropie)"
   ]
  },
  {
   "cell_type": "code",
   "execution_count": 19,
   "metadata": {},
   "outputs": [
    {
     "data": {
      "text/plain": [
       "(-0.15094750392291345, 0.6026873902505135)"
      ]
     },
     "execution_count": 19,
     "metadata": {},
     "output_type": "execute_result"
    }
   ],
   "source": [
    "discretise(the_set,0) # le résultat dépend, bien sûr, de la base jouet"
   ]
  },
  {
   "cell_type": "code",
   "execution_count": 20,
   "metadata": {},
   "outputs": [
    {
     "data": {
      "text/plain": [
       "(-0.5150834265811217, 0.6041843979966417)"
      ]
     },
     "execution_count": 20,
     "metadata": {},
     "output_type": "execute_result"
    }
   ],
   "source": [
    "discretise(the_set,1) # le résultat dépend, bien sûr, de la base jouet"
   ]
  },
  {
   "cell_type": "markdown",
   "metadata": {},
   "source": [
    "Une dernière fonction utile permet de diviser une base d'exemples en 2 sous-bases en utilisant un seuil sur la valeur d'un attribut donné.\n",
    "\n",
    "<font color=\"RED\" size=\"+1\">**[Q]**</font> Ecrire la fonction divise() dont la spécification est:\n",
    "\n",
    "    def divise(LSet,att,seuil):\n",
    "        \"\"\" LSet: LabeledSet\n",
    "            att : numéro d'attribut\n",
    "            seuil : valeur de seuil\n",
    "            rend le tuple contenant les 2 sous-LabeledSet obtenus par la\n",
    "            division de LSet selon le seuil sur l'attribut att\n",
    "        \"\"\"\n",
    "\n"
   ]
  },
  {
   "cell_type": "code",
   "execution_count": 21,
   "metadata": {},
   "outputs": [],
   "source": [
    "def divise(LSet, att, seuil):\n",
    "    result1 = ls.LabeledSet(LSet.input_dimension)\n",
    "    result2 = ls.LabeledSet(LSet.input_dimension)\n",
    "    for i in range(LSet.size()):\n",
    "        if(LSet.getX(i)[att] > seuil):\n",
    "            result1.addExample(LSet.getX(i), LSet.getY(i))\n",
    "        else:\n",
    "            result2.addExample(LSet.getX(i), LSet.getY(i))\n",
    "    return (result2, result1)"
   ]
  },
  {
   "cell_type": "code",
   "execution_count": 22,
   "metadata": {},
   "outputs": [
    {
     "name": "stdout",
     "output_type": "stream",
     "text": [
      "entropie inférieur: 0.5032583347756454  / entropie supérieur: 0.6840384356390415\n"
     ]
    }
   ],
   "source": [
    "Linf, Lsup = divise(the_set,0,-0.5)\n",
    "print(\"entropie inférieur:\",entropie(Linf),\" / entropie supérieur:\", entropie(Lsup))\n",
    "# remarque: les résultats dépendent de votre base jouet..."
   ]
  },
  {
   "cell_type": "markdown",
   "metadata": {},
   "source": [
    "### Représentation d'un arbre en Python"
   ]
  },
  {
   "cell_type": "markdown",
   "metadata": {},
   "source": [
    "Un arbre de décision doit être représenté en Python, pour cela, on utilise la classe <code>ArbreBinaire</code> suivante:"
   ]
  },
  {
   "cell_type": "code",
   "execution_count": 23,
   "metadata": {},
   "outputs": [],
   "source": [
    "import graphviz as gv\n",
    "# Eventuellement, il peut être nécessaire d'installer graphviz sur votre compte:\n",
    "# pip install --user --install-option=\"--prefix=\" -U graphviz\n",
    "\n",
    "\n",
    "class ArbreBinaire:\n",
    "    def __init__(self):\n",
    "        self.attribut = None   # numéro de l'attribut\n",
    "        self.seuil = None\n",
    "        self.inferieur = None # ArbreBinaire Gauche (valeurs <= au seuil)\n",
    "        self.superieur = None # ArbreBinaire Gauche (valeurs > au seuil)\n",
    "        self.classe = None # Classe si c'est une feuille: -1 ou +1\n",
    "        \n",
    "    def est_feuille(self):\n",
    "        \"\"\" rend True si l'arbre est une feuille \"\"\"\n",
    "        return self.seuil == None\n",
    "    \n",
    "    def ajoute_fils(self,ABinf,ABsup,att,seuil):\n",
    "        \"\"\" ABinf, ABsup: 2 arbres binaires\n",
    "            att: numéro d'attribut\n",
    "            seuil: valeur de seuil\n",
    "        \"\"\"\n",
    "        self.attribut = att\n",
    "        self.seuil = seuil\n",
    "        self.inferieur = ABinf\n",
    "        self.superieur = ABsup\n",
    "    \n",
    "    def ajoute_feuille(self,classe):\n",
    "        \"\"\" classe: -1 ou + 1\n",
    "        \"\"\"\n",
    "        self.classe = classe\n",
    "        \n",
    "    def classifie(self,exemple):\n",
    "        \"\"\" exemple : numpy.array\n",
    "            rend la classe de l'exemple: +1 ou -1\n",
    "        \"\"\"\n",
    "        if self.est_feuille():\n",
    "            return self.classe\n",
    "        if exemple[self.attribut] <= self.seuil:\n",
    "            return self.inferieur.classifie(exemple)\n",
    "        return self.superieur.classifie(exemple)\n",
    "    \n",
    "    def to_graph(self, g, prefixe='A'):\n",
    "        \"\"\" construit une représentation de l'arbre pour pouvoir\n",
    "            l'afficher\n",
    "        \"\"\"\n",
    "        if self.est_feuille():\n",
    "            g.node(prefixe,str(self.classe),shape='box')\n",
    "        else:\n",
    "            g.node(prefixe, str(self.attribut))\n",
    "            self.inferieur.to_graph(g,prefixe+\"g\")\n",
    "            self.superieur.to_graph(g,prefixe+\"d\")\n",
    "            g.edge(prefixe,prefixe+\"g\", '<='+ str(self.seuil))\n",
    "            g.edge(prefixe,prefixe+\"d\", '>'+ str(self.seuil))\n",
    "        \n",
    "        return g"
   ]
  },
  {
   "cell_type": "code",
   "execution_count": 24,
   "metadata": {},
   "outputs": [
    {
     "data": {
      "image/svg+xml": [
       "<?xml version=\"1.0\" encoding=\"UTF-8\" standalone=\"no\"?>\n",
       "<!DOCTYPE svg PUBLIC \"-//W3C//DTD SVG 1.1//EN\"\n",
       " \"http://www.w3.org/Graphics/SVG/1.1/DTD/svg11.dtd\">\n",
       "<!-- Generated by graphviz version 2.38.0 (20140413.2041)\n",
       " -->\n",
       "<!-- Title: %3 Pages: 1 -->\n",
       "<svg width=\"134pt\" height=\"131pt\"\n",
       " viewBox=\"0.00 0.00 134.00 131.00\" xmlns=\"http://www.w3.org/2000/svg\" xmlns:xlink=\"http://www.w3.org/1999/xlink\">\n",
       "<g id=\"graph0\" class=\"graph\" transform=\"scale(1 1) rotate(0) translate(4 127)\">\n",
       "<title>%3</title>\n",
       "<polygon fill=\"white\" stroke=\"none\" points=\"-4,4 -4,-127 130,-127 130,4 -4,4\"/>\n",
       "<!-- A -->\n",
       "<g id=\"node1\" class=\"node\"><title>A</title>\n",
       "<ellipse fill=\"none\" stroke=\"black\" cx=\"63\" cy=\"-105\" rx=\"27\" ry=\"18\"/>\n",
       "<text text-anchor=\"middle\" x=\"63\" y=\"-101.3\" font-family=\"Times,serif\" font-size=\"14.00\">nom</text>\n",
       "</g>\n",
       "<!-- Ag -->\n",
       "<g id=\"node2\" class=\"node\"><title>Ag</title>\n",
       "<polygon fill=\"none\" stroke=\"black\" points=\"54,-36 0,-36 0,-0 54,-0 54,-36\"/>\n",
       "<text text-anchor=\"middle\" x=\"27\" y=\"-14.3\" font-family=\"Times,serif\" font-size=\"14.00\">1</text>\n",
       "</g>\n",
       "<!-- A&#45;&gt;Ag -->\n",
       "<g id=\"edge1\" class=\"edge\"><title>A&#45;&gt;Ag</title>\n",
       "<path fill=\"none\" stroke=\"black\" d=\"M49.171,-89.3516C44.2998,-83.4397 39.2368,-76.2955 36,-69 32.8522,-61.9053 30.8051,-53.78 29.4738,-46.171\"/>\n",
       "<polygon fill=\"black\" stroke=\"black\" points=\"32.9377,-45.6687 28.0661,-36.2603 26.0073,-46.6532 32.9377,-45.6687\"/>\n",
       "<text text-anchor=\"middle\" x=\"56.5\" y=\"-57.8\" font-family=\"Times,serif\" font-size=\"14.00\">&lt;=42.0</text>\n",
       "</g>\n",
       "<!-- Ad -->\n",
       "<g id=\"node3\" class=\"node\"><title>Ad</title>\n",
       "<polygon fill=\"none\" stroke=\"black\" points=\"126,-36 72,-36 72,-0 126,-0 126,-36\"/>\n",
       "<text text-anchor=\"middle\" x=\"99\" y=\"-14.3\" font-family=\"Times,serif\" font-size=\"14.00\">2</text>\n",
       "</g>\n",
       "<!-- A&#45;&gt;Ad -->\n",
       "<g id=\"edge2\" class=\"edge\"><title>A&#45;&gt;Ad</title>\n",
       "<path fill=\"none\" stroke=\"black\" d=\"M70.1124,-87.2067C75.1581,-75.2934 82.032,-59.0634 87.8086,-45.4242\"/>\n",
       "<polygon fill=\"black\" stroke=\"black\" points=\"91.102,-46.6225 91.7791,-36.0493 84.6563,-43.8925 91.102,-46.6225\"/>\n",
       "<text text-anchor=\"middle\" x=\"99.5\" y=\"-57.8\" font-family=\"Times,serif\" font-size=\"14.00\">&gt;42.0</text>\n",
       "</g>\n",
       "</g>\n",
       "</svg>\n"
      ],
      "text/plain": [
       "<graphviz.dot.Digraph at 0x7f14df777f60>"
      ]
     },
     "execution_count": 24,
     "metadata": {},
     "output_type": "execute_result"
    }
   ],
   "source": [
    "# Exemple d'utilisation: \n",
    "un_arbre= ArbreBinaire()\n",
    "un_arbre.ajoute_feuille(1)\n",
    "un_arbre.est_feuille()\n",
    "un_arbre1 = ArbreBinaire()\n",
    "un_arbre1.ajoute_feuille(2)\n",
    "un_arbre2 = ArbreBinaire()\n",
    "un_arbre2.ajoute_fils(un_arbre,un_arbre1,\"nom\",42.0)\n",
    "\n",
    "gtree = gv.Digraph(format='png')\n",
    "un_arbre2.to_graph(gtree)"
   ]
  },
  {
   "cell_type": "markdown",
   "metadata": {},
   "source": [
    "### Construction de l'arbre de décision"
   ]
  },
  {
   "cell_type": "markdown",
   "metadata": {},
   "source": [
    "Pour construire un arbre de décision, il faut réaliser les étapes suivantes:\n",
    "- si l'entropie de Shannon de la distribution des classes de l'ensemble courant est inférieure à epsilon (réel positif fixé et qui est un paramètre de l'algorithme), alors construire une feuille avec cet ensemble, la classe associée à cette feuille est la classe majoritaire;\n",
    "- sinon, pour chaque attribut, calculer le seuil de discrétisation et l'entropie de Shannon correspondante\n",
    "    - choisir l'attribut qui donne une valeur d'entropie minimale\n",
    "    - l'attribut choisi sert à constituer un noeud de l'arbre de décision, les arcs issus de ce noeud sont labeller par un test (inférieur ou égal ou supérieur) par rapport au seuil trouvé\n",
    "    \n",
    "    \n",
    "<font color=\"RED\" size=\"+1\">**[Q]**</font> Ecrire la fonction qui construit un arbre de décision (binaire) à partir d'une base d'exemples. En plus de la base d'exemples, on utilise un argument \"epsilon\" qui est un réel >0 et qui sert pour le critère d'arrêt.\n",
    "Cette fonction a la spécification suivante:\n",
    "\n",
    "    def construit_AD(LSet,epsilon):\n",
    "        \"\"\" LSet : LabeledSet\n",
    "            epsilon : seuil d'entropie pour le critère d'arrêt \n",
    "        \"\"\"\n"
   ]
  },
  {
   "cell_type": "code",
   "execution_count": 25,
   "metadata": {},
   "outputs": [],
   "source": [
    "def construit_AD(LSet, epsilon):\n",
    "    result = ArbreBinaire()\n",
    "    if(entropie(LSet) <= epsilon) :\n",
    "        result.ajoute_feuille(classe_majoritaire(LSet))\n",
    "    else :\n",
    "        mini_seuil, mini_ent = discretise(LSet, 0)\n",
    "        indice = 0\n",
    "        for i in range(1, LSet.input_dimension):\n",
    "            seuil, e = discretise(LSet, i)\n",
    "            if( e < mini_ent) :\n",
    "                mini_ent = e\n",
    "                indice = i\n",
    "                mini_seuil = seuil\n",
    "        inf, sup = divise(LSet, indice, mini_seuil)\n",
    "        result.ajoute_fils(construit_AD(inf, epsilon), construit_AD(sup, epsilon), indice, mini_seuil)  \n",
    "    return result       \n",
    "        "
   ]
  },
  {
   "cell_type": "code",
   "execution_count": 26,
   "metadata": {},
   "outputs": [
    {
     "data": {
      "image/svg+xml": [
       "<?xml version=\"1.0\" encoding=\"UTF-8\" standalone=\"no\"?>\n",
       "<!DOCTYPE svg PUBLIC \"-//W3C//DTD SVG 1.1//EN\"\n",
       " \"http://www.w3.org/Graphics/SVG/1.1/DTD/svg11.dtd\">\n",
       "<!-- Generated by graphviz version 2.38.0 (20140413.2041)\n",
       " -->\n",
       "<!-- Title: %3 Pages: 1 -->\n",
       "<svg width=\"945pt\" height=\"392pt\"\n",
       " viewBox=\"0.00 0.00 945.00 392.00\" xmlns=\"http://www.w3.org/2000/svg\" xmlns:xlink=\"http://www.w3.org/1999/xlink\">\n",
       "<g id=\"graph0\" class=\"graph\" transform=\"scale(1 1) rotate(0) translate(4 388)\">\n",
       "<title>%3</title>\n",
       "<polygon fill=\"white\" stroke=\"none\" points=\"-4,4 -4,-388 941,-388 941,4 -4,4\"/>\n",
       "<!-- A -->\n",
       "<g id=\"node1\" class=\"node\"><title>A</title>\n",
       "<ellipse fill=\"none\" stroke=\"black\" cx=\"504\" cy=\"-366\" rx=\"27\" ry=\"18\"/>\n",
       "<text text-anchor=\"middle\" x=\"504\" y=\"-362.3\" font-family=\"Times,serif\" font-size=\"14.00\">0</text>\n",
       "</g>\n",
       "<!-- Ag -->\n",
       "<g id=\"node2\" class=\"node\"><title>Ag</title>\n",
       "<ellipse fill=\"none\" stroke=\"black\" cx=\"405\" cy=\"-279\" rx=\"27\" ry=\"18\"/>\n",
       "<text text-anchor=\"middle\" x=\"405\" y=\"-275.3\" font-family=\"Times,serif\" font-size=\"14.00\">1</text>\n",
       "</g>\n",
       "<!-- A&#45;&gt;Ag -->\n",
       "<g id=\"edge13\" class=\"edge\"><title>A&#45;&gt;Ag</title>\n",
       "<path fill=\"none\" stroke=\"black\" d=\"M478.603,-359.687C460.86,-354.761 437.79,-345.742 423,-330 416.982,-323.595 412.95,-315.032 410.26,-306.806\"/>\n",
       "<polygon fill=\"black\" stroke=\"black\" points=\"413.62,-305.823 407.6,-297.105 406.869,-307.674 413.62,-305.823\"/>\n",
       "<text text-anchor=\"middle\" x=\"496.5\" y=\"-318.8\" font-family=\"Times,serif\" font-size=\"14.00\">&lt;=&#45;0.15094750392291345</text>\n",
       "</g>\n",
       "<!-- Ad -->\n",
       "<g id=\"node11\" class=\"node\"><title>Ad</title>\n",
       "<ellipse fill=\"none\" stroke=\"black\" cx=\"614\" cy=\"-279\" rx=\"27\" ry=\"18\"/>\n",
       "<text text-anchor=\"middle\" x=\"614\" y=\"-275.3\" font-family=\"Times,serif\" font-size=\"14.00\">1</text>\n",
       "</g>\n",
       "<!-- A&#45;&gt;Ad -->\n",
       "<g id=\"edge14\" class=\"edge\"><title>A&#45;&gt;Ad</title>\n",
       "<path fill=\"none\" stroke=\"black\" d=\"M526.302,-355.646C539.695,-349.447 556.665,-340.529 570,-330 579.588,-322.429 588.757,-312.591 596.219,-303.646\"/>\n",
       "<polygon fill=\"black\" stroke=\"black\" points=\"599.012,-305.758 602.555,-295.773 593.559,-301.369 599.012,-305.758\"/>\n",
       "<text text-anchor=\"middle\" x=\"656.5\" y=\"-318.8\" font-family=\"Times,serif\" font-size=\"14.00\">&gt;&#45;0.15094750392291345</text>\n",
       "</g>\n",
       "<!-- Agg -->\n",
       "<g id=\"node3\" class=\"node\"><title>Agg</title>\n",
       "<ellipse fill=\"none\" stroke=\"black\" cx=\"190\" cy=\"-192\" rx=\"27\" ry=\"18\"/>\n",
       "<text text-anchor=\"middle\" x=\"190\" y=\"-188.3\" font-family=\"Times,serif\" font-size=\"14.00\">0</text>\n",
       "</g>\n",
       "<!-- Ag&#45;&gt;Agg -->\n",
       "<g id=\"edge7\" class=\"edge\"><title>Ag&#45;&gt;Agg</title>\n",
       "<path fill=\"none\" stroke=\"black\" d=\"M378.67,-274.847C348.627,-270.544 298.545,-261.193 259,-243 242.463,-235.392 225.882,-223.546 213.12,-213.294\"/>\n",
       "<polygon fill=\"black\" stroke=\"black\" points=\"215.261,-210.523 205.324,-206.848 210.8,-215.918 215.261,-210.523\"/>\n",
       "<text text-anchor=\"middle\" x=\"330\" y=\"-231.8\" font-family=\"Times,serif\" font-size=\"14.00\">&lt;=0.24048864602380815</text>\n",
       "</g>\n",
       "<!-- Agd -->\n",
       "<g id=\"node8\" class=\"node\"><title>Agd</title>\n",
       "<ellipse fill=\"none\" stroke=\"black\" cx=\"405\" cy=\"-192\" rx=\"27\" ry=\"18\"/>\n",
       "<text text-anchor=\"middle\" x=\"405\" y=\"-188.3\" font-family=\"Times,serif\" font-size=\"14.00\">0</text>\n",
       "</g>\n",
       "<!-- Ag&#45;&gt;Agd -->\n",
       "<g id=\"edge8\" class=\"edge\"><title>Ag&#45;&gt;Agd</title>\n",
       "<path fill=\"none\" stroke=\"black\" d=\"M405,-260.799C405,-249.163 405,-233.548 405,-220.237\"/>\n",
       "<polygon fill=\"black\" stroke=\"black\" points=\"408.5,-220.175 405,-210.175 401.5,-220.175 408.5,-220.175\"/>\n",
       "<text text-anchor=\"middle\" x=\"472\" y=\"-231.8\" font-family=\"Times,serif\" font-size=\"14.00\">&gt;0.24048864602380815</text>\n",
       "</g>\n",
       "<!-- Aggg -->\n",
       "<g id=\"node4\" class=\"node\"><title>Aggg</title>\n",
       "<polygon fill=\"none\" stroke=\"black\" points=\"54,-123 0,-123 0,-87 54,-87 54,-123\"/>\n",
       "<text text-anchor=\"middle\" x=\"27\" y=\"-101.3\" font-family=\"Times,serif\" font-size=\"14.00\">&#45;1</text>\n",
       "</g>\n",
       "<!-- Agg&#45;&gt;Aggg -->\n",
       "<g id=\"edge3\" class=\"edge\"><title>Agg&#45;&gt;Aggg</title>\n",
       "<path fill=\"none\" stroke=\"black\" d=\"M162.988,-191.595C131.224,-190.843 78.6977,-184.854 46,-156 39.1939,-149.994 34.8153,-141.285 32.0026,-132.812\"/>\n",
       "<polygon fill=\"black\" stroke=\"black\" points=\"35.3758,-131.878 29.3685,-123.151 28.6224,-133.72 35.3758,-131.878\"/>\n",
       "<text text-anchor=\"middle\" x=\"116\" y=\"-144.8\" font-family=\"Times,serif\" font-size=\"14.00\">&lt;=&#45;1.8990138473688387</text>\n",
       "</g>\n",
       "<!-- Aggd -->\n",
       "<g id=\"node5\" class=\"node\"><title>Aggd</title>\n",
       "<ellipse fill=\"none\" stroke=\"black\" cx=\"190\" cy=\"-105\" rx=\"27\" ry=\"18\"/>\n",
       "<text text-anchor=\"middle\" x=\"190\" y=\"-101.3\" font-family=\"Times,serif\" font-size=\"14.00\">0</text>\n",
       "</g>\n",
       "<!-- Agg&#45;&gt;Aggd -->\n",
       "<g id=\"edge4\" class=\"edge\"><title>Agg&#45;&gt;Aggd</title>\n",
       "<path fill=\"none\" stroke=\"black\" d=\"M190,-173.799C190,-162.163 190,-146.548 190,-133.237\"/>\n",
       "<polygon fill=\"black\" stroke=\"black\" points=\"193.5,-133.175 190,-123.175 186.5,-133.175 193.5,-133.175\"/>\n",
       "<text text-anchor=\"middle\" x=\"256\" y=\"-144.8\" font-family=\"Times,serif\" font-size=\"14.00\">&gt;&#45;1.8990138473688387</text>\n",
       "</g>\n",
       "<!-- Aggdg -->\n",
       "<g id=\"node6\" class=\"node\"><title>Aggdg</title>\n",
       "<polygon fill=\"none\" stroke=\"black\" points=\"136,-36 82,-36 82,-0 136,-0 136,-36\"/>\n",
       "<text text-anchor=\"middle\" x=\"109\" y=\"-14.3\" font-family=\"Times,serif\" font-size=\"14.00\">&#45;1</text>\n",
       "</g>\n",
       "<!-- Aggd&#45;&gt;Aggdg -->\n",
       "<g id=\"edge1\" class=\"edge\"><title>Aggd&#45;&gt;Aggdg</title>\n",
       "<path fill=\"none\" stroke=\"black\" d=\"M163.653,-100.007C145.268,-95.7086 121.962,-86.8974 110,-69 105.572,-62.3749 104.19,-54.0734 104.24,-46.1492\"/>\n",
       "<polygon fill=\"black\" stroke=\"black\" points=\"107.734,-46.3563 104.994,-36.122 100.754,-45.8314 107.734,-46.3563\"/>\n",
       "<text text-anchor=\"middle\" x=\"180\" y=\"-57.8\" font-family=\"Times,serif\" font-size=\"14.00\">&lt;=&#45;1.5922397258691807</text>\n",
       "</g>\n",
       "<!-- Aggdd -->\n",
       "<g id=\"node7\" class=\"node\"><title>Aggdd</title>\n",
       "<polygon fill=\"none\" stroke=\"black\" points=\"299,-36 245,-36 245,-0 299,-0 299,-36\"/>\n",
       "<text text-anchor=\"middle\" x=\"272\" y=\"-14.3\" font-family=\"Times,serif\" font-size=\"14.00\">&#45;1</text>\n",
       "</g>\n",
       "<!-- Aggd&#45;&gt;Aggdd -->\n",
       "<g id=\"edge2\" class=\"edge\"><title>Aggd&#45;&gt;Aggdd</title>\n",
       "<path fill=\"none\" stroke=\"black\" d=\"M212.583,-94.9995C224.956,-89.1299 239.802,-80.4268 250,-69 255.926,-62.3598 260.463,-53.869 263.834,-45.7766\"/>\n",
       "<polygon fill=\"black\" stroke=\"black\" points=\"267.17,-46.8472 267.382,-36.2545 260.611,-44.4031 267.17,-46.8472\"/>\n",
       "<text text-anchor=\"middle\" x=\"326\" y=\"-57.8\" font-family=\"Times,serif\" font-size=\"14.00\">&gt;&#45;1.5922397258691807</text>\n",
       "</g>\n",
       "<!-- Agdg -->\n",
       "<g id=\"node9\" class=\"node\"><title>Agdg</title>\n",
       "<polygon fill=\"none\" stroke=\"black\" points=\"372,-123 318,-123 318,-87 372,-87 372,-123\"/>\n",
       "<text text-anchor=\"middle\" x=\"345\" y=\"-101.3\" font-family=\"Times,serif\" font-size=\"14.00\">1</text>\n",
       "</g>\n",
       "<!-- Agd&#45;&gt;Agdg -->\n",
       "<g id=\"edge5\" class=\"edge\"><title>Agd&#45;&gt;Agdg</title>\n",
       "<path fill=\"none\" stroke=\"black\" d=\"M381.257,-183.378C368.426,-177.921 353.676,-169.171 346,-156 342.093,-149.296 340.792,-141.178 340.753,-133.452\"/>\n",
       "<polygon fill=\"black\" stroke=\"black\" points=\"344.256,-133.518 341.358,-123.327 337.268,-133.101 344.256,-133.518\"/>\n",
       "<text text-anchor=\"middle\" x=\"416\" y=\"-144.8\" font-family=\"Times,serif\" font-size=\"14.00\">&lt;=&#45;1.2184481220070376</text>\n",
       "</g>\n",
       "<!-- Agdd -->\n",
       "<g id=\"node10\" class=\"node\"><title>Agdd</title>\n",
       "<polygon fill=\"none\" stroke=\"black\" points=\"535,-123 481,-123 481,-87 535,-87 535,-123\"/>\n",
       "<text text-anchor=\"middle\" x=\"508\" y=\"-101.3\" font-family=\"Times,serif\" font-size=\"14.00\">&#45;1</text>\n",
       "</g>\n",
       "<!-- Agd&#45;&gt;Agdd -->\n",
       "<g id=\"edge6\" class=\"edge\"><title>Agd&#45;&gt;Agdd</title>\n",
       "<path fill=\"none\" stroke=\"black\" d=\"M430.449,-185.264C447.986,-180.165 470.785,-171.115 486,-156 492.48,-149.563 497.198,-140.892 500.563,-132.58\"/>\n",
       "<polygon fill=\"black\" stroke=\"black\" points=\"503.866,-133.736 503.916,-123.141 497.27,-131.393 503.866,-133.736\"/>\n",
       "<text text-anchor=\"middle\" x=\"563\" y=\"-144.8\" font-family=\"Times,serif\" font-size=\"14.00\">&gt;&#45;1.2184481220070376</text>\n",
       "</g>\n",
       "<!-- Adg -->\n",
       "<g id=\"node12\" class=\"node\"><title>Adg</title>\n",
       "<ellipse fill=\"none\" stroke=\"black\" cx=\"663\" cy=\"-192\" rx=\"27\" ry=\"18\"/>\n",
       "<text text-anchor=\"middle\" x=\"663\" y=\"-188.3\" font-family=\"Times,serif\" font-size=\"14.00\">0</text>\n",
       "</g>\n",
       "<!-- Ad&#45;&gt;Adg -->\n",
       "<g id=\"edge11\" class=\"edge\"><title>Ad&#45;&gt;Adg</title>\n",
       "<path fill=\"none\" stroke=\"black\" d=\"M610.698,-260.86C609.608,-250.747 609.784,-238.01 615,-228 619.076,-220.177 625.787,-213.675 632.917,-208.484\"/>\n",
       "<polygon fill=\"black\" stroke=\"black\" points=\"634.878,-211.383 641.346,-202.991 631.057,-205.518 634.878,-211.383\"/>\n",
       "<text text-anchor=\"middle\" x=\"688.5\" y=\"-231.8\" font-family=\"Times,serif\" font-size=\"14.00\">&lt;=&#45;0.24779154258050146</text>\n",
       "</g>\n",
       "<!-- Add -->\n",
       "<g id=\"node15\" class=\"node\"><title>Add</title>\n",
       "<polygon fill=\"none\" stroke=\"black\" points=\"811,-210 757,-210 757,-174 811,-174 811,-210\"/>\n",
       "<text text-anchor=\"middle\" x=\"784\" y=\"-188.3\" font-family=\"Times,serif\" font-size=\"14.00\">1</text>\n",
       "</g>\n",
       "<!-- Ad&#45;&gt;Add -->\n",
       "<g id=\"edge12\" class=\"edge\"><title>Ad&#45;&gt;Add</title>\n",
       "<path fill=\"none\" stroke=\"black\" d=\"M641.206,-278.527C673.558,-277.729 727.504,-271.718 762,-243 769.125,-237.069 774.016,-228.377 777.341,-219.898\"/>\n",
       "<polygon fill=\"black\" stroke=\"black\" points=\"780.725,-220.813 780.564,-210.22 774.083,-218.601 780.725,-220.813\"/>\n",
       "<text text-anchor=\"middle\" x=\"841.5\" y=\"-231.8\" font-family=\"Times,serif\" font-size=\"14.00\">&gt;&#45;0.24779154258050146</text>\n",
       "</g>\n",
       "<!-- Adgg -->\n",
       "<g id=\"node13\" class=\"node\"><title>Adgg</title>\n",
       "<polygon fill=\"none\" stroke=\"black\" points=\"690,-123 636,-123 636,-87 690,-87 690,-123\"/>\n",
       "<text text-anchor=\"middle\" x=\"663\" y=\"-101.3\" font-family=\"Times,serif\" font-size=\"14.00\">1</text>\n",
       "</g>\n",
       "<!-- Adg&#45;&gt;Adgg -->\n",
       "<g id=\"edge9\" class=\"edge\"><title>Adg&#45;&gt;Adgg</title>\n",
       "<path fill=\"none\" stroke=\"black\" d=\"M663,-173.799C663,-162.163 663,-146.548 663,-133.237\"/>\n",
       "<polygon fill=\"black\" stroke=\"black\" points=\"666.5,-133.175 663,-123.175 659.5,-133.175 666.5,-133.175\"/>\n",
       "<text text-anchor=\"middle\" x=\"731\" y=\"-144.8\" font-family=\"Times,serif\" font-size=\"14.00\">&lt;=0.5237889038299498</text>\n",
       "</g>\n",
       "<!-- Adgd -->\n",
       "<g id=\"node14\" class=\"node\"><title>Adgd</title>\n",
       "<polygon fill=\"none\" stroke=\"black\" points=\"849,-123 795,-123 795,-87 849,-87 849,-123\"/>\n",
       "<text text-anchor=\"middle\" x=\"822\" y=\"-101.3\" font-family=\"Times,serif\" font-size=\"14.00\">&#45;1</text>\n",
       "</g>\n",
       "<!-- Adg&#45;&gt;Adgd -->\n",
       "<g id=\"edge10\" class=\"edge\"><title>Adg&#45;&gt;Adgd</title>\n",
       "<path fill=\"none\" stroke=\"black\" d=\"M688.588,-185.728C725.83,-177.866 791.48,-163.223 800,-156 807.071,-150.005 811.95,-141.299 815.279,-132.825\"/>\n",
       "<polygon fill=\"black\" stroke=\"black\" points=\"818.659,-133.755 818.515,-123.161 812.021,-131.533 818.659,-133.755\"/>\n",
       "<text text-anchor=\"middle\" x=\"873.5\" y=\"-144.8\" font-family=\"Times,serif\" font-size=\"14.00\">&gt;0.5237889038299498</text>\n",
       "</g>\n",
       "</g>\n",
       "</svg>\n"
      ],
      "text/plain": [
       "<graphviz.dot.Digraph at 0x7f14df7ce908>"
      ]
     },
     "execution_count": 26,
     "metadata": {},
     "output_type": "execute_result"
    }
   ],
   "source": [
    "#test de l'affichage \n",
    "abin = construit_AD(the_set,0.0)\n",
    "gtree = gv.Digraph(format='png')\n",
    "abin.to_graph(gtree)"
   ]
  },
  {
   "cell_type": "markdown",
   "metadata": {},
   "source": [
    "### Classification avec arbre de décision\n"
   ]
  },
  {
   "cell_type": "markdown",
   "metadata": {},
   "source": [
    "Pour classer un nouvel exemple avec un arbre de décision, il faut parcourir l'arbre, de la racine vers une feuille en respectant les tests rencontrés dans chaque arc. Une fois atteint une feuille, la classe de l'exemple est celle présente dans la feuille.\n",
    "\n",
    "La classe ArbreBinaire contient déjà une fonction <code>classifie</code> qui permet de classer un nouvel exemple et de renvoyer la classe +1 ou -1 selon le cas."
   ]
  },
  {
   "cell_type": "markdown",
   "metadata": {},
   "source": [
    "### Implémentation"
   ]
  },
  {
   "cell_type": "markdown",
   "metadata": {},
   "source": [
    "On définit le classifieur <code>ArbreDecision</code> comme suit.\n",
    "\n",
    "Si toutes les fonctions précédentes ont été écrites correctement, il est maintenant possible de construire un arbre de décision à partir de la base jouet.\n"
   ]
  },
  {
   "cell_type": "markdown",
   "metadata": {},
   "source": [
    "## Applications à des données réelles"
   ]
  },
  {
   "cell_type": "code",
   "execution_count": 27,
   "metadata": {},
   "outputs": [],
   "source": [
    "class ArbreDecision(cl.Classifier):\n",
    "    # Constructeur\n",
    "    def __init__(self,epsilon):\n",
    "        # valeur seuil d'entropie pour arrêter la construction\n",
    "        self.epsilon= epsilon\n",
    "        self.racine = None\n",
    "    \n",
    "    # Permet de calculer la prediction sur x => renvoie un score\n",
    "    def predict(self,x):\n",
    "        # classification de l'exemple x avec l'arbre de décision\n",
    "        # on rend 0 (classe -1) ou 1 (classe 1)\n",
    "        classe = self.racine.classifie(x)\n",
    "        if (classe == 1):\n",
    "            return(1)\n",
    "        else:\n",
    "            return(-1)\n",
    "    \n",
    "    # Permet d'entrainer le modele sur un ensemble de données\n",
    "    def train(self,set):\n",
    "        # construction de l'arbre de décision \n",
    "        self.set=set\n",
    "        self.racine = construit_AD(set,self.epsilon)\n",
    "\n",
    "    # Permet d'afficher l'arbre\n",
    "    def plot(self):\n",
    "        gtree = gv.Digraph(format='png')\n",
    "        return self.racine.to_graph(gtree)\n",
    "        "
   ]
  },
  {
   "cell_type": "code",
   "execution_count": 28,
   "metadata": {},
   "outputs": [
    {
     "data": {
      "image/png": "[encoded data removed]",
      "text/plain": [
       "<Figure size 432x288 with 1 Axes>"
      ]
     },
     "metadata": {},
     "output_type": "display_data"
    }
   ],
   "source": [
    "# un exemple d'utilisation:\n",
    "ad=ArbreDecision(0.0)          # initialiation d'un arbre binaire qui utilisera epsilon= 0.0\n",
    "ad.train(the_set)              # construction de l'arbre à partir de la base jouet\n",
    "plot_frontiere(the_set,ad,20)  # tracé graphique de la frontière de décision\n",
    "plot2DSet(the_set) "
   ]
  },
  {
   "cell_type": "code",
   "execution_count": 29,
   "metadata": {},
   "outputs": [
    {
     "data": {
      "image/svg+xml": [
       "<?xml version=\"1.0\" encoding=\"UTF-8\" standalone=\"no\"?>\n",
       "<!DOCTYPE svg PUBLIC \"-//W3C//DTD SVG 1.1//EN\"\n",
       " \"http://www.w3.org/Graphics/SVG/1.1/DTD/svg11.dtd\">\n",
       "<!-- Generated by graphviz version 2.38.0 (20140413.2041)\n",
       " -->\n",
       "<!-- Title: %3 Pages: 1 -->\n",
       "<svg width=\"945pt\" height=\"392pt\"\n",
       " viewBox=\"0.00 0.00 945.00 392.00\" xmlns=\"http://www.w3.org/2000/svg\" xmlns:xlink=\"http://www.w3.org/1999/xlink\">\n",
       "<g id=\"graph0\" class=\"graph\" transform=\"scale(1 1) rotate(0) translate(4 388)\">\n",
       "<title>%3</title>\n",
       "<polygon fill=\"white\" stroke=\"none\" points=\"-4,4 -4,-388 941,-388 941,4 -4,4\"/>\n",
       "<!-- A -->\n",
       "<g id=\"node1\" class=\"node\"><title>A</title>\n",
       "<ellipse fill=\"none\" stroke=\"black\" cx=\"504\" cy=\"-366\" rx=\"27\" ry=\"18\"/>\n",
       "<text text-anchor=\"middle\" x=\"504\" y=\"-362.3\" font-family=\"Times,serif\" font-size=\"14.00\">0</text>\n",
       "</g>\n",
       "<!-- Ag -->\n",
       "<g id=\"node2\" class=\"node\"><title>Ag</title>\n",
       "<ellipse fill=\"none\" stroke=\"black\" cx=\"405\" cy=\"-279\" rx=\"27\" ry=\"18\"/>\n",
       "<text text-anchor=\"middle\" x=\"405\" y=\"-275.3\" font-family=\"Times,serif\" font-size=\"14.00\">1</text>\n",
       "</g>\n",
       "<!-- A&#45;&gt;Ag -->\n",
       "<g id=\"edge13\" class=\"edge\"><title>A&#45;&gt;Ag</title>\n",
       "<path fill=\"none\" stroke=\"black\" d=\"M478.603,-359.687C460.86,-354.761 437.79,-345.742 423,-330 416.982,-323.595 412.95,-315.032 410.26,-306.806\"/>\n",
       "<polygon fill=\"black\" stroke=\"black\" points=\"413.62,-305.823 407.6,-297.105 406.869,-307.674 413.62,-305.823\"/>\n",
       "<text text-anchor=\"middle\" x=\"496.5\" y=\"-318.8\" font-family=\"Times,serif\" font-size=\"14.00\">&lt;=&#45;0.15094750392291345</text>\n",
       "</g>\n",
       "<!-- Ad -->\n",
       "<g id=\"node11\" class=\"node\"><title>Ad</title>\n",
       "<ellipse fill=\"none\" stroke=\"black\" cx=\"614\" cy=\"-279\" rx=\"27\" ry=\"18\"/>\n",
       "<text text-anchor=\"middle\" x=\"614\" y=\"-275.3\" font-family=\"Times,serif\" font-size=\"14.00\">1</text>\n",
       "</g>\n",
       "<!-- A&#45;&gt;Ad -->\n",
       "<g id=\"edge14\" class=\"edge\"><title>A&#45;&gt;Ad</title>\n",
       "<path fill=\"none\" stroke=\"black\" d=\"M526.302,-355.646C539.695,-349.447 556.665,-340.529 570,-330 579.588,-322.429 588.757,-312.591 596.219,-303.646\"/>\n",
       "<polygon fill=\"black\" stroke=\"black\" points=\"599.012,-305.758 602.555,-295.773 593.559,-301.369 599.012,-305.758\"/>\n",
       "<text text-anchor=\"middle\" x=\"656.5\" y=\"-318.8\" font-family=\"Times,serif\" font-size=\"14.00\">&gt;&#45;0.15094750392291345</text>\n",
       "</g>\n",
       "<!-- Agg -->\n",
       "<g id=\"node3\" class=\"node\"><title>Agg</title>\n",
       "<ellipse fill=\"none\" stroke=\"black\" cx=\"190\" cy=\"-192\" rx=\"27\" ry=\"18\"/>\n",
       "<text text-anchor=\"middle\" x=\"190\" y=\"-188.3\" font-family=\"Times,serif\" font-size=\"14.00\">0</text>\n",
       "</g>\n",
       "<!-- Ag&#45;&gt;Agg -->\n",
       "<g id=\"edge7\" class=\"edge\"><title>Ag&#45;&gt;Agg</title>\n",
       "<path fill=\"none\" stroke=\"black\" d=\"M378.67,-274.847C348.627,-270.544 298.545,-261.193 259,-243 242.463,-235.392 225.882,-223.546 213.12,-213.294\"/>\n",
       "<polygon fill=\"black\" stroke=\"black\" points=\"215.261,-210.523 205.324,-206.848 210.8,-215.918 215.261,-210.523\"/>\n",
       "<text text-anchor=\"middle\" x=\"330\" y=\"-231.8\" font-family=\"Times,serif\" font-size=\"14.00\">&lt;=0.24048864602380815</text>\n",
       "</g>\n",
       "<!-- Agd -->\n",
       "<g id=\"node8\" class=\"node\"><title>Agd</title>\n",
       "<ellipse fill=\"none\" stroke=\"black\" cx=\"405\" cy=\"-192\" rx=\"27\" ry=\"18\"/>\n",
       "<text text-anchor=\"middle\" x=\"405\" y=\"-188.3\" font-family=\"Times,serif\" font-size=\"14.00\">0</text>\n",
       "</g>\n",
       "<!-- Ag&#45;&gt;Agd -->\n",
       "<g id=\"edge8\" class=\"edge\"><title>Ag&#45;&gt;Agd</title>\n",
       "<path fill=\"none\" stroke=\"black\" d=\"M405,-260.799C405,-249.163 405,-233.548 405,-220.237\"/>\n",
       "<polygon fill=\"black\" stroke=\"black\" points=\"408.5,-220.175 405,-210.175 401.5,-220.175 408.5,-220.175\"/>\n",
       "<text text-anchor=\"middle\" x=\"472\" y=\"-231.8\" font-family=\"Times,serif\" font-size=\"14.00\">&gt;0.24048864602380815</text>\n",
       "</g>\n",
       "<!-- Aggg -->\n",
       "<g id=\"node4\" class=\"node\"><title>Aggg</title>\n",
       "<polygon fill=\"none\" stroke=\"black\" points=\"54,-123 0,-123 0,-87 54,-87 54,-123\"/>\n",
       "<text text-anchor=\"middle\" x=\"27\" y=\"-101.3\" font-family=\"Times,serif\" font-size=\"14.00\">&#45;1</text>\n",
       "</g>\n",
       "<!-- Agg&#45;&gt;Aggg -->\n",
       "<g id=\"edge3\" class=\"edge\"><title>Agg&#45;&gt;Aggg</title>\n",
       "<path fill=\"none\" stroke=\"black\" d=\"M162.988,-191.595C131.224,-190.843 78.6977,-184.854 46,-156 39.1939,-149.994 34.8153,-141.285 32.0026,-132.812\"/>\n",
       "<polygon fill=\"black\" stroke=\"black\" points=\"35.3758,-131.878 29.3685,-123.151 28.6224,-133.72 35.3758,-131.878\"/>\n",
       "<text text-anchor=\"middle\" x=\"116\" y=\"-144.8\" font-family=\"Times,serif\" font-size=\"14.00\">&lt;=&#45;1.8990138473688387</text>\n",
       "</g>\n",
       "<!-- Aggd -->\n",
       "<g id=\"node5\" class=\"node\"><title>Aggd</title>\n",
       "<ellipse fill=\"none\" stroke=\"black\" cx=\"190\" cy=\"-105\" rx=\"27\" ry=\"18\"/>\n",
       "<text text-anchor=\"middle\" x=\"190\" y=\"-101.3\" font-family=\"Times,serif\" font-size=\"14.00\">0</text>\n",
       "</g>\n",
       "<!-- Agg&#45;&gt;Aggd -->\n",
       "<g id=\"edge4\" class=\"edge\"><title>Agg&#45;&gt;Aggd</title>\n",
       "<path fill=\"none\" stroke=\"black\" d=\"M190,-173.799C190,-162.163 190,-146.548 190,-133.237\"/>\n",
       "<polygon fill=\"black\" stroke=\"black\" points=\"193.5,-133.175 190,-123.175 186.5,-133.175 193.5,-133.175\"/>\n",
       "<text text-anchor=\"middle\" x=\"256\" y=\"-144.8\" font-family=\"Times,serif\" font-size=\"14.00\">&gt;&#45;1.8990138473688387</text>\n",
       "</g>\n",
       "<!-- Aggdg -->\n",
       "<g id=\"node6\" class=\"node\"><title>Aggdg</title>\n",
       "<polygon fill=\"none\" stroke=\"black\" points=\"136,-36 82,-36 82,-0 136,-0 136,-36\"/>\n",
       "<text text-anchor=\"middle\" x=\"109\" y=\"-14.3\" font-family=\"Times,serif\" font-size=\"14.00\">&#45;1</text>\n",
       "</g>\n",
       "<!-- Aggd&#45;&gt;Aggdg -->\n",
       "<g id=\"edge1\" class=\"edge\"><title>Aggd&#45;&gt;Aggdg</title>\n",
       "<path fill=\"none\" stroke=\"black\" d=\"M163.653,-100.007C145.268,-95.7086 121.962,-86.8974 110,-69 105.572,-62.3749 104.19,-54.0734 104.24,-46.1492\"/>\n",
       "<polygon fill=\"black\" stroke=\"black\" points=\"107.734,-46.3563 104.994,-36.122 100.754,-45.8314 107.734,-46.3563\"/>\n",
       "<text text-anchor=\"middle\" x=\"180\" y=\"-57.8\" font-family=\"Times,serif\" font-size=\"14.00\">&lt;=&#45;1.5922397258691807</text>\n",
       "</g>\n",
       "<!-- Aggdd -->\n",
       "<g id=\"node7\" class=\"node\"><title>Aggdd</title>\n",
       "<polygon fill=\"none\" stroke=\"black\" points=\"299,-36 245,-36 245,-0 299,-0 299,-36\"/>\n",
       "<text text-anchor=\"middle\" x=\"272\" y=\"-14.3\" font-family=\"Times,serif\" font-size=\"14.00\">&#45;1</text>\n",
       "</g>\n",
       "<!-- Aggd&#45;&gt;Aggdd -->\n",
       "<g id=\"edge2\" class=\"edge\"><title>Aggd&#45;&gt;Aggdd</title>\n",
       "<path fill=\"none\" stroke=\"black\" d=\"M212.583,-94.9995C224.956,-89.1299 239.802,-80.4268 250,-69 255.926,-62.3598 260.463,-53.869 263.834,-45.7766\"/>\n",
       "<polygon fill=\"black\" stroke=\"black\" points=\"267.17,-46.8472 267.382,-36.2545 260.611,-44.4031 267.17,-46.8472\"/>\n",
       "<text text-anchor=\"middle\" x=\"326\" y=\"-57.8\" font-family=\"Times,serif\" font-size=\"14.00\">&gt;&#45;1.5922397258691807</text>\n",
       "</g>\n",
       "<!-- Agdg -->\n",
       "<g id=\"node9\" class=\"node\"><title>Agdg</title>\n",
       "<polygon fill=\"none\" stroke=\"black\" points=\"372,-123 318,-123 318,-87 372,-87 372,-123\"/>\n",
       "<text text-anchor=\"middle\" x=\"345\" y=\"-101.3\" font-family=\"Times,serif\" font-size=\"14.00\">1</text>\n",
       "</g>\n",
       "<!-- Agd&#45;&gt;Agdg -->\n",
       "<g id=\"edge5\" class=\"edge\"><title>Agd&#45;&gt;Agdg</title>\n",
       "<path fill=\"none\" stroke=\"black\" d=\"M381.257,-183.378C368.426,-177.921 353.676,-169.171 346,-156 342.093,-149.296 340.792,-141.178 340.753,-133.452\"/>\n",
       "<polygon fill=\"black\" stroke=\"black\" points=\"344.256,-133.518 341.358,-123.327 337.268,-133.101 344.256,-133.518\"/>\n",
       "<text text-anchor=\"middle\" x=\"416\" y=\"-144.8\" font-family=\"Times,serif\" font-size=\"14.00\">&lt;=&#45;1.2184481220070376</text>\n",
       "</g>\n",
       "<!-- Agdd -->\n",
       "<g id=\"node10\" class=\"node\"><title>Agdd</title>\n",
       "<polygon fill=\"none\" stroke=\"black\" points=\"535,-123 481,-123 481,-87 535,-87 535,-123\"/>\n",
       "<text text-anchor=\"middle\" x=\"508\" y=\"-101.3\" font-family=\"Times,serif\" font-size=\"14.00\">&#45;1</text>\n",
       "</g>\n",
       "<!-- Agd&#45;&gt;Agdd -->\n",
       "<g id=\"edge6\" class=\"edge\"><title>Agd&#45;&gt;Agdd</title>\n",
       "<path fill=\"none\" stroke=\"black\" d=\"M430.449,-185.264C447.986,-180.165 470.785,-171.115 486,-156 492.48,-149.563 497.198,-140.892 500.563,-132.58\"/>\n",
       "<polygon fill=\"black\" stroke=\"black\" points=\"503.866,-133.736 503.916,-123.141 497.27,-131.393 503.866,-133.736\"/>\n",
       "<text text-anchor=\"middle\" x=\"563\" y=\"-144.8\" font-family=\"Times,serif\" font-size=\"14.00\">&gt;&#45;1.2184481220070376</text>\n",
       "</g>\n",
       "<!-- Adg -->\n",
       "<g id=\"node12\" class=\"node\"><title>Adg</title>\n",
       "<ellipse fill=\"none\" stroke=\"black\" cx=\"663\" cy=\"-192\" rx=\"27\" ry=\"18\"/>\n",
       "<text text-anchor=\"middle\" x=\"663\" y=\"-188.3\" font-family=\"Times,serif\" font-size=\"14.00\">0</text>\n",
       "</g>\n",
       "<!-- Ad&#45;&gt;Adg -->\n",
       "<g id=\"edge11\" class=\"edge\"><title>Ad&#45;&gt;Adg</title>\n",
       "<path fill=\"none\" stroke=\"black\" d=\"M610.698,-260.86C609.608,-250.747 609.784,-238.01 615,-228 619.076,-220.177 625.787,-213.675 632.917,-208.484\"/>\n",
       "<polygon fill=\"black\" stroke=\"black\" points=\"634.878,-211.383 641.346,-202.991 631.057,-205.518 634.878,-211.383\"/>\n",
       "<text text-anchor=\"middle\" x=\"688.5\" y=\"-231.8\" font-family=\"Times,serif\" font-size=\"14.00\">&lt;=&#45;0.24779154258050146</text>\n",
       "</g>\n",
       "<!-- Add -->\n",
       "<g id=\"node15\" class=\"node\"><title>Add</title>\n",
       "<polygon fill=\"none\" stroke=\"black\" points=\"811,-210 757,-210 757,-174 811,-174 811,-210\"/>\n",
       "<text text-anchor=\"middle\" x=\"784\" y=\"-188.3\" font-family=\"Times,serif\" font-size=\"14.00\">1</text>\n",
       "</g>\n",
       "<!-- Ad&#45;&gt;Add -->\n",
       "<g id=\"edge12\" class=\"edge\"><title>Ad&#45;&gt;Add</title>\n",
       "<path fill=\"none\" stroke=\"black\" d=\"M641.206,-278.527C673.558,-277.729 727.504,-271.718 762,-243 769.125,-237.069 774.016,-228.377 777.341,-219.898\"/>\n",
       "<polygon fill=\"black\" stroke=\"black\" points=\"780.725,-220.813 780.564,-210.22 774.083,-218.601 780.725,-220.813\"/>\n",
       "<text text-anchor=\"middle\" x=\"841.5\" y=\"-231.8\" font-family=\"Times,serif\" font-size=\"14.00\">&gt;&#45;0.24779154258050146</text>\n",
       "</g>\n",
       "<!-- Adgg -->\n",
       "<g id=\"node13\" class=\"node\"><title>Adgg</title>\n",
       "<polygon fill=\"none\" stroke=\"black\" points=\"690,-123 636,-123 636,-87 690,-87 690,-123\"/>\n",
       "<text text-anchor=\"middle\" x=\"663\" y=\"-101.3\" font-family=\"Times,serif\" font-size=\"14.00\">1</text>\n",
       "</g>\n",
       "<!-- Adg&#45;&gt;Adgg -->\n",
       "<g id=\"edge9\" class=\"edge\"><title>Adg&#45;&gt;Adgg</title>\n",
       "<path fill=\"none\" stroke=\"black\" d=\"M663,-173.799C663,-162.163 663,-146.548 663,-133.237\"/>\n",
       "<polygon fill=\"black\" stroke=\"black\" points=\"666.5,-133.175 663,-123.175 659.5,-133.175 666.5,-133.175\"/>\n",
       "<text text-anchor=\"middle\" x=\"731\" y=\"-144.8\" font-family=\"Times,serif\" font-size=\"14.00\">&lt;=0.5237889038299498</text>\n",
       "</g>\n",
       "<!-- Adgd -->\n",
       "<g id=\"node14\" class=\"node\"><title>Adgd</title>\n",
       "<polygon fill=\"none\" stroke=\"black\" points=\"849,-123 795,-123 795,-87 849,-87 849,-123\"/>\n",
       "<text text-anchor=\"middle\" x=\"822\" y=\"-101.3\" font-family=\"Times,serif\" font-size=\"14.00\">&#45;1</text>\n",
       "</g>\n",
       "<!-- Adg&#45;&gt;Adgd -->\n",
       "<g id=\"edge10\" class=\"edge\"><title>Adg&#45;&gt;Adgd</title>\n",
       "<path fill=\"none\" stroke=\"black\" d=\"M688.588,-185.728C725.83,-177.866 791.48,-163.223 800,-156 807.071,-150.005 811.95,-141.299 815.279,-132.825\"/>\n",
       "<polygon fill=\"black\" stroke=\"black\" points=\"818.659,-133.755 818.515,-123.161 812.021,-131.533 818.659,-133.755\"/>\n",
       "<text text-anchor=\"middle\" x=\"873.5\" y=\"-144.8\" font-family=\"Times,serif\" font-size=\"14.00\">&gt;0.5237889038299498</text>\n",
       "</g>\n",
       "</g>\n",
       "</svg>\n"
      ],
      "text/plain": [
       "<graphviz.dot.Digraph at 0x7f14df7dbe10>"
      ]
     },
     "execution_count": 29,
     "metadata": {},
     "output_type": "execute_result"
    }
   ],
   "source": [
    "ad.plot()"
   ]
  },
  {
   "cell_type": "markdown",
   "metadata": {},
   "source": [
    "<font color=\"RED\" size=\"+1\">**[Q]**</font> Appliquer l'algorithme des arbres de décision à des données réelles (par exemple, celles utilisées avec les k-nn) et comparer les résultats obtenus par les 2 algorithmes.\n",
    "\n",
    "Un autre exemple d'utilisation sur une base plus grande:"
   ]
  },
  {
   "cell_type": "code",
   "execution_count": 30,
   "metadata": {
    "scrolled": true
   },
   "outputs": [
    {
     "name": "stdout",
     "output_type": "stream",
     "text": [
      "Taille de la base générée : 200 exemples\n"
     ]
    },
    {
     "data": {
      "image/png": "[encoded data removed]",
      "text/plain": [
       "<Figure size 432x288 with 1 Axes>"
      ]
     },
     "metadata": {},
     "output_type": "display_data"
    }
   ],
   "source": [
    "autre_set=createGaussianDataset(np.array([1,1]),np.array([[1,0],[0,1]]),np.array([-1,-1]),np.array([[1,0],[0,1]]),100)\n",
    "print(\"Taille de la base générée :\", autre_set.size(), \"exemples\")\n",
    "adautre=ArbreDecision(0.0)          \n",
    "adautre.train(autre_set)            \n",
    "plot_frontiere(autre_set,adautre,20)\n",
    "plot2DSet(autre_set) "
   ]
  },
  {
   "cell_type": "code",
   "execution_count": 31,
   "metadata": {},
   "outputs": [
    {
     "data": {
      "image/svg+xml": [
       "<?xml version=\"1.0\" encoding=\"UTF-8\" standalone=\"no\"?>\n",
       "<!DOCTYPE svg PUBLIC \"-//W3C//DTD SVG 1.1//EN\"\n",
       " \"http://www.w3.org/Graphics/SVG/1.1/DTD/svg11.dtd\">\n",
       "<!-- Generated by graphviz version 2.38.0 (20140413.2041)\n",
       " -->\n",
       "<!-- Title: %3 Pages: 1 -->\n",
       "<svg width=\"1701pt\" height=\"740pt\"\n",
       " viewBox=\"0.00 0.00 1701.00 740.00\" xmlns=\"http://www.w3.org/2000/svg\" xmlns:xlink=\"http://www.w3.org/1999/xlink\">\n",
       "<g id=\"graph0\" class=\"graph\" transform=\"scale(1 1) rotate(0) translate(4 736)\">\n",
       "<title>%3</title>\n",
       "<polygon fill=\"white\" stroke=\"none\" points=\"-4,4 -4,-736 1697,-736 1697,4 -4,4\"/>\n",
       "<!-- A -->\n",
       "<g id=\"node1\" class=\"node\"><title>A</title>\n",
       "<ellipse fill=\"none\" stroke=\"black\" cx=\"581\" cy=\"-714\" rx=\"27\" ry=\"18\"/>\n",
       "<text text-anchor=\"middle\" x=\"581\" y=\"-710.3\" font-family=\"Times,serif\" font-size=\"14.00\">0</text>\n",
       "</g>\n",
       "<!-- Ag -->\n",
       "<g id=\"node2\" class=\"node\"><title>Ag</title>\n",
       "<ellipse fill=\"none\" stroke=\"black\" cx=\"490\" cy=\"-627\" rx=\"27\" ry=\"18\"/>\n",
       "<text text-anchor=\"middle\" x=\"490\" y=\"-623.3\" font-family=\"Times,serif\" font-size=\"14.00\">1</text>\n",
       "</g>\n",
       "<!-- A&#45;&gt;Ag -->\n",
       "<g id=\"edge45\" class=\"edge\"><title>A&#45;&gt;Ag</title>\n",
       "<path fill=\"none\" stroke=\"black\" d=\"M554.848,-708.587C536.428,-704.079 512.696,-695.191 499,-678 493.956,-671.669 491.372,-663.45 490.132,-655.512\"/>\n",
       "<polygon fill=\"black\" stroke=\"black\" points=\"493.604,-655.048 489.183,-645.419 486.634,-655.703 493.604,-655.048\"/>\n",
       "<text text-anchor=\"middle\" x=\"572.5\" y=\"-666.8\" font-family=\"Times,serif\" font-size=\"14.00\">&lt;=&#45;0.26575763284490284</text>\n",
       "</g>\n",
       "<!-- Ad -->\n",
       "<g id=\"node19\" class=\"node\"><title>Ad</title>\n",
       "<ellipse fill=\"none\" stroke=\"black\" cx=\"678\" cy=\"-627\" rx=\"27\" ry=\"18\"/>\n",
       "<text text-anchor=\"middle\" x=\"678\" y=\"-623.3\" font-family=\"Times,serif\" font-size=\"14.00\">1</text>\n",
       "</g>\n",
       "<!-- A&#45;&gt;Ad -->\n",
       "<g id=\"edge46\" class=\"edge\"><title>A&#45;&gt;Ad</title>\n",
       "<path fill=\"none\" stroke=\"black\" d=\"M603.86,-704.144C617.212,-698.178 633.783,-689.329 646,-678 653.547,-671.001 660.076,-661.853 665.233,-653.298\"/>\n",
       "<polygon fill=\"black\" stroke=\"black\" points=\"668.401,-654.805 670.273,-644.377 662.307,-651.362 668.401,-654.805\"/>\n",
       "<text text-anchor=\"middle\" x=\"728.5\" y=\"-666.8\" font-family=\"Times,serif\" font-size=\"14.00\">&gt;&#45;0.26575763284490284</text>\n",
       "</g>\n",
       "<!-- Agg -->\n",
       "<g id=\"node3\" class=\"node\"><title>Agg</title>\n",
       "<ellipse fill=\"none\" stroke=\"black\" cx=\"210\" cy=\"-540\" rx=\"27\" ry=\"18\"/>\n",
       "<text text-anchor=\"middle\" x=\"210\" y=\"-536.3\" font-family=\"Times,serif\" font-size=\"14.00\">1</text>\n",
       "</g>\n",
       "<!-- Ag&#45;&gt;Agg -->\n",
       "<g id=\"edge15\" class=\"edge\"><title>Ag&#45;&gt;Agg</title>\n",
       "<path fill=\"none\" stroke=\"black\" d=\"M464.76,-620.475C436.57,-614.123 389.685,-603.016 350,-591 312.657,-579.693 270.597,-564.304 242.413,-553.597\"/>\n",
       "<polygon fill=\"black\" stroke=\"black\" points=\"243.644,-550.321 233.053,-550.02 241.144,-556.859 243.644,-550.321\"/>\n",
       "<text text-anchor=\"middle\" x=\"418\" y=\"-579.8\" font-family=\"Times,serif\" font-size=\"14.00\">&lt;=0.9952336568243045</text>\n",
       "</g>\n",
       "<!-- Agd -->\n",
       "<g id=\"node18\" class=\"node\"><title>Agd</title>\n",
       "<polygon fill=\"none\" stroke=\"black\" points=\"517,-558 463,-558 463,-522 517,-522 517,-558\"/>\n",
       "<text text-anchor=\"middle\" x=\"490\" y=\"-536.3\" font-family=\"Times,serif\" font-size=\"14.00\">1</text>\n",
       "</g>\n",
       "<!-- Ag&#45;&gt;Agd -->\n",
       "<g id=\"edge16\" class=\"edge\"><title>Ag&#45;&gt;Agd</title>\n",
       "<path fill=\"none\" stroke=\"black\" d=\"M490,-608.799C490,-597.163 490,-581.548 490,-568.237\"/>\n",
       "<polygon fill=\"black\" stroke=\"black\" points=\"493.5,-568.175 490,-558.175 486.5,-568.175 493.5,-568.175\"/>\n",
       "<text text-anchor=\"middle\" x=\"553.5\" y=\"-579.8\" font-family=\"Times,serif\" font-size=\"14.00\">&gt;0.9952336568243045</text>\n",
       "</g>\n",
       "<!-- Aggg -->\n",
       "<g id=\"node4\" class=\"node\"><title>Aggg</title>\n",
       "<polygon fill=\"none\" stroke=\"black\" points=\"74,-471 20,-471 20,-435 74,-435 74,-471\"/>\n",
       "<text text-anchor=\"middle\" x=\"47\" y=\"-449.3\" font-family=\"Times,serif\" font-size=\"14.00\">&#45;1</text>\n",
       "</g>\n",
       "<!-- Agg&#45;&gt;Aggg -->\n",
       "<g id=\"edge13\" class=\"edge\"><title>Agg&#45;&gt;Aggg</title>\n",
       "<path fill=\"none\" stroke=\"black\" d=\"M183.266,-536.541C143.665,-532.328 72.2269,-522.356 55,-504 49.3319,-497.96 46.7523,-489.594 45.7557,-481.431\"/>\n",
       "<polygon fill=\"black\" stroke=\"black\" points=\"49.2481,-481.193 45.2265,-471.391 42.2578,-481.561 49.2481,-481.193\"/>\n",
       "<text text-anchor=\"middle\" x=\"125\" y=\"-492.8\" font-family=\"Times,serif\" font-size=\"14.00\">&lt;=&#45;0.7561497315550152</text>\n",
       "</g>\n",
       "<!-- Aggd -->\n",
       "<g id=\"node5\" class=\"node\"><title>Aggd</title>\n",
       "<ellipse fill=\"none\" stroke=\"black\" cx=\"190\" cy=\"-453\" rx=\"27\" ry=\"18\"/>\n",
       "<text text-anchor=\"middle\" x=\"190\" y=\"-449.3\" font-family=\"Times,serif\" font-size=\"14.00\">1</text>\n",
       "</g>\n",
       "<!-- Agg&#45;&gt;Aggd -->\n",
       "<g id=\"edge14\" class=\"edge\"><title>Agg&#45;&gt;Aggd</title>\n",
       "<path fill=\"none\" stroke=\"black\" d=\"M205.953,-521.799C203.197,-510.086 199.492,-494.342 196.347,-480.974\"/>\n",
       "<polygon fill=\"black\" stroke=\"black\" points=\"199.67,-479.818 193.973,-470.885 192.857,-481.421 199.67,-479.818\"/>\n",
       "<text text-anchor=\"middle\" x=\"268\" y=\"-492.8\" font-family=\"Times,serif\" font-size=\"14.00\">&gt;&#45;0.7561497315550152</text>\n",
       "</g>\n",
       "<!-- Aggdg -->\n",
       "<g id=\"node6\" class=\"node\"><title>Aggdg</title>\n",
       "<polygon fill=\"none\" stroke=\"black\" points=\"54,-384 0,-384 0,-348 54,-348 54,-384\"/>\n",
       "<text text-anchor=\"middle\" x=\"27\" y=\"-362.3\" font-family=\"Times,serif\" font-size=\"14.00\">1</text>\n",
       "</g>\n",
       "<!-- Aggd&#45;&gt;Aggdg -->\n",
       "<g id=\"edge11\" class=\"edge\"><title>Aggd&#45;&gt;Aggdg</title>\n",
       "<path fill=\"none\" stroke=\"black\" d=\"M163.747,-448.585C127.144,-443.339 63.3134,-432.278 46,-417 39.1939,-410.994 34.8153,-402.285 32.0026,-393.812\"/>\n",
       "<polygon fill=\"black\" stroke=\"black\" points=\"35.3758,-392.878 29.3685,-384.151 28.6224,-394.72 35.3758,-392.878\"/>\n",
       "<text text-anchor=\"middle\" x=\"116\" y=\"-405.8\" font-family=\"Times,serif\" font-size=\"14.00\">&lt;=&#45;0.7216162197934237</text>\n",
       "</g>\n",
       "<!-- Aggdd -->\n",
       "<g id=\"node7\" class=\"node\"><title>Aggdd</title>\n",
       "<ellipse fill=\"none\" stroke=\"black\" cx=\"190\" cy=\"-366\" rx=\"27\" ry=\"18\"/>\n",
       "<text text-anchor=\"middle\" x=\"190\" y=\"-362.3\" font-family=\"Times,serif\" font-size=\"14.00\">0</text>\n",
       "</g>\n",
       "<!-- Aggd&#45;&gt;Aggdd -->\n",
       "<g id=\"edge12\" class=\"edge\"><title>Aggd&#45;&gt;Aggdd</title>\n",
       "<path fill=\"none\" stroke=\"black\" d=\"M190,-434.799C190,-423.163 190,-407.548 190,-394.237\"/>\n",
       "<polygon fill=\"black\" stroke=\"black\" points=\"193.5,-394.175 190,-384.175 186.5,-394.175 193.5,-394.175\"/>\n",
       "<text text-anchor=\"middle\" x=\"256\" y=\"-405.8\" font-family=\"Times,serif\" font-size=\"14.00\">&gt;&#45;0.7216162197934237</text>\n",
       "</g>\n",
       "<!-- Aggddg -->\n",
       "<g id=\"node8\" class=\"node\"><title>Aggddg</title>\n",
       "<polygon fill=\"none\" stroke=\"black\" points=\"54,-297 0,-297 0,-261 54,-261 54,-297\"/>\n",
       "<text text-anchor=\"middle\" x=\"27\" y=\"-275.3\" font-family=\"Times,serif\" font-size=\"14.00\">&#45;1</text>\n",
       "</g>\n",
       "<!-- Aggdd&#45;&gt;Aggddg -->\n",
       "<g id=\"edge9\" class=\"edge\"><title>Aggdd&#45;&gt;Aggddg</title>\n",
       "<path fill=\"none\" stroke=\"black\" d=\"M162.988,-365.595C131.224,-364.843 78.6977,-358.854 46,-330 39.1939,-323.994 34.8153,-315.285 32.0026,-306.812\"/>\n",
       "<polygon fill=\"black\" stroke=\"black\" points=\"35.3758,-305.878 29.3685,-297.151 28.6224,-307.72 35.3758,-305.878\"/>\n",
       "<text text-anchor=\"middle\" x=\"116\" y=\"-318.8\" font-family=\"Times,serif\" font-size=\"14.00\">&lt;=&#45;1.0616805024373739</text>\n",
       "</g>\n",
       "<!-- Aggddd -->\n",
       "<g id=\"node9\" class=\"node\"><title>Aggddd</title>\n",
       "<ellipse fill=\"none\" stroke=\"black\" cx=\"190\" cy=\"-279\" rx=\"27\" ry=\"18\"/>\n",
       "<text text-anchor=\"middle\" x=\"190\" y=\"-275.3\" font-family=\"Times,serif\" font-size=\"14.00\">0</text>\n",
       "</g>\n",
       "<!-- Aggdd&#45;&gt;Aggddd -->\n",
       "<g id=\"edge10\" class=\"edge\"><title>Aggdd&#45;&gt;Aggddd</title>\n",
       "<path fill=\"none\" stroke=\"black\" d=\"M190,-347.799C190,-336.163 190,-320.548 190,-307.237\"/>\n",
       "<polygon fill=\"black\" stroke=\"black\" points=\"193.5,-307.175 190,-297.175 186.5,-307.175 193.5,-307.175\"/>\n",
       "<text text-anchor=\"middle\" x=\"256\" y=\"-318.8\" font-family=\"Times,serif\" font-size=\"14.00\">&gt;&#45;1.0616805024373739</text>\n",
       "</g>\n",
       "<!-- Aggdddg -->\n",
       "<g id=\"node10\" class=\"node\"><title>Aggdddg</title>\n",
       "<polygon fill=\"none\" stroke=\"black\" points=\"136,-210 82,-210 82,-174 136,-174 136,-210\"/>\n",
       "<text text-anchor=\"middle\" x=\"109\" y=\"-188.3\" font-family=\"Times,serif\" font-size=\"14.00\">1</text>\n",
       "</g>\n",
       "<!-- Aggddd&#45;&gt;Aggdddg -->\n",
       "<g id=\"edge7\" class=\"edge\"><title>Aggddd&#45;&gt;Aggdddg</title>\n",
       "<path fill=\"none\" stroke=\"black\" d=\"M163.653,-274.007C145.268,-269.709 121.962,-260.897 110,-243 105.572,-236.375 104.19,-228.073 104.24,-220.149\"/>\n",
       "<polygon fill=\"black\" stroke=\"black\" points=\"107.734,-220.356 104.994,-210.122 100.754,-219.831 107.734,-220.356\"/>\n",
       "<text text-anchor=\"middle\" x=\"180\" y=\"-231.8\" font-family=\"Times,serif\" font-size=\"14.00\">&lt;=&#45;1.0387475817624736</text>\n",
       "</g>\n",
       "<!-- Aggdddd -->\n",
       "<g id=\"node11\" class=\"node\"><title>Aggdddd</title>\n",
       "<ellipse fill=\"none\" stroke=\"black\" cx=\"272\" cy=\"-192\" rx=\"27\" ry=\"18\"/>\n",
       "<text text-anchor=\"middle\" x=\"272\" y=\"-188.3\" font-family=\"Times,serif\" font-size=\"14.00\">0</text>\n",
       "</g>\n",
       "<!-- Aggddd&#45;&gt;Aggdddd -->\n",
       "<g id=\"edge8\" class=\"edge\"><title>Aggddd&#45;&gt;Aggdddd</title>\n",
       "<path fill=\"none\" stroke=\"black\" d=\"M212.583,-268.999C224.956,-263.13 239.802,-254.427 250,-243 256.016,-236.259 260.601,-227.611 263.987,-219.409\"/>\n",
       "<polygon fill=\"black\" stroke=\"black\" points=\"267.36,-220.377 267.538,-209.783 260.793,-217.954 267.36,-220.377\"/>\n",
       "<text text-anchor=\"middle\" x=\"326\" y=\"-231.8\" font-family=\"Times,serif\" font-size=\"14.00\">&gt;&#45;1.0387475817624736</text>\n",
       "</g>\n",
       "<!-- Aggddddg -->\n",
       "<g id=\"node12\" class=\"node\"><title>Aggddddg</title>\n",
       "<ellipse fill=\"none\" stroke=\"black\" cx=\"191\" cy=\"-105\" rx=\"27\" ry=\"18\"/>\n",
       "<text text-anchor=\"middle\" x=\"191\" y=\"-101.3\" font-family=\"Times,serif\" font-size=\"14.00\">0</text>\n",
       "</g>\n",
       "<!-- Aggdddd&#45;&gt;Aggddddg -->\n",
       "<g id=\"edge5\" class=\"edge\"><title>Aggdddd&#45;&gt;Aggddddg</title>\n",
       "<path fill=\"none\" stroke=\"black\" d=\"M245.653,-187.007C227.268,-182.709 203.962,-173.897 192,-156 187.572,-149.375 186.19,-141.073 186.24,-133.149\"/>\n",
       "<polygon fill=\"black\" stroke=\"black\" points=\"189.734,-133.356 186.994,-123.122 182.754,-132.831 189.734,-133.356\"/>\n",
       "<text text-anchor=\"middle\" x=\"262\" y=\"-144.8\" font-family=\"Times,serif\" font-size=\"14.00\">&lt;=&#45;0.6514273512133301</text>\n",
       "</g>\n",
       "<!-- Aggddddd -->\n",
       "<g id=\"node15\" class=\"node\"><title>Aggddddd</title>\n",
       "<ellipse fill=\"none\" stroke=\"black\" cx=\"354\" cy=\"-105\" rx=\"27\" ry=\"18\"/>\n",
       "<text text-anchor=\"middle\" x=\"354\" y=\"-101.3\" font-family=\"Times,serif\" font-size=\"14.00\">0</text>\n",
       "</g>\n",
       "<!-- Aggdddd&#45;&gt;Aggddddd -->\n",
       "<g id=\"edge6\" class=\"edge\"><title>Aggdddd&#45;&gt;Aggddddd</title>\n",
       "<path fill=\"none\" stroke=\"black\" d=\"M294.583,-181.999C306.956,-176.13 321.802,-167.427 332,-156 338.016,-149.259 342.601,-140.611 345.987,-132.409\"/>\n",
       "<polygon fill=\"black\" stroke=\"black\" points=\"349.36,-133.377 349.538,-122.783 342.793,-130.954 349.36,-133.377\"/>\n",
       "<text text-anchor=\"middle\" x=\"408\" y=\"-144.8\" font-family=\"Times,serif\" font-size=\"14.00\">&gt;&#45;0.6514273512133301</text>\n",
       "</g>\n",
       "<!-- Aggddddgg -->\n",
       "<g id=\"node13\" class=\"node\"><title>Aggddddgg</title>\n",
       "<polygon fill=\"none\" stroke=\"black\" points=\"57,-36 3,-36 3,-0 57,-0 57,-36\"/>\n",
       "<text text-anchor=\"middle\" x=\"30\" y=\"-14.3\" font-family=\"Times,serif\" font-size=\"14.00\">&#45;1</text>\n",
       "</g>\n",
       "<!-- Aggddddg&#45;&gt;Aggddddgg -->\n",
       "<g id=\"edge1\" class=\"edge\"><title>Aggddddg&#45;&gt;Aggddddgg</title>\n",
       "<path fill=\"none\" stroke=\"black\" d=\"M163.805,-104.631C132.146,-103.89 80.1117,-97.8903 48,-69 41.3685,-63.0338 37.1786,-54.442 34.532,-46.0589\"/>\n",
       "<polygon fill=\"black\" stroke=\"black\" points=\"37.8635,-44.9576 32.0087,-36.1274 31.079,-46.6814 37.8635,-44.9576\"/>\n",
       "<text text-anchor=\"middle\" x=\"118\" y=\"-57.8\" font-family=\"Times,serif\" font-size=\"14.00\">&lt;=&#45;0.9983872668705142</text>\n",
       "</g>\n",
       "<!-- Aggddddgd -->\n",
       "<g id=\"node14\" class=\"node\"><title>Aggddddgd</title>\n",
       "<polygon fill=\"none\" stroke=\"black\" points=\"220,-36 166,-36 166,-0 220,-0 220,-36\"/>\n",
       "<text text-anchor=\"middle\" x=\"193\" y=\"-14.3\" font-family=\"Times,serif\" font-size=\"14.00\">&#45;1</text>\n",
       "</g>\n",
       "<!-- Aggddddg&#45;&gt;Aggddddgd -->\n",
       "<g id=\"edge2\" class=\"edge\"><title>Aggddddg&#45;&gt;Aggddddgd</title>\n",
       "<path fill=\"none\" stroke=\"black\" d=\"M191.405,-86.799C191.679,-75.1626 192.046,-59.5479 192.359,-46.2368\"/>\n",
       "<polygon fill=\"black\" stroke=\"black\" points=\"195.86,-46.255 192.596,-36.1754 188.862,-46.0903 195.86,-46.255\"/>\n",
       "<text text-anchor=\"middle\" x=\"259\" y=\"-57.8\" font-family=\"Times,serif\" font-size=\"14.00\">&gt;&#45;0.9983872668705142</text>\n",
       "</g>\n",
       "<!-- Aggdddddg -->\n",
       "<g id=\"node16\" class=\"node\"><title>Aggdddddg</title>\n",
       "<polygon fill=\"none\" stroke=\"black\" points=\"377,-36 323,-36 323,-0 377,-0 377,-36\"/>\n",
       "<text text-anchor=\"middle\" x=\"350\" y=\"-14.3\" font-family=\"Times,serif\" font-size=\"14.00\">1</text>\n",
       "</g>\n",
       "<!-- Aggddddd&#45;&gt;Aggdddddg -->\n",
       "<g id=\"edge3\" class=\"edge\"><title>Aggddddd&#45;&gt;Aggdddddg</title>\n",
       "<path fill=\"none\" stroke=\"black\" d=\"M352.311,-86.9257C351.808,-81.2301 351.309,-74.8466 351,-69 350.612,-61.6601 350.372,-53.7069 350.223,-46.3487\"/>\n",
       "<polygon fill=\"black\" stroke=\"black\" points=\"353.72,-46.0792 350.065,-36.1345 346.721,-46.1874 353.72,-46.0792\"/>\n",
       "<text text-anchor=\"middle\" x=\"421\" y=\"-57.8\" font-family=\"Times,serif\" font-size=\"14.00\">&lt;=&#45;0.6224251733038538</text>\n",
       "</g>\n",
       "<!-- Aggdddddd -->\n",
       "<g id=\"node17\" class=\"node\"><title>Aggdddddd</title>\n",
       "<polygon fill=\"none\" stroke=\"black\" points=\"540,-36 486,-36 486,-0 540,-0 540,-36\"/>\n",
       "<text text-anchor=\"middle\" x=\"513\" y=\"-14.3\" font-family=\"Times,serif\" font-size=\"14.00\">&#45;1</text>\n",
       "</g>\n",
       "<!-- Aggddddd&#45;&gt;Aggdddddd -->\n",
       "<g id=\"edge4\" class=\"edge\"><title>Aggddddd&#45;&gt;Aggdddddd</title>\n",
       "<path fill=\"none\" stroke=\"black\" d=\"M381.095,-103.849C411.248,-102.287 459.823,-95.4315 491,-69 498.071,-63.0052 502.95,-54.2985 506.279,-45.825\"/>\n",
       "<polygon fill=\"black\" stroke=\"black\" points=\"509.659,-46.7552 509.515,-36.1614 503.021,-44.5327 509.659,-46.7552\"/>\n",
       "<text text-anchor=\"middle\" x=\"568\" y=\"-57.8\" font-family=\"Times,serif\" font-size=\"14.00\">&gt;&#45;0.6224251733038538</text>\n",
       "</g>\n",
       "<!-- Adg -->\n",
       "<g id=\"node20\" class=\"node\"><title>Adg</title>\n",
       "<ellipse fill=\"none\" stroke=\"black\" cx=\"678\" cy=\"-540\" rx=\"27\" ry=\"18\"/>\n",
       "<text text-anchor=\"middle\" x=\"678\" y=\"-536.3\" font-family=\"Times,serif\" font-size=\"14.00\">1</text>\n",
       "</g>\n",
       "<!-- Ad&#45;&gt;Adg -->\n",
       "<g id=\"edge43\" class=\"edge\"><title>Ad&#45;&gt;Adg</title>\n",
       "<path fill=\"none\" stroke=\"black\" d=\"M678,-608.799C678,-597.163 678,-581.548 678,-568.237\"/>\n",
       "<polygon fill=\"black\" stroke=\"black\" points=\"681.5,-568.175 678,-558.175 674.5,-568.175 681.5,-568.175\"/>\n",
       "<text text-anchor=\"middle\" x=\"748\" y=\"-579.8\" font-family=\"Times,serif\" font-size=\"14.00\">&lt;=&#45;0.4982930721509152</text>\n",
       "</g>\n",
       "<!-- Add -->\n",
       "<g id=\"node31\" class=\"node\"><title>Add</title>\n",
       "<ellipse fill=\"none\" stroke=\"black\" cx=\"1111\" cy=\"-540\" rx=\"27\" ry=\"18\"/>\n",
       "<text text-anchor=\"middle\" x=\"1111\" y=\"-536.3\" font-family=\"Times,serif\" font-size=\"14.00\">0</text>\n",
       "</g>\n",
       "<!-- Ad&#45;&gt;Add -->\n",
       "<g id=\"edge44\" class=\"edge\"><title>Ad&#45;&gt;Add</title>\n",
       "<path fill=\"none\" stroke=\"black\" d=\"M703.47,-621C777.081,-606.55 990.266,-564.701 1075.33,-548.001\"/>\n",
       "<polygon fill=\"black\" stroke=\"black\" points=\"1076.15,-551.408 1085.29,-546.047 1074.8,-544.539 1076.15,-551.408\"/>\n",
       "<text text-anchor=\"middle\" x=\"987\" y=\"-579.8\" font-family=\"Times,serif\" font-size=\"14.00\">&gt;&#45;0.4982930721509152</text>\n",
       "</g>\n",
       "<!-- Adgg -->\n",
       "<g id=\"node21\" class=\"node\"><title>Adgg</title>\n",
       "<ellipse fill=\"none\" stroke=\"black\" cx=\"517\" cy=\"-453\" rx=\"27\" ry=\"18\"/>\n",
       "<text text-anchor=\"middle\" x=\"517\" y=\"-449.3\" font-family=\"Times,serif\" font-size=\"14.00\">0</text>\n",
       "</g>\n",
       "<!-- Adg&#45;&gt;Adgg -->\n",
       "<g id=\"edge25\" class=\"edge\"><title>Adg&#45;&gt;Adgg</title>\n",
       "<path fill=\"none\" stroke=\"black\" d=\"M650.8,-539.468C619.416,-538.55 568.033,-532.36 536,-504 529.204,-497.983 524.827,-489.271 522.014,-480.799\"/>\n",
       "<polygon fill=\"black\" stroke=\"black\" points=\"525.387,-479.866 519.377,-471.141 518.634,-481.71 525.387,-479.866\"/>\n",
       "<text text-anchor=\"middle\" x=\"606\" y=\"-492.8\" font-family=\"Times,serif\" font-size=\"14.00\">&lt;=&#45;1.0603446475214071</text>\n",
       "</g>\n",
       "<!-- Adgd -->\n",
       "<g id=\"node26\" class=\"node\"><title>Adgd</title>\n",
       "<ellipse fill=\"none\" stroke=\"black\" cx=\"681\" cy=\"-453\" rx=\"27\" ry=\"18\"/>\n",
       "<text text-anchor=\"middle\" x=\"681\" y=\"-449.3\" font-family=\"Times,serif\" font-size=\"14.00\">0</text>\n",
       "</g>\n",
       "<!-- Adg&#45;&gt;Adgd -->\n",
       "<g id=\"edge26\" class=\"edge\"><title>Adg&#45;&gt;Adgd</title>\n",
       "<path fill=\"none\" stroke=\"black\" d=\"M678.607,-521.799C679.018,-510.163 679.569,-494.548 680.039,-481.237\"/>\n",
       "<polygon fill=\"black\" stroke=\"black\" points=\"683.539,-481.293 680.394,-471.175 676.543,-481.046 683.539,-481.293\"/>\n",
       "<text text-anchor=\"middle\" x=\"746\" y=\"-492.8\" font-family=\"Times,serif\" font-size=\"14.00\">&gt;&#45;1.0603446475214071</text>\n",
       "</g>\n",
       "<!-- Adggg -->\n",
       "<g id=\"node22\" class=\"node\"><title>Adggg</title>\n",
       "<ellipse fill=\"none\" stroke=\"black\" cx=\"345\" cy=\"-366\" rx=\"27\" ry=\"18\"/>\n",
       "<text text-anchor=\"middle\" x=\"345\" y=\"-362.3\" font-family=\"Times,serif\" font-size=\"14.00\">0</text>\n",
       "</g>\n",
       "<!-- Adgg&#45;&gt;Adggg -->\n",
       "<g id=\"edge19\" class=\"edge\"><title>Adgg&#45;&gt;Adggg</title>\n",
       "<path fill=\"none\" stroke=\"black\" d=\"M490.408,-448.958C451.763,-444.043 382.651,-433.236 364,-417 357.153,-411.04 352.765,-402.342 349.956,-393.865\"/>\n",
       "<polygon fill=\"black\" stroke=\"black\" points=\"353.328,-392.928 347.331,-384.193 346.573,-394.761 353.328,-392.928\"/>\n",
       "<text text-anchor=\"middle\" x=\"438.5\" y=\"-405.8\" font-family=\"Times,serif\" font-size=\"14.00\">&lt;=0.005746814225237595</text>\n",
       "</g>\n",
       "<!-- Adggd -->\n",
       "<g id=\"node25\" class=\"node\"><title>Adggd</title>\n",
       "<polygon fill=\"none\" stroke=\"black\" points=\"544,-384 490,-384 490,-348 544,-348 544,-384\"/>\n",
       "<text text-anchor=\"middle\" x=\"517\" y=\"-362.3\" font-family=\"Times,serif\" font-size=\"14.00\">&#45;1</text>\n",
       "</g>\n",
       "<!-- Adgg&#45;&gt;Adggd -->\n",
       "<g id=\"edge20\" class=\"edge\"><title>Adgg&#45;&gt;Adggd</title>\n",
       "<path fill=\"none\" stroke=\"black\" d=\"M517,-434.799C517,-423.163 517,-407.548 517,-394.237\"/>\n",
       "<polygon fill=\"black\" stroke=\"black\" points=\"520.5,-394.175 517,-384.175 513.5,-394.175 520.5,-394.175\"/>\n",
       "<text text-anchor=\"middle\" x=\"587.5\" y=\"-405.8\" font-family=\"Times,serif\" font-size=\"14.00\">&gt;0.005746814225237595</text>\n",
       "</g>\n",
       "<!-- Adgggg -->\n",
       "<g id=\"node23\" class=\"node\"><title>Adgggg</title>\n",
       "<polygon fill=\"none\" stroke=\"black\" points=\"372,-297 318,-297 318,-261 372,-261 372,-297\"/>\n",
       "<text text-anchor=\"middle\" x=\"345\" y=\"-275.3\" font-family=\"Times,serif\" font-size=\"14.00\">&#45;1</text>\n",
       "</g>\n",
       "<!-- Adggg&#45;&gt;Adgggg -->\n",
       "<g id=\"edge17\" class=\"edge\"><title>Adggg&#45;&gt;Adgggg</title>\n",
       "<path fill=\"none\" stroke=\"black\" d=\"M345,-347.799C345,-336.163 345,-320.548 345,-307.237\"/>\n",
       "<polygon fill=\"black\" stroke=\"black\" points=\"348.5,-307.175 345,-297.175 341.5,-307.175 348.5,-307.175\"/>\n",
       "<text text-anchor=\"middle\" x=\"415\" y=\"-318.8\" font-family=\"Times,serif\" font-size=\"14.00\">&lt;=&#45;0.0650505218563554</text>\n",
       "</g>\n",
       "<!-- Adgggd -->\n",
       "<g id=\"node24\" class=\"node\"><title>Adgggd</title>\n",
       "<polygon fill=\"none\" stroke=\"black\" points=\"535,-297 481,-297 481,-261 535,-261 535,-297\"/>\n",
       "<text text-anchor=\"middle\" x=\"508\" y=\"-275.3\" font-family=\"Times,serif\" font-size=\"14.00\">1</text>\n",
       "</g>\n",
       "<!-- Adggg&#45;&gt;Adgggd -->\n",
       "<g id=\"edge18\" class=\"edge\"><title>Adggg&#45;&gt;Adgggd</title>\n",
       "<path fill=\"none\" stroke=\"black\" d=\"M372.038,-365.111C402.992,-363.836 453.586,-357.291 486,-330 493.092,-324.029 497.975,-315.328 501.303,-306.853\"/>\n",
       "<polygon fill=\"black\" stroke=\"black\" points=\"504.684,-307.777 504.534,-297.183 498.045,-305.559 504.684,-307.777\"/>\n",
       "<text text-anchor=\"middle\" x=\"563\" y=\"-318.8\" font-family=\"Times,serif\" font-size=\"14.00\">&gt;&#45;0.0650505218563554</text>\n",
       "</g>\n",
       "<!-- Adgdg -->\n",
       "<g id=\"node27\" class=\"node\"><title>Adgdg</title>\n",
       "<polygon fill=\"none\" stroke=\"black\" points=\"708,-384 654,-384 654,-348 708,-348 708,-384\"/>\n",
       "<text text-anchor=\"middle\" x=\"681\" y=\"-362.3\" font-family=\"Times,serif\" font-size=\"14.00\">&#45;1</text>\n",
       "</g>\n",
       "<!-- Adgd&#45;&gt;Adgdg -->\n",
       "<g id=\"edge23\" class=\"edge\"><title>Adgd&#45;&gt;Adgdg</title>\n",
       "<path fill=\"none\" stroke=\"black\" d=\"M681,-434.799C681,-423.163 681,-407.548 681,-394.237\"/>\n",
       "<polygon fill=\"black\" stroke=\"black\" points=\"684.5,-394.175 681,-384.175 677.5,-394.175 684.5,-394.175\"/>\n",
       "<text text-anchor=\"middle\" x=\"752\" y=\"-405.8\" font-family=\"Times,serif\" font-size=\"14.00\">&lt;=0.14950019186777158</text>\n",
       "</g>\n",
       "<!-- Adgdd -->\n",
       "<g id=\"node28\" class=\"node\"><title>Adgdd</title>\n",
       "<ellipse fill=\"none\" stroke=\"black\" cx=\"836\" cy=\"-366\" rx=\"27\" ry=\"18\"/>\n",
       "<text text-anchor=\"middle\" x=\"836\" y=\"-362.3\" font-family=\"Times,serif\" font-size=\"14.00\">1</text>\n",
       "</g>\n",
       "<!-- Adgd&#45;&gt;Adgdd -->\n",
       "<g id=\"edge24\" class=\"edge\"><title>Adgd&#45;&gt;Adgdd</title>\n",
       "<path fill=\"none\" stroke=\"black\" d=\"M707.341,-448.847C744.023,-443.924 807.816,-433.257 824,-417 829.934,-411.039 833.126,-402.693 834.79,-394.525\"/>\n",
       "<polygon fill=\"black\" stroke=\"black\" points=\"838.278,-394.851 836.172,-384.467 831.343,-393.898 838.278,-394.851\"/>\n",
       "<text text-anchor=\"middle\" x=\"900\" y=\"-405.8\" font-family=\"Times,serif\" font-size=\"14.00\">&gt;0.14950019186777158</text>\n",
       "</g>\n",
       "<!-- Adgddg -->\n",
       "<g id=\"node29\" class=\"node\"><title>Adgddg</title>\n",
       "<polygon fill=\"none\" stroke=\"black\" points=\"700,-297 646,-297 646,-261 700,-261 700,-297\"/>\n",
       "<text text-anchor=\"middle\" x=\"673\" y=\"-275.3\" font-family=\"Times,serif\" font-size=\"14.00\">1</text>\n",
       "</g>\n",
       "<!-- Adgdd&#45;&gt;Adgddg -->\n",
       "<g id=\"edge21\" class=\"edge\"><title>Adgdd&#45;&gt;Adgddg</title>\n",
       "<path fill=\"none\" stroke=\"black\" d=\"M808.988,-365.595C777.224,-364.843 724.698,-358.854 692,-330 685.194,-323.994 680.815,-315.285 678.003,-306.812\"/>\n",
       "<polygon fill=\"black\" stroke=\"black\" points=\"681.376,-305.878 675.369,-297.151 674.622,-307.72 681.376,-305.878\"/>\n",
       "<text text-anchor=\"middle\" x=\"762\" y=\"-318.8\" font-family=\"Times,serif\" font-size=\"14.00\">&lt;=&#45;0.5858333613917109</text>\n",
       "</g>\n",
       "<!-- Adgddd -->\n",
       "<g id=\"node30\" class=\"node\"><title>Adgddd</title>\n",
       "<polygon fill=\"none\" stroke=\"black\" points=\"863,-297 809,-297 809,-261 863,-261 863,-297\"/>\n",
       "<text text-anchor=\"middle\" x=\"836\" y=\"-275.3\" font-family=\"Times,serif\" font-size=\"14.00\">&#45;1</text>\n",
       "</g>\n",
       "<!-- Adgdd&#45;&gt;Adgddd -->\n",
       "<g id=\"edge22\" class=\"edge\"><title>Adgdd&#45;&gt;Adgddd</title>\n",
       "<path fill=\"none\" stroke=\"black\" d=\"M836,-347.799C836,-336.163 836,-320.548 836,-307.237\"/>\n",
       "<polygon fill=\"black\" stroke=\"black\" points=\"839.5,-307.175 836,-297.175 832.5,-307.175 839.5,-307.175\"/>\n",
       "<text text-anchor=\"middle\" x=\"902\" y=\"-318.8\" font-family=\"Times,serif\" font-size=\"14.00\">&gt;&#45;0.5858333613917109</text>\n",
       "</g>\n",
       "<!-- Addg -->\n",
       "<g id=\"node32\" class=\"node\"><title>Addg</title>\n",
       "<ellipse fill=\"none\" stroke=\"black\" cx=\"1111\" cy=\"-453\" rx=\"27\" ry=\"18\"/>\n",
       "<text text-anchor=\"middle\" x=\"1111\" y=\"-449.3\" font-family=\"Times,serif\" font-size=\"14.00\">0</text>\n",
       "</g>\n",
       "<!-- Add&#45;&gt;Addg -->\n",
       "<g id=\"edge41\" class=\"edge\"><title>Add&#45;&gt;Addg</title>\n",
       "<path fill=\"none\" stroke=\"black\" d=\"M1111,-521.799C1111,-510.163 1111,-494.548 1111,-481.237\"/>\n",
       "<polygon fill=\"black\" stroke=\"black\" points=\"1114.5,-481.175 1111,-471.175 1107.5,-481.175 1114.5,-481.175\"/>\n",
       "<text text-anchor=\"middle\" x=\"1179\" y=\"-492.8\" font-family=\"Times,serif\" font-size=\"14.00\">&lt;=0.0936371565700494</text>\n",
       "</g>\n",
       "<!-- Addd -->\n",
       "<g id=\"node41\" class=\"node\"><title>Addd</title>\n",
       "<ellipse fill=\"none\" stroke=\"black\" cx=\"1364\" cy=\"-453\" rx=\"27\" ry=\"18\"/>\n",
       "<text text-anchor=\"middle\" x=\"1364\" y=\"-449.3\" font-family=\"Times,serif\" font-size=\"14.00\">1</text>\n",
       "</g>\n",
       "<!-- Add&#45;&gt;Addd -->\n",
       "<g id=\"edge42\" class=\"edge\"><title>Add&#45;&gt;Addd</title>\n",
       "<path fill=\"none\" stroke=\"black\" d=\"M1136.67,-533.966C1165.05,-528.085 1211.9,-517.426 1251,-504 1279.94,-494.063 1311.71,-479.678 1334.17,-468.887\"/>\n",
       "<polygon fill=\"black\" stroke=\"black\" points=\"1335.72,-472.022 1343.19,-464.505 1332.67,-465.726 1335.72,-472.022\"/>\n",
       "<text text-anchor=\"middle\" x=\"1352.5\" y=\"-492.8\" font-family=\"Times,serif\" font-size=\"14.00\">&gt;0.0936371565700494</text>\n",
       "</g>\n",
       "<!-- Addgg -->\n",
       "<g id=\"node33\" class=\"node\"><title>Addgg</title>\n",
       "<ellipse fill=\"none\" stroke=\"black\" cx=\"1029\" cy=\"-366\" rx=\"27\" ry=\"18\"/>\n",
       "<text text-anchor=\"middle\" x=\"1029\" y=\"-362.3\" font-family=\"Times,serif\" font-size=\"14.00\">1</text>\n",
       "</g>\n",
       "<!-- Addg&#45;&gt;Addgg -->\n",
       "<g id=\"edge33\" class=\"edge\"><title>Addg&#45;&gt;Addgg</title>\n",
       "<path fill=\"none\" stroke=\"black\" d=\"M1084.73,-448.192C1066.06,-443.975 1042.21,-435.185 1030,-417 1025.56,-410.385 1024.17,-402.086 1024.22,-394.162\"/>\n",
       "<polygon fill=\"black\" stroke=\"black\" points=\"1027.72,-394.367 1024.98,-384.132 1020.74,-393.84 1027.72,-394.367\"/>\n",
       "<text text-anchor=\"middle\" x=\"1101\" y=\"-405.8\" font-family=\"Times,serif\" font-size=\"14.00\">&lt;=0.02069050047915011</text>\n",
       "</g>\n",
       "<!-- Addgd -->\n",
       "<g id=\"node40\" class=\"node\"><title>Addgd</title>\n",
       "<polygon fill=\"none\" stroke=\"black\" points=\"1221,-384 1167,-384 1167,-348 1221,-348 1221,-384\"/>\n",
       "<text text-anchor=\"middle\" x=\"1194\" y=\"-362.3\" font-family=\"Times,serif\" font-size=\"14.00\">&#45;1</text>\n",
       "</g>\n",
       "<!-- Addg&#45;&gt;Addgd -->\n",
       "<g id=\"edge34\" class=\"edge\"><title>Addg&#45;&gt;Addgd</title>\n",
       "<path fill=\"none\" stroke=\"black\" d=\"M1133.96,-443.08C1146.54,-437.236 1161.63,-428.532 1172,-417 1177.95,-410.381 1182.49,-401.896 1185.86,-393.802\"/>\n",
       "<polygon fill=\"black\" stroke=\"black\" points=\"1189.2,-394.868 1189.41,-384.276 1182.64,-392.428 1189.2,-394.868\"/>\n",
       "<text text-anchor=\"middle\" x=\"1248\" y=\"-405.8\" font-family=\"Times,serif\" font-size=\"14.00\">&gt;0.02069050047915011</text>\n",
       "</g>\n",
       "<!-- Addggg -->\n",
       "<g id=\"node34\" class=\"node\"><title>Addggg</title>\n",
       "<ellipse fill=\"none\" stroke=\"black\" cx=\"939\" cy=\"-279\" rx=\"27\" ry=\"18\"/>\n",
       "<text text-anchor=\"middle\" x=\"939\" y=\"-275.3\" font-family=\"Times,serif\" font-size=\"14.00\">0</text>\n",
       "</g>\n",
       "<!-- Addgg&#45;&gt;Addggg -->\n",
       "<g id=\"edge31\" class=\"edge\"><title>Addgg&#45;&gt;Addggg</title>\n",
       "<path fill=\"none\" stroke=\"black\" d=\"M1014.14,-350.964C999.808,-337.43 977.93,-316.768 961.471,-301.223\"/>\n",
       "<polygon fill=\"black\" stroke=\"black\" points=\"963.557,-298.379 953.884,-294.057 958.751,-303.468 963.557,-298.379\"/>\n",
       "<text text-anchor=\"middle\" x=\"1054.5\" y=\"-318.8\" font-family=\"Times,serif\" font-size=\"14.00\">&lt;=0.951026455746877</text>\n",
       "</g>\n",
       "<!-- Addggd -->\n",
       "<g id=\"node37\" class=\"node\"><title>Addggd</title>\n",
       "<ellipse fill=\"none\" stroke=\"black\" cx=\"1143\" cy=\"-279\" rx=\"27\" ry=\"18\"/>\n",
       "<text text-anchor=\"middle\" x=\"1143\" y=\"-275.3\" font-family=\"Times,serif\" font-size=\"14.00\">0</text>\n",
       "</g>\n",
       "<!-- Addgg&#45;&gt;Addggd -->\n",
       "<g id=\"edge32\" class=\"edge\"><title>Addgg&#45;&gt;Addggd</title>\n",
       "<path fill=\"none\" stroke=\"black\" d=\"M1054.93,-360.779C1075.16,-356.276 1102.79,-347.305 1121,-330 1127.62,-323.708 1132.37,-315.073 1135.73,-306.749\"/>\n",
       "<polygon fill=\"black\" stroke=\"black\" points=\"1139.04,-307.874 1139.05,-297.279 1132.44,-305.557 1139.04,-307.874\"/>\n",
       "<text text-anchor=\"middle\" x=\"1191.5\" y=\"-318.8\" font-family=\"Times,serif\" font-size=\"14.00\">&gt;0.951026455746877</text>\n",
       "</g>\n",
       "<!-- Addgggg -->\n",
       "<g id=\"node35\" class=\"node\"><title>Addgggg</title>\n",
       "<polygon fill=\"none\" stroke=\"black\" points=\"796,-210 742,-210 742,-174 796,-174 796,-210\"/>\n",
       "<text text-anchor=\"middle\" x=\"769\" y=\"-188.3\" font-family=\"Times,serif\" font-size=\"14.00\">&#45;1</text>\n",
       "</g>\n",
       "<!-- Addggg&#45;&gt;Addgggg -->\n",
       "<g id=\"edge27\" class=\"edge\"><title>Addggg&#45;&gt;Addgggg</title>\n",
       "<path fill=\"none\" stroke=\"black\" d=\"M914.236,-271.481C901.62,-268.22 886.022,-264.28 872,-261 834.823,-252.303 816.971,-267.869 788,-243 781.112,-237.087 776.715,-228.4 773.909,-219.919\"/>\n",
       "<polygon fill=\"black\" stroke=\"black\" points=\"777.281,-218.978 771.294,-210.237 770.523,-220.804 777.281,-218.978\"/>\n",
       "<text text-anchor=\"middle\" x=\"861.5\" y=\"-231.8\" font-family=\"Times,serif\" font-size=\"14.00\">&lt;=&#45;0.06277057654755908</text>\n",
       "</g>\n",
       "<!-- Addgggd -->\n",
       "<g id=\"node36\" class=\"node\"><title>Addgggd</title>\n",
       "<polygon fill=\"none\" stroke=\"black\" points=\"966,-210 912,-210 912,-174 966,-174 966,-210\"/>\n",
       "<text text-anchor=\"middle\" x=\"939\" y=\"-188.3\" font-family=\"Times,serif\" font-size=\"14.00\">1</text>\n",
       "</g>\n",
       "<!-- Addggg&#45;&gt;Addgggd -->\n",
       "<g id=\"edge28\" class=\"edge\"><title>Addggg&#45;&gt;Addgggd</title>\n",
       "<path fill=\"none\" stroke=\"black\" d=\"M939,-260.799C939,-249.163 939,-233.548 939,-220.237\"/>\n",
       "<polygon fill=\"black\" stroke=\"black\" points=\"942.5,-220.175 939,-210.175 935.5,-220.175 942.5,-220.175\"/>\n",
       "<text text-anchor=\"middle\" x=\"1008.5\" y=\"-231.8\" font-family=\"Times,serif\" font-size=\"14.00\">&gt;&#45;0.06277057654755908</text>\n",
       "</g>\n",
       "<!-- Addggdg -->\n",
       "<g id=\"node38\" class=\"node\"><title>Addggdg</title>\n",
       "<polygon fill=\"none\" stroke=\"black\" points=\"1128,-210 1074,-210 1074,-174 1128,-174 1128,-210\"/>\n",
       "<text text-anchor=\"middle\" x=\"1101\" y=\"-188.3\" font-family=\"Times,serif\" font-size=\"14.00\">1</text>\n",
       "</g>\n",
       "<!-- Addggd&#45;&gt;Addggdg -->\n",
       "<g id=\"edge29\" class=\"edge\"><title>Addggd&#45;&gt;Addggdg</title>\n",
       "<path fill=\"none\" stroke=\"black\" d=\"M1123.36,-266.542C1115.19,-260.639 1106.56,-252.643 1102,-243 1098.77,-236.173 1097.62,-228.211 1097.51,-220.675\"/>\n",
       "<polygon fill=\"black\" stroke=\"black\" points=\"1101.01,-220.604 1097.93,-210.466 1094.02,-220.311 1101.01,-220.604\"/>\n",
       "<text text-anchor=\"middle\" x=\"1172\" y=\"-231.8\" font-family=\"Times,serif\" font-size=\"14.00\">&lt;=&#45;0.2538035049351858</text>\n",
       "</g>\n",
       "<!-- Addggdd -->\n",
       "<g id=\"node39\" class=\"node\"><title>Addggdd</title>\n",
       "<polygon fill=\"none\" stroke=\"black\" points=\"1291,-210 1237,-210 1237,-174 1291,-174 1291,-210\"/>\n",
       "<text text-anchor=\"middle\" x=\"1264\" y=\"-188.3\" font-family=\"Times,serif\" font-size=\"14.00\">1</text>\n",
       "</g>\n",
       "<!-- Addggd&#45;&gt;Addggdd -->\n",
       "<g id=\"edge30\" class=\"edge\"><title>Addggd&#45;&gt;Addggdd</title>\n",
       "<path fill=\"none\" stroke=\"black\" d=\"M1169.55,-274.534C1191.41,-270.42 1221.96,-261.6 1242,-243 1248.7,-236.787 1253.47,-228.172 1256.81,-219.841\"/>\n",
       "<polygon fill=\"black\" stroke=\"black\" points=\"1260.13,-220.949 1260.12,-210.354 1253.52,-218.646 1260.13,-220.949\"/>\n",
       "<text text-anchor=\"middle\" x=\"1318\" y=\"-231.8\" font-family=\"Times,serif\" font-size=\"14.00\">&gt;&#45;0.2538035049351858</text>\n",
       "</g>\n",
       "<!-- Adddg -->\n",
       "<g id=\"node42\" class=\"node\"><title>Adddg</title>\n",
       "<ellipse fill=\"none\" stroke=\"black\" cx=\"1392\" cy=\"-366\" rx=\"27\" ry=\"18\"/>\n",
       "<text text-anchor=\"middle\" x=\"1392\" y=\"-362.3\" font-family=\"Times,serif\" font-size=\"14.00\">1</text>\n",
       "</g>\n",
       "<!-- Addd&#45;&gt;Adddg -->\n",
       "<g id=\"edge39\" class=\"edge\"><title>Addd&#45;&gt;Adddg</title>\n",
       "<path fill=\"none\" stroke=\"black\" d=\"M1361.73,-434.862C1361.06,-424.983 1361.31,-412.483 1365,-402 1366.53,-397.648 1368.83,-393.409 1371.46,-389.471\"/>\n",
       "<polygon fill=\"black\" stroke=\"black\" points=\"1374.32,-391.492 1377.55,-381.402 1368.73,-387.275 1374.32,-391.492\"/>\n",
       "<text text-anchor=\"middle\" x=\"1433\" y=\"-405.8\" font-family=\"Times,serif\" font-size=\"14.00\">&lt;=0.2304367868337418</text>\n",
       "</g>\n",
       "<!-- Adddd -->\n",
       "<g id=\"node47\" class=\"node\"><title>Adddd</title>\n",
       "<polygon fill=\"none\" stroke=\"black\" points=\"1550,-384 1496,-384 1496,-348 1550,-348 1550,-384\"/>\n",
       "<text text-anchor=\"middle\" x=\"1523\" y=\"-362.3\" font-family=\"Times,serif\" font-size=\"14.00\">1</text>\n",
       "</g>\n",
       "<!-- Addd&#45;&gt;Adddd -->\n",
       "<g id=\"edge40\" class=\"edge\"><title>Addd&#45;&gt;Adddd</title>\n",
       "<path fill=\"none\" stroke=\"black\" d=\"M1391.09,-451.849C1421.25,-450.287 1469.82,-443.432 1501,-417 1508.07,-411.005 1512.95,-402.299 1516.28,-393.825\"/>\n",
       "<polygon fill=\"black\" stroke=\"black\" points=\"1519.66,-394.755 1519.51,-384.161 1513.02,-392.533 1519.66,-394.755\"/>\n",
       "<text text-anchor=\"middle\" x=\"1574.5\" y=\"-405.8\" font-family=\"Times,serif\" font-size=\"14.00\">&gt;0.2304367868337418</text>\n",
       "</g>\n",
       "<!-- Adddgg -->\n",
       "<g id=\"node43\" class=\"node\"><title>Adddgg</title>\n",
       "<ellipse fill=\"none\" stroke=\"black\" cx=\"1419\" cy=\"-279\" rx=\"27\" ry=\"18\"/>\n",
       "<text text-anchor=\"middle\" x=\"1419\" y=\"-275.3\" font-family=\"Times,serif\" font-size=\"14.00\">0</text>\n",
       "</g>\n",
       "<!-- Adddg&#45;&gt;Adddgg -->\n",
       "<g id=\"edge37\" class=\"edge\"><title>Adddg&#45;&gt;Adddgg</title>\n",
       "<path fill=\"none\" stroke=\"black\" d=\"M1389.8,-347.887C1389.15,-338.016 1389.4,-325.516 1393,-315 1394.43,-310.81 1396.57,-306.707 1399.01,-302.871\"/>\n",
       "<polygon fill=\"black\" stroke=\"black\" points=\"1402.05,-304.639 1405.08,-294.486 1396.38,-300.534 1402.05,-304.639\"/>\n",
       "<text text-anchor=\"middle\" x=\"1464\" y=\"-318.8\" font-family=\"Times,serif\" font-size=\"14.00\">&lt;=0.20411865518942873</text>\n",
       "</g>\n",
       "<!-- Adddgd -->\n",
       "<g id=\"node46\" class=\"node\"><title>Adddgd</title>\n",
       "<polygon fill=\"none\" stroke=\"black\" points=\"1584,-297 1530,-297 1530,-261 1584,-261 1584,-297\"/>\n",
       "<text text-anchor=\"middle\" x=\"1557\" y=\"-275.3\" font-family=\"Times,serif\" font-size=\"14.00\">&#45;1</text>\n",
       "</g>\n",
       "<!-- Adddg&#45;&gt;Adddgd -->\n",
       "<g id=\"edge38\" class=\"edge\"><title>Adddg&#45;&gt;Adddgd</title>\n",
       "<path fill=\"none\" stroke=\"black\" d=\"M1417.75,-359.982C1456.44,-352.252 1526.02,-337.537 1535,-330 1542.1,-324.041 1546.99,-315.343 1550.31,-306.866\"/>\n",
       "<polygon fill=\"black\" stroke=\"black\" points=\"1553.7,-307.788 1553.54,-297.194 1547.06,-305.571 1553.7,-307.788\"/>\n",
       "<text text-anchor=\"middle\" x=\"1612\" y=\"-318.8\" font-family=\"Times,serif\" font-size=\"14.00\">&gt;0.20411865518942873</text>\n",
       "</g>\n",
       "<!-- Adddggg -->\n",
       "<g id=\"node44\" class=\"node\"><title>Adddggg</title>\n",
       "<polygon fill=\"none\" stroke=\"black\" points=\"1446,-210 1392,-210 1392,-174 1446,-174 1446,-210\"/>\n",
       "<text text-anchor=\"middle\" x=\"1419\" y=\"-188.3\" font-family=\"Times,serif\" font-size=\"14.00\">1</text>\n",
       "</g>\n",
       "<!-- Adddgg&#45;&gt;Adddggg -->\n",
       "<g id=\"edge35\" class=\"edge\"><title>Adddgg&#45;&gt;Adddggg</title>\n",
       "<path fill=\"none\" stroke=\"black\" d=\"M1419,-260.799C1419,-249.163 1419,-233.548 1419,-220.237\"/>\n",
       "<polygon fill=\"black\" stroke=\"black\" points=\"1422.5,-220.175 1419,-210.175 1415.5,-220.175 1422.5,-220.175\"/>\n",
       "<text text-anchor=\"middle\" x=\"1487\" y=\"-231.8\" font-family=\"Times,serif\" font-size=\"14.00\">&lt;=0.5715291386995807</text>\n",
       "</g>\n",
       "<!-- Adddggd -->\n",
       "<g id=\"node45\" class=\"node\"><title>Adddggd</title>\n",
       "<polygon fill=\"none\" stroke=\"black\" points=\"1605,-210 1551,-210 1551,-174 1605,-174 1605,-210\"/>\n",
       "<text text-anchor=\"middle\" x=\"1578\" y=\"-188.3\" font-family=\"Times,serif\" font-size=\"14.00\">1</text>\n",
       "</g>\n",
       "<!-- Adddgg&#45;&gt;Adddggd -->\n",
       "<g id=\"edge36\" class=\"edge\"><title>Adddgg&#45;&gt;Adddggd</title>\n",
       "<path fill=\"none\" stroke=\"black\" d=\"M1445.06,-274.12C1479.95,-268.467 1539.38,-257.089 1556,-243 1563.07,-237.005 1567.95,-228.299 1571.28,-219.825\"/>\n",
       "<polygon fill=\"black\" stroke=\"black\" points=\"1574.66,-220.755 1574.51,-210.161 1568.02,-218.533 1574.66,-220.755\"/>\n",
       "<text text-anchor=\"middle\" x=\"1629.5\" y=\"-231.8\" font-family=\"Times,serif\" font-size=\"14.00\">&gt;0.5715291386995807</text>\n",
       "</g>\n",
       "</g>\n",
       "</svg>\n"
      ],
      "text/plain": [
       "<graphviz.dot.Digraph at 0x7f15019be128>"
      ]
     },
     "execution_count": 31,
     "metadata": {},
     "output_type": "execute_result"
    }
   ],
   "source": [
    "adautre.plot()"
   ]
  },
  {
   "cell_type": "code",
   "execution_count": 32,
   "metadata": {},
   "outputs": [
    {
     "name": "stdout",
     "output_type": "stream",
     "text": [
      "(5.5, 0.34748535698025806)\n",
      "(3.0, 0.5404249991038266)\n",
      "entropie inférieur: 0.7286561673702685  / entropie supérieur: 0.20905980566852655\n",
      "2\n"
     ]
    },
    {
     "data": {
      "image/png": "[encoded data removed]",
      "text/plain": [
       "<Figure size 432x288 with 1 Axes>"
      ]
     },
     "metadata": {},
     "output_type": "display_data"
    }
   ],
   "source": [
    "data = pd.read_csv(\"data-01/data.csv\", parse_dates=[-1])\n",
    "donnees = ls.LabeledSet(2)\n",
    "for index, row in data.iterrows() :\n",
    "\n",
    "    if row[\"variete\"] == \"Iris-setosa\" :\n",
    "        donnees.addExample([row[\"sepal_length\"],row[\"sepal_width\"]] ,+1 )\n",
    "    else : \n",
    "        donnees.addExample([row[\"sepal_length\"],row[\"sepal_width\"]] ,-1 )\n",
    "    \n",
    "S= donnees.x[np.where(donnees.y == 1),:]\n",
    "S[0]\n",
    "plot2DSet(donnees)\n",
    "print(discretise(donnees,0))\n",
    "print(discretise(donnees,1))\n",
    "\n",
    "inf, sup = divise(donnees,0,5.5)\n",
    "print(\"entropie inférieur:\",entropie(inf),\" / entropie supérieur:\", entropie(sup))\n",
    "\n",
    "print(donnees.input_dimension)\n",
    "\n",
    "#test de l'affichage \n",
    "bina = construit_AD(donnees,0.209)\n",
    "tree = gv.Digraph(format='png')\n",
    "bina.to_graph(tree)\n",
    "\n",
    "#Sans split\n",
    "ad2=ArbreDecision(0.209)          # initialiation d'un arbre binaire qui utilisera epsilon= 0.0\n",
    "ad2.train(donnees)              # construction de l'arbre à partir de la base jouet\n",
    "plot_frontiere(donnees,ad2,20)  # tracé graphique de la frontière de décision\n",
    "plot2DSet(donnees) \n",
    "\n",
    "\n"
   ]
  },
  {
   "cell_type": "code",
   "execution_count": 33,
   "metadata": {},
   "outputs": [
    {
     "name": "stdout",
     "output_type": "stream",
     "text": [
      "(5.8, 0.16632087100949852)\n",
      "(3.4, 0.7617461873554409)\n",
      "2\n",
      "entropie inférieur: 0.4912373418243321  / entropie supérieur: 8.008566259537293e-16\n"
     ]
    },
    {
     "data": {
      "image/png": "[encoded data removed]",
      "text/plain": [
       "<Figure size 432x288 with 1 Axes>"
      ]
     },
     "metadata": {},
     "output_type": "display_data"
    }
   ],
   "source": [
    "#Avec split des donnees (il faut qu'on teste sur des ensembles de meme taille donc on enlève une variete de fleurs, par exemple Iris-versicolor)\n",
    "d = ls.LabeledSet(2)\n",
    "for index, row in data.iterrows() :\n",
    "\n",
    "    if row[\"variete\"] == \"Iris-setosa\" :\n",
    "        d.addExample([row[\"sepal_length\"],row[\"sepal_width\"]] ,+1 )\n",
    "    if row[\"variete\"] == \"Iris-virginica\" : \n",
    "        d.addExample([row[\"sepal_length\"],row[\"sepal_width\"]] ,-1 )\n",
    "        \n",
    "train, test = split(d)\n",
    "\n",
    "\n",
    "S= d.x[np.where(donnees.y == 1),:]\n",
    "S[0]\n",
    "\n",
    "print(discretise(d,0))\n",
    "print(discretise(d,1))\n",
    "\n",
    "\n",
    "\n",
    "print(d.input_dimension)\n",
    "\n",
    "inf, sup = divise(d,0,5.8)\n",
    "print(\"entropie inférieur:\",entropie(inf),\" / entropie supérieur:\", entropie(sup))\n",
    "\n",
    "\n",
    "#test de l'affichage \n",
    "bina = construit_AD(d,0.491)\n",
    "tree = gv.Digraph(format='png')\n",
    "bina.to_graph(tree)\n",
    "\n",
    "\n",
    "ad3=ArbreDecision(0.491)          # initialiation d'un arbre binaire qui utilisera epsilon= 0.0\n",
    "ad3.train(train)              # construction de l'arbre à partir de la base jouet\n",
    "plot_frontiere(test,ad3,20)  # tracé graphique de la frontière de décision\n",
    "plot2DSet(test) \n",
    "\n"
   ]
  },
  {
   "cell_type": "code",
   "execution_count": 34,
   "metadata": {},
   "outputs": [
    {
     "name": "stderr",
     "output_type": "stream",
     "text": [
      "No handles with labels found to put in legend.\n"
     ]
    },
    {
     "data": {
      "image/png": "[encoded data removed]",
      "text/plain": [
       "<Figure size 432x288 with 1 Axes>"
      ]
     },
     "metadata": {},
     "output_type": "display_data"
    },
    {
     "data": {
      "image/png": "[encoded data removed]",
      "text/plain": [
       "<Figure size 432x288 with 1 Axes>"
      ]
     },
     "metadata": {},
     "output_type": "display_data"
    }
   ],
   "source": [
    "super_entrainement(100,d, ad3)"
   ]
  },
  {
   "cell_type": "code",
   "execution_count": 35,
   "metadata": {},
   "outputs": [
    {
     "name": "stderr",
     "output_type": "stream",
     "text": [
      "No handles with labels found to put in legend.\n"
     ]
    },
    {
     "data": {
      "image/png": "[encoded data removed]",
      "text/plain": [
       "<Figure size 432x288 with 1 Axes>"
      ]
     },
     "metadata": {},
     "output_type": "display_data"
    },
    {
     "data": {
      "image/png": "[encoded data removed]",
      "text/plain": [
       "<Figure size 432x288 with 1 Axes>"
      ]
     },
     "metadata": {},
     "output_type": "display_data"
    }
   ],
   "source": [
    "knn = cl.ClassifierKNN(2,3)\n",
    "\n",
    "super_entrainement(100,d, knn)\n"
   ]
  },
  {
   "cell_type": "raw",
   "metadata": {},
   "source": [
    "Pour le knn, l'accuracy varie de 97,5 % à 100% tandis que pour les arbres de décision, elle varie de 82.5 % à 100%.\n",
    "Cela peut s'expliquer par le fait que les iris appartenant à la même variété auront probablement la même taille de sépale et se trouveront dans la même zone de points et la démarcation des deux variétés est plutôt nette si bien que les les iris appartenant aux deux variétés se trouvent concentrées dans deux endroits bien distincts."
   ]
  },
  {
   "cell_type": "markdown",
   "metadata": {},
   "source": [
    "### Améliorations (facultatif)"
   ]
  },
  {
   "cell_type": "markdown",
   "metadata": {},
   "source": [
    "Adapter votre algorithme afin de pouvoir construire des arbres de décision avec des attributs catégoriels. Dans un premier temps, vous considèrerez des attributs catégoriels à 2 valeurs. Ensuite, pour considérer des attributs à plus de 2 valeurs, vous devrez écrire une classe <code>ArbreGeneral</code> pour remplacer la classe <code>ArbreBinaire</code>."
   ]
  },
  {
   "cell_type": "markdown",
   "metadata": {},
   "source": [
    "## Etape 3: Expérimentation"
   ]
  },
  {
   "cell_type": "markdown",
   "metadata": {
    "collapsed": true
   },
   "source": [
    "Comparez le résultat obtenu avec ceux obtenus avec les 2 classifiers implémentés lors des TD-TME précédents. Ensuite, utilisez votre implémentation sur d'autres bases de données que vous avez déjà trouvées ou que vous pourrez trouver sur le web."
   ]
  },
  {
   "cell_type": "code",
   "execution_count": 36,
   "metadata": {},
   "outputs": [
    {
     "name": "stderr",
     "output_type": "stream",
     "text": [
      "No handles with labels found to put in legend.\n"
     ]
    },
    {
     "data": {
      "image/png": "[encoded data removed]",
      "text/plain": [
       "<Figure size 432x288 with 1 Axes>"
      ]
     },
     "metadata": {},
     "output_type": "display_data"
    },
    {
     "data": {
      "image/png": "[encoded data removed]",
      "text/plain": [
       "<Figure size 432x288 with 1 Axes>"
      ]
     },
     "metadata": {},
     "output_type": "display_data"
    }
   ],
   "source": [
    "k=cl.KernelPoly()\n",
    "perceptron_k= cl.ClassifierPerceptronKernel(6,0.0005,k) \n",
    "\n",
    "super_entrainement(100,d, perceptron_k)"
   ]
  },
  {
   "cell_type": "code",
   "execution_count": 37,
   "metadata": {},
   "outputs": [
    {
     "name": "stderr",
     "output_type": "stream",
     "text": [
      "No handles with labels found to put in legend.\n"
     ]
    },
    {
     "data": {
      "image/png": "[encoded data removed]",
      "text/plain": [
       "<Figure size 432x288 with 1 Axes>"
      ]
     },
     "metadata": {},
     "output_type": "display_data"
    },
    {
     "data": {
      "image/png": "[encoded data removed]",
      "text/plain": [
       "<Figure size 432x288 with 1 Axes>"
      ]
     },
     "metadata": {},
     "output_type": "display_data"
    }
   ],
   "source": [
    "#Entrainement pour le gradient stochastique\n",
    "gs = cl.ClassifierGradientStochastique(2, 0.0005)\n",
    "super_entrainement(100, d, gs)\n",
    "\n",
    "#Pour le gradient stochastique, pour les données réelles il faut baisser l'epsilon de l'ordre du millième."
   ]
  },
  {
   "cell_type": "code",
   "execution_count": 38,
   "metadata": {},
   "outputs": [
    {
     "name": "stderr",
     "output_type": "stream",
     "text": [
      "No handles with labels found to put in legend.\n"
     ]
    },
    {
     "data": {
      "image/png": "[encoded data removed]",
      "text/plain": [
       "<Figure size 432x288 with 1 Axes>"
      ]
     },
     "metadata": {},
     "output_type": "display_data"
    },
    {
     "data": {
      "image/png": "[encoded data removed]",
      "text/plain": [
       "<Figure size 432x288 with 1 Axes>"
      ]
     },
     "metadata": {},
     "output_type": "display_data"
    }
   ],
   "source": [
    "#Entrainement pour le gradient batch\n",
    "gb = cl.ClassifierGradientBatch(2,0.00005)\n",
    "super_entrainement(98, d, gb)"
   ]
  },
  {
   "cell_type": "code",
   "execution_count": 39,
   "metadata": {},
   "outputs": [
    {
     "name": "stderr",
     "output_type": "stream",
     "text": [
      "No handles with labels found to put in legend.\n"
     ]
    },
    {
     "data": {
      "image/png": "[encoded data removed]",
      "text/plain": [
       "<Figure size 432x288 with 1 Axes>"
      ]
     },
     "metadata": {},
     "output_type": "display_data"
    },
    {
     "data": {
      "image/png": "[encoded data removed]",
      "text/plain": [
       "<Figure size 432x288 with 1 Axes>"
      ]
     },
     "metadata": {},
     "output_type": "display_data"
    }
   ],
   "source": [
    "#Entrainement pour le gradient stochastique kernel\n",
    "\n",
    "gsk = cl.ClassifierGradientStochastiqueKernel(6, 0.0000005, k)\n",
    "\n",
    "super_entrainement(100, d, gsk)"
   ]
  },
  {
   "cell_type": "code",
   "execution_count": 47,
   "metadata": {},
   "outputs": [
    {
     "name": "stderr",
     "output_type": "stream",
     "text": [
      "No handles with labels found to put in legend.\n"
     ]
    },
    {
     "data": {
      "image/png": "[encoded data removed]",
      "text/plain": [
       "<Figure size 432x288 with 1 Axes>"
      ]
     },
     "metadata": {},
     "output_type": "display_data"
    },
    {
     "data": {
      "image/png": "[encoded data removed]",
      "text/plain": [
       "<Figure size 432x288 with 1 Axes>"
      ]
     },
     "metadata": {},
     "output_type": "display_data"
    }
   ],
   "source": [
    "#Entrainement pour le gradient batch kernel\n",
    "k=cl.KernelPoly()\n",
    "gbk = cl.ClassifierGradientBatchKernel(6, 0.0005, k)\n",
    "\n",
    "super_entrainement(100, d, gbk)"
   ]
  },
  {
   "cell_type": "raw",
   "metadata": {},
   "source": [
    "Pour les deux gradients kernelisés, l'epsilon est le même pour ces données réelles.\n",
    "L'accuracy pour l'arbre de décision est meilleure puisque son intervalle de variation est plus petit que pour les autres mises à part pour l'algorithm des knn voisins.\n",
    "Toutefois, les données peuvent êtres mieux classées dans ces algorithmes que pour celui de l'arbre de décision.\n"
   ]
  }
 ],
 "metadata": {
  "kernelspec": {
   "display_name": "Python 3",
   "language": "python",
   "name": "python3"
  },
  "language_info": {
   "codemirror_mode": {
    "name": "ipython",
    "version": 3
   },
   "file_extension": ".py",
   "mimetype": "text/x-python",
   "name": "python",
   "nbconvert_exporter": "python",
   "pygments_lexer": "ipython3",
   "version": "3.5.3"
  }
 },
 "nbformat": 4,
 "nbformat_minor": 1
}
